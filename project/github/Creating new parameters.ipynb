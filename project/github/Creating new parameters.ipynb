{
 "cells": [
  {
   "cell_type": "markdown",
   "metadata": {},
   "source": [
    "## creating new variables and transformations based on EDA outcome and based on literature reviews\n"
   ]
  },
  {
   "cell_type": "code",
   "execution_count": 60,
   "metadata": {},
   "outputs": [
    {
     "name": "stderr",
     "output_type": "stream",
     "text": [
      "Warning message:\n",
      "\"package 'tidyverse' was built under R version 4.0.5\"\n",
      "-- \u001b[1mAttaching packages\u001b[22m ------------------------------------------------------------------------------- tidyverse 1.3.0 --\n",
      "\n",
      "\u001b[32mv\u001b[39m \u001b[34mtibble \u001b[39m 3.1.0     \u001b[32mv\u001b[39m \u001b[34mpurrr  \u001b[39m 0.3.4\n",
      "\u001b[32mv\u001b[39m \u001b[34mtidyr  \u001b[39m 1.1.3     \u001b[32mv\u001b[39m \u001b[34mstringr\u001b[39m 1.4.0\n",
      "\u001b[32mv\u001b[39m \u001b[34mreadr  \u001b[39m 1.4.0     \u001b[32mv\u001b[39m \u001b[34mforcats\u001b[39m 0.5.1\n",
      "\n",
      "Warning message:\n",
      "\"package 'tidyr' was built under R version 4.0.5\"\n",
      "Warning message:\n",
      "\"package 'readr' was built under R version 4.0.5\"\n",
      "Warning message:\n",
      "\"package 'forcats' was built under R version 4.0.5\"\n",
      "-- \u001b[1mConflicts\u001b[22m ---------------------------------------------------------------------------------- tidyverse_conflicts() --\n",
      "\u001b[31mx\u001b[39m \u001b[34mdplyr\u001b[39m::\u001b[32mfilter()\u001b[39m masks \u001b[34mstats\u001b[39m::filter()\n",
      "\u001b[31mx\u001b[39m \u001b[34mdplyr\u001b[39m::\u001b[32mlag()\u001b[39m    masks \u001b[34mstats\u001b[39m::lag()\n",
      "\n"
     ]
    }
   ],
   "source": [
    "library(dplyr)\n",
    "library(ggplot2)\n",
    "library(DBI)\n",
    "library(tidyverse)  \n"
   ]
  },
  {
   "cell_type": "code",
   "execution_count": 1,
   "metadata": {},
   "outputs": [
    {
     "data": {
      "text/html": [
       "<table class=\"dataframe\">\n",
       "<caption>A data.frame: 6 × 19</caption>\n",
       "<thead>\n",
       "\t<tr><th></th><th scope=col>cum_week1</th><th scope=col>wk_atm_p</th><th scope=col>wk_dew_p</th><th scope=col>wk_avg_max_tmp</th><th scope=col>wk_max_tm</th><th scope=col>wk_avg_tm</th><th scope=col>wk_min_tm</th><th scope=col>wk_avg_min_tmp</th><th scope=col>wk_avg_hum</th><th scope=col>wk_min_hum</th><th scope=col>avg_max_blast_w</th><th scope=col>max_blast_w</th><th scope=col>avg_wind_speed</th><th scope=col>wk_avg_precipitation</th><th scope=col>num_patients</th><th scope=col>male_perc</th><th scope=col>year</th><th scope=col>month</th><th scope=col>log_num_patients</th></tr>\n",
       "\t<tr><th></th><th scope=col>&lt;int&gt;</th><th scope=col>&lt;dbl&gt;</th><th scope=col>&lt;dbl&gt;</th><th scope=col>&lt;dbl&gt;</th><th scope=col>&lt;dbl&gt;</th><th scope=col>&lt;dbl&gt;</th><th scope=col>&lt;dbl&gt;</th><th scope=col>&lt;dbl&gt;</th><th scope=col>&lt;dbl&gt;</th><th scope=col>&lt;int&gt;</th><th scope=col>&lt;dbl&gt;</th><th scope=col>&lt;dbl&gt;</th><th scope=col>&lt;dbl&gt;</th><th scope=col>&lt;dbl&gt;</th><th scope=col>&lt;int&gt;</th><th scope=col>&lt;int&gt;</th><th scope=col>&lt;int&gt;</th><th scope=col>&lt;int&gt;</th><th scope=col>&lt;dbl&gt;</th></tr>\n",
       "</thead>\n",
       "<tbody>\n",
       "\t<tr><th scope=row>1</th><td>1</td><td>943.7298</td><td>18.03250</td><td>30.78000</td><td>35.7</td><td>24.19155</td><td>15.8</td><td>19.00000</td><td>71.23571</td><td>25</td><td> 8.674286</td><td>13.3</td><td>1.775595</td><td> 3.222857</td><td> 64</td><td>48</td><td>2013</td><td>1</td><td>4.174387</td></tr>\n",
       "\t<tr><th scope=row>2</th><td>2</td><td>941.4388</td><td>18.37952</td><td>28.67143</td><td>36.7</td><td>22.99917</td><td>15.8</td><td>19.44286</td><td>77.61310</td><td>29</td><td>10.002857</td><td>19.3</td><td>1.926786</td><td> 9.600000</td><td>112</td><td>38</td><td>2013</td><td>1</td><td>4.727388</td></tr>\n",
       "\t<tr><th scope=row>3</th><td>3</td><td>940.8427</td><td>19.05929</td><td>28.75714</td><td>33.5</td><td>22.61821</td><td>16.8</td><td>19.40000</td><td>81.73571</td><td>41</td><td> 9.631429</td><td>21.3</td><td>1.798095</td><td> 6.800000</td><td>137</td><td>51</td><td>2013</td><td>2</td><td>4.927254</td></tr>\n",
       "\t<tr><th scope=row>4</th><td>4</td><td>941.9092</td><td>18.53536</td><td>27.72571</td><td>33.7</td><td>22.11857</td><td>15.8</td><td>18.64286</td><td>81.43690</td><td>45</td><td> 9.225714</td><td>15.4</td><td>1.783333</td><td> 6.314286</td><td>254</td><td>43</td><td>2013</td><td>2</td><td>5.541264</td></tr>\n",
       "\t<tr><th scope=row>5</th><td>5</td><td>943.2068</td><td>19.78702</td><td>26.15143</td><td>32.8</td><td>21.84917</td><td>16.3</td><td>19.73714</td><td>88.72024</td><td>49</td><td> 7.625714</td><td>14.7</td><td>1.404048</td><td>12.982857</td><td>375</td><td>42</td><td>2013</td><td>2</td><td>5.929589</td></tr>\n",
       "\t<tr><th scope=row>6</th><td>6</td><td>942.4817</td><td>18.84524</td><td>28.51714</td><td>35.5</td><td>22.67262</td><td>16.6</td><td>18.94857</td><td>80.74881</td><td>35</td><td> 8.388571</td><td>13.2</td><td>1.613333</td><td> 9.354286</td><td>641</td><td>42</td><td>2013</td><td>2</td><td>6.464588</td></tr>\n",
       "</tbody>\n",
       "</table>\n"
      ],
      "text/latex": [
       "A data.frame: 6 × 19\n",
       "\\begin{tabular}{r|lllllllllllllllllll}\n",
       "  & cum\\_week1 & wk\\_atm\\_p & wk\\_dew\\_p & wk\\_avg\\_max\\_tmp & wk\\_max\\_tm & wk\\_avg\\_tm & wk\\_min\\_tm & wk\\_avg\\_min\\_tmp & wk\\_avg\\_hum & wk\\_min\\_hum & avg\\_max\\_blast\\_w & max\\_blast\\_w & avg\\_wind\\_speed & wk\\_avg\\_precipitation & num\\_patients & male\\_perc & year & month & log\\_num\\_patients\\\\\n",
       "  & <int> & <dbl> & <dbl> & <dbl> & <dbl> & <dbl> & <dbl> & <dbl> & <dbl> & <int> & <dbl> & <dbl> & <dbl> & <dbl> & <int> & <int> & <int> & <int> & <dbl>\\\\\n",
       "\\hline\n",
       "\t1 & 1 & 943.7298 & 18.03250 & 30.78000 & 35.7 & 24.19155 & 15.8 & 19.00000 & 71.23571 & 25 &  8.674286 & 13.3 & 1.775595 &  3.222857 &  64 & 48 & 2013 & 1 & 4.174387\\\\\n",
       "\t2 & 2 & 941.4388 & 18.37952 & 28.67143 & 36.7 & 22.99917 & 15.8 & 19.44286 & 77.61310 & 29 & 10.002857 & 19.3 & 1.926786 &  9.600000 & 112 & 38 & 2013 & 1 & 4.727388\\\\\n",
       "\t3 & 3 & 940.8427 & 19.05929 & 28.75714 & 33.5 & 22.61821 & 16.8 & 19.40000 & 81.73571 & 41 &  9.631429 & 21.3 & 1.798095 &  6.800000 & 137 & 51 & 2013 & 2 & 4.927254\\\\\n",
       "\t4 & 4 & 941.9092 & 18.53536 & 27.72571 & 33.7 & 22.11857 & 15.8 & 18.64286 & 81.43690 & 45 &  9.225714 & 15.4 & 1.783333 &  6.314286 & 254 & 43 & 2013 & 2 & 5.541264\\\\\n",
       "\t5 & 5 & 943.2068 & 19.78702 & 26.15143 & 32.8 & 21.84917 & 16.3 & 19.73714 & 88.72024 & 49 &  7.625714 & 14.7 & 1.404048 & 12.982857 & 375 & 42 & 2013 & 2 & 5.929589\\\\\n",
       "\t6 & 6 & 942.4817 & 18.84524 & 28.51714 & 35.5 & 22.67262 & 16.6 & 18.94857 & 80.74881 & 35 &  8.388571 & 13.2 & 1.613333 &  9.354286 & 641 & 42 & 2013 & 2 & 6.464588\\\\\n",
       "\\end{tabular}\n"
      ],
      "text/markdown": [
       "\n",
       "A data.frame: 6 × 19\n",
       "\n",
       "| <!--/--> | cum_week1 &lt;int&gt; | wk_atm_p &lt;dbl&gt; | wk_dew_p &lt;dbl&gt; | wk_avg_max_tmp &lt;dbl&gt; | wk_max_tm &lt;dbl&gt; | wk_avg_tm &lt;dbl&gt; | wk_min_tm &lt;dbl&gt; | wk_avg_min_tmp &lt;dbl&gt; | wk_avg_hum &lt;dbl&gt; | wk_min_hum &lt;int&gt; | avg_max_blast_w &lt;dbl&gt; | max_blast_w &lt;dbl&gt; | avg_wind_speed &lt;dbl&gt; | wk_avg_precipitation &lt;dbl&gt; | num_patients &lt;int&gt; | male_perc &lt;int&gt; | year &lt;int&gt; | month &lt;int&gt; | log_num_patients &lt;dbl&gt; |\n",
       "|---|---|---|---|---|---|---|---|---|---|---|---|---|---|---|---|---|---|---|---|\n",
       "| 1 | 1 | 943.7298 | 18.03250 | 30.78000 | 35.7 | 24.19155 | 15.8 | 19.00000 | 71.23571 | 25 |  8.674286 | 13.3 | 1.775595 |  3.222857 |  64 | 48 | 2013 | 1 | 4.174387 |\n",
       "| 2 | 2 | 941.4388 | 18.37952 | 28.67143 | 36.7 | 22.99917 | 15.8 | 19.44286 | 77.61310 | 29 | 10.002857 | 19.3 | 1.926786 |  9.600000 | 112 | 38 | 2013 | 1 | 4.727388 |\n",
       "| 3 | 3 | 940.8427 | 19.05929 | 28.75714 | 33.5 | 22.61821 | 16.8 | 19.40000 | 81.73571 | 41 |  9.631429 | 21.3 | 1.798095 |  6.800000 | 137 | 51 | 2013 | 2 | 4.927254 |\n",
       "| 4 | 4 | 941.9092 | 18.53536 | 27.72571 | 33.7 | 22.11857 | 15.8 | 18.64286 | 81.43690 | 45 |  9.225714 | 15.4 | 1.783333 |  6.314286 | 254 | 43 | 2013 | 2 | 5.541264 |\n",
       "| 5 | 5 | 943.2068 | 19.78702 | 26.15143 | 32.8 | 21.84917 | 16.3 | 19.73714 | 88.72024 | 49 |  7.625714 | 14.7 | 1.404048 | 12.982857 | 375 | 42 | 2013 | 2 | 5.929589 |\n",
       "| 6 | 6 | 942.4817 | 18.84524 | 28.51714 | 35.5 | 22.67262 | 16.6 | 18.94857 | 80.74881 | 35 |  8.388571 | 13.2 | 1.613333 |  9.354286 | 641 | 42 | 2013 | 2 | 6.464588 |\n",
       "\n"
      ],
      "text/plain": [
       "  cum_week1 wk_atm_p wk_dew_p wk_avg_max_tmp wk_max_tm wk_avg_tm wk_min_tm\n",
       "1 1         943.7298 18.03250 30.78000       35.7      24.19155  15.8     \n",
       "2 2         941.4388 18.37952 28.67143       36.7      22.99917  15.8     \n",
       "3 3         940.8427 19.05929 28.75714       33.5      22.61821  16.8     \n",
       "4 4         941.9092 18.53536 27.72571       33.7      22.11857  15.8     \n",
       "5 5         943.2068 19.78702 26.15143       32.8      21.84917  16.3     \n",
       "6 6         942.4817 18.84524 28.51714       35.5      22.67262  16.6     \n",
       "  wk_avg_min_tmp wk_avg_hum wk_min_hum avg_max_blast_w max_blast_w\n",
       "1 19.00000       71.23571   25          8.674286       13.3       \n",
       "2 19.44286       77.61310   29         10.002857       19.3       \n",
       "3 19.40000       81.73571   41          9.631429       21.3       \n",
       "4 18.64286       81.43690   45          9.225714       15.4       \n",
       "5 19.73714       88.72024   49          7.625714       14.7       \n",
       "6 18.94857       80.74881   35          8.388571       13.2       \n",
       "  avg_wind_speed wk_avg_precipitation num_patients male_perc year month\n",
       "1 1.775595        3.222857             64          48        2013 1    \n",
       "2 1.926786        9.600000            112          38        2013 1    \n",
       "3 1.798095        6.800000            137          51        2013 2    \n",
       "4 1.783333        6.314286            254          43        2013 2    \n",
       "5 1.404048       12.982857            375          42        2013 2    \n",
       "6 1.613333        9.354286            641          42        2013 2    \n",
       "  log_num_patients\n",
       "1 4.174387        \n",
       "2 4.727388        \n",
       "3 4.927254        \n",
       "4 5.541264        \n",
       "5 5.929589        \n",
       "6 6.464588        "
      ]
     },
     "metadata": {},
     "output_type": "display_data"
    }
   ],
   "source": [
    "data <- read.csv('C:/Users/galie/DataScience/project/final_data_dengue.csv') \n",
    "head (data)"
   ]
  },
  {
   "cell_type": "code",
   "execution_count": 4,
   "metadata": {},
   "outputs": [],
   "source": [
    "#make the plots smaller..\n",
    "options(repr.plot.width=6, repr.plot.height=6)"
   ]
  },
  {
   "cell_type": "markdown",
   "metadata": {},
   "source": [
    "#### The log_num_patients was already created previously"
   ]
  },
  {
   "cell_type": "code",
   "execution_count": 22,
   "metadata": {},
   "outputs": [
    {
     "data": {
      "image/png": "[encoded data removed]",
      "text/plain": [
       "Plot with title \"Histogram of data$log_num_patients\""
      ]
     },
     "metadata": {
      "image/png": {
       "height": 360,
       "width": 360
      }
     },
     "output_type": "display_data"
    }
   ],
   "source": [
    "hist (data$log_num_patients)"
   ]
  },
  {
   "cell_type": "code",
   "execution_count": 144,
   "metadata": {},
   "outputs": [],
   "source": [
    "# As mentioned in the EDA, I found that above 4 is like a seperate group, that has a bit different characterists\n",
    "# Therefore:\n",
    "data$alot_of_patients_yn <- factor(ifelse(data$log_num_patients > 4 ,1,0),\n",
    "                                      levels=c(1,0))"
   ]
  },
  {
   "cell_type": "code",
   "execution_count": 24,
   "metadata": {},
   "outputs": [
    {
     "data": {
      "text/html": [
       "<style>\n",
       ".dl-inline {width: auto; margin:0; padding: 0}\n",
       ".dl-inline>dt, .dl-inline>dd {float: none; width: auto; display: inline-block}\n",
       ".dl-inline>dt::after {content: \":\\0020\"; padding-right: .5ex}\n",
       ".dl-inline>dt:not(:first-of-type) {padding-left: .5ex}\n",
       "</style><dl class=dl-inline><dt>alot of patients</dt><dd>71</dd><dt>not that many</dt><dd>239</dd></dl>\n"
      ],
      "text/latex": [
       "\\begin{description*}\n",
       "\\item[alot of patients] 71\n",
       "\\item[not that many] 239\n",
       "\\end{description*}\n"
      ],
      "text/markdown": [
       "alot of patients\n",
       ":   71not that many\n",
       ":   239\n",
       "\n"
      ],
      "text/plain": [
       "alot of patients    not that many \n",
       "              71              239 "
      ]
     },
     "metadata": {},
     "output_type": "display_data"
    }
   ],
   "source": [
    "summary (data$alot_of_patients_yn)\n",
    "# thats an 'ok' split, so I will keep this one"
   ]
  },
  {
   "cell_type": "code",
   "execution_count": 5,
   "metadata": {},
   "outputs": [
    {
     "data": {
      "image/png": "[encoded data removed]",
      "text/plain": [
       "Plot with title \"Histogram of data$wk_avg_precipitation\""
      ]
     },
     "metadata": {
      "image/png": {
       "height": 360,
       "width": 360
      }
     },
     "output_type": "display_data"
    }
   ],
   "source": [
    "# This parameter was also found to have different distribution\n",
    "hist (data$wk_avg_precipitation)"
   ]
  },
  {
   "cell_type": "code",
   "execution_count": 7,
   "metadata": {},
   "outputs": [
    {
     "data": {
      "image/png": "[encoded data removed]",
      "text/plain": [
       "Plot with title \"Histogram of log(data$wk_avg_precipitation + 1)\""
      ]
     },
     "metadata": {
      "image/png": {
       "height": 360,
       "width": 360
      }
     },
     "output_type": "display_data"
    }
   ],
   "source": [
    "hist(log(data$wk_avg_precipitation+1))\n",
    "# maybe should consider creating a 'dry week' parameter, where the percipitation is less than 0.5?"
   ]
  },
  {
   "cell_type": "code",
   "execution_count": 8,
   "metadata": {},
   "outputs": [],
   "source": [
    "data$log_wk_avg_precipitation <- log(data$wk_avg_precipitation+1)"
   ]
  },
  {
   "cell_type": "code",
   "execution_count": 141,
   "metadata": {},
   "outputs": [],
   "source": [
    "data$dry_week_yn <- factor(ifelse(data$log_wk_avg_precipitation < 0.5 ,1,0),\n",
    "                                      levels=c(1,0))"
   ]
  },
  {
   "cell_type": "code",
   "execution_count": 11,
   "metadata": {},
   "outputs": [
    {
     "data": {
      "text/html": [
       "<style>\n",
       ".dl-inline {width: auto; margin:0; padding: 0}\n",
       ".dl-inline>dt, .dl-inline>dd {float: none; width: auto; display: inline-block}\n",
       ".dl-inline>dt::after {content: \":\\0020\"; padding-right: .5ex}\n",
       ".dl-inline>dt:not(:first-of-type) {padding-left: .5ex}\n",
       "</style><dl class=dl-inline><dt>dry week</dt><dd>105</dd><dt>not dry week</dt><dd>205</dd></dl>\n"
      ],
      "text/latex": [
       "\\begin{description*}\n",
       "\\item[dry week] 105\n",
       "\\item[not dry week] 205\n",
       "\\end{description*}\n"
      ],
      "text/markdown": [
       "dry week\n",
       ":   105not dry week\n",
       ":   205\n",
       "\n"
      ],
      "text/plain": [
       "    dry week not dry week \n",
       "         105          205 "
      ]
     },
     "metadata": {},
     "output_type": "display_data"
    }
   ],
   "source": [
    "summary (data$dry_week_yn)\n",
    "# thats a 'good' split"
   ]
  },
  {
   "cell_type": "code",
   "execution_count": 18,
   "metadata": {},
   "outputs": [
    {
     "data": {
      "image/png": "[encoded data removed]",
      "text/plain": [
       "plot without title"
      ]
     },
     "metadata": {
      "image/png": {
       "height": 360,
       "width": 360
      }
     },
     "output_type": "display_data"
    }
   ],
   "source": [
    "# see distribution with the outcome\n",
    "ggplot(data, aes(x=dry_week_yn, y=log_num_patients)) + \n",
    "  geom_boxplot()\n"
   ]
  },
  {
   "cell_type": "code",
   "execution_count": 21,
   "metadata": {},
   "outputs": [
    {
     "data": {
      "text/plain": [
       "\n",
       "\tWelch Two Sample t-test\n",
       "\n",
       "data:  data$log_num_patients by data$dry_week_yn\n",
       "t = -5.4484, df = 262.22, p-value = 1.171e-07\n",
       "alternative hypothesis: true difference in means is not equal to 0\n",
       "95 percent confidence interval:\n",
       " -1.413737 -0.663147\n",
       "sample estimates:\n",
       "    mean in group dry week mean in group not dry week \n",
       "                  2.524151                   3.562593 \n"
      ]
     },
     "metadata": {},
     "output_type": "display_data"
    }
   ],
   "source": [
    "t.test(data$log_num_patients ~ data$dry_week_yn,var.equal = F,paired = F)\n",
    "# it's very significant"
   ]
  },
  {
   "cell_type": "code",
   "execution_count": 28,
   "metadata": {},
   "outputs": [
    {
     "data": {
      "text/plain": [
       "              \n",
       "               alot of patients not that many\n",
       "  dry week                   11            94\n",
       "  not dry week               60           145"
      ]
     },
     "metadata": {},
     "output_type": "display_data"
    },
    {
     "data": {
      "text/plain": [
       "\n",
       "\tPearson's Chi-squared test with Yates' continuity correction\n",
       "\n",
       "data:  table(data$dry_week_yn, data$alot_of_patients_yn)\n",
       "X-squared = 12.843, df = 1, p-value = 0.0003388\n"
      ]
     },
     "metadata": {},
     "output_type": "display_data"
    }
   ],
   "source": [
    "# check the groups\n",
    "table(data$dry_week_yn, data$alot_of_patients_yn)\n",
    "chisq.test(table(data$dry_week_yn, data$alot_of_patients_yn))"
   ]
  },
  {
   "cell_type": "markdown",
   "metadata": {},
   "source": [
    "### There aren't that many variables in this data to 'play with', and no other clear groups were found.\n",
    "### Thus, I looked in the literature for additional options.\n",
    "\n",
    "These are based of the 'Bioclimatic Predictors for Supporting Ecological Applications in the Conterminous United States'"
   ]
  },
  {
   "cell_type": "markdown",
   "metadata": {},
   "source": [
    "These variables are created using the existing ones, no missing values are expected. "
   ]
  },
  {
   "cell_type": "code",
   "execution_count": 29,
   "metadata": {},
   "outputs": [],
   "source": [
    "# create season/ quarter \n",
    "data$season <- factor(ifelse(data$month== 9 |data$month== 10 |data$month== 11 ,1,\n",
    "                            ifelse(data$month== 12 |data$month== 1 |data$month== 2,2,\n",
    "                            ifelse(data$month== 3 |data$month== 4 |data$month== 5,3,4))),\n",
    "                                      levels=c(1,2,3,4),labels=c(\"Spring\",\"Summer\",\"Autumn\",\"Winter\"))\n",
    "\n",
    "# this was based on information from a brazilian website"
   ]
  },
  {
   "cell_type": "code",
   "execution_count": 30,
   "metadata": {},
   "outputs": [],
   "source": [
    "# annual mean temperature BIO01\n",
    "ann_mean <- data %>%  group_by(year) %>% summarise_at(vars(wk_avg_tm),           \n",
    "               list(name = mean))"
   ]
  },
  {
   "cell_type": "code",
   "execution_count": 131,
   "metadata": {},
   "outputs": [],
   "source": [
    "data <- data %>%\n",
    "  rename(ann_mean_tmp = name)"
   ]
  },
  {
   "cell_type": "code",
   "execution_count": 31,
   "metadata": {},
   "outputs": [],
   "source": [
    "#left join into the data\n",
    "data <-merge(x=data,y=ann_mean,by=\"year\",all.x=TRUE)"
   ]
  },
  {
   "cell_type": "code",
   "execution_count": 32,
   "metadata": {},
   "outputs": [],
   "source": [
    "#calculate diurnal range (max temp-minimum temp) \n",
    "data$diurnal_range <- data$wk_avg_max_tm - data$wk_avg_min_tm"
   ]
  },
  {
   "cell_type": "code",
   "execution_count": 33,
   "metadata": {},
   "outputs": [
    {
     "name": "stderr",
     "output_type": "stream",
     "text": [
      "`summarise()` has grouped output by 'month'. You can override using the `.groups` argument.\n",
      "\n"
     ]
    }
   ],
   "source": [
    "# Mean diurnal range - BIO02\n",
    "diurnal_range<- data %>%  group_by(month,year) %>% summarise(mean_diu_range = mean(diurnal_range))"
   ]
  },
  {
   "cell_type": "code",
   "execution_count": 34,
   "metadata": {},
   "outputs": [],
   "source": [
    "#left join into the data\n",
    "data <-merge(x=data,y=diurnal_range,by=c(\"month\",\"year\"),all.x=TRUE)"
   ]
  },
  {
   "cell_type": "code",
   "execution_count": 41,
   "metadata": {},
   "outputs": [],
   "source": [
    "# Isothermality (Mean diurnal range/Temperature annual range) (* 100) BIO03\n",
    "data$Isothermality <- data$mean_diu_range/data$annual_range*100"
   ]
  },
  {
   "cell_type": "code",
   "execution_count": 35,
   "metadata": {},
   "outputs": [
    {
     "name": "stderr",
     "output_type": "stream",
     "text": [
      "`summarise()` has grouped output by 'month'. You can override using the `.groups` argument.\n",
      "\n",
      "`summarise()` has grouped output by 'month'. You can override using the `.groups` argument.\n",
      "\n"
     ]
    }
   ],
   "source": [
    "#max temp of warmest month BIO05\n",
    "max_temp <- data %>%  group_by(month,year) %>% summarise(max_y_temp = max(wk_avg_max_tmp))\n",
    "\n",
    "# min temp of coldest month BIO06\n",
    "\n",
    "min_temp <- data %>%  group_by(month,year) %>% summarise(min_y_temp = min(wk_avg_min_tmp))\n"
   ]
  },
  {
   "cell_type": "code",
   "execution_count": 36,
   "metadata": {},
   "outputs": [
    {
     "name": "stderr",
     "output_type": "stream",
     "text": [
      "Joining, by = c(\"month\", \"year\")\n",
      "\n"
     ]
    }
   ],
   "source": [
    "# Combine both \n",
    "data<-data %>% left_join(max_temp)"
   ]
  },
  {
   "cell_type": "code",
   "execution_count": 37,
   "metadata": {},
   "outputs": [
    {
     "name": "stderr",
     "output_type": "stream",
     "text": [
      "Joining, by = c(\"month\", \"year\")\n",
      "\n"
     ]
    }
   ],
   "source": [
    "data<- data %>% left_join(min_temp)"
   ]
  },
  {
   "cell_type": "code",
   "execution_count": 39,
   "metadata": {},
   "outputs": [],
   "source": [
    "# Temperature annual range BIO07\n",
    "data$annual_range <- data$max_y_temp-data$min_y_temp"
   ]
  },
  {
   "cell_type": "code",
   "execution_count": 43,
   "metadata": {},
   "outputs": [
    {
     "name": "stderr",
     "output_type": "stream",
     "text": [
      "`summarise()` has grouped output by 'month'. You can override using the `.groups` argument.\n",
      "\n"
     ]
    }
   ],
   "source": [
    "# monthly average temperature\n",
    "m_avg_tm<- data %>%  group_by(month,year) %>% summarise(mean_temp = mean(wk_avg_tm))"
   ]
  },
  {
   "cell_type": "code",
   "execution_count": 44,
   "metadata": {},
   "outputs": [
    {
     "name": "stderr",
     "output_type": "stream",
     "text": [
      "Joining, by = c(\"month\", \"year\")\n",
      "\n"
     ]
    }
   ],
   "source": [
    "data<- data %>% left_join(m_avg_tm)"
   ]
  },
  {
   "cell_type": "code",
   "execution_count": 49,
   "metadata": {},
   "outputs": [
    {
     "name": "stderr",
     "output_type": "stream",
     "text": [
      "`summarise()` has grouped output by 'month'. You can override using the `.groups` argument.\n",
      "\n",
      "Joining, by = c(\"month\", \"year\")\n",
      "\n"
     ]
    }
   ],
   "source": [
    "# monthly precipitation \n",
    "monthly_precipitation<- data %>%  group_by(month,year) %>% summarise(monthly_precipitation = sum(wk_avg_precipitation))\n",
    "data<- data %>% left_join(monthly_precipitation)"
   ]
  },
  {
   "cell_type": "code",
   "execution_count": 109,
   "metadata": {},
   "outputs": [
    {
     "name": "stderr",
     "output_type": "stream",
     "text": [
      "Joining, by = \"year\"\n",
      "\n"
     ]
    }
   ],
   "source": [
    "#precipitation of wettest month BIO13\n",
    "\n",
    "wettest_m <- data %>%  group_by(year) %>% summarise(max_y_precipitation = max(monthly_precipitation))\n",
    "data<- data %>% left_join(wettest_m)"
   ]
  },
  {
   "cell_type": "code",
   "execution_count": 51,
   "metadata": {},
   "outputs": [
    {
     "name": "stderr",
     "output_type": "stream",
     "text": [
      "Joining, by = \"year\"\n",
      "\n"
     ]
    }
   ],
   "source": [
    "#precipitation of driest month BIO14\n",
    "driest_m <- data %>%  group_by(year) %>% summarise(min_y_precipitation = min(monthly_precipitation))\n",
    "data<- data %>% left_join(driest_m)"
   ]
  },
  {
   "cell_type": "code",
   "execution_count": 67,
   "metadata": {},
   "outputs": [
    {
     "name": "stderr",
     "output_type": "stream",
     "text": [
      "`summarise()` has grouped output by 'season'. You can override using the `.groups` argument.\n",
      "\n",
      "Joining, by = c(\"year\", \"season\")\n",
      "\n"
     ]
    }
   ],
   "source": [
    "# quarterly precipitation \n",
    "q_precipitation <- data %>%  group_by(season,year) %>% summarise(q_precipitation = sum(wk_avg_precipitation))\n",
    "data<- data %>% left_join(q_precipitation)"
   ]
  },
  {
   "cell_type": "code",
   "execution_count": 58,
   "metadata": {},
   "outputs": [
    {
     "data": {
      "text/html": [
       "<table class=\"dataframe\">\n",
       "<caption>A grouped_df: 24 × 3</caption>\n",
       "<thead>\n",
       "\t<tr><th scope=col>season</th><th scope=col>year</th><th scope=col>q_precipitation</th></tr>\n",
       "\t<tr><th scope=col>&lt;fct&gt;</th><th scope=col>&lt;int&gt;</th><th scope=col>&lt;dbl&gt;</th></tr>\n",
       "</thead>\n",
       "<tbody>\n",
       "\t<tr><td>Spring</td><td>2013</td><td> 29.659048</td></tr>\n",
       "\t<tr><td>Spring</td><td>2014</td><td> 14.735714</td></tr>\n",
       "\t<tr><td>Spring</td><td>2015</td><td> 36.811429</td></tr>\n",
       "\t<tr><td>Spring</td><td>2016</td><td> 31.364381</td></tr>\n",
       "\t<tr><td>Spring</td><td>2017</td><td> 15.328571</td></tr>\n",
       "\t<tr><td>Spring</td><td>2018</td><td> 43.182857</td></tr>\n",
       "\t<tr><td>Summer</td><td>2013</td><td> 84.497143</td></tr>\n",
       "\t<tr><td>Summer</td><td>2014</td><td> 82.824524</td></tr>\n",
       "\t<tr><td>Summer</td><td>2015</td><td> 70.565714</td></tr>\n",
       "\t<tr><td>Summer</td><td>2016</td><td>113.191429</td></tr>\n",
       "\t<tr><td>Summer</td><td>2017</td><td> 88.083333</td></tr>\n",
       "\t<tr><td>Summer</td><td>2018</td><td> 81.948095</td></tr>\n",
       "\t<tr><td>Autumn</td><td>2013</td><td> 74.852381</td></tr>\n",
       "\t<tr><td>Autumn</td><td>2014</td><td> 41.520000</td></tr>\n",
       "\t<tr><td>Autumn</td><td>2015</td><td> 50.406190</td></tr>\n",
       "\t<tr><td>Autumn</td><td>2016</td><td> 39.481619</td></tr>\n",
       "\t<tr><td>Autumn</td><td>2017</td><td> 32.214476</td></tr>\n",
       "\t<tr><td>Autumn</td><td>2018</td><td> 62.654762</td></tr>\n",
       "\t<tr><td>Winter</td><td>2013</td><td> 17.985524</td></tr>\n",
       "\t<tr><td>Winter</td><td>2014</td><td>  9.015714</td></tr>\n",
       "\t<tr><td>Winter</td><td>2015</td><td> 24.634286</td></tr>\n",
       "\t<tr><td>Winter</td><td>2016</td><td>  8.331429</td></tr>\n",
       "\t<tr><td>Winter</td><td>2017</td><td>  9.069048</td></tr>\n",
       "\t<tr><td>Winter</td><td>2018</td><td> 15.068571</td></tr>\n",
       "</tbody>\n",
       "</table>\n"
      ],
      "text/latex": [
       "A grouped\\_df: 24 × 3\n",
       "\\begin{tabular}{lll}\n",
       " season & year & q\\_precipitation\\\\\n",
       " <fct> & <int> & <dbl>\\\\\n",
       "\\hline\n",
       "\t Spring & 2013 &  29.659048\\\\\n",
       "\t Spring & 2014 &  14.735714\\\\\n",
       "\t Spring & 2015 &  36.811429\\\\\n",
       "\t Spring & 2016 &  31.364381\\\\\n",
       "\t Spring & 2017 &  15.328571\\\\\n",
       "\t Spring & 2018 &  43.182857\\\\\n",
       "\t Summer & 2013 &  84.497143\\\\\n",
       "\t Summer & 2014 &  82.824524\\\\\n",
       "\t Summer & 2015 &  70.565714\\\\\n",
       "\t Summer & 2016 & 113.191429\\\\\n",
       "\t Summer & 2017 &  88.083333\\\\\n",
       "\t Summer & 2018 &  81.948095\\\\\n",
       "\t Autumn & 2013 &  74.852381\\\\\n",
       "\t Autumn & 2014 &  41.520000\\\\\n",
       "\t Autumn & 2015 &  50.406190\\\\\n",
       "\t Autumn & 2016 &  39.481619\\\\\n",
       "\t Autumn & 2017 &  32.214476\\\\\n",
       "\t Autumn & 2018 &  62.654762\\\\\n",
       "\t Winter & 2013 &  17.985524\\\\\n",
       "\t Winter & 2014 &   9.015714\\\\\n",
       "\t Winter & 2015 &  24.634286\\\\\n",
       "\t Winter & 2016 &   8.331429\\\\\n",
       "\t Winter & 2017 &   9.069048\\\\\n",
       "\t Winter & 2018 &  15.068571\\\\\n",
       "\\end{tabular}\n"
      ],
      "text/markdown": [
       "\n",
       "A grouped_df: 24 × 3\n",
       "\n",
       "| season &lt;fct&gt; | year &lt;int&gt; | q_precipitation &lt;dbl&gt; |\n",
       "|---|---|---|\n",
       "| Spring | 2013 |  29.659048 |\n",
       "| Spring | 2014 |  14.735714 |\n",
       "| Spring | 2015 |  36.811429 |\n",
       "| Spring | 2016 |  31.364381 |\n",
       "| Spring | 2017 |  15.328571 |\n",
       "| Spring | 2018 |  43.182857 |\n",
       "| Summer | 2013 |  84.497143 |\n",
       "| Summer | 2014 |  82.824524 |\n",
       "| Summer | 2015 |  70.565714 |\n",
       "| Summer | 2016 | 113.191429 |\n",
       "| Summer | 2017 |  88.083333 |\n",
       "| Summer | 2018 |  81.948095 |\n",
       "| Autumn | 2013 |  74.852381 |\n",
       "| Autumn | 2014 |  41.520000 |\n",
       "| Autumn | 2015 |  50.406190 |\n",
       "| Autumn | 2016 |  39.481619 |\n",
       "| Autumn | 2017 |  32.214476 |\n",
       "| Autumn | 2018 |  62.654762 |\n",
       "| Winter | 2013 |  17.985524 |\n",
       "| Winter | 2014 |   9.015714 |\n",
       "| Winter | 2015 |  24.634286 |\n",
       "| Winter | 2016 |   8.331429 |\n",
       "| Winter | 2017 |   9.069048 |\n",
       "| Winter | 2018 |  15.068571 |\n",
       "\n"
      ],
      "text/plain": [
       "   season year q_precipitation\n",
       "1  Spring 2013  29.659048     \n",
       "2  Spring 2014  14.735714     \n",
       "3  Spring 2015  36.811429     \n",
       "4  Spring 2016  31.364381     \n",
       "5  Spring 2017  15.328571     \n",
       "6  Spring 2018  43.182857     \n",
       "7  Summer 2013  84.497143     \n",
       "8  Summer 2014  82.824524     \n",
       "9  Summer 2015  70.565714     \n",
       "10 Summer 2016 113.191429     \n",
       "11 Summer 2017  88.083333     \n",
       "12 Summer 2018  81.948095     \n",
       "13 Autumn 2013  74.852381     \n",
       "14 Autumn 2014  41.520000     \n",
       "15 Autumn 2015  50.406190     \n",
       "16 Autumn 2016  39.481619     \n",
       "17 Autumn 2017  32.214476     \n",
       "18 Autumn 2018  62.654762     \n",
       "19 Winter 2013  17.985524     \n",
       "20 Winter 2014   9.015714     \n",
       "21 Winter 2015  24.634286     \n",
       "22 Winter 2016   8.331429     \n",
       "23 Winter 2017   9.069048     \n",
       "24 Winter 2018  15.068571     "
      ]
     },
     "metadata": {},
     "output_type": "display_data"
    }
   ],
   "source": [
    "q_precipitation"
   ]
  },
  {
   "cell_type": "code",
   "execution_count": 69,
   "metadata": {},
   "outputs": [],
   "source": [
    "# precipitation of driest quarter BIO17\n",
    "driest_q <- data %>%  group_by(year) %>% summarise(min_y_q_precipitation = min(q_precipitation))\n"
   ]
  },
  {
   "cell_type": "code",
   "execution_count": 70,
   "metadata": {},
   "outputs": [
    {
     "name": "stderr",
     "output_type": "stream",
     "text": [
      "Joining, by = \"year\"\n",
      "\n"
     ]
    }
   ],
   "source": [
    "data<- data %>% left_join(driest_q)"
   ]
  },
  {
   "cell_type": "code",
   "execution_count": 71,
   "metadata": {},
   "outputs": [
    {
     "name": "stderr",
     "output_type": "stream",
     "text": [
      "Joining, by = \"year\"\n",
      "\n"
     ]
    }
   ],
   "source": [
    "# precipitation of  wettest quarter BIO16\n",
    "wettest_q <- data %>%  group_by(year) %>% summarise(max_y_q_precipitation = max(q_precipitation))\n",
    "data<- data %>% left_join(wettest_q)"
   ]
  },
  {
   "cell_type": "code",
   "execution_count": 72,
   "metadata": {},
   "outputs": [
    {
     "name": "stderr",
     "output_type": "stream",
     "text": [
      "`summarise()` has grouped output by 'season'. You can override using the `.groups` argument.\n",
      "\n",
      "Joining, by = c(\"year\", \"season\")\n",
      "\n"
     ]
    }
   ],
   "source": [
    "# quarterly temp\n",
    "Q_temp <- data %>%  group_by(season,year) %>% summarise(q_temp = mean(wk_avg_tm))\n",
    "data<- data %>% left_join(Q_temp)"
   ]
  },
  {
   "cell_type": "code",
   "execution_count": 107,
   "metadata": {},
   "outputs": [
    {
     "name": "stderr",
     "output_type": "stream",
     "text": [
      "Joining, by = \"year\"\n",
      "\n"
     ]
    }
   ],
   "source": [
    "# Mean Temperature of warmest quarter BIO10\n",
    "\n",
    "hottest_q <- data %>%  group_by(year) %>% summarise(max_y_q_temp = max(q_temp))\n",
    "data<- data %>% left_join(hottest_q)"
   ]
  },
  {
   "cell_type": "code",
   "execution_count": 108,
   "metadata": {},
   "outputs": [
    {
     "name": "stderr",
     "output_type": "stream",
     "text": [
      "Joining, by = \"year\"\n",
      "\n"
     ]
    }
   ],
   "source": [
    "# Mean Temperature of coldest quarter BIO11\n",
    "\n",
    "coldest_q <- data %>%  group_by(year) %>% summarise(min_y_q_temp = min(q_temp))\n",
    "data<- data %>% left_join(coldest_q)"
   ]
  },
  {
   "cell_type": "code",
   "execution_count": 74,
   "metadata": {},
   "outputs": [
    {
     "data": {
      "text/html": [
       "<table class=\"dataframe\">\n",
       "<caption>A tibble: 6 × 5</caption>\n",
       "<thead>\n",
       "\t<tr><th scope=col>year</th><th scope=col>max_y_q_temp</th><th scope=col>min_y_q_temp</th><th scope=col>max_y_q_precipitation</th><th scope=col>min_y_q_precipitation</th></tr>\n",
       "\t<tr><th scope=col>&lt;int&gt;</th><th scope=col>&lt;dbl&gt;</th><th scope=col>&lt;dbl&gt;</th><th scope=col>&lt;dbl&gt;</th><th scope=col>&lt;dbl&gt;</th></tr>\n",
       "</thead>\n",
       "<tbody>\n",
       "\t<tr><td>2013</td><td>22.56830</td><td>17.93779</td><td> 84.49714</td><td>17.985524</td></tr>\n",
       "\t<tr><td>2014</td><td>22.95152</td><td>17.97791</td><td> 82.82452</td><td> 9.015714</td></tr>\n",
       "\t<tr><td>2015</td><td>23.70061</td><td>18.53152</td><td> 70.56571</td><td>24.634286</td></tr>\n",
       "\t<tr><td>2016</td><td>23.16082</td><td>17.92730</td><td>113.19143</td><td> 8.331429</td></tr>\n",
       "\t<tr><td>2017</td><td>22.97852</td><td>18.17738</td><td> 88.08333</td><td> 9.069048</td></tr>\n",
       "\t<tr><td>2018</td><td>23.47264</td><td>18.63865</td><td> 81.94810</td><td>15.068571</td></tr>\n",
       "</tbody>\n",
       "</table>\n"
      ],
      "text/latex": [
       "A tibble: 6 × 5\n",
       "\\begin{tabular}{lllll}\n",
       " year & max\\_y\\_q\\_temp & min\\_y\\_q\\_temp & max\\_y\\_q\\_precipitation & min\\_y\\_q\\_precipitation\\\\\n",
       " <int> & <dbl> & <dbl> & <dbl> & <dbl>\\\\\n",
       "\\hline\n",
       "\t 2013 & 22.56830 & 17.93779 &  84.49714 & 17.985524\\\\\n",
       "\t 2014 & 22.95152 & 17.97791 &  82.82452 &  9.015714\\\\\n",
       "\t 2015 & 23.70061 & 18.53152 &  70.56571 & 24.634286\\\\\n",
       "\t 2016 & 23.16082 & 17.92730 & 113.19143 &  8.331429\\\\\n",
       "\t 2017 & 22.97852 & 18.17738 &  88.08333 &  9.069048\\\\\n",
       "\t 2018 & 23.47264 & 18.63865 &  81.94810 & 15.068571\\\\\n",
       "\\end{tabular}\n"
      ],
      "text/markdown": [
       "\n",
       "A tibble: 6 × 5\n",
       "\n",
       "| year &lt;int&gt; | max_y_q_temp &lt;dbl&gt; | min_y_q_temp &lt;dbl&gt; | max_y_q_precipitation &lt;dbl&gt; | min_y_q_precipitation &lt;dbl&gt; |\n",
       "|---|---|---|---|---|\n",
       "| 2013 | 22.56830 | 17.93779 |  84.49714 | 17.985524 |\n",
       "| 2014 | 22.95152 | 17.97791 |  82.82452 |  9.015714 |\n",
       "| 2015 | 23.70061 | 18.53152 |  70.56571 | 24.634286 |\n",
       "| 2016 | 23.16082 | 17.92730 | 113.19143 |  8.331429 |\n",
       "| 2017 | 22.97852 | 18.17738 |  88.08333 |  9.069048 |\n",
       "| 2018 | 23.47264 | 18.63865 |  81.94810 | 15.068571 |\n",
       "\n"
      ],
      "text/plain": [
       "  year max_y_q_temp min_y_q_temp max_y_q_precipitation min_y_q_precipitation\n",
       "1 2013 22.56830     17.93779      84.49714             17.985524            \n",
       "2 2014 22.95152     17.97791      82.82452              9.015714            \n",
       "3 2015 23.70061     18.53152      70.56571             24.634286            \n",
       "4 2016 23.16082     17.92730     113.19143              8.331429            \n",
       "5 2017 22.97852     18.17738      88.08333              9.069048            \n",
       "6 2018 23.47264     18.63865      81.94810             15.068571            "
      ]
     },
     "metadata": {},
     "output_type": "display_data"
    }
   ],
   "source": [
    "#summarize quarters' temperatures and precipitation \n",
    "temp_q <- data %>%  group_by(year) %>% summarise(max_y_q_temp = max(q_temp),\n",
    "                                                       min_y_q_temp = min(q_temp),\n",
    "                                                       max_y_q_precipitation = max(q_precipitation),\n",
    "                                                       min_y_q_precipitation = min(q_precipitation),\n",
    "                                                    \n",
    "                                                      )\n",
    "temp_q"
   ]
  },
  {
   "cell_type": "code",
   "execution_count": 75,
   "metadata": {},
   "outputs": [
    {
     "name": "stderr",
     "output_type": "stream",
     "text": [
      "`summarise()` has grouped output by 'season'. You can override using the `.groups` argument.\n",
      "\n"
     ]
    },
    {
     "data": {
      "text/html": [
       "<table class=\"dataframe\">\n",
       "<caption>A grouped_df: 24 × 5</caption>\n",
       "<thead>\n",
       "\t<tr><th scope=col>season</th><th scope=col>year</th><th scope=col>mean_t</th><th scope=col>max_y_q_precipitation</th><th scope=col>min_y_q_precipitation</th></tr>\n",
       "\t<tr><th scope=col>&lt;fct&gt;</th><th scope=col>&lt;int&gt;</th><th scope=col>&lt;dbl&gt;</th><th scope=col>&lt;dbl&gt;</th><th scope=col>&lt;dbl&gt;</th></tr>\n",
       "</thead>\n",
       "<tbody>\n",
       "\t<tr><td>Summer</td><td>2016</td><td>23.16082</td><td>113.191429</td><td>113.191429</td></tr>\n",
       "\t<tr><td>Summer</td><td>2017</td><td>22.97852</td><td> 88.083333</td><td> 88.083333</td></tr>\n",
       "\t<tr><td>Summer</td><td>2013</td><td>22.56830</td><td> 84.497143</td><td> 84.497143</td></tr>\n",
       "\t<tr><td>Summer</td><td>2014</td><td>22.95152</td><td> 82.824524</td><td> 82.824524</td></tr>\n",
       "\t<tr><td>Summer</td><td>2018</td><td>23.47264</td><td> 81.948095</td><td> 81.948095</td></tr>\n",
       "\t<tr><td>Autumn</td><td>2013</td><td>21.43708</td><td> 74.852381</td><td> 74.852381</td></tr>\n",
       "\t<tr><td>Summer</td><td>2015</td><td>23.70061</td><td> 70.565714</td><td> 70.565714</td></tr>\n",
       "\t<tr><td>Autumn</td><td>2018</td><td>22.52113</td><td> 62.654762</td><td> 62.654762</td></tr>\n",
       "\t<tr><td>Autumn</td><td>2015</td><td>21.70013</td><td> 50.406190</td><td> 50.406190</td></tr>\n",
       "\t<tr><td>Spring</td><td>2018</td><td>20.59101</td><td> 43.182857</td><td> 43.182857</td></tr>\n",
       "\t<tr><td>Autumn</td><td>2014</td><td>22.02742</td><td> 41.520000</td><td> 41.520000</td></tr>\n",
       "\t<tr><td>Autumn</td><td>2016</td><td>22.64288</td><td> 39.481619</td><td> 39.481619</td></tr>\n",
       "\t<tr><td>Spring</td><td>2015</td><td>22.04498</td><td> 36.811429</td><td> 36.811429</td></tr>\n",
       "\t<tr><td>Autumn</td><td>2017</td><td>22.11970</td><td> 32.214476</td><td> 32.214476</td></tr>\n",
       "\t<tr><td>Spring</td><td>2016</td><td>20.85304</td><td> 31.364381</td><td> 31.364381</td></tr>\n",
       "\t<tr><td>Spring</td><td>2013</td><td>19.37982</td><td> 29.659048</td><td> 29.659048</td></tr>\n",
       "\t<tr><td>Winter</td><td>2015</td><td>18.53152</td><td> 24.634286</td><td> 24.634286</td></tr>\n",
       "\t<tr><td>Winter</td><td>2013</td><td>17.93779</td><td> 17.985524</td><td> 17.985524</td></tr>\n",
       "\t<tr><td>Spring</td><td>2017</td><td>20.98666</td><td> 15.328571</td><td> 15.328571</td></tr>\n",
       "\t<tr><td>Winter</td><td>2018</td><td>18.63865</td><td> 15.068571</td><td> 15.068571</td></tr>\n",
       "\t<tr><td>Spring</td><td>2014</td><td>20.38999</td><td> 14.735714</td><td> 14.735714</td></tr>\n",
       "\t<tr><td>Winter</td><td>2017</td><td>18.17738</td><td>  9.069048</td><td>  9.069048</td></tr>\n",
       "\t<tr><td>Winter</td><td>2014</td><td>17.97791</td><td>  9.015714</td><td>  9.015714</td></tr>\n",
       "\t<tr><td>Winter</td><td>2016</td><td>17.92730</td><td>  8.331429</td><td>  8.331429</td></tr>\n",
       "</tbody>\n",
       "</table>\n"
      ],
      "text/latex": [
       "A grouped\\_df: 24 × 5\n",
       "\\begin{tabular}{lllll}\n",
       " season & year & mean\\_t & max\\_y\\_q\\_precipitation & min\\_y\\_q\\_precipitation\\\\\n",
       " <fct> & <int> & <dbl> & <dbl> & <dbl>\\\\\n",
       "\\hline\n",
       "\t Summer & 2016 & 23.16082 & 113.191429 & 113.191429\\\\\n",
       "\t Summer & 2017 & 22.97852 &  88.083333 &  88.083333\\\\\n",
       "\t Summer & 2013 & 22.56830 &  84.497143 &  84.497143\\\\\n",
       "\t Summer & 2014 & 22.95152 &  82.824524 &  82.824524\\\\\n",
       "\t Summer & 2018 & 23.47264 &  81.948095 &  81.948095\\\\\n",
       "\t Autumn & 2013 & 21.43708 &  74.852381 &  74.852381\\\\\n",
       "\t Summer & 2015 & 23.70061 &  70.565714 &  70.565714\\\\\n",
       "\t Autumn & 2018 & 22.52113 &  62.654762 &  62.654762\\\\\n",
       "\t Autumn & 2015 & 21.70013 &  50.406190 &  50.406190\\\\\n",
       "\t Spring & 2018 & 20.59101 &  43.182857 &  43.182857\\\\\n",
       "\t Autumn & 2014 & 22.02742 &  41.520000 &  41.520000\\\\\n",
       "\t Autumn & 2016 & 22.64288 &  39.481619 &  39.481619\\\\\n",
       "\t Spring & 2015 & 22.04498 &  36.811429 &  36.811429\\\\\n",
       "\t Autumn & 2017 & 22.11970 &  32.214476 &  32.214476\\\\\n",
       "\t Spring & 2016 & 20.85304 &  31.364381 &  31.364381\\\\\n",
       "\t Spring & 2013 & 19.37982 &  29.659048 &  29.659048\\\\\n",
       "\t Winter & 2015 & 18.53152 &  24.634286 &  24.634286\\\\\n",
       "\t Winter & 2013 & 17.93779 &  17.985524 &  17.985524\\\\\n",
       "\t Spring & 2017 & 20.98666 &  15.328571 &  15.328571\\\\\n",
       "\t Winter & 2018 & 18.63865 &  15.068571 &  15.068571\\\\\n",
       "\t Spring & 2014 & 20.38999 &  14.735714 &  14.735714\\\\\n",
       "\t Winter & 2017 & 18.17738 &   9.069048 &   9.069048\\\\\n",
       "\t Winter & 2014 & 17.97791 &   9.015714 &   9.015714\\\\\n",
       "\t Winter & 2016 & 17.92730 &   8.331429 &   8.331429\\\\\n",
       "\\end{tabular}\n"
      ],
      "text/markdown": [
       "\n",
       "A grouped_df: 24 × 5\n",
       "\n",
       "| season &lt;fct&gt; | year &lt;int&gt; | mean_t &lt;dbl&gt; | max_y_q_precipitation &lt;dbl&gt; | min_y_q_precipitation &lt;dbl&gt; |\n",
       "|---|---|---|---|---|\n",
       "| Summer | 2016 | 23.16082 | 113.191429 | 113.191429 |\n",
       "| Summer | 2017 | 22.97852 |  88.083333 |  88.083333 |\n",
       "| Summer | 2013 | 22.56830 |  84.497143 |  84.497143 |\n",
       "| Summer | 2014 | 22.95152 |  82.824524 |  82.824524 |\n",
       "| Summer | 2018 | 23.47264 |  81.948095 |  81.948095 |\n",
       "| Autumn | 2013 | 21.43708 |  74.852381 |  74.852381 |\n",
       "| Summer | 2015 | 23.70061 |  70.565714 |  70.565714 |\n",
       "| Autumn | 2018 | 22.52113 |  62.654762 |  62.654762 |\n",
       "| Autumn | 2015 | 21.70013 |  50.406190 |  50.406190 |\n",
       "| Spring | 2018 | 20.59101 |  43.182857 |  43.182857 |\n",
       "| Autumn | 2014 | 22.02742 |  41.520000 |  41.520000 |\n",
       "| Autumn | 2016 | 22.64288 |  39.481619 |  39.481619 |\n",
       "| Spring | 2015 | 22.04498 |  36.811429 |  36.811429 |\n",
       "| Autumn | 2017 | 22.11970 |  32.214476 |  32.214476 |\n",
       "| Spring | 2016 | 20.85304 |  31.364381 |  31.364381 |\n",
       "| Spring | 2013 | 19.37982 |  29.659048 |  29.659048 |\n",
       "| Winter | 2015 | 18.53152 |  24.634286 |  24.634286 |\n",
       "| Winter | 2013 | 17.93779 |  17.985524 |  17.985524 |\n",
       "| Spring | 2017 | 20.98666 |  15.328571 |  15.328571 |\n",
       "| Winter | 2018 | 18.63865 |  15.068571 |  15.068571 |\n",
       "| Spring | 2014 | 20.38999 |  14.735714 |  14.735714 |\n",
       "| Winter | 2017 | 18.17738 |   9.069048 |   9.069048 |\n",
       "| Winter | 2014 | 17.97791 |   9.015714 |   9.015714 |\n",
       "| Winter | 2016 | 17.92730 |   8.331429 |   8.331429 |\n",
       "\n"
      ],
      "text/plain": [
       "   season year mean_t   max_y_q_precipitation min_y_q_precipitation\n",
       "1  Summer 2016 23.16082 113.191429            113.191429           \n",
       "2  Summer 2017 22.97852  88.083333             88.083333           \n",
       "3  Summer 2013 22.56830  84.497143             84.497143           \n",
       "4  Summer 2014 22.95152  82.824524             82.824524           \n",
       "5  Summer 2018 23.47264  81.948095             81.948095           \n",
       "6  Autumn 2013 21.43708  74.852381             74.852381           \n",
       "7  Summer 2015 23.70061  70.565714             70.565714           \n",
       "8  Autumn 2018 22.52113  62.654762             62.654762           \n",
       "9  Autumn 2015 21.70013  50.406190             50.406190           \n",
       "10 Spring 2018 20.59101  43.182857             43.182857           \n",
       "11 Autumn 2014 22.02742  41.520000             41.520000           \n",
       "12 Autumn 2016 22.64288  39.481619             39.481619           \n",
       "13 Spring 2015 22.04498  36.811429             36.811429           \n",
       "14 Autumn 2017 22.11970  32.214476             32.214476           \n",
       "15 Spring 2016 20.85304  31.364381             31.364381           \n",
       "16 Spring 2013 19.37982  29.659048             29.659048           \n",
       "17 Winter 2015 18.53152  24.634286             24.634286           \n",
       "18 Winter 2013 17.93779  17.985524             17.985524           \n",
       "19 Spring 2017 20.98666  15.328571             15.328571           \n",
       "20 Winter 2018 18.63865  15.068571             15.068571           \n",
       "21 Spring 2014 20.38999  14.735714             14.735714           \n",
       "22 Winter 2017 18.17738   9.069048              9.069048           \n",
       "23 Winter 2014 17.97791   9.015714              9.015714           \n",
       "24 Winter 2016 17.92730   8.331429              8.331429           "
      ]
     },
     "metadata": {},
     "output_type": "display_data"
    }
   ],
   "source": [
    "# Mean temperature of wettest quarter BIO08\n",
    "final_data %>% group_by(season, year) %>%  summarise (mean_t = mean (mean_temp),\n",
    "                                                     max_y_q_precipitation = max(q_precipitation),\n",
    "                                                     min_y_q_precipitation = min(q_precipitation))  %>% \n",
    "arrange (desc(max_y_q_precipitation,year)) "
   ]
  },
  {
   "cell_type": "code",
   "execution_count": 76,
   "metadata": {},
   "outputs": [
    {
     "data": {
      "text/html": [
       "<table class=\"dataframe\">\n",
       "<caption>A data.frame: 6 × 3</caption>\n",
       "<thead>\n",
       "\t<tr><th scope=col>season</th><th scope=col>year</th><th scope=col>mean_t</th></tr>\n",
       "\t<tr><th scope=col>&lt;fct&gt;</th><th scope=col>&lt;dbl&gt;</th><th scope=col>&lt;dbl&gt;</th></tr>\n",
       "</thead>\n",
       "<tbody>\n",
       "\t<tr><td>2</td><td>2016</td><td>23.16082</td></tr>\n",
       "\t<tr><td>2</td><td>2017</td><td>22.97852</td></tr>\n",
       "\t<tr><td>2</td><td>2013</td><td>22.56830</td></tr>\n",
       "\t<tr><td>2</td><td>2014</td><td>22.95152</td></tr>\n",
       "\t<tr><td>2</td><td>2018</td><td>23.47264</td></tr>\n",
       "\t<tr><td>2</td><td>2015</td><td>23.70061</td></tr>\n",
       "</tbody>\n",
       "</table>\n"
      ],
      "text/latex": [
       "A data.frame: 6 × 3\n",
       "\\begin{tabular}{lll}\n",
       " season & year & mean\\_t\\\\\n",
       " <fct> & <dbl> & <dbl>\\\\\n",
       "\\hline\n",
       "\t 2 & 2016 & 23.16082\\\\\n",
       "\t 2 & 2017 & 22.97852\\\\\n",
       "\t 2 & 2013 & 22.56830\\\\\n",
       "\t 2 & 2014 & 22.95152\\\\\n",
       "\t 2 & 2018 & 23.47264\\\\\n",
       "\t 2 & 2015 & 23.70061\\\\\n",
       "\\end{tabular}\n"
      ],
      "text/markdown": [
       "\n",
       "A data.frame: 6 × 3\n",
       "\n",
       "| season &lt;fct&gt; | year &lt;dbl&gt; | mean_t &lt;dbl&gt; |\n",
       "|---|---|---|\n",
       "| 2 | 2016 | 23.16082 |\n",
       "| 2 | 2017 | 22.97852 |\n",
       "| 2 | 2013 | 22.56830 |\n",
       "| 2 | 2014 | 22.95152 |\n",
       "| 2 | 2018 | 23.47264 |\n",
       "| 2 | 2015 | 23.70061 |\n",
       "\n"
      ],
      "text/plain": [
       "  season year mean_t  \n",
       "1 2      2016 23.16082\n",
       "2 2      2017 22.97852\n",
       "3 2      2013 22.56830\n",
       "4 2      2014 22.95152\n",
       "5 2      2018 23.47264\n",
       "6 2      2015 23.70061"
      ]
     },
     "metadata": {},
     "output_type": "display_data"
    }
   ],
   "source": [
    "# Mean temperature of wettest quarter\n",
    "w1 <- data.frame(season=c(2,2,2,2,2,2),\n",
    "                year=c(2016,2017,2013,2014,2018,2015),\n",
    "                mean_t = c(23.16082,22.97852,22.56830,22.95152,23.47264,23.70061))\n",
    "w1$season <- factor(w1$season)\n",
    "w1"
   ]
  },
  {
   "cell_type": "code",
   "execution_count": 77,
   "metadata": {},
   "outputs": [],
   "source": [
    "# insert the new variable into the data \n",
    "\n",
    "data <-merge(x=data,y=w1,by=\"year\",all.x=TRUE)"
   ]
  },
  {
   "cell_type": "code",
   "execution_count": 78,
   "metadata": {},
   "outputs": [
    {
     "data": {
      "text/html": [
       "<table class=\"dataframe\">\n",
       "<caption>A data.frame: 6 × 3</caption>\n",
       "<thead>\n",
       "\t<tr><th scope=col>season</th><th scope=col>year</th><th scope=col>mean_t_d</th></tr>\n",
       "\t<tr><th scope=col>&lt;fct&gt;</th><th scope=col>&lt;dbl&gt;</th><th scope=col>&lt;dbl&gt;</th></tr>\n",
       "</thead>\n",
       "<tbody>\n",
       "\t<tr><td>4</td><td>2016</td><td>17.92730</td></tr>\n",
       "\t<tr><td>4</td><td>2014</td><td>17.97791</td></tr>\n",
       "\t<tr><td>4</td><td>2017</td><td>18.17738</td></tr>\n",
       "\t<tr><td>4</td><td>2018</td><td>18.63865</td></tr>\n",
       "\t<tr><td>4</td><td>2013</td><td>17.93779</td></tr>\n",
       "\t<tr><td>4</td><td>2015</td><td>18.53152</td></tr>\n",
       "</tbody>\n",
       "</table>\n"
      ],
      "text/latex": [
       "A data.frame: 6 × 3\n",
       "\\begin{tabular}{lll}\n",
       " season & year & mean\\_t\\_d\\\\\n",
       " <fct> & <dbl> & <dbl>\\\\\n",
       "\\hline\n",
       "\t 4 & 2016 & 17.92730\\\\\n",
       "\t 4 & 2014 & 17.97791\\\\\n",
       "\t 4 & 2017 & 18.17738\\\\\n",
       "\t 4 & 2018 & 18.63865\\\\\n",
       "\t 4 & 2013 & 17.93779\\\\\n",
       "\t 4 & 2015 & 18.53152\\\\\n",
       "\\end{tabular}\n"
      ],
      "text/markdown": [
       "\n",
       "A data.frame: 6 × 3\n",
       "\n",
       "| season &lt;fct&gt; | year &lt;dbl&gt; | mean_t_d &lt;dbl&gt; |\n",
       "|---|---|---|\n",
       "| 4 | 2016 | 17.92730 |\n",
       "| 4 | 2014 | 17.97791 |\n",
       "| 4 | 2017 | 18.17738 |\n",
       "| 4 | 2018 | 18.63865 |\n",
       "| 4 | 2013 | 17.93779 |\n",
       "| 4 | 2015 | 18.53152 |\n",
       "\n"
      ],
      "text/plain": [
       "  season year mean_t_d\n",
       "1 4      2016 17.92730\n",
       "2 4      2014 17.97791\n",
       "3 4      2017 18.17738\n",
       "4 4      2018 18.63865\n",
       "5 4      2013 17.93779\n",
       "6 4      2015 18.53152"
      ]
     },
     "metadata": {},
     "output_type": "display_data"
    }
   ],
   "source": [
    " # Mean Temperature of Driest Quarter BIO09\n",
    "w2 <- data.frame(season=c(4,4,4,4,4,4),\n",
    "                year=c(2016,2014,2017,2018,2013,2015),\n",
    "                mean_t_d = c(17.92730,17.97791,18.17738,18.63865,17.93779,18.53152))\n",
    "w2$season <- factor(w2$season)\n",
    "w2"
   ]
  },
  {
   "cell_type": "code",
   "execution_count": 79,
   "metadata": {},
   "outputs": [],
   "source": [
    "# insert the new variable into the data \n",
    "final_data <-merge(x=data,y=w2,by=\"year\",all.x=TRUE)"
   ]
  },
  {
   "cell_type": "code",
   "execution_count": 101,
   "metadata": {},
   "outputs": [],
   "source": [
    "# clear the mess I've done with the duplicate values..\n",
    "library(DataExplorer)\n",
    "data <- drop_columns(data, c(\"season.y\"))"
   ]
  },
  {
   "cell_type": "code",
   "execution_count": 112,
   "metadata": {},
   "outputs": [],
   "source": [
    "data <- drop_columns(data, c(\"percipitation.x\"))"
   ]
  },
  {
   "cell_type": "code",
   "execution_count": 116,
   "metadata": {},
   "outputs": [],
   "source": [
    "data <- data %>%\n",
    "  rename(percipitation = percipitation.y)"
   ]
  },
  {
   "cell_type": "code",
   "execution_count": 89,
   "metadata": {},
   "outputs": [],
   "source": [
    "data <- data %>%\n",
    "  rename(season = season.x)"
   ]
  },
  {
   "cell_type": "code",
   "execution_count": 103,
   "metadata": {},
   "outputs": [],
   "source": [
    "#data <- data[, -40] "
   ]
  },
  {
   "cell_type": "code",
   "execution_count": 91,
   "metadata": {},
   "outputs": [
    {
     "name": "stderr",
     "output_type": "stream",
     "text": [
      "`summarise()` has grouped output by 'season'. You can override using the `.groups` argument.\n",
      "\n"
     ]
    },
    {
     "data": {
      "text/html": [
       "<table class=\"dataframe\">\n",
       "<caption>A grouped_df: 24 × 5</caption>\n",
       "<thead>\n",
       "\t<tr><th scope=col>season</th><th scope=col>year</th><th scope=col>percipitation</th><th scope=col>max_y_q_temp</th><th scope=col>min_y_q_temp</th></tr>\n",
       "\t<tr><th scope=col>&lt;fct&gt;</th><th scope=col>&lt;int&gt;</th><th scope=col>&lt;dbl&gt;</th><th scope=col>&lt;dbl&gt;</th><th scope=col>&lt;dbl&gt;</th></tr>\n",
       "</thead>\n",
       "<tbody>\n",
       "\t<tr><td>Winter</td><td>2016</td><td> 33.67429</td><td>17.92730</td><td>17.92730</td></tr>\n",
       "\t<tr><td>Winter</td><td>2013</td><td> 84.11238</td><td>17.93779</td><td>17.93779</td></tr>\n",
       "\t<tr><td>Winter</td><td>2014</td><td> 38.99429</td><td>17.97791</td><td>17.97791</td></tr>\n",
       "\t<tr><td>Winter</td><td>2017</td><td> 36.27619</td><td>18.17738</td><td>18.17738</td></tr>\n",
       "\t<tr><td>Winter</td><td>2015</td><td>117.98857</td><td>18.53152</td><td>18.53152</td></tr>\n",
       "\t<tr><td>Winter</td><td>2018</td><td> 62.59429</td><td>18.63865</td><td>18.63865</td></tr>\n",
       "\t<tr><td>Spring</td><td>2013</td><td>124.31810</td><td>19.37982</td><td>19.37982</td></tr>\n",
       "\t<tr><td>Spring</td><td>2014</td><td> 61.15286</td><td>20.38999</td><td>20.38999</td></tr>\n",
       "\t<tr><td>Spring</td><td>2018</td><td>186.09714</td><td>20.59101</td><td>20.59101</td></tr>\n",
       "\t<tr><td>Spring</td><td>2016</td><td>138.82990</td><td>20.85304</td><td>20.85304</td></tr>\n",
       "\t<tr><td>Spring</td><td>2017</td><td> 65.97857</td><td>20.98666</td><td>20.98666</td></tr>\n",
       "\t<tr><td>Autumn</td><td>2013</td><td>383.82095</td><td>21.43708</td><td>21.43708</td></tr>\n",
       "\t<tr><td>Autumn</td><td>2015</td><td>233.85762</td><td>21.70013</td><td>21.70013</td></tr>\n",
       "\t<tr><td>Autumn</td><td>2014</td><td>191.72143</td><td>22.02742</td><td>22.02742</td></tr>\n",
       "\t<tr><td>Spring</td><td>2015</td><td>166.35429</td><td>22.04498</td><td>22.04498</td></tr>\n",
       "\t<tr><td>Autumn</td><td>2017</td><td>145.70838</td><td>22.11970</td><td>22.11970</td></tr>\n",
       "\t<tr><td>Autumn</td><td>2018</td><td>280.28762</td><td>22.52113</td><td>22.52113</td></tr>\n",
       "\t<tr><td>Summer</td><td>2013</td><td>312.34286</td><td>22.56830</td><td>22.56830</td></tr>\n",
       "\t<tr><td>Autumn</td><td>2016</td><td>165.17714</td><td>22.64288</td><td>22.64288</td></tr>\n",
       "\t<tr><td>Summer</td><td>2014</td><td>331.29810</td><td>22.95152</td><td>22.95152</td></tr>\n",
       "\t<tr><td>Summer</td><td>2017</td><td>398.75381</td><td>22.97852</td><td>22.97852</td></tr>\n",
       "\t<tr><td>Summer</td><td>2016</td><td>482.09429</td><td>23.16082</td><td>23.16082</td></tr>\n",
       "\t<tr><td>Summer</td><td>2018</td><td>327.79238</td><td>23.47264</td><td>23.47264</td></tr>\n",
       "\t<tr><td>Summer</td><td>2015</td><td>246.10571</td><td>23.70061</td><td>23.70061</td></tr>\n",
       "</tbody>\n",
       "</table>\n"
      ],
      "text/latex": [
       "A grouped\\_df: 24 × 5\n",
       "\\begin{tabular}{lllll}\n",
       " season & year & percipitation & max\\_y\\_q\\_temp & min\\_y\\_q\\_temp\\\\\n",
       " <fct> & <int> & <dbl> & <dbl> & <dbl>\\\\\n",
       "\\hline\n",
       "\t Winter & 2016 &  33.67429 & 17.92730 & 17.92730\\\\\n",
       "\t Winter & 2013 &  84.11238 & 17.93779 & 17.93779\\\\\n",
       "\t Winter & 2014 &  38.99429 & 17.97791 & 17.97791\\\\\n",
       "\t Winter & 2017 &  36.27619 & 18.17738 & 18.17738\\\\\n",
       "\t Winter & 2015 & 117.98857 & 18.53152 & 18.53152\\\\\n",
       "\t Winter & 2018 &  62.59429 & 18.63865 & 18.63865\\\\\n",
       "\t Spring & 2013 & 124.31810 & 19.37982 & 19.37982\\\\\n",
       "\t Spring & 2014 &  61.15286 & 20.38999 & 20.38999\\\\\n",
       "\t Spring & 2018 & 186.09714 & 20.59101 & 20.59101\\\\\n",
       "\t Spring & 2016 & 138.82990 & 20.85304 & 20.85304\\\\\n",
       "\t Spring & 2017 &  65.97857 & 20.98666 & 20.98666\\\\\n",
       "\t Autumn & 2013 & 383.82095 & 21.43708 & 21.43708\\\\\n",
       "\t Autumn & 2015 & 233.85762 & 21.70013 & 21.70013\\\\\n",
       "\t Autumn & 2014 & 191.72143 & 22.02742 & 22.02742\\\\\n",
       "\t Spring & 2015 & 166.35429 & 22.04498 & 22.04498\\\\\n",
       "\t Autumn & 2017 & 145.70838 & 22.11970 & 22.11970\\\\\n",
       "\t Autumn & 2018 & 280.28762 & 22.52113 & 22.52113\\\\\n",
       "\t Summer & 2013 & 312.34286 & 22.56830 & 22.56830\\\\\n",
       "\t Autumn & 2016 & 165.17714 & 22.64288 & 22.64288\\\\\n",
       "\t Summer & 2014 & 331.29810 & 22.95152 & 22.95152\\\\\n",
       "\t Summer & 2017 & 398.75381 & 22.97852 & 22.97852\\\\\n",
       "\t Summer & 2016 & 482.09429 & 23.16082 & 23.16082\\\\\n",
       "\t Summer & 2018 & 327.79238 & 23.47264 & 23.47264\\\\\n",
       "\t Summer & 2015 & 246.10571 & 23.70061 & 23.70061\\\\\n",
       "\\end{tabular}\n"
      ],
      "text/markdown": [
       "\n",
       "A grouped_df: 24 × 5\n",
       "\n",
       "| season &lt;fct&gt; | year &lt;int&gt; | percipitation &lt;dbl&gt; | max_y_q_temp &lt;dbl&gt; | min_y_q_temp &lt;dbl&gt; |\n",
       "|---|---|---|---|---|\n",
       "| Winter | 2016 |  33.67429 | 17.92730 | 17.92730 |\n",
       "| Winter | 2013 |  84.11238 | 17.93779 | 17.93779 |\n",
       "| Winter | 2014 |  38.99429 | 17.97791 | 17.97791 |\n",
       "| Winter | 2017 |  36.27619 | 18.17738 | 18.17738 |\n",
       "| Winter | 2015 | 117.98857 | 18.53152 | 18.53152 |\n",
       "| Winter | 2018 |  62.59429 | 18.63865 | 18.63865 |\n",
       "| Spring | 2013 | 124.31810 | 19.37982 | 19.37982 |\n",
       "| Spring | 2014 |  61.15286 | 20.38999 | 20.38999 |\n",
       "| Spring | 2018 | 186.09714 | 20.59101 | 20.59101 |\n",
       "| Spring | 2016 | 138.82990 | 20.85304 | 20.85304 |\n",
       "| Spring | 2017 |  65.97857 | 20.98666 | 20.98666 |\n",
       "| Autumn | 2013 | 383.82095 | 21.43708 | 21.43708 |\n",
       "| Autumn | 2015 | 233.85762 | 21.70013 | 21.70013 |\n",
       "| Autumn | 2014 | 191.72143 | 22.02742 | 22.02742 |\n",
       "| Spring | 2015 | 166.35429 | 22.04498 | 22.04498 |\n",
       "| Autumn | 2017 | 145.70838 | 22.11970 | 22.11970 |\n",
       "| Autumn | 2018 | 280.28762 | 22.52113 | 22.52113 |\n",
       "| Summer | 2013 | 312.34286 | 22.56830 | 22.56830 |\n",
       "| Autumn | 2016 | 165.17714 | 22.64288 | 22.64288 |\n",
       "| Summer | 2014 | 331.29810 | 22.95152 | 22.95152 |\n",
       "| Summer | 2017 | 398.75381 | 22.97852 | 22.97852 |\n",
       "| Summer | 2016 | 482.09429 | 23.16082 | 23.16082 |\n",
       "| Summer | 2018 | 327.79238 | 23.47264 | 23.47264 |\n",
       "| Summer | 2015 | 246.10571 | 23.70061 | 23.70061 |\n",
       "\n"
      ],
      "text/plain": [
       "   season year percipitation max_y_q_temp min_y_q_temp\n",
       "1  Winter 2016  33.67429     17.92730     17.92730    \n",
       "2  Winter 2013  84.11238     17.93779     17.93779    \n",
       "3  Winter 2014  38.99429     17.97791     17.97791    \n",
       "4  Winter 2017  36.27619     18.17738     18.17738    \n",
       "5  Winter 2015 117.98857     18.53152     18.53152    \n",
       "6  Winter 2018  62.59429     18.63865     18.63865    \n",
       "7  Spring 2013 124.31810     19.37982     19.37982    \n",
       "8  Spring 2014  61.15286     20.38999     20.38999    \n",
       "9  Spring 2018 186.09714     20.59101     20.59101    \n",
       "10 Spring 2016 138.82990     20.85304     20.85304    \n",
       "11 Spring 2017  65.97857     20.98666     20.98666    \n",
       "12 Autumn 2013 383.82095     21.43708     21.43708    \n",
       "13 Autumn 2015 233.85762     21.70013     21.70013    \n",
       "14 Autumn 2014 191.72143     22.02742     22.02742    \n",
       "15 Spring 2015 166.35429     22.04498     22.04498    \n",
       "16 Autumn 2017 145.70838     22.11970     22.11970    \n",
       "17 Autumn 2018 280.28762     22.52113     22.52113    \n",
       "18 Summer 2013 312.34286     22.56830     22.56830    \n",
       "19 Autumn 2016 165.17714     22.64288     22.64288    \n",
       "20 Summer 2014 331.29810     22.95152     22.95152    \n",
       "21 Summer 2017 398.75381     22.97852     22.97852    \n",
       "22 Summer 2016 482.09429     23.16082     23.16082    \n",
       "23 Summer 2018 327.79238     23.47264     23.47264    \n",
       "24 Summer 2015 246.10571     23.70061     23.70061    "
      ]
     },
     "metadata": {},
     "output_type": "display_data"
    }
   ],
   "source": [
    "# Precipitation of Coldest Quarter BIO17\n",
    "\n",
    "data %>% group_by(season,year) %>%  summarise (percipitation = sum (monthly_precipitation),\n",
    "                                                     max_y_q_temp = max(q_temp),\n",
    "                                                     min_y_q_temp = min(q_temp))  %>% \n",
    "arrange (min_y_q_temp,year) # for the max i arranged it desc with max"
   ]
  },
  {
   "cell_type": "code",
   "execution_count": 92,
   "metadata": {},
   "outputs": [
    {
     "data": {
      "text/html": [
       "<table class=\"dataframe\">\n",
       "<caption>A data.frame: 6 × 3</caption>\n",
       "<thead>\n",
       "\t<tr><th scope=col>season</th><th scope=col>year</th><th scope=col>percipitation</th></tr>\n",
       "\t<tr><th scope=col>&lt;fct&gt;</th><th scope=col>&lt;dbl&gt;</th><th scope=col>&lt;dbl&gt;</th></tr>\n",
       "</thead>\n",
       "<tbody>\n",
       "\t<tr><td>4</td><td>2016</td><td> 33.67429</td></tr>\n",
       "\t<tr><td>4</td><td>2013</td><td> 84.11238</td></tr>\n",
       "\t<tr><td>4</td><td>2014</td><td> 38.99429</td></tr>\n",
       "\t<tr><td>4</td><td>2017</td><td> 36.27619</td></tr>\n",
       "\t<tr><td>4</td><td>2015</td><td>117.98857</td></tr>\n",
       "\t<tr><td>4</td><td>2018</td><td> 62.59429</td></tr>\n",
       "</tbody>\n",
       "</table>\n"
      ],
      "text/latex": [
       "A data.frame: 6 × 3\n",
       "\\begin{tabular}{lll}\n",
       " season & year & percipitation\\\\\n",
       " <fct> & <dbl> & <dbl>\\\\\n",
       "\\hline\n",
       "\t 4 & 2016 &  33.67429\\\\\n",
       "\t 4 & 2013 &  84.11238\\\\\n",
       "\t 4 & 2014 &  38.99429\\\\\n",
       "\t 4 & 2017 &  36.27619\\\\\n",
       "\t 4 & 2015 & 117.98857\\\\\n",
       "\t 4 & 2018 &  62.59429\\\\\n",
       "\\end{tabular}\n"
      ],
      "text/markdown": [
       "\n",
       "A data.frame: 6 × 3\n",
       "\n",
       "| season &lt;fct&gt; | year &lt;dbl&gt; | percipitation &lt;dbl&gt; |\n",
       "|---|---|---|\n",
       "| 4 | 2016 |  33.67429 |\n",
       "| 4 | 2013 |  84.11238 |\n",
       "| 4 | 2014 |  38.99429 |\n",
       "| 4 | 2017 |  36.27619 |\n",
       "| 4 | 2015 | 117.98857 |\n",
       "| 4 | 2018 |  62.59429 |\n",
       "\n"
      ],
      "text/plain": [
       "  season year percipitation\n",
       "1 4      2016  33.67429    \n",
       "2 4      2013  84.11238    \n",
       "3 4      2014  38.99429    \n",
       "4 4      2017  36.27619    \n",
       "5 4      2015 117.98857    \n",
       "6 4      2018  62.59429    "
      ]
     },
     "metadata": {},
     "output_type": "display_data"
    }
   ],
   "source": [
    "w3 <- data.frame(season=c(4,4,4,4,4,4),\n",
    "                year=c(2016,2013,2014,2017,2015,2018),\n",
    "                percipitation = c(33.67429,84.11238,38.99429,36.27619,117.98857,62.59429))\n",
    "w3$season <- factor(w3$season)\n",
    "w3"
   ]
  },
  {
   "cell_type": "code",
   "execution_count": 93,
   "metadata": {},
   "outputs": [
    {
     "data": {
      "text/html": [
       "<table class=\"dataframe\">\n",
       "<caption>A data.frame: 6 × 3</caption>\n",
       "<thead>\n",
       "\t<tr><th scope=col>season</th><th scope=col>year</th><th scope=col>percipitation_1</th></tr>\n",
       "\t<tr><th scope=col>&lt;fct&gt;</th><th scope=col>&lt;dbl&gt;</th><th scope=col>&lt;dbl&gt;</th></tr>\n",
       "</thead>\n",
       "<tbody>\n",
       "\t<tr><td>2</td><td>2015</td><td>246.1057</td></tr>\n",
       "\t<tr><td>2</td><td>2018</td><td>327.7924</td></tr>\n",
       "\t<tr><td>2</td><td>2016</td><td>482.0943</td></tr>\n",
       "\t<tr><td>2</td><td>2017</td><td>398.7538</td></tr>\n",
       "\t<tr><td>2</td><td>2014</td><td>331.2981</td></tr>\n",
       "\t<tr><td>2</td><td>2013</td><td>312.3429</td></tr>\n",
       "</tbody>\n",
       "</table>\n"
      ],
      "text/latex": [
       "A data.frame: 6 × 3\n",
       "\\begin{tabular}{lll}\n",
       " season & year & percipitation\\_1\\\\\n",
       " <fct> & <dbl> & <dbl>\\\\\n",
       "\\hline\n",
       "\t 2 & 2015 & 246.1057\\\\\n",
       "\t 2 & 2018 & 327.7924\\\\\n",
       "\t 2 & 2016 & 482.0943\\\\\n",
       "\t 2 & 2017 & 398.7538\\\\\n",
       "\t 2 & 2014 & 331.2981\\\\\n",
       "\t 2 & 2013 & 312.3429\\\\\n",
       "\\end{tabular}\n"
      ],
      "text/markdown": [
       "\n",
       "A data.frame: 6 × 3\n",
       "\n",
       "| season &lt;fct&gt; | year &lt;dbl&gt; | percipitation_1 &lt;dbl&gt; |\n",
       "|---|---|---|\n",
       "| 2 | 2015 | 246.1057 |\n",
       "| 2 | 2018 | 327.7924 |\n",
       "| 2 | 2016 | 482.0943 |\n",
       "| 2 | 2017 | 398.7538 |\n",
       "| 2 | 2014 | 331.2981 |\n",
       "| 2 | 2013 | 312.3429 |\n",
       "\n"
      ],
      "text/plain": [
       "  season year percipitation_1\n",
       "1 2      2015 246.1057       \n",
       "2 2      2018 327.7924       \n",
       "3 2      2016 482.0943       \n",
       "4 2      2017 398.7538       \n",
       "5 2      2014 331.2981       \n",
       "6 2      2013 312.3429       "
      ]
     },
     "metadata": {},
     "output_type": "display_data"
    }
   ],
   "source": [
    "# Precipitation of warmest Quarter BIO18\n",
    "\n",
    "w4 <- data.frame(season=c(2,2,2,2,2,2),\n",
    "                year=c(2015,2018,2016,2017,2014,2013),\n",
    "                percipitation_1 = c(246.10571,327.79238,482.09429,398.75381,331.29810,312.34286))\n",
    "w4$season <- factor(w4$season)\n",
    "w4"
   ]
  },
  {
   "cell_type": "code",
   "execution_count": 95,
   "metadata": {},
   "outputs": [
    {
     "name": "stderr",
     "output_type": "stream",
     "text": [
      "Warning message in merge.data.frame(x = data, y = w3, by = \"year\", all.x = TRUE):\n",
      "\"column names 'season.x', 'season.y' are duplicated in the result\"\n"
     ]
    }
   ],
   "source": [
    "# insert the new variable into the data \n",
    "data <-merge(x=data,y=w3,by=\"year\",all.x=TRUE)"
   ]
  },
  {
   "cell_type": "code",
   "execution_count": 96,
   "metadata": {},
   "outputs": [
    {
     "name": "stderr",
     "output_type": "stream",
     "text": [
      "Warning message in merge.data.frame(x = data, y = w4, by = \"year\", all.x = TRUE):\n",
      "\"column names 'season.x', 'season.y', 'season.x', 'season.y' are duplicated in the result\"\n"
     ]
    }
   ],
   "source": [
    "# insert the new variable into the data \n",
    "final_data <-merge(x=data,y=w4,by=\"year\",all.x=TRUE)"
   ]
  },
  {
   "cell_type": "code",
   "execution_count": 45,
   "metadata": {},
   "outputs": [
    {
     "data": {
      "text/html": [
       "<table class=\"dataframe\">\n",
       "<caption>A tibble: 6 × 2</caption>\n",
       "<thead>\n",
       "\t<tr><th scope=col>year</th><th scope=col>ann_precipitation</th></tr>\n",
       "\t<tr><th scope=col>&lt;int&gt;</th><th scope=col>&lt;dbl&gt;</th></tr>\n",
       "</thead>\n",
       "<tbody>\n",
       "\t<tr><td>2013</td><td>206.9941</td></tr>\n",
       "\t<tr><td>2014</td><td>148.0960</td></tr>\n",
       "\t<tr><td>2015</td><td>182.4176</td></tr>\n",
       "\t<tr><td>2016</td><td>192.3689</td></tr>\n",
       "\t<tr><td>2017</td><td>144.6954</td></tr>\n",
       "\t<tr><td>2018</td><td>202.8543</td></tr>\n",
       "</tbody>\n",
       "</table>\n"
      ],
      "text/latex": [
       "A tibble: 6 × 2\n",
       "\\begin{tabular}{ll}\n",
       " year & ann\\_precipitation\\\\\n",
       " <int> & <dbl>\\\\\n",
       "\\hline\n",
       "\t 2013 & 206.9941\\\\\n",
       "\t 2014 & 148.0960\\\\\n",
       "\t 2015 & 182.4176\\\\\n",
       "\t 2016 & 192.3689\\\\\n",
       "\t 2017 & 144.6954\\\\\n",
       "\t 2018 & 202.8543\\\\\n",
       "\\end{tabular}\n"
      ],
      "text/markdown": [
       "\n",
       "A tibble: 6 × 2\n",
       "\n",
       "| year &lt;int&gt; | ann_precipitation &lt;dbl&gt; |\n",
       "|---|---|\n",
       "| 2013 | 206.9941 |\n",
       "| 2014 | 148.0960 |\n",
       "| 2015 | 182.4176 |\n",
       "| 2016 | 192.3689 |\n",
       "| 2017 | 144.6954 |\n",
       "| 2018 | 202.8543 |\n",
       "\n"
      ],
      "text/plain": [
       "  year ann_precipitation\n",
       "1 2013 206.9941         \n",
       "2 2014 148.0960         \n",
       "3 2015 182.4176         \n",
       "4 2016 192.3689         \n",
       "5 2017 144.6954         \n",
       "6 2018 202.8543         "
      ]
     },
     "metadata": {},
     "output_type": "display_data"
    }
   ],
   "source": [
    "#annual precipitation BIO12\n",
    "ann_precipitation <- data %>%  group_by(year) %>% summarise(ann_precipitation = sum(wk_avg_precipitation))\n",
    "ann_precipitation"
   ]
  },
  {
   "cell_type": "code",
   "execution_count": 47,
   "metadata": {},
   "outputs": [
    {
     "name": "stderr",
     "output_type": "stream",
     "text": [
      "Joining, by = \"year\"\n",
      "\n"
     ]
    }
   ],
   "source": [
    "data<- data %>% left_join(ann_precipitation)"
   ]
  },
  {
   "cell_type": "markdown",
   "metadata": {},
   "source": [
    "### Now for the seasonality parameters"
   ]
  },
  {
   "cell_type": "code",
   "execution_count": 119,
   "metadata": {},
   "outputs": [],
   "source": [
    "temp.ts <- ts(final_data$wk_avg_tm, frequency = 12)"
   ]
  },
  {
   "cell_type": "code",
   "execution_count": 120,
   "metadata": {},
   "outputs": [
    {
     "data": {
      "image/png": "[encoded data removed]",
      "text/plain": [
       "plot without title"
      ]
     },
     "metadata": {
      "image/png": {
       "height": 360,
       "width": 360
      }
     },
     "output_type": "display_data"
    }
   ],
   "source": [
    "plot(decompose(temp.ts))"
   ]
  },
  {
   "cell_type": "code",
   "execution_count": 121,
   "metadata": {},
   "outputs": [],
   "source": [
    "temp.dec <- decompose(temp.ts)"
   ]
  },
  {
   "cell_type": "code",
   "execution_count": 122,
   "metadata": {},
   "outputs": [
    {
     "data": {
      "text/html": [
       "<table class=\"dataframe\">\n",
       "<caption>A Time Series: 26 × 12</caption>\n",
       "<thead>\n",
       "\t<tr><th></th><th scope=col>Jan</th><th scope=col>Feb</th><th scope=col>Mar</th><th scope=col>Apr</th><th scope=col>May</th><th scope=col>Jun</th><th scope=col>Jul</th><th scope=col>Aug</th><th scope=col>Sep</th><th scope=col>Oct</th><th scope=col>Nov</th><th scope=col>Dec</th></tr>\n",
       "</thead>\n",
       "<tbody>\n",
       "\t<tr><th scope=row>1</th><td>-0.49459169</td><td>-0.21632337</td><td> 0.09530241</td><td>-0.50451651</td><td> 0.04294758</td><td>-0.10437281</td><td> 0.11792376</td><td> 0.02088069</td><td> 0.52287297</td><td> 0.96366717</td><td> 0.06193732</td><td>-0.50572750</td></tr>\n",
       "\t<tr><th scope=row>2</th><td>-0.49459169</td><td>-0.21632337</td><td> 0.09530241</td><td>-0.50451651</td><td> 0.04294758</td><td>-0.10437281</td><td> 0.11792376</td><td> 0.02088069</td><td> 0.52287297</td><td> 0.96366717</td><td> 0.06193732</td><td>-0.50572750</td></tr>\n",
       "\t<tr><th scope=row>3</th><td>-0.49459169</td><td>-0.21632337</td><td> 0.09530241</td><td>-0.50451651</td><td> 0.04294758</td><td>-0.10437281</td><td> 0.11792376</td><td> 0.02088069</td><td> 0.52287297</td><td> 0.96366717</td><td> 0.06193732</td><td>-0.50572750</td></tr>\n",
       "\t<tr><th scope=row>4</th><td>-0.49459169</td><td>-0.21632337</td><td> 0.09530241</td><td>-0.50451651</td><td> 0.04294758</td><td>-0.10437281</td><td> 0.11792376</td><td> 0.02088069</td><td> 0.52287297</td><td> 0.96366717</td><td> 0.06193732</td><td>-0.50572750</td></tr>\n",
       "\t<tr><th scope=row>5</th><td>-0.49459169</td><td>-0.21632337</td><td> 0.09530241</td><td>-0.50451651</td><td> 0.04294758</td><td>-0.10437281</td><td> 0.11792376</td><td> 0.02088069</td><td> 0.52287297</td><td> 0.96366717</td><td> 0.06193732</td><td>-0.50572750</td></tr>\n",
       "\t<tr><th scope=row>6</th><td>-0.49459169</td><td>-0.21632337</td><td> 0.09530241</td><td>-0.50451651</td><td> 0.04294758</td><td>-0.10437281</td><td> 0.11792376</td><td> 0.02088069</td><td> 0.52287297</td><td> 0.96366717</td><td> 0.06193732</td><td>-0.50572750</td></tr>\n",
       "\t<tr><th scope=row>7</th><td>-0.49459169</td><td>-0.21632337</td><td> 0.09530241</td><td>-0.50451651</td><td> 0.04294758</td><td>-0.10437281</td><td> 0.11792376</td><td> 0.02088069</td><td> 0.52287297</td><td> 0.96366717</td><td> 0.06193732</td><td>-0.50572750</td></tr>\n",
       "\t<tr><th scope=row>8</th><td>-0.49459169</td><td>-0.21632337</td><td> 0.09530241</td><td>-0.50451651</td><td> 0.04294758</td><td>-0.10437281</td><td> 0.11792376</td><td> 0.02088069</td><td> 0.52287297</td><td> 0.96366717</td><td> 0.06193732</td><td>-0.50572750</td></tr>\n",
       "\t<tr><th scope=row>9</th><td>-0.49459169</td><td>-0.21632337</td><td> 0.09530241</td><td>-0.50451651</td><td> 0.04294758</td><td>-0.10437281</td><td> 0.11792376</td><td> 0.02088069</td><td> 0.52287297</td><td> 0.96366717</td><td> 0.06193732</td><td>-0.50572750</td></tr>\n",
       "\t<tr><th scope=row>10</th><td>-0.49459169</td><td>-0.21632337</td><td> 0.09530241</td><td>-0.50451651</td><td> 0.04294758</td><td>-0.10437281</td><td> 0.11792376</td><td> 0.02088069</td><td> 0.52287297</td><td> 0.96366717</td><td> 0.06193732</td><td>-0.50572750</td></tr>\n",
       "\t<tr><th scope=row>11</th><td>-0.49459169</td><td>-0.21632337</td><td> 0.09530241</td><td>-0.50451651</td><td> 0.04294758</td><td>-0.10437281</td><td> 0.11792376</td><td> 0.02088069</td><td> 0.52287297</td><td> 0.96366717</td><td> 0.06193732</td><td>-0.50572750</td></tr>\n",
       "\t<tr><th scope=row>12</th><td>-0.49459169</td><td>-0.21632337</td><td> 0.09530241</td><td>-0.50451651</td><td> 0.04294758</td><td>-0.10437281</td><td> 0.11792376</td><td> 0.02088069</td><td> 0.52287297</td><td> 0.96366717</td><td> 0.06193732</td><td>-0.50572750</td></tr>\n",
       "\t<tr><th scope=row>13</th><td>-0.49459169</td><td>-0.21632337</td><td> 0.09530241</td><td>-0.50451651</td><td> 0.04294758</td><td>-0.10437281</td><td> 0.11792376</td><td> 0.02088069</td><td> 0.52287297</td><td> 0.96366717</td><td> 0.06193732</td><td>-0.50572750</td></tr>\n",
       "\t<tr><th scope=row>14</th><td>-0.49459169</td><td>-0.21632337</td><td> 0.09530241</td><td>-0.50451651</td><td> 0.04294758</td><td>-0.10437281</td><td> 0.11792376</td><td> 0.02088069</td><td> 0.52287297</td><td> 0.96366717</td><td> 0.06193732</td><td>-0.50572750</td></tr>\n",
       "\t<tr><th scope=row>15</th><td>-0.49459169</td><td>-0.21632337</td><td> 0.09530241</td><td>-0.50451651</td><td> 0.04294758</td><td>-0.10437281</td><td> 0.11792376</td><td> 0.02088069</td><td> 0.52287297</td><td> 0.96366717</td><td> 0.06193732</td><td>-0.50572750</td></tr>\n",
       "\t<tr><th scope=row>16</th><td>-0.49459169</td><td>-0.21632337</td><td> 0.09530241</td><td>-0.50451651</td><td> 0.04294758</td><td>-0.10437281</td><td> 0.11792376</td><td> 0.02088069</td><td> 0.52287297</td><td> 0.96366717</td><td> 0.06193732</td><td>-0.50572750</td></tr>\n",
       "\t<tr><th scope=row>17</th><td>-0.49459169</td><td>-0.21632337</td><td> 0.09530241</td><td>-0.50451651</td><td> 0.04294758</td><td>-0.10437281</td><td> 0.11792376</td><td> 0.02088069</td><td> 0.52287297</td><td> 0.96366717</td><td> 0.06193732</td><td>-0.50572750</td></tr>\n",
       "\t<tr><th scope=row>18</th><td>-0.49459169</td><td>-0.21632337</td><td> 0.09530241</td><td>-0.50451651</td><td> 0.04294758</td><td>-0.10437281</td><td> 0.11792376</td><td> 0.02088069</td><td> 0.52287297</td><td> 0.96366717</td><td> 0.06193732</td><td>-0.50572750</td></tr>\n",
       "\t<tr><th scope=row>19</th><td>-0.49459169</td><td>-0.21632337</td><td> 0.09530241</td><td>-0.50451651</td><td> 0.04294758</td><td>-0.10437281</td><td> 0.11792376</td><td> 0.02088069</td><td> 0.52287297</td><td> 0.96366717</td><td> 0.06193732</td><td>-0.50572750</td></tr>\n",
       "\t<tr><th scope=row>20</th><td>-0.49459169</td><td>-0.21632337</td><td> 0.09530241</td><td>-0.50451651</td><td> 0.04294758</td><td>-0.10437281</td><td> 0.11792376</td><td> 0.02088069</td><td> 0.52287297</td><td> 0.96366717</td><td> 0.06193732</td><td>-0.50572750</td></tr>\n",
       "\t<tr><th scope=row>21</th><td>-0.49459169</td><td>-0.21632337</td><td> 0.09530241</td><td>-0.50451651</td><td> 0.04294758</td><td>-0.10437281</td><td> 0.11792376</td><td> 0.02088069</td><td> 0.52287297</td><td> 0.96366717</td><td> 0.06193732</td><td>-0.50572750</td></tr>\n",
       "\t<tr><th scope=row>22</th><td>-0.49459169</td><td>-0.21632337</td><td> 0.09530241</td><td>-0.50451651</td><td> 0.04294758</td><td>-0.10437281</td><td> 0.11792376</td><td> 0.02088069</td><td> 0.52287297</td><td> 0.96366717</td><td> 0.06193732</td><td>-0.50572750</td></tr>\n",
       "\t<tr><th scope=row>23</th><td>-0.49459169</td><td>-0.21632337</td><td> 0.09530241</td><td>-0.50451651</td><td> 0.04294758</td><td>-0.10437281</td><td> 0.11792376</td><td> 0.02088069</td><td> 0.52287297</td><td> 0.96366717</td><td> 0.06193732</td><td>-0.50572750</td></tr>\n",
       "\t<tr><th scope=row>24</th><td>-0.49459169</td><td>-0.21632337</td><td> 0.09530241</td><td>-0.50451651</td><td> 0.04294758</td><td>-0.10437281</td><td> 0.11792376</td><td> 0.02088069</td><td> 0.52287297</td><td> 0.96366717</td><td> 0.06193732</td><td>-0.50572750</td></tr>\n",
       "\t<tr><th scope=row>25</th><td>-0.49459169</td><td>-0.21632337</td><td> 0.09530241</td><td>-0.50451651</td><td> 0.04294758</td><td>-0.10437281</td><td> 0.11792376</td><td> 0.02088069</td><td> 0.52287297</td><td> 0.96366717</td><td> 0.06193732</td><td>-0.50572750</td></tr>\n",
       "\t<tr><th scope=row>26</th><td>-0.49459169</td><td>-0.21632337</td><td> 0.09530241</td><td>-0.50451651</td><td> 0.04294758</td><td>-0.10437281</td><td> 0.11792376</td><td> 0.02088069</td><td> 0.52287297</td><td> 0.96366717</td><td>           </td><td>           </td></tr>\n",
       "</tbody>\n",
       "</table>\n"
      ],
      "text/latex": [
       "A Time Series: 26 × 12\n",
       "\\begin{tabular}{r|llllllllllll}\n",
       "  & Jan & Feb & Mar & Apr & May & Jun & Jul & Aug & Sep & Oct & Nov & Dec\\\\\n",
       "\\hline\n",
       "\t1 & -0.49459169 & -0.21632337 &  0.09530241 & -0.50451651 &  0.04294758 & -0.10437281 &  0.11792376 &  0.02088069 &  0.52287297 &  0.96366717 &  0.06193732 & -0.50572750\\\\\n",
       "\t2 & -0.49459169 & -0.21632337 &  0.09530241 & -0.50451651 &  0.04294758 & -0.10437281 &  0.11792376 &  0.02088069 &  0.52287297 &  0.96366717 &  0.06193732 & -0.50572750\\\\\n",
       "\t3 & -0.49459169 & -0.21632337 &  0.09530241 & -0.50451651 &  0.04294758 & -0.10437281 &  0.11792376 &  0.02088069 &  0.52287297 &  0.96366717 &  0.06193732 & -0.50572750\\\\\n",
       "\t4 & -0.49459169 & -0.21632337 &  0.09530241 & -0.50451651 &  0.04294758 & -0.10437281 &  0.11792376 &  0.02088069 &  0.52287297 &  0.96366717 &  0.06193732 & -0.50572750\\\\\n",
       "\t5 & -0.49459169 & -0.21632337 &  0.09530241 & -0.50451651 &  0.04294758 & -0.10437281 &  0.11792376 &  0.02088069 &  0.52287297 &  0.96366717 &  0.06193732 & -0.50572750\\\\\n",
       "\t6 & -0.49459169 & -0.21632337 &  0.09530241 & -0.50451651 &  0.04294758 & -0.10437281 &  0.11792376 &  0.02088069 &  0.52287297 &  0.96366717 &  0.06193732 & -0.50572750\\\\\n",
       "\t7 & -0.49459169 & -0.21632337 &  0.09530241 & -0.50451651 &  0.04294758 & -0.10437281 &  0.11792376 &  0.02088069 &  0.52287297 &  0.96366717 &  0.06193732 & -0.50572750\\\\\n",
       "\t8 & -0.49459169 & -0.21632337 &  0.09530241 & -0.50451651 &  0.04294758 & -0.10437281 &  0.11792376 &  0.02088069 &  0.52287297 &  0.96366717 &  0.06193732 & -0.50572750\\\\\n",
       "\t9 & -0.49459169 & -0.21632337 &  0.09530241 & -0.50451651 &  0.04294758 & -0.10437281 &  0.11792376 &  0.02088069 &  0.52287297 &  0.96366717 &  0.06193732 & -0.50572750\\\\\n",
       "\t10 & -0.49459169 & -0.21632337 &  0.09530241 & -0.50451651 &  0.04294758 & -0.10437281 &  0.11792376 &  0.02088069 &  0.52287297 &  0.96366717 &  0.06193732 & -0.50572750\\\\\n",
       "\t11 & -0.49459169 & -0.21632337 &  0.09530241 & -0.50451651 &  0.04294758 & -0.10437281 &  0.11792376 &  0.02088069 &  0.52287297 &  0.96366717 &  0.06193732 & -0.50572750\\\\\n",
       "\t12 & -0.49459169 & -0.21632337 &  0.09530241 & -0.50451651 &  0.04294758 & -0.10437281 &  0.11792376 &  0.02088069 &  0.52287297 &  0.96366717 &  0.06193732 & -0.50572750\\\\\n",
       "\t13 & -0.49459169 & -0.21632337 &  0.09530241 & -0.50451651 &  0.04294758 & -0.10437281 &  0.11792376 &  0.02088069 &  0.52287297 &  0.96366717 &  0.06193732 & -0.50572750\\\\\n",
       "\t14 & -0.49459169 & -0.21632337 &  0.09530241 & -0.50451651 &  0.04294758 & -0.10437281 &  0.11792376 &  0.02088069 &  0.52287297 &  0.96366717 &  0.06193732 & -0.50572750\\\\\n",
       "\t15 & -0.49459169 & -0.21632337 &  0.09530241 & -0.50451651 &  0.04294758 & -0.10437281 &  0.11792376 &  0.02088069 &  0.52287297 &  0.96366717 &  0.06193732 & -0.50572750\\\\\n",
       "\t16 & -0.49459169 & -0.21632337 &  0.09530241 & -0.50451651 &  0.04294758 & -0.10437281 &  0.11792376 &  0.02088069 &  0.52287297 &  0.96366717 &  0.06193732 & -0.50572750\\\\\n",
       "\t17 & -0.49459169 & -0.21632337 &  0.09530241 & -0.50451651 &  0.04294758 & -0.10437281 &  0.11792376 &  0.02088069 &  0.52287297 &  0.96366717 &  0.06193732 & -0.50572750\\\\\n",
       "\t18 & -0.49459169 & -0.21632337 &  0.09530241 & -0.50451651 &  0.04294758 & -0.10437281 &  0.11792376 &  0.02088069 &  0.52287297 &  0.96366717 &  0.06193732 & -0.50572750\\\\\n",
       "\t19 & -0.49459169 & -0.21632337 &  0.09530241 & -0.50451651 &  0.04294758 & -0.10437281 &  0.11792376 &  0.02088069 &  0.52287297 &  0.96366717 &  0.06193732 & -0.50572750\\\\\n",
       "\t20 & -0.49459169 & -0.21632337 &  0.09530241 & -0.50451651 &  0.04294758 & -0.10437281 &  0.11792376 &  0.02088069 &  0.52287297 &  0.96366717 &  0.06193732 & -0.50572750\\\\\n",
       "\t21 & -0.49459169 & -0.21632337 &  0.09530241 & -0.50451651 &  0.04294758 & -0.10437281 &  0.11792376 &  0.02088069 &  0.52287297 &  0.96366717 &  0.06193732 & -0.50572750\\\\\n",
       "\t22 & -0.49459169 & -0.21632337 &  0.09530241 & -0.50451651 &  0.04294758 & -0.10437281 &  0.11792376 &  0.02088069 &  0.52287297 &  0.96366717 &  0.06193732 & -0.50572750\\\\\n",
       "\t23 & -0.49459169 & -0.21632337 &  0.09530241 & -0.50451651 &  0.04294758 & -0.10437281 &  0.11792376 &  0.02088069 &  0.52287297 &  0.96366717 &  0.06193732 & -0.50572750\\\\\n",
       "\t24 & -0.49459169 & -0.21632337 &  0.09530241 & -0.50451651 &  0.04294758 & -0.10437281 &  0.11792376 &  0.02088069 &  0.52287297 &  0.96366717 &  0.06193732 & -0.50572750\\\\\n",
       "\t25 & -0.49459169 & -0.21632337 &  0.09530241 & -0.50451651 &  0.04294758 & -0.10437281 &  0.11792376 &  0.02088069 &  0.52287297 &  0.96366717 &  0.06193732 & -0.50572750\\\\\n",
       "\t26 & -0.49459169 & -0.21632337 &  0.09530241 & -0.50451651 &  0.04294758 & -0.10437281 &  0.11792376 &  0.02088069 &  0.52287297 &  0.96366717 &             &            \\\\\n",
       "\\end{tabular}\n"
      ],
      "text/markdown": [
       "\n",
       "A Time Series: 26 × 12\n",
       "\n",
       "| <!--/--> | Jan | Feb | Mar | Apr | May | Jun | Jul | Aug | Sep | Oct | Nov | Dec |\n",
       "|---|---|---|---|---|---|---|---|---|---|---|---|---|\n",
       "| 1 | -0.49459169 | -0.21632337 |  0.09530241 | -0.50451651 |  0.04294758 | -0.10437281 |  0.11792376 |  0.02088069 |  0.52287297 |  0.96366717 |  0.06193732 | -0.50572750 |\n",
       "| 2 | -0.49459169 | -0.21632337 |  0.09530241 | -0.50451651 |  0.04294758 | -0.10437281 |  0.11792376 |  0.02088069 |  0.52287297 |  0.96366717 |  0.06193732 | -0.50572750 |\n",
       "| 3 | -0.49459169 | -0.21632337 |  0.09530241 | -0.50451651 |  0.04294758 | -0.10437281 |  0.11792376 |  0.02088069 |  0.52287297 |  0.96366717 |  0.06193732 | -0.50572750 |\n",
       "| 4 | -0.49459169 | -0.21632337 |  0.09530241 | -0.50451651 |  0.04294758 | -0.10437281 |  0.11792376 |  0.02088069 |  0.52287297 |  0.96366717 |  0.06193732 | -0.50572750 |\n",
       "| 5 | -0.49459169 | -0.21632337 |  0.09530241 | -0.50451651 |  0.04294758 | -0.10437281 |  0.11792376 |  0.02088069 |  0.52287297 |  0.96366717 |  0.06193732 | -0.50572750 |\n",
       "| 6 | -0.49459169 | -0.21632337 |  0.09530241 | -0.50451651 |  0.04294758 | -0.10437281 |  0.11792376 |  0.02088069 |  0.52287297 |  0.96366717 |  0.06193732 | -0.50572750 |\n",
       "| 7 | -0.49459169 | -0.21632337 |  0.09530241 | -0.50451651 |  0.04294758 | -0.10437281 |  0.11792376 |  0.02088069 |  0.52287297 |  0.96366717 |  0.06193732 | -0.50572750 |\n",
       "| 8 | -0.49459169 | -0.21632337 |  0.09530241 | -0.50451651 |  0.04294758 | -0.10437281 |  0.11792376 |  0.02088069 |  0.52287297 |  0.96366717 |  0.06193732 | -0.50572750 |\n",
       "| 9 | -0.49459169 | -0.21632337 |  0.09530241 | -0.50451651 |  0.04294758 | -0.10437281 |  0.11792376 |  0.02088069 |  0.52287297 |  0.96366717 |  0.06193732 | -0.50572750 |\n",
       "| 10 | -0.49459169 | -0.21632337 |  0.09530241 | -0.50451651 |  0.04294758 | -0.10437281 |  0.11792376 |  0.02088069 |  0.52287297 |  0.96366717 |  0.06193732 | -0.50572750 |\n",
       "| 11 | -0.49459169 | -0.21632337 |  0.09530241 | -0.50451651 |  0.04294758 | -0.10437281 |  0.11792376 |  0.02088069 |  0.52287297 |  0.96366717 |  0.06193732 | -0.50572750 |\n",
       "| 12 | -0.49459169 | -0.21632337 |  0.09530241 | -0.50451651 |  0.04294758 | -0.10437281 |  0.11792376 |  0.02088069 |  0.52287297 |  0.96366717 |  0.06193732 | -0.50572750 |\n",
       "| 13 | -0.49459169 | -0.21632337 |  0.09530241 | -0.50451651 |  0.04294758 | -0.10437281 |  0.11792376 |  0.02088069 |  0.52287297 |  0.96366717 |  0.06193732 | -0.50572750 |\n",
       "| 14 | -0.49459169 | -0.21632337 |  0.09530241 | -0.50451651 |  0.04294758 | -0.10437281 |  0.11792376 |  0.02088069 |  0.52287297 |  0.96366717 |  0.06193732 | -0.50572750 |\n",
       "| 15 | -0.49459169 | -0.21632337 |  0.09530241 | -0.50451651 |  0.04294758 | -0.10437281 |  0.11792376 |  0.02088069 |  0.52287297 |  0.96366717 |  0.06193732 | -0.50572750 |\n",
       "| 16 | -0.49459169 | -0.21632337 |  0.09530241 | -0.50451651 |  0.04294758 | -0.10437281 |  0.11792376 |  0.02088069 |  0.52287297 |  0.96366717 |  0.06193732 | -0.50572750 |\n",
       "| 17 | -0.49459169 | -0.21632337 |  0.09530241 | -0.50451651 |  0.04294758 | -0.10437281 |  0.11792376 |  0.02088069 |  0.52287297 |  0.96366717 |  0.06193732 | -0.50572750 |\n",
       "| 18 | -0.49459169 | -0.21632337 |  0.09530241 | -0.50451651 |  0.04294758 | -0.10437281 |  0.11792376 |  0.02088069 |  0.52287297 |  0.96366717 |  0.06193732 | -0.50572750 |\n",
       "| 19 | -0.49459169 | -0.21632337 |  0.09530241 | -0.50451651 |  0.04294758 | -0.10437281 |  0.11792376 |  0.02088069 |  0.52287297 |  0.96366717 |  0.06193732 | -0.50572750 |\n",
       "| 20 | -0.49459169 | -0.21632337 |  0.09530241 | -0.50451651 |  0.04294758 | -0.10437281 |  0.11792376 |  0.02088069 |  0.52287297 |  0.96366717 |  0.06193732 | -0.50572750 |\n",
       "| 21 | -0.49459169 | -0.21632337 |  0.09530241 | -0.50451651 |  0.04294758 | -0.10437281 |  0.11792376 |  0.02088069 |  0.52287297 |  0.96366717 |  0.06193732 | -0.50572750 |\n",
       "| 22 | -0.49459169 | -0.21632337 |  0.09530241 | -0.50451651 |  0.04294758 | -0.10437281 |  0.11792376 |  0.02088069 |  0.52287297 |  0.96366717 |  0.06193732 | -0.50572750 |\n",
       "| 23 | -0.49459169 | -0.21632337 |  0.09530241 | -0.50451651 |  0.04294758 | -0.10437281 |  0.11792376 |  0.02088069 |  0.52287297 |  0.96366717 |  0.06193732 | -0.50572750 |\n",
       "| 24 | -0.49459169 | -0.21632337 |  0.09530241 | -0.50451651 |  0.04294758 | -0.10437281 |  0.11792376 |  0.02088069 |  0.52287297 |  0.96366717 |  0.06193732 | -0.50572750 |\n",
       "| 25 | -0.49459169 | -0.21632337 |  0.09530241 | -0.50451651 |  0.04294758 | -0.10437281 |  0.11792376 |  0.02088069 |  0.52287297 |  0.96366717 |  0.06193732 | -0.50572750 |\n",
       "| 26 | -0.49459169 | -0.21632337 |  0.09530241 | -0.50451651 |  0.04294758 | -0.10437281 |  0.11792376 |  0.02088069 |  0.52287297 |  0.96366717 | <!----> | <!----> |\n",
       "\n"
      ],
      "text/plain": [
       "   Jan         Feb         Mar         Apr         May         Jun        \n",
       "1  -0.49459169 -0.21632337  0.09530241 -0.50451651  0.04294758 -0.10437281\n",
       "2  -0.49459169 -0.21632337  0.09530241 -0.50451651  0.04294758 -0.10437281\n",
       "3  -0.49459169 -0.21632337  0.09530241 -0.50451651  0.04294758 -0.10437281\n",
       "4  -0.49459169 -0.21632337  0.09530241 -0.50451651  0.04294758 -0.10437281\n",
       "5  -0.49459169 -0.21632337  0.09530241 -0.50451651  0.04294758 -0.10437281\n",
       "6  -0.49459169 -0.21632337  0.09530241 -0.50451651  0.04294758 -0.10437281\n",
       "7  -0.49459169 -0.21632337  0.09530241 -0.50451651  0.04294758 -0.10437281\n",
       "8  -0.49459169 -0.21632337  0.09530241 -0.50451651  0.04294758 -0.10437281\n",
       "9  -0.49459169 -0.21632337  0.09530241 -0.50451651  0.04294758 -0.10437281\n",
       "10 -0.49459169 -0.21632337  0.09530241 -0.50451651  0.04294758 -0.10437281\n",
       "11 -0.49459169 -0.21632337  0.09530241 -0.50451651  0.04294758 -0.10437281\n",
       "12 -0.49459169 -0.21632337  0.09530241 -0.50451651  0.04294758 -0.10437281\n",
       "13 -0.49459169 -0.21632337  0.09530241 -0.50451651  0.04294758 -0.10437281\n",
       "14 -0.49459169 -0.21632337  0.09530241 -0.50451651  0.04294758 -0.10437281\n",
       "15 -0.49459169 -0.21632337  0.09530241 -0.50451651  0.04294758 -0.10437281\n",
       "16 -0.49459169 -0.21632337  0.09530241 -0.50451651  0.04294758 -0.10437281\n",
       "17 -0.49459169 -0.21632337  0.09530241 -0.50451651  0.04294758 -0.10437281\n",
       "18 -0.49459169 -0.21632337  0.09530241 -0.50451651  0.04294758 -0.10437281\n",
       "19 -0.49459169 -0.21632337  0.09530241 -0.50451651  0.04294758 -0.10437281\n",
       "20 -0.49459169 -0.21632337  0.09530241 -0.50451651  0.04294758 -0.10437281\n",
       "21 -0.49459169 -0.21632337  0.09530241 -0.50451651  0.04294758 -0.10437281\n",
       "22 -0.49459169 -0.21632337  0.09530241 -0.50451651  0.04294758 -0.10437281\n",
       "23 -0.49459169 -0.21632337  0.09530241 -0.50451651  0.04294758 -0.10437281\n",
       "24 -0.49459169 -0.21632337  0.09530241 -0.50451651  0.04294758 -0.10437281\n",
       "25 -0.49459169 -0.21632337  0.09530241 -0.50451651  0.04294758 -0.10437281\n",
       "26 -0.49459169 -0.21632337  0.09530241 -0.50451651  0.04294758 -0.10437281\n",
       "   Jul         Aug         Sep         Oct         Nov         Dec        \n",
       "1   0.11792376  0.02088069  0.52287297  0.96366717  0.06193732 -0.50572750\n",
       "2   0.11792376  0.02088069  0.52287297  0.96366717  0.06193732 -0.50572750\n",
       "3   0.11792376  0.02088069  0.52287297  0.96366717  0.06193732 -0.50572750\n",
       "4   0.11792376  0.02088069  0.52287297  0.96366717  0.06193732 -0.50572750\n",
       "5   0.11792376  0.02088069  0.52287297  0.96366717  0.06193732 -0.50572750\n",
       "6   0.11792376  0.02088069  0.52287297  0.96366717  0.06193732 -0.50572750\n",
       "7   0.11792376  0.02088069  0.52287297  0.96366717  0.06193732 -0.50572750\n",
       "8   0.11792376  0.02088069  0.52287297  0.96366717  0.06193732 -0.50572750\n",
       "9   0.11792376  0.02088069  0.52287297  0.96366717  0.06193732 -0.50572750\n",
       "10  0.11792376  0.02088069  0.52287297  0.96366717  0.06193732 -0.50572750\n",
       "11  0.11792376  0.02088069  0.52287297  0.96366717  0.06193732 -0.50572750\n",
       "12  0.11792376  0.02088069  0.52287297  0.96366717  0.06193732 -0.50572750\n",
       "13  0.11792376  0.02088069  0.52287297  0.96366717  0.06193732 -0.50572750\n",
       "14  0.11792376  0.02088069  0.52287297  0.96366717  0.06193732 -0.50572750\n",
       "15  0.11792376  0.02088069  0.52287297  0.96366717  0.06193732 -0.50572750\n",
       "16  0.11792376  0.02088069  0.52287297  0.96366717  0.06193732 -0.50572750\n",
       "17  0.11792376  0.02088069  0.52287297  0.96366717  0.06193732 -0.50572750\n",
       "18  0.11792376  0.02088069  0.52287297  0.96366717  0.06193732 -0.50572750\n",
       "19  0.11792376  0.02088069  0.52287297  0.96366717  0.06193732 -0.50572750\n",
       "20  0.11792376  0.02088069  0.52287297  0.96366717  0.06193732 -0.50572750\n",
       "21  0.11792376  0.02088069  0.52287297  0.96366717  0.06193732 -0.50572750\n",
       "22  0.11792376  0.02088069  0.52287297  0.96366717  0.06193732 -0.50572750\n",
       "23  0.11792376  0.02088069  0.52287297  0.96366717  0.06193732 -0.50572750\n",
       "24  0.11792376  0.02088069  0.52287297  0.96366717  0.06193732 -0.50572750\n",
       "25  0.11792376  0.02088069  0.52287297  0.96366717  0.06193732 -0.50572750\n",
       "26  0.11792376  0.02088069  0.52287297  0.96366717                        "
      ]
     },
     "metadata": {},
     "output_type": "display_data"
    }
   ],
   "source": [
    "temp.dec$seasonal"
   ]
  },
  {
   "cell_type": "code",
   "execution_count": 123,
   "metadata": {},
   "outputs": [
    {
     "name": "stderr",
     "output_type": "stream",
     "text": [
      "Joining, by = \"month\"\n",
      "\n"
     ]
    }
   ],
   "source": [
    "# Temperature Seasonality (CV) BIO04\n",
    "x<- data.frame(seasonality= c(0.164890763,-0.116858324,-0.017273947,-0.606672983,0.021871199,0.051850374,-0.006277196,0.149770657,0.386283648,-0.073142891,-0.089660641,0.135219341)\n",
    "               ,month=c(1,2,3,4,5,6,7,8,9,10,11,12))\n",
    "data<- data %>% left_join(x) \n"
   ]
  },
  {
   "cell_type": "code",
   "execution_count": 124,
   "metadata": {},
   "outputs": [],
   "source": [
    "#Precipitation Seasonality\n",
    "per.ts <- ts(final_data$monthly_precipitation, frequency = 12)"
   ]
  },
  {
   "cell_type": "code",
   "execution_count": 125,
   "metadata": {},
   "outputs": [
    {
     "data": {
      "image/png": "[encoded data removed]",
      "text/plain": [
       "plot without title"
      ]
     },
     "metadata": {
      "image/png": {
       "height": 360,
       "width": 360
      }
     },
     "output_type": "display_data"
    }
   ],
   "source": [
    "plot(decompose(per.ts))"
   ]
  },
  {
   "cell_type": "code",
   "execution_count": 126,
   "metadata": {},
   "outputs": [],
   "source": [
    "per.dec <- decompose(per.ts)"
   ]
  },
  {
   "cell_type": "code",
   "execution_count": 127,
   "metadata": {},
   "outputs": [
    {
     "data": {
      "text/html": [
       "<table class=\"dataframe\">\n",
       "<caption>A Time Series: 26 × 12</caption>\n",
       "<thead>\n",
       "\t<tr><th></th><th scope=col>Jan</th><th scope=col>Feb</th><th scope=col>Mar</th><th scope=col>Apr</th><th scope=col>May</th><th scope=col>Jun</th><th scope=col>Jul</th><th scope=col>Aug</th><th scope=col>Sep</th><th scope=col>Oct</th><th scope=col>Nov</th><th scope=col>Dec</th></tr>\n",
       "</thead>\n",
       "<tbody>\n",
       "\t<tr><th scope=row>1</th><td>-1.7535956</td><td> 0.1164635</td><td>-2.3391689</td><td>-2.7401080</td><td> 0.8167875</td><td>-2.2240494</td><td> 0.4212981</td><td> 3.3954809</td><td> 2.8555038</td><td> 2.6080517</td><td> 1.3774197</td><td>-2.5340832</td></tr>\n",
       "\t<tr><th scope=row>2</th><td>-1.7535956</td><td> 0.1164635</td><td>-2.3391689</td><td>-2.7401080</td><td> 0.8167875</td><td>-2.2240494</td><td> 0.4212981</td><td> 3.3954809</td><td> 2.8555038</td><td> 2.6080517</td><td> 1.3774197</td><td>-2.5340832</td></tr>\n",
       "\t<tr><th scope=row>3</th><td>-1.7535956</td><td> 0.1164635</td><td>-2.3391689</td><td>-2.7401080</td><td> 0.8167875</td><td>-2.2240494</td><td> 0.4212981</td><td> 3.3954809</td><td> 2.8555038</td><td> 2.6080517</td><td> 1.3774197</td><td>-2.5340832</td></tr>\n",
       "\t<tr><th scope=row>4</th><td>-1.7535956</td><td> 0.1164635</td><td>-2.3391689</td><td>-2.7401080</td><td> 0.8167875</td><td>-2.2240494</td><td> 0.4212981</td><td> 3.3954809</td><td> 2.8555038</td><td> 2.6080517</td><td> 1.3774197</td><td>-2.5340832</td></tr>\n",
       "\t<tr><th scope=row>5</th><td>-1.7535956</td><td> 0.1164635</td><td>-2.3391689</td><td>-2.7401080</td><td> 0.8167875</td><td>-2.2240494</td><td> 0.4212981</td><td> 3.3954809</td><td> 2.8555038</td><td> 2.6080517</td><td> 1.3774197</td><td>-2.5340832</td></tr>\n",
       "\t<tr><th scope=row>6</th><td>-1.7535956</td><td> 0.1164635</td><td>-2.3391689</td><td>-2.7401080</td><td> 0.8167875</td><td>-2.2240494</td><td> 0.4212981</td><td> 3.3954809</td><td> 2.8555038</td><td> 2.6080517</td><td> 1.3774197</td><td>-2.5340832</td></tr>\n",
       "\t<tr><th scope=row>7</th><td>-1.7535956</td><td> 0.1164635</td><td>-2.3391689</td><td>-2.7401080</td><td> 0.8167875</td><td>-2.2240494</td><td> 0.4212981</td><td> 3.3954809</td><td> 2.8555038</td><td> 2.6080517</td><td> 1.3774197</td><td>-2.5340832</td></tr>\n",
       "\t<tr><th scope=row>8</th><td>-1.7535956</td><td> 0.1164635</td><td>-2.3391689</td><td>-2.7401080</td><td> 0.8167875</td><td>-2.2240494</td><td> 0.4212981</td><td> 3.3954809</td><td> 2.8555038</td><td> 2.6080517</td><td> 1.3774197</td><td>-2.5340832</td></tr>\n",
       "\t<tr><th scope=row>9</th><td>-1.7535956</td><td> 0.1164635</td><td>-2.3391689</td><td>-2.7401080</td><td> 0.8167875</td><td>-2.2240494</td><td> 0.4212981</td><td> 3.3954809</td><td> 2.8555038</td><td> 2.6080517</td><td> 1.3774197</td><td>-2.5340832</td></tr>\n",
       "\t<tr><th scope=row>10</th><td>-1.7535956</td><td> 0.1164635</td><td>-2.3391689</td><td>-2.7401080</td><td> 0.8167875</td><td>-2.2240494</td><td> 0.4212981</td><td> 3.3954809</td><td> 2.8555038</td><td> 2.6080517</td><td> 1.3774197</td><td>-2.5340832</td></tr>\n",
       "\t<tr><th scope=row>11</th><td>-1.7535956</td><td> 0.1164635</td><td>-2.3391689</td><td>-2.7401080</td><td> 0.8167875</td><td>-2.2240494</td><td> 0.4212981</td><td> 3.3954809</td><td> 2.8555038</td><td> 2.6080517</td><td> 1.3774197</td><td>-2.5340832</td></tr>\n",
       "\t<tr><th scope=row>12</th><td>-1.7535956</td><td> 0.1164635</td><td>-2.3391689</td><td>-2.7401080</td><td> 0.8167875</td><td>-2.2240494</td><td> 0.4212981</td><td> 3.3954809</td><td> 2.8555038</td><td> 2.6080517</td><td> 1.3774197</td><td>-2.5340832</td></tr>\n",
       "\t<tr><th scope=row>13</th><td>-1.7535956</td><td> 0.1164635</td><td>-2.3391689</td><td>-2.7401080</td><td> 0.8167875</td><td>-2.2240494</td><td> 0.4212981</td><td> 3.3954809</td><td> 2.8555038</td><td> 2.6080517</td><td> 1.3774197</td><td>-2.5340832</td></tr>\n",
       "\t<tr><th scope=row>14</th><td>-1.7535956</td><td> 0.1164635</td><td>-2.3391689</td><td>-2.7401080</td><td> 0.8167875</td><td>-2.2240494</td><td> 0.4212981</td><td> 3.3954809</td><td> 2.8555038</td><td> 2.6080517</td><td> 1.3774197</td><td>-2.5340832</td></tr>\n",
       "\t<tr><th scope=row>15</th><td>-1.7535956</td><td> 0.1164635</td><td>-2.3391689</td><td>-2.7401080</td><td> 0.8167875</td><td>-2.2240494</td><td> 0.4212981</td><td> 3.3954809</td><td> 2.8555038</td><td> 2.6080517</td><td> 1.3774197</td><td>-2.5340832</td></tr>\n",
       "\t<tr><th scope=row>16</th><td>-1.7535956</td><td> 0.1164635</td><td>-2.3391689</td><td>-2.7401080</td><td> 0.8167875</td><td>-2.2240494</td><td> 0.4212981</td><td> 3.3954809</td><td> 2.8555038</td><td> 2.6080517</td><td> 1.3774197</td><td>-2.5340832</td></tr>\n",
       "\t<tr><th scope=row>17</th><td>-1.7535956</td><td> 0.1164635</td><td>-2.3391689</td><td>-2.7401080</td><td> 0.8167875</td><td>-2.2240494</td><td> 0.4212981</td><td> 3.3954809</td><td> 2.8555038</td><td> 2.6080517</td><td> 1.3774197</td><td>-2.5340832</td></tr>\n",
       "\t<tr><th scope=row>18</th><td>-1.7535956</td><td> 0.1164635</td><td>-2.3391689</td><td>-2.7401080</td><td> 0.8167875</td><td>-2.2240494</td><td> 0.4212981</td><td> 3.3954809</td><td> 2.8555038</td><td> 2.6080517</td><td> 1.3774197</td><td>-2.5340832</td></tr>\n",
       "\t<tr><th scope=row>19</th><td>-1.7535956</td><td> 0.1164635</td><td>-2.3391689</td><td>-2.7401080</td><td> 0.8167875</td><td>-2.2240494</td><td> 0.4212981</td><td> 3.3954809</td><td> 2.8555038</td><td> 2.6080517</td><td> 1.3774197</td><td>-2.5340832</td></tr>\n",
       "\t<tr><th scope=row>20</th><td>-1.7535956</td><td> 0.1164635</td><td>-2.3391689</td><td>-2.7401080</td><td> 0.8167875</td><td>-2.2240494</td><td> 0.4212981</td><td> 3.3954809</td><td> 2.8555038</td><td> 2.6080517</td><td> 1.3774197</td><td>-2.5340832</td></tr>\n",
       "\t<tr><th scope=row>21</th><td>-1.7535956</td><td> 0.1164635</td><td>-2.3391689</td><td>-2.7401080</td><td> 0.8167875</td><td>-2.2240494</td><td> 0.4212981</td><td> 3.3954809</td><td> 2.8555038</td><td> 2.6080517</td><td> 1.3774197</td><td>-2.5340832</td></tr>\n",
       "\t<tr><th scope=row>22</th><td>-1.7535956</td><td> 0.1164635</td><td>-2.3391689</td><td>-2.7401080</td><td> 0.8167875</td><td>-2.2240494</td><td> 0.4212981</td><td> 3.3954809</td><td> 2.8555038</td><td> 2.6080517</td><td> 1.3774197</td><td>-2.5340832</td></tr>\n",
       "\t<tr><th scope=row>23</th><td>-1.7535956</td><td> 0.1164635</td><td>-2.3391689</td><td>-2.7401080</td><td> 0.8167875</td><td>-2.2240494</td><td> 0.4212981</td><td> 3.3954809</td><td> 2.8555038</td><td> 2.6080517</td><td> 1.3774197</td><td>-2.5340832</td></tr>\n",
       "\t<tr><th scope=row>24</th><td>-1.7535956</td><td> 0.1164635</td><td>-2.3391689</td><td>-2.7401080</td><td> 0.8167875</td><td>-2.2240494</td><td> 0.4212981</td><td> 3.3954809</td><td> 2.8555038</td><td> 2.6080517</td><td> 1.3774197</td><td>-2.5340832</td></tr>\n",
       "\t<tr><th scope=row>25</th><td>-1.7535956</td><td> 0.1164635</td><td>-2.3391689</td><td>-2.7401080</td><td> 0.8167875</td><td>-2.2240494</td><td> 0.4212981</td><td> 3.3954809</td><td> 2.8555038</td><td> 2.6080517</td><td> 1.3774197</td><td>-2.5340832</td></tr>\n",
       "\t<tr><th scope=row>26</th><td>-1.7535956</td><td> 0.1164635</td><td>-2.3391689</td><td>-2.7401080</td><td> 0.8167875</td><td>-2.2240494</td><td> 0.4212981</td><td> 3.3954809</td><td> 2.8555038</td><td> 2.6080517</td><td>          </td><td>          </td></tr>\n",
       "</tbody>\n",
       "</table>\n"
      ],
      "text/latex": [
       "A Time Series: 26 × 12\n",
       "\\begin{tabular}{r|llllllllllll}\n",
       "  & Jan & Feb & Mar & Apr & May & Jun & Jul & Aug & Sep & Oct & Nov & Dec\\\\\n",
       "\\hline\n",
       "\t1 & -1.7535956 &  0.1164635 & -2.3391689 & -2.7401080 &  0.8167875 & -2.2240494 &  0.4212981 &  3.3954809 &  2.8555038 &  2.6080517 &  1.3774197 & -2.5340832\\\\\n",
       "\t2 & -1.7535956 &  0.1164635 & -2.3391689 & -2.7401080 &  0.8167875 & -2.2240494 &  0.4212981 &  3.3954809 &  2.8555038 &  2.6080517 &  1.3774197 & -2.5340832\\\\\n",
       "\t3 & -1.7535956 &  0.1164635 & -2.3391689 & -2.7401080 &  0.8167875 & -2.2240494 &  0.4212981 &  3.3954809 &  2.8555038 &  2.6080517 &  1.3774197 & -2.5340832\\\\\n",
       "\t4 & -1.7535956 &  0.1164635 & -2.3391689 & -2.7401080 &  0.8167875 & -2.2240494 &  0.4212981 &  3.3954809 &  2.8555038 &  2.6080517 &  1.3774197 & -2.5340832\\\\\n",
       "\t5 & -1.7535956 &  0.1164635 & -2.3391689 & -2.7401080 &  0.8167875 & -2.2240494 &  0.4212981 &  3.3954809 &  2.8555038 &  2.6080517 &  1.3774197 & -2.5340832\\\\\n",
       "\t6 & -1.7535956 &  0.1164635 & -2.3391689 & -2.7401080 &  0.8167875 & -2.2240494 &  0.4212981 &  3.3954809 &  2.8555038 &  2.6080517 &  1.3774197 & -2.5340832\\\\\n",
       "\t7 & -1.7535956 &  0.1164635 & -2.3391689 & -2.7401080 &  0.8167875 & -2.2240494 &  0.4212981 &  3.3954809 &  2.8555038 &  2.6080517 &  1.3774197 & -2.5340832\\\\\n",
       "\t8 & -1.7535956 &  0.1164635 & -2.3391689 & -2.7401080 &  0.8167875 & -2.2240494 &  0.4212981 &  3.3954809 &  2.8555038 &  2.6080517 &  1.3774197 & -2.5340832\\\\\n",
       "\t9 & -1.7535956 &  0.1164635 & -2.3391689 & -2.7401080 &  0.8167875 & -2.2240494 &  0.4212981 &  3.3954809 &  2.8555038 &  2.6080517 &  1.3774197 & -2.5340832\\\\\n",
       "\t10 & -1.7535956 &  0.1164635 & -2.3391689 & -2.7401080 &  0.8167875 & -2.2240494 &  0.4212981 &  3.3954809 &  2.8555038 &  2.6080517 &  1.3774197 & -2.5340832\\\\\n",
       "\t11 & -1.7535956 &  0.1164635 & -2.3391689 & -2.7401080 &  0.8167875 & -2.2240494 &  0.4212981 &  3.3954809 &  2.8555038 &  2.6080517 &  1.3774197 & -2.5340832\\\\\n",
       "\t12 & -1.7535956 &  0.1164635 & -2.3391689 & -2.7401080 &  0.8167875 & -2.2240494 &  0.4212981 &  3.3954809 &  2.8555038 &  2.6080517 &  1.3774197 & -2.5340832\\\\\n",
       "\t13 & -1.7535956 &  0.1164635 & -2.3391689 & -2.7401080 &  0.8167875 & -2.2240494 &  0.4212981 &  3.3954809 &  2.8555038 &  2.6080517 &  1.3774197 & -2.5340832\\\\\n",
       "\t14 & -1.7535956 &  0.1164635 & -2.3391689 & -2.7401080 &  0.8167875 & -2.2240494 &  0.4212981 &  3.3954809 &  2.8555038 &  2.6080517 &  1.3774197 & -2.5340832\\\\\n",
       "\t15 & -1.7535956 &  0.1164635 & -2.3391689 & -2.7401080 &  0.8167875 & -2.2240494 &  0.4212981 &  3.3954809 &  2.8555038 &  2.6080517 &  1.3774197 & -2.5340832\\\\\n",
       "\t16 & -1.7535956 &  0.1164635 & -2.3391689 & -2.7401080 &  0.8167875 & -2.2240494 &  0.4212981 &  3.3954809 &  2.8555038 &  2.6080517 &  1.3774197 & -2.5340832\\\\\n",
       "\t17 & -1.7535956 &  0.1164635 & -2.3391689 & -2.7401080 &  0.8167875 & -2.2240494 &  0.4212981 &  3.3954809 &  2.8555038 &  2.6080517 &  1.3774197 & -2.5340832\\\\\n",
       "\t18 & -1.7535956 &  0.1164635 & -2.3391689 & -2.7401080 &  0.8167875 & -2.2240494 &  0.4212981 &  3.3954809 &  2.8555038 &  2.6080517 &  1.3774197 & -2.5340832\\\\\n",
       "\t19 & -1.7535956 &  0.1164635 & -2.3391689 & -2.7401080 &  0.8167875 & -2.2240494 &  0.4212981 &  3.3954809 &  2.8555038 &  2.6080517 &  1.3774197 & -2.5340832\\\\\n",
       "\t20 & -1.7535956 &  0.1164635 & -2.3391689 & -2.7401080 &  0.8167875 & -2.2240494 &  0.4212981 &  3.3954809 &  2.8555038 &  2.6080517 &  1.3774197 & -2.5340832\\\\\n",
       "\t21 & -1.7535956 &  0.1164635 & -2.3391689 & -2.7401080 &  0.8167875 & -2.2240494 &  0.4212981 &  3.3954809 &  2.8555038 &  2.6080517 &  1.3774197 & -2.5340832\\\\\n",
       "\t22 & -1.7535956 &  0.1164635 & -2.3391689 & -2.7401080 &  0.8167875 & -2.2240494 &  0.4212981 &  3.3954809 &  2.8555038 &  2.6080517 &  1.3774197 & -2.5340832\\\\\n",
       "\t23 & -1.7535956 &  0.1164635 & -2.3391689 & -2.7401080 &  0.8167875 & -2.2240494 &  0.4212981 &  3.3954809 &  2.8555038 &  2.6080517 &  1.3774197 & -2.5340832\\\\\n",
       "\t24 & -1.7535956 &  0.1164635 & -2.3391689 & -2.7401080 &  0.8167875 & -2.2240494 &  0.4212981 &  3.3954809 &  2.8555038 &  2.6080517 &  1.3774197 & -2.5340832\\\\\n",
       "\t25 & -1.7535956 &  0.1164635 & -2.3391689 & -2.7401080 &  0.8167875 & -2.2240494 &  0.4212981 &  3.3954809 &  2.8555038 &  2.6080517 &  1.3774197 & -2.5340832\\\\\n",
       "\t26 & -1.7535956 &  0.1164635 & -2.3391689 & -2.7401080 &  0.8167875 & -2.2240494 &  0.4212981 &  3.3954809 &  2.8555038 &  2.6080517 &            &           \\\\\n",
       "\\end{tabular}\n"
      ],
      "text/markdown": [
       "\n",
       "A Time Series: 26 × 12\n",
       "\n",
       "| <!--/--> | Jan | Feb | Mar | Apr | May | Jun | Jul | Aug | Sep | Oct | Nov | Dec |\n",
       "|---|---|---|---|---|---|---|---|---|---|---|---|---|\n",
       "| 1 | -1.7535956 |  0.1164635 | -2.3391689 | -2.7401080 |  0.8167875 | -2.2240494 |  0.4212981 |  3.3954809 |  2.8555038 |  2.6080517 |  1.3774197 | -2.5340832 |\n",
       "| 2 | -1.7535956 |  0.1164635 | -2.3391689 | -2.7401080 |  0.8167875 | -2.2240494 |  0.4212981 |  3.3954809 |  2.8555038 |  2.6080517 |  1.3774197 | -2.5340832 |\n",
       "| 3 | -1.7535956 |  0.1164635 | -2.3391689 | -2.7401080 |  0.8167875 | -2.2240494 |  0.4212981 |  3.3954809 |  2.8555038 |  2.6080517 |  1.3774197 | -2.5340832 |\n",
       "| 4 | -1.7535956 |  0.1164635 | -2.3391689 | -2.7401080 |  0.8167875 | -2.2240494 |  0.4212981 |  3.3954809 |  2.8555038 |  2.6080517 |  1.3774197 | -2.5340832 |\n",
       "| 5 | -1.7535956 |  0.1164635 | -2.3391689 | -2.7401080 |  0.8167875 | -2.2240494 |  0.4212981 |  3.3954809 |  2.8555038 |  2.6080517 |  1.3774197 | -2.5340832 |\n",
       "| 6 | -1.7535956 |  0.1164635 | -2.3391689 | -2.7401080 |  0.8167875 | -2.2240494 |  0.4212981 |  3.3954809 |  2.8555038 |  2.6080517 |  1.3774197 | -2.5340832 |\n",
       "| 7 | -1.7535956 |  0.1164635 | -2.3391689 | -2.7401080 |  0.8167875 | -2.2240494 |  0.4212981 |  3.3954809 |  2.8555038 |  2.6080517 |  1.3774197 | -2.5340832 |\n",
       "| 8 | -1.7535956 |  0.1164635 | -2.3391689 | -2.7401080 |  0.8167875 | -2.2240494 |  0.4212981 |  3.3954809 |  2.8555038 |  2.6080517 |  1.3774197 | -2.5340832 |\n",
       "| 9 | -1.7535956 |  0.1164635 | -2.3391689 | -2.7401080 |  0.8167875 | -2.2240494 |  0.4212981 |  3.3954809 |  2.8555038 |  2.6080517 |  1.3774197 | -2.5340832 |\n",
       "| 10 | -1.7535956 |  0.1164635 | -2.3391689 | -2.7401080 |  0.8167875 | -2.2240494 |  0.4212981 |  3.3954809 |  2.8555038 |  2.6080517 |  1.3774197 | -2.5340832 |\n",
       "| 11 | -1.7535956 |  0.1164635 | -2.3391689 | -2.7401080 |  0.8167875 | -2.2240494 |  0.4212981 |  3.3954809 |  2.8555038 |  2.6080517 |  1.3774197 | -2.5340832 |\n",
       "| 12 | -1.7535956 |  0.1164635 | -2.3391689 | -2.7401080 |  0.8167875 | -2.2240494 |  0.4212981 |  3.3954809 |  2.8555038 |  2.6080517 |  1.3774197 | -2.5340832 |\n",
       "| 13 | -1.7535956 |  0.1164635 | -2.3391689 | -2.7401080 |  0.8167875 | -2.2240494 |  0.4212981 |  3.3954809 |  2.8555038 |  2.6080517 |  1.3774197 | -2.5340832 |\n",
       "| 14 | -1.7535956 |  0.1164635 | -2.3391689 | -2.7401080 |  0.8167875 | -2.2240494 |  0.4212981 |  3.3954809 |  2.8555038 |  2.6080517 |  1.3774197 | -2.5340832 |\n",
       "| 15 | -1.7535956 |  0.1164635 | -2.3391689 | -2.7401080 |  0.8167875 | -2.2240494 |  0.4212981 |  3.3954809 |  2.8555038 |  2.6080517 |  1.3774197 | -2.5340832 |\n",
       "| 16 | -1.7535956 |  0.1164635 | -2.3391689 | -2.7401080 |  0.8167875 | -2.2240494 |  0.4212981 |  3.3954809 |  2.8555038 |  2.6080517 |  1.3774197 | -2.5340832 |\n",
       "| 17 | -1.7535956 |  0.1164635 | -2.3391689 | -2.7401080 |  0.8167875 | -2.2240494 |  0.4212981 |  3.3954809 |  2.8555038 |  2.6080517 |  1.3774197 | -2.5340832 |\n",
       "| 18 | -1.7535956 |  0.1164635 | -2.3391689 | -2.7401080 |  0.8167875 | -2.2240494 |  0.4212981 |  3.3954809 |  2.8555038 |  2.6080517 |  1.3774197 | -2.5340832 |\n",
       "| 19 | -1.7535956 |  0.1164635 | -2.3391689 | -2.7401080 |  0.8167875 | -2.2240494 |  0.4212981 |  3.3954809 |  2.8555038 |  2.6080517 |  1.3774197 | -2.5340832 |\n",
       "| 20 | -1.7535956 |  0.1164635 | -2.3391689 | -2.7401080 |  0.8167875 | -2.2240494 |  0.4212981 |  3.3954809 |  2.8555038 |  2.6080517 |  1.3774197 | -2.5340832 |\n",
       "| 21 | -1.7535956 |  0.1164635 | -2.3391689 | -2.7401080 |  0.8167875 | -2.2240494 |  0.4212981 |  3.3954809 |  2.8555038 |  2.6080517 |  1.3774197 | -2.5340832 |\n",
       "| 22 | -1.7535956 |  0.1164635 | -2.3391689 | -2.7401080 |  0.8167875 | -2.2240494 |  0.4212981 |  3.3954809 |  2.8555038 |  2.6080517 |  1.3774197 | -2.5340832 |\n",
       "| 23 | -1.7535956 |  0.1164635 | -2.3391689 | -2.7401080 |  0.8167875 | -2.2240494 |  0.4212981 |  3.3954809 |  2.8555038 |  2.6080517 |  1.3774197 | -2.5340832 |\n",
       "| 24 | -1.7535956 |  0.1164635 | -2.3391689 | -2.7401080 |  0.8167875 | -2.2240494 |  0.4212981 |  3.3954809 |  2.8555038 |  2.6080517 |  1.3774197 | -2.5340832 |\n",
       "| 25 | -1.7535956 |  0.1164635 | -2.3391689 | -2.7401080 |  0.8167875 | -2.2240494 |  0.4212981 |  3.3954809 |  2.8555038 |  2.6080517 |  1.3774197 | -2.5340832 |\n",
       "| 26 | -1.7535956 |  0.1164635 | -2.3391689 | -2.7401080 |  0.8167875 | -2.2240494 |  0.4212981 |  3.3954809 |  2.8555038 |  2.6080517 | <!----> | <!----> |\n",
       "\n"
      ],
      "text/plain": [
       "   Jan        Feb        Mar        Apr        May        Jun        Jul       \n",
       "1  -1.7535956  0.1164635 -2.3391689 -2.7401080  0.8167875 -2.2240494  0.4212981\n",
       "2  -1.7535956  0.1164635 -2.3391689 -2.7401080  0.8167875 -2.2240494  0.4212981\n",
       "3  -1.7535956  0.1164635 -2.3391689 -2.7401080  0.8167875 -2.2240494  0.4212981\n",
       "4  -1.7535956  0.1164635 -2.3391689 -2.7401080  0.8167875 -2.2240494  0.4212981\n",
       "5  -1.7535956  0.1164635 -2.3391689 -2.7401080  0.8167875 -2.2240494  0.4212981\n",
       "6  -1.7535956  0.1164635 -2.3391689 -2.7401080  0.8167875 -2.2240494  0.4212981\n",
       "7  -1.7535956  0.1164635 -2.3391689 -2.7401080  0.8167875 -2.2240494  0.4212981\n",
       "8  -1.7535956  0.1164635 -2.3391689 -2.7401080  0.8167875 -2.2240494  0.4212981\n",
       "9  -1.7535956  0.1164635 -2.3391689 -2.7401080  0.8167875 -2.2240494  0.4212981\n",
       "10 -1.7535956  0.1164635 -2.3391689 -2.7401080  0.8167875 -2.2240494  0.4212981\n",
       "11 -1.7535956  0.1164635 -2.3391689 -2.7401080  0.8167875 -2.2240494  0.4212981\n",
       "12 -1.7535956  0.1164635 -2.3391689 -2.7401080  0.8167875 -2.2240494  0.4212981\n",
       "13 -1.7535956  0.1164635 -2.3391689 -2.7401080  0.8167875 -2.2240494  0.4212981\n",
       "14 -1.7535956  0.1164635 -2.3391689 -2.7401080  0.8167875 -2.2240494  0.4212981\n",
       "15 -1.7535956  0.1164635 -2.3391689 -2.7401080  0.8167875 -2.2240494  0.4212981\n",
       "16 -1.7535956  0.1164635 -2.3391689 -2.7401080  0.8167875 -2.2240494  0.4212981\n",
       "17 -1.7535956  0.1164635 -2.3391689 -2.7401080  0.8167875 -2.2240494  0.4212981\n",
       "18 -1.7535956  0.1164635 -2.3391689 -2.7401080  0.8167875 -2.2240494  0.4212981\n",
       "19 -1.7535956  0.1164635 -2.3391689 -2.7401080  0.8167875 -2.2240494  0.4212981\n",
       "20 -1.7535956  0.1164635 -2.3391689 -2.7401080  0.8167875 -2.2240494  0.4212981\n",
       "21 -1.7535956  0.1164635 -2.3391689 -2.7401080  0.8167875 -2.2240494  0.4212981\n",
       "22 -1.7535956  0.1164635 -2.3391689 -2.7401080  0.8167875 -2.2240494  0.4212981\n",
       "23 -1.7535956  0.1164635 -2.3391689 -2.7401080  0.8167875 -2.2240494  0.4212981\n",
       "24 -1.7535956  0.1164635 -2.3391689 -2.7401080  0.8167875 -2.2240494  0.4212981\n",
       "25 -1.7535956  0.1164635 -2.3391689 -2.7401080  0.8167875 -2.2240494  0.4212981\n",
       "26 -1.7535956  0.1164635 -2.3391689 -2.7401080  0.8167875 -2.2240494  0.4212981\n",
       "   Aug        Sep        Oct        Nov        Dec       \n",
       "1   3.3954809  2.8555038  2.6080517  1.3774197 -2.5340832\n",
       "2   3.3954809  2.8555038  2.6080517  1.3774197 -2.5340832\n",
       "3   3.3954809  2.8555038  2.6080517  1.3774197 -2.5340832\n",
       "4   3.3954809  2.8555038  2.6080517  1.3774197 -2.5340832\n",
       "5   3.3954809  2.8555038  2.6080517  1.3774197 -2.5340832\n",
       "6   3.3954809  2.8555038  2.6080517  1.3774197 -2.5340832\n",
       "7   3.3954809  2.8555038  2.6080517  1.3774197 -2.5340832\n",
       "8   3.3954809  2.8555038  2.6080517  1.3774197 -2.5340832\n",
       "9   3.3954809  2.8555038  2.6080517  1.3774197 -2.5340832\n",
       "10  3.3954809  2.8555038  2.6080517  1.3774197 -2.5340832\n",
       "11  3.3954809  2.8555038  2.6080517  1.3774197 -2.5340832\n",
       "12  3.3954809  2.8555038  2.6080517  1.3774197 -2.5340832\n",
       "13  3.3954809  2.8555038  2.6080517  1.3774197 -2.5340832\n",
       "14  3.3954809  2.8555038  2.6080517  1.3774197 -2.5340832\n",
       "15  3.3954809  2.8555038  2.6080517  1.3774197 -2.5340832\n",
       "16  3.3954809  2.8555038  2.6080517  1.3774197 -2.5340832\n",
       "17  3.3954809  2.8555038  2.6080517  1.3774197 -2.5340832\n",
       "18  3.3954809  2.8555038  2.6080517  1.3774197 -2.5340832\n",
       "19  3.3954809  2.8555038  2.6080517  1.3774197 -2.5340832\n",
       "20  3.3954809  2.8555038  2.6080517  1.3774197 -2.5340832\n",
       "21  3.3954809  2.8555038  2.6080517  1.3774197 -2.5340832\n",
       "22  3.3954809  2.8555038  2.6080517  1.3774197 -2.5340832\n",
       "23  3.3954809  2.8555038  2.6080517  1.3774197 -2.5340832\n",
       "24  3.3954809  2.8555038  2.6080517  1.3774197 -2.5340832\n",
       "25  3.3954809  2.8555038  2.6080517  1.3774197 -2.5340832\n",
       "26  3.3954809  2.8555038  2.6080517                      "
      ]
     },
     "metadata": {},
     "output_type": "display_data"
    }
   ],
   "source": [
    "per.dec$seasonal"
   ]
  },
  {
   "cell_type": "code",
   "execution_count": 128,
   "metadata": {},
   "outputs": [
    {
     "name": "stderr",
     "output_type": "stream",
     "text": [
      "Joining, by = \"month\"\n",
      "\n"
     ]
    }
   ],
   "source": [
    "y<- data.frame(per_seasonality=c(-0.2488066,2.4634417,2.4782576,2.1660677,0.2064082,0.3750689,-1.5570735,-0.6862640,-1.1052278,-2.1214202,-0.9112564,-1.0591955),\n",
    "month=c(1,2,3,4,5,6,7,8,9,10,11,12))\n",
    "data<- data %>% left_join(y) "
   ]
  },
  {
   "cell_type": "code",
   "execution_count": 133,
   "metadata": {},
   "outputs": [
    {
     "data": {
      "text/html": [
       "<table class=\"dataframe\">\n",
       "<caption>A data.frame: 6 × 46</caption>\n",
       "<thead>\n",
       "\t<tr><th></th><th scope=col>year</th><th scope=col>month</th><th scope=col>cum_week1</th><th scope=col>wk_atm_p</th><th scope=col>wk_dew_p</th><th scope=col>wk_avg_max_tmp</th><th scope=col>wk_max_tm</th><th scope=col>wk_avg_tm</th><th scope=col>wk_min_tm</th><th scope=col>wk_avg_min_tmp</th><th scope=col>...</th><th scope=col>max_y_q_precipitation</th><th scope=col>q_temp</th><th scope=col>mean_t</th><th scope=col>mean_t_d</th><th scope=col>percipitation</th><th scope=col>max_y_q_temp</th><th scope=col>min_y_q_temp</th><th scope=col>max_y_precipitation</th><th scope=col>seasonality</th><th scope=col>per_seasonality</th></tr>\n",
       "\t<tr><th></th><th scope=col>&lt;int&gt;</th><th scope=col>&lt;dbl&gt;</th><th scope=col>&lt;int&gt;</th><th scope=col>&lt;dbl&gt;</th><th scope=col>&lt;dbl&gt;</th><th scope=col>&lt;dbl&gt;</th><th scope=col>&lt;dbl&gt;</th><th scope=col>&lt;dbl&gt;</th><th scope=col>&lt;dbl&gt;</th><th scope=col>&lt;dbl&gt;</th><th scope=col>...</th><th scope=col>&lt;dbl&gt;</th><th scope=col>&lt;dbl&gt;</th><th scope=col>&lt;dbl&gt;</th><th scope=col>&lt;dbl&gt;</th><th scope=col>&lt;dbl&gt;</th><th scope=col>&lt;dbl&gt;</th><th scope=col>&lt;dbl&gt;</th><th scope=col>&lt;dbl&gt;</th><th scope=col>&lt;dbl&gt;</th><th scope=col>&lt;dbl&gt;</th></tr>\n",
       "</thead>\n",
       "<tbody>\n",
       "\t<tr><th scope=row>1</th><td>2013</td><td>1</td><td> 1</td><td>943.7298</td><td>18.03250</td><td>30.78000</td><td>35.7</td><td>24.19155</td><td>15.8</td><td>19.00000</td><td>...</td><td>84.49714</td><td>22.56830</td><td>22.5683</td><td>17.93779</td><td>84.11238</td><td>22.5683</td><td>17.93779</td><td>42.20571</td><td> 0.16489076</td><td>-0.2488066</td></tr>\n",
       "\t<tr><th scope=row>2</th><td>2013</td><td>1</td><td> 2</td><td>941.4388</td><td>18.37952</td><td>28.67143</td><td>36.7</td><td>22.99917</td><td>15.8</td><td>19.44286</td><td>...</td><td>84.49714</td><td>22.56830</td><td>22.5683</td><td>17.93779</td><td>84.11238</td><td>22.5683</td><td>17.93779</td><td>42.20571</td><td> 0.16489076</td><td>-0.2488066</td></tr>\n",
       "\t<tr><th scope=row>3</th><td>2013</td><td>3</td><td> 9</td><td>943.1124</td><td>18.79512</td><td>27.91429</td><td>36.2</td><td>22.44643</td><td>16.7</td><td>19.18857</td><td>...</td><td>84.49714</td><td>21.43708</td><td>22.5683</td><td>17.93779</td><td>84.11238</td><td>22.5683</td><td>17.93779</td><td>42.20571</td><td>-0.01727395</td><td> 2.4782576</td></tr>\n",
       "\t<tr><th scope=row>4</th><td>2013</td><td>9</td><td>34</td><td>948.7310</td><td>13.33714</td><td>24.80286</td><td>32.0</td><td>18.25333</td><td> 9.2</td><td>13.66571</td><td>...</td><td>84.49714</td><td>19.37982</td><td>22.5683</td><td>17.93779</td><td>84.11238</td><td>22.5683</td><td>17.93779</td><td>42.20571</td><td> 0.38628365</td><td>-1.1052278</td></tr>\n",
       "\t<tr><th scope=row>5</th><td>2013</td><td>3</td><td> 7</td><td>942.2117</td><td>18.41726</td><td>30.44286</td><td>35.6</td><td>23.95131</td><td>15.5</td><td>18.72000</td><td>...</td><td>84.49714</td><td>21.43708</td><td>22.5683</td><td>17.93779</td><td>84.11238</td><td>22.5683</td><td>17.93779</td><td>42.20571</td><td>-0.01727395</td><td> 2.4782576</td></tr>\n",
       "\t<tr><th scope=row>6</th><td>2013</td><td>3</td><td> 8</td><td>942.8707</td><td>17.91762</td><td>30.70286</td><td>35.3</td><td>23.93357</td><td>15.1</td><td>18.53429</td><td>...</td><td>84.49714</td><td>21.43708</td><td>22.5683</td><td>17.93779</td><td>84.11238</td><td>22.5683</td><td>17.93779</td><td>42.20571</td><td>-0.01727395</td><td> 2.4782576</td></tr>\n",
       "</tbody>\n",
       "</table>\n"
      ],
      "text/latex": [
       "A data.frame: 6 × 46\n",
       "\\begin{tabular}{r|lllllllllllllllllllll}\n",
       "  & year & month & cum\\_week1 & wk\\_atm\\_p & wk\\_dew\\_p & wk\\_avg\\_max\\_tmp & wk\\_max\\_tm & wk\\_avg\\_tm & wk\\_min\\_tm & wk\\_avg\\_min\\_tmp & ... & max\\_y\\_q\\_precipitation & q\\_temp & mean\\_t & mean\\_t\\_d & percipitation & max\\_y\\_q\\_temp & min\\_y\\_q\\_temp & max\\_y\\_precipitation & seasonality & per\\_seasonality\\\\\n",
       "  & <int> & <dbl> & <int> & <dbl> & <dbl> & <dbl> & <dbl> & <dbl> & <dbl> & <dbl> & ... & <dbl> & <dbl> & <dbl> & <dbl> & <dbl> & <dbl> & <dbl> & <dbl> & <dbl> & <dbl>\\\\\n",
       "\\hline\n",
       "\t1 & 2013 & 1 &  1 & 943.7298 & 18.03250 & 30.78000 & 35.7 & 24.19155 & 15.8 & 19.00000 & ... & 84.49714 & 22.56830 & 22.5683 & 17.93779 & 84.11238 & 22.5683 & 17.93779 & 42.20571 &  0.16489076 & -0.2488066\\\\\n",
       "\t2 & 2013 & 1 &  2 & 941.4388 & 18.37952 & 28.67143 & 36.7 & 22.99917 & 15.8 & 19.44286 & ... & 84.49714 & 22.56830 & 22.5683 & 17.93779 & 84.11238 & 22.5683 & 17.93779 & 42.20571 &  0.16489076 & -0.2488066\\\\\n",
       "\t3 & 2013 & 3 &  9 & 943.1124 & 18.79512 & 27.91429 & 36.2 & 22.44643 & 16.7 & 19.18857 & ... & 84.49714 & 21.43708 & 22.5683 & 17.93779 & 84.11238 & 22.5683 & 17.93779 & 42.20571 & -0.01727395 &  2.4782576\\\\\n",
       "\t4 & 2013 & 9 & 34 & 948.7310 & 13.33714 & 24.80286 & 32.0 & 18.25333 &  9.2 & 13.66571 & ... & 84.49714 & 19.37982 & 22.5683 & 17.93779 & 84.11238 & 22.5683 & 17.93779 & 42.20571 &  0.38628365 & -1.1052278\\\\\n",
       "\t5 & 2013 & 3 &  7 & 942.2117 & 18.41726 & 30.44286 & 35.6 & 23.95131 & 15.5 & 18.72000 & ... & 84.49714 & 21.43708 & 22.5683 & 17.93779 & 84.11238 & 22.5683 & 17.93779 & 42.20571 & -0.01727395 &  2.4782576\\\\\n",
       "\t6 & 2013 & 3 &  8 & 942.8707 & 17.91762 & 30.70286 & 35.3 & 23.93357 & 15.1 & 18.53429 & ... & 84.49714 & 21.43708 & 22.5683 & 17.93779 & 84.11238 & 22.5683 & 17.93779 & 42.20571 & -0.01727395 &  2.4782576\\\\\n",
       "\\end{tabular}\n"
      ],
      "text/markdown": [
       "\n",
       "A data.frame: 6 × 46\n",
       "\n",
       "| <!--/--> | year &lt;int&gt; | month &lt;dbl&gt; | cum_week1 &lt;int&gt; | wk_atm_p &lt;dbl&gt; | wk_dew_p &lt;dbl&gt; | wk_avg_max_tmp &lt;dbl&gt; | wk_max_tm &lt;dbl&gt; | wk_avg_tm &lt;dbl&gt; | wk_min_tm &lt;dbl&gt; | wk_avg_min_tmp &lt;dbl&gt; | ... ... | max_y_q_precipitation &lt;dbl&gt; | q_temp &lt;dbl&gt; | mean_t &lt;dbl&gt; | mean_t_d &lt;dbl&gt; | percipitation &lt;dbl&gt; | max_y_q_temp &lt;dbl&gt; | min_y_q_temp &lt;dbl&gt; | max_y_precipitation &lt;dbl&gt; | seasonality &lt;dbl&gt; | per_seasonality &lt;dbl&gt; |\n",
       "|---|---|---|---|---|---|---|---|---|---|---|---|---|---|---|---|---|---|---|---|---|---|\n",
       "| 1 | 2013 | 1 |  1 | 943.7298 | 18.03250 | 30.78000 | 35.7 | 24.19155 | 15.8 | 19.00000 | ... | 84.49714 | 22.56830 | 22.5683 | 17.93779 | 84.11238 | 22.5683 | 17.93779 | 42.20571 |  0.16489076 | -0.2488066 |\n",
       "| 2 | 2013 | 1 |  2 | 941.4388 | 18.37952 | 28.67143 | 36.7 | 22.99917 | 15.8 | 19.44286 | ... | 84.49714 | 22.56830 | 22.5683 | 17.93779 | 84.11238 | 22.5683 | 17.93779 | 42.20571 |  0.16489076 | -0.2488066 |\n",
       "| 3 | 2013 | 3 |  9 | 943.1124 | 18.79512 | 27.91429 | 36.2 | 22.44643 | 16.7 | 19.18857 | ... | 84.49714 | 21.43708 | 22.5683 | 17.93779 | 84.11238 | 22.5683 | 17.93779 | 42.20571 | -0.01727395 |  2.4782576 |\n",
       "| 4 | 2013 | 9 | 34 | 948.7310 | 13.33714 | 24.80286 | 32.0 | 18.25333 |  9.2 | 13.66571 | ... | 84.49714 | 19.37982 | 22.5683 | 17.93779 | 84.11238 | 22.5683 | 17.93779 | 42.20571 |  0.38628365 | -1.1052278 |\n",
       "| 5 | 2013 | 3 |  7 | 942.2117 | 18.41726 | 30.44286 | 35.6 | 23.95131 | 15.5 | 18.72000 | ... | 84.49714 | 21.43708 | 22.5683 | 17.93779 | 84.11238 | 22.5683 | 17.93779 | 42.20571 | -0.01727395 |  2.4782576 |\n",
       "| 6 | 2013 | 3 |  8 | 942.8707 | 17.91762 | 30.70286 | 35.3 | 23.93357 | 15.1 | 18.53429 | ... | 84.49714 | 21.43708 | 22.5683 | 17.93779 | 84.11238 | 22.5683 | 17.93779 | 42.20571 | -0.01727395 |  2.4782576 |\n",
       "\n"
      ],
      "text/plain": [
       "  year month cum_week1 wk_atm_p wk_dew_p wk_avg_max_tmp wk_max_tm wk_avg_tm\n",
       "1 2013 1      1        943.7298 18.03250 30.78000       35.7      24.19155 \n",
       "2 2013 1      2        941.4388 18.37952 28.67143       36.7      22.99917 \n",
       "3 2013 3      9        943.1124 18.79512 27.91429       36.2      22.44643 \n",
       "4 2013 9     34        948.7310 13.33714 24.80286       32.0      18.25333 \n",
       "5 2013 3      7        942.2117 18.41726 30.44286       35.6      23.95131 \n",
       "6 2013 3      8        942.8707 17.91762 30.70286       35.3      23.93357 \n",
       "  wk_min_tm wk_avg_min_tmp ... max_y_q_precipitation q_temp   mean_t  mean_t_d\n",
       "1 15.8      19.00000       ... 84.49714              22.56830 22.5683 17.93779\n",
       "2 15.8      19.44286       ... 84.49714              22.56830 22.5683 17.93779\n",
       "3 16.7      19.18857       ... 84.49714              21.43708 22.5683 17.93779\n",
       "4  9.2      13.66571       ... 84.49714              19.37982 22.5683 17.93779\n",
       "5 15.5      18.72000       ... 84.49714              21.43708 22.5683 17.93779\n",
       "6 15.1      18.53429       ... 84.49714              21.43708 22.5683 17.93779\n",
       "  percipitation max_y_q_temp min_y_q_temp max_y_precipitation seasonality\n",
       "1 84.11238      22.5683      17.93779     42.20571             0.16489076\n",
       "2 84.11238      22.5683      17.93779     42.20571             0.16489076\n",
       "3 84.11238      22.5683      17.93779     42.20571            -0.01727395\n",
       "4 84.11238      22.5683      17.93779     42.20571             0.38628365\n",
       "5 84.11238      22.5683      17.93779     42.20571            -0.01727395\n",
       "6 84.11238      22.5683      17.93779     42.20571            -0.01727395\n",
       "  per_seasonality\n",
       "1 -0.2488066     \n",
       "2 -0.2488066     \n",
       "3  2.4782576     \n",
       "4 -1.1052278     \n",
       "5  2.4782576     \n",
       "6  2.4782576     "
      ]
     },
     "metadata": {},
     "output_type": "display_data"
    }
   ],
   "source": [
    "head(data)"
   ]
  },
  {
   "cell_type": "code",
   "execution_count": 145,
   "metadata": {},
   "outputs": [
    {
     "data": {
      "text/plain": [
       "      year          month          cum_week1         wk_atm_p    \n",
       " Min.   :2013   Min.   : 1.000   Min.   :  1.00   Min.   :931.2  \n",
       " 1st Qu.:2014   1st Qu.: 4.000   1st Qu.: 78.25   1st Qu.:942.6  \n",
       " Median :2016   Median : 6.500   Median :155.50   Median :944.5  \n",
       " Mean   :2016   Mean   : 6.484   Mean   :155.50   Mean   :945.0  \n",
       " 3rd Qu.:2017   3rd Qu.: 9.000   3rd Qu.:232.75   3rd Qu.:947.7  \n",
       " Max.   :2018   Max.   :12.000   Max.   :310.00   Max.   :955.8  \n",
       "    wk_dew_p      wk_avg_max_tmp    wk_max_tm       wk_avg_tm    \n",
       " Min.   : 9.826   Min.   :21.14   Min.   :26.30   Min.   :14.31  \n",
       " 1st Qu.:14.206   1st Qu.:25.15   1st Qu.:31.90   1st Qu.:18.73  \n",
       " Median :16.537   Median :27.29   Median :33.75   Median :21.32  \n",
       " Mean   :16.230   Mean   :27.41   Mean   :33.70   Mean   :21.00  \n",
       " 3rd Qu.:18.345   3rd Qu.:29.54   3rd Qu.:35.80   3rd Qu.:23.17  \n",
       " Max.   :20.966   Max.   :34.28   Max.   :40.70   Max.   :25.65  \n",
       "   wk_min_tm     wk_avg_min_tmp     wk_avg_hum      wk_min_hum   \n",
       " Min.   : 4.30   Min.   : 8.989   Min.   :61.00   Min.   :11.00  \n",
       " 1st Qu.: 9.30   1st Qu.:14.374   1st Qu.:73.29   1st Qu.:26.00  \n",
       " Median :12.90   Median :17.271   Median :77.22   Median :31.00  \n",
       " Mean   :12.49   Mean   :16.706   Mean   :76.68   Mean   :31.52  \n",
       " 3rd Qu.:15.50   3rd Qu.:19.005   3rd Qu.:80.95   3rd Qu.:38.00  \n",
       " Max.   :18.80   Max.   :21.269   Max.   :89.04   Max.   :51.00  \n",
       " avg_max_blast_w   max_blast_w    avg_wind_speed   wk_avg_precipitation\n",
       " Min.   : 5.574   Min.   : 7.90   Min.   :0.8402   Min.   : 0.0000     \n",
       " 1st Qu.: 7.185   1st Qu.:12.10   1st Qu.:1.3476   1st Qu.: 0.2471     \n",
       " Median : 8.159   Median :14.00   Median :1.5607   Median : 1.7607     \n",
       " Mean   : 8.156   Mean   :14.72   Mean   :1.5756   Mean   : 3.4756     \n",
       " 3rd Qu.: 9.047   3rd Qu.:16.68   3rd Qu.:1.7841   3rd Qu.: 4.9486     \n",
       " Max.   :11.500   Max.   :24.00   Max.   :2.4192   Max.   :24.7143     \n",
       "  num_patients       male_perc      log_num_patients log_wk_avg_precipitation\n",
       " Min.   :   1.00   Min.   :  0.00   Min.   :0.6931   Min.   :0.0000          \n",
       " 1st Qu.:   6.00   1st Qu.: 40.00   1st Qu.:1.9459   1st Qu.:0.2209          \n",
       " Median :  14.50   Median : 46.00   Median :2.7403   Median :1.0155          \n",
       " Mean   : 211.93   Mean   : 47.28   Mean   :3.2109   Mean   :1.0927          \n",
       " 3rd Qu.:  42.75   3rd Qu.: 53.75   3rd Qu.:3.7784   3rd Qu.:1.7832          \n",
       " Max.   :3868.00   Max.   :100.00   Max.   :8.2608   Max.   :3.2470          \n",
       " dry_week_yn alot_of_patients_yn    season.x     ann_mean_tmp  \n",
       " 1:105       1: 71               Min.   :1.00   Min.   :20.22  \n",
       " 0:205       0:239               1st Qu.:1.00   1st Qu.:20.82  \n",
       "                                 Median :3.00   Median :21.15  \n",
       "                                 Mean   :2.51   Mean   :21.00  \n",
       "                                 3rd Qu.:3.75   3rd Qu.:21.26  \n",
       "                                 Max.   :4.00   Max.   :21.36  \n",
       " diurnal_range    mean_diu_range     max_y_temp      min_y_temp    \n",
       " Min.   : 5.954   Min.   : 7.351   Min.   :24.24   Min.   : 8.989  \n",
       " 1st Qu.: 9.192   1st Qu.: 9.758   1st Qu.:27.03   1st Qu.:12.751  \n",
       " Median :10.707   Median :10.566   Median :29.33   Median :15.000  \n",
       " Mean   :10.706   Mean   :10.706   Mean   :29.30   Mean   :15.409  \n",
       " 3rd Qu.:12.054   3rd Qu.:11.606   3rd Qu.:31.19   3rd Qu.:18.214  \n",
       " Max.   :16.789   Max.   :14.055   Max.   :34.28   Max.   :19.666  \n",
       "  annual_range    Isothermality     mean_temp     ann_precipitation\n",
       " Min.   : 8.566   Min.   :57.76   Min.   :16.54   Min.   :144.7    \n",
       " 1st Qu.:12.326   1st Qu.:73.37   1st Qu.:18.68   1st Qu.:148.1    \n",
       " Median :13.829   Median :78.35   Median :21.45   Median :182.4    \n",
       " Mean   :13.887   Mean   :77.68   Mean   :21.00   Mean   :179.2    \n",
       " 3rd Qu.:15.181   3rd Qu.:83.10   3rd Qu.:23.12   3rd Qu.:202.9    \n",
       " Max.   :19.157   Max.   :92.47   Max.   :24.16   Max.   :207.0    \n",
       " monthly_precipitation min_y_precipitation q_precipitation  \n",
       " Min.   : 0.3486       Min.   :0.3486      Min.   :  8.331  \n",
       " 1st Qu.: 3.7493       1st Qu.:0.6000      1st Qu.: 15.993  \n",
       " Median :12.6600       Median :1.3886      Median : 36.811  \n",
       " Mean   :14.8882       Mean   :1.3705      Mean   : 44.300  \n",
       " 3rd Qu.:19.8429       3rd Qu.:1.7529      3rd Qu.: 70.566  \n",
       " Max.   :48.1200       Max.   :2.4743      Max.   :113.191  \n",
       " min_y_q_precipitation max_y_q_precipitation     q_temp          mean_t     \n",
       " Min.   : 8.331        Min.   : 70.57        Min.   :17.93   Min.   :22.57  \n",
       " 1st Qu.: 9.016        1st Qu.: 81.95        1st Qu.:18.82   1st Qu.:22.95  \n",
       " Median : 9.069        Median : 83.66        Median :21.44   Median :23.07  \n",
       " Mean   :13.972        Mean   : 86.89        Mean   :21.00   Mean   :23.14  \n",
       " 3rd Qu.:17.986        3rd Qu.: 88.08        3rd Qu.:22.57   3rd Qu.:23.47  \n",
       " Max.   :24.634        Max.   :113.19        Max.   :23.70   Max.   :23.70  \n",
       "    mean_t_d     percipitation     max_y_q_temp    min_y_q_temp  \n",
       " Min.   :17.93   Min.   : 33.67   Min.   :22.57   Min.   :17.93  \n",
       " 1st Qu.:17.94   1st Qu.: 36.28   1st Qu.:22.95   1st Qu.:17.94  \n",
       " Median :18.18   Median : 38.99   Median :23.07   Median :18.18  \n",
       " Mean   :18.20   Mean   : 62.05   Mean   :23.14   Mean   :18.20  \n",
       " 3rd Qu.:18.53   3rd Qu.: 84.11   3rd Qu.:23.47   3rd Qu.:18.53  \n",
       " Max.   :18.64   Max.   :117.99   Max.   :23.70   Max.   :18.64  \n",
       " max_y_precipitation  seasonality        per_seasonality    \n",
       " Min.   :35.23       Min.   :-0.606673   Min.   :-2.121420  \n",
       " 1st Qu.:36.16       1st Qu.:-0.073143   1st Qu.:-1.105228  \n",
       " Median :40.60       Median :-0.006277   Median :-0.467535  \n",
       " Mean   :40.50       Mean   : 0.001607   Mean   : 0.003349  \n",
       " 3rd Qu.:42.21       3rd Qu.: 0.146133   3rd Qu.: 1.718318  \n",
       " Max.   :48.12       Max.   : 0.386284   Max.   : 2.478258  "
      ]
     },
     "metadata": {},
     "output_type": "display_data"
    }
   ],
   "source": [
    "summary (data)"
   ]
  },
  {
   "cell_type": "code",
   "execution_count": 138,
   "metadata": {},
   "outputs": [],
   "source": [
    "# I will change the dry_week_yn into int for later\n",
    "data$dry_week_yn <- as.integer(data$dry_week_yn)\n"
   ]
  },
  {
   "cell_type": "code",
   "execution_count": 140,
   "metadata": {},
   "outputs": [],
   "source": [
    "data$season.x <- as.integer(data$season.x)\n"
   ]
  },
  {
   "cell_type": "markdown",
   "metadata": {},
   "source": [
    "### Now we can move to the feature selection part. "
   ]
  },
  {
   "cell_type": "code",
   "execution_count": 146,
   "metadata": {},
   "outputs": [],
   "source": [
    "# writing csv to move to the next notebook.\n",
    "write.csv(data, \"final_data_inc_newstuff.csv\", row.names = F)"
   ]
  },
  {
   "cell_type": "code",
   "execution_count": null,
   "metadata": {},
   "outputs": [],
   "source": []
  }
 ],
 "metadata": {
  "kernelspec": {
   "display_name": "R",
   "language": "R",
   "name": "ir"
  },
  "language_info": {
   "codemirror_mode": "r",
   "file_extension": ".r",
   "mimetype": "text/x-r-source",
   "name": "R",
   "pygments_lexer": "r",
   "version": "4.0.4"
  }
 },
 "nbformat": 4,
 "nbformat_minor": 4
}
