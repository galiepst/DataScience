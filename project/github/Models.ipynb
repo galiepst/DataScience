{
 "cells": [
  {
   "cell_type": "code",
   "execution_count": 2,
   "id": "8f6aaca9",
   "metadata": {},
   "outputs": [],
   "source": [
    "library(readr)\n",
    "library(dplyr)\n",
    "library(mltools)\n",
    "library(Metrics)\n",
    "library(forecast)"
   ]
  },
  {
   "cell_type": "code",
   "execution_count": 3,
   "id": "adef6713",
   "metadata": {},
   "outputs": [],
   "source": [
    "regressionMetrics <- function(y,yhat) {\n",
    "    res = cbind('MSE'= Metrics::mse(y,yhat),\n",
    "           'RMSE'= Metrics::rmse(y,yhat),\n",
    "           'MAE'= Metrics::mae(y,yhat),\n",
    "           'MSLE'= Metrics::msle(y, yhat),\n",
    "           'RMSLE'= Metrics::rmsle(y,yhat)     \n",
    "          )\n",
    "    return(res)\n",
    "}"
   ]
  },
  {
   "cell_type": "markdown",
   "id": "a2014119",
   "metadata": {},
   "source": [
    "### Train data"
   ]
  },
  {
   "cell_type": "code",
   "execution_count": 6,
   "id": "792f1b45",
   "metadata": {},
   "outputs": [
    {
     "name": "stderr",
     "output_type": "stream",
     "text": [
      "\n",
      "\u001b[36m--\u001b[39m \u001b[1m\u001b[1mColumn specification\u001b[1m\u001b[22m \u001b[36m------------------------------------------------------------------------------------------------\u001b[39m\n",
      "cols(\n",
      "  .default = col_double()\n",
      ")\n",
      "\u001b[36mi\u001b[39m Use \u001b[30m\u001b[47m\u001b[30m\u001b[47m`spec()`\u001b[47m\u001b[30m\u001b[49m\u001b[39m for the full column specifications.\n",
      "\n",
      "\n"
     ]
    },
    {
     "data": {
      "text/html": [
       "<table class=\"dataframe\">\n",
       "<caption>A data.frame: 6 × 32</caption>\n",
       "<thead>\n",
       "\t<tr><th></th><th scope=col>wk_atm_p</th><th scope=col>wk_dew_p</th><th scope=col>wk_avg_max_tmp</th><th scope=col>wk_avg_tm</th><th scope=col>wk_min_tm</th><th scope=col>wk_avg_min_tmp</th><th scope=col>wk_avg_hum</th><th scope=col>wk_min_hum</th><th scope=col>wk_avg_precipitation</th><th scope=col>num_patients</th><th scope=col>...</th><th scope=col>monthly_precipitation</th><th scope=col>q_precipitation</th><th scope=col>min_y_q_precipitation</th><th scope=col>q_temp</th><th scope=col>mean_t_d</th><th scope=col>percipitation</th><th scope=col>min_y_q_temp</th><th scope=col>max_y_precipitation</th><th scope=col>seasonality</th><th scope=col>per_seasonality</th></tr>\n",
       "\t<tr><th></th><th scope=col>&lt;dbl&gt;</th><th scope=col>&lt;dbl&gt;</th><th scope=col>&lt;dbl&gt;</th><th scope=col>&lt;dbl&gt;</th><th scope=col>&lt;dbl&gt;</th><th scope=col>&lt;dbl&gt;</th><th scope=col>&lt;dbl&gt;</th><th scope=col>&lt;dbl&gt;</th><th scope=col>&lt;dbl&gt;</th><th scope=col>&lt;dbl&gt;</th><th scope=col>...</th><th scope=col>&lt;dbl&gt;</th><th scope=col>&lt;dbl&gt;</th><th scope=col>&lt;dbl&gt;</th><th scope=col>&lt;dbl&gt;</th><th scope=col>&lt;dbl&gt;</th><th scope=col>&lt;dbl&gt;</th><th scope=col>&lt;dbl&gt;</th><th scope=col>&lt;dbl&gt;</th><th scope=col>&lt;dbl&gt;</th><th scope=col>&lt;dbl&gt;</th></tr>\n",
       "</thead>\n",
       "<tbody>\n",
       "\t<tr><th scope=row>1</th><td>946.2505</td><td>17.74683</td><td>30.04929</td><td>23.15242</td><td>14.4</td><td>18.00643</td><td>74.23175</td><td>34</td><td> 0.04571429</td><td> 614</td><td>...</td><td> 7.250667</td><td>39.481619</td><td> 8.331429</td><td>22.64288</td><td>17.92730</td><td>33.67429</td><td>17.92730</td><td>48.12000</td><td> 0.02187120</td><td>0.2064082</td></tr>\n",
       "\t<tr><th scope=row>2</th><td>946.4756</td><td>14.66143</td><td>25.89429</td><td>19.09976</td><td> 8.2</td><td>14.13429</td><td>77.62262</td><td>21</td><td> 0.06285714</td><td>   1</td><td>...</td><td> 5.534762</td><td> 9.069048</td><td> 9.069048</td><td>18.17738</td><td>18.17738</td><td>36.27619</td><td>18.17738</td><td>41.66286</td><td> 0.05185037</td><td>0.3750689</td></tr>\n",
       "\t<tr><th scope=row>3</th><td>943.2068</td><td>19.78702</td><td>26.15143</td><td>21.84917</td><td>16.3</td><td>19.73714</td><td>88.72024</td><td>49</td><td>12.98285714</td><td> 375</td><td>...</td><td>35.451429</td><td>84.497143</td><td>17.985524</td><td>22.56830</td><td>17.93779</td><td>84.11238</td><td>17.93779</td><td>42.20571</td><td>-0.11685832</td><td>2.4634417</td></tr>\n",
       "\t<tr><th scope=row>4</th><td>942.4174</td><td>19.73619</td><td>31.56286</td><td>24.22643</td><td>17.8</td><td>19.97429</td><td>78.17024</td><td>30</td><td> 5.77142857</td><td>3342</td><td>...</td><td>22.128571</td><td>39.481619</td><td> 8.331429</td><td>22.64288</td><td>17.92730</td><td>33.67429</td><td>17.92730</td><td>48.12000</td><td>-0.01727395</td><td>2.4782576</td></tr>\n",
       "\t<tr><th scope=row>5</th><td>943.4837</td><td>15.28879</td><td>22.43714</td><td>18.71194</td><td> 9.4</td><td>15.74286</td><td>82.14782</td><td>30</td><td> 3.87904762</td><td>   2</td><td>...</td><td> 5.534762</td><td> 9.069048</td><td> 9.069048</td><td>18.17738</td><td>18.17738</td><td>36.27619</td><td>18.17738</td><td>41.66286</td><td> 0.05185037</td><td>0.3750689</td></tr>\n",
       "\t<tr><th scope=row>6</th><td>944.0730</td><td>18.96966</td><td>29.72571</td><td>23.27425</td><td>16.0</td><td>18.94286</td><td>78.72044</td><td>37</td><td> 5.22380952</td><td>2757</td><td>...</td><td>10.102381</td><td>39.481619</td><td> 8.331429</td><td>22.64288</td><td>17.92730</td><td>33.67429</td><td>17.92730</td><td>48.12000</td><td>-0.60667298</td><td>2.1660677</td></tr>\n",
       "</tbody>\n",
       "</table>\n"
      ],
      "text/latex": [
       "A data.frame: 6 × 32\n",
       "\\begin{tabular}{r|lllllllllllllllllllll}\n",
       "  & wk\\_atm\\_p & wk\\_dew\\_p & wk\\_avg\\_max\\_tmp & wk\\_avg\\_tm & wk\\_min\\_tm & wk\\_avg\\_min\\_tmp & wk\\_avg\\_hum & wk\\_min\\_hum & wk\\_avg\\_precipitation & num\\_patients & ... & monthly\\_precipitation & q\\_precipitation & min\\_y\\_q\\_precipitation & q\\_temp & mean\\_t\\_d & percipitation & min\\_y\\_q\\_temp & max\\_y\\_precipitation & seasonality & per\\_seasonality\\\\\n",
       "  & <dbl> & <dbl> & <dbl> & <dbl> & <dbl> & <dbl> & <dbl> & <dbl> & <dbl> & <dbl> & ... & <dbl> & <dbl> & <dbl> & <dbl> & <dbl> & <dbl> & <dbl> & <dbl> & <dbl> & <dbl>\\\\\n",
       "\\hline\n",
       "\t1 & 946.2505 & 17.74683 & 30.04929 & 23.15242 & 14.4 & 18.00643 & 74.23175 & 34 &  0.04571429 &  614 & ... &  7.250667 & 39.481619 &  8.331429 & 22.64288 & 17.92730 & 33.67429 & 17.92730 & 48.12000 &  0.02187120 & 0.2064082\\\\\n",
       "\t2 & 946.4756 & 14.66143 & 25.89429 & 19.09976 &  8.2 & 14.13429 & 77.62262 & 21 &  0.06285714 &    1 & ... &  5.534762 &  9.069048 &  9.069048 & 18.17738 & 18.17738 & 36.27619 & 18.17738 & 41.66286 &  0.05185037 & 0.3750689\\\\\n",
       "\t3 & 943.2068 & 19.78702 & 26.15143 & 21.84917 & 16.3 & 19.73714 & 88.72024 & 49 & 12.98285714 &  375 & ... & 35.451429 & 84.497143 & 17.985524 & 22.56830 & 17.93779 & 84.11238 & 17.93779 & 42.20571 & -0.11685832 & 2.4634417\\\\\n",
       "\t4 & 942.4174 & 19.73619 & 31.56286 & 24.22643 & 17.8 & 19.97429 & 78.17024 & 30 &  5.77142857 & 3342 & ... & 22.128571 & 39.481619 &  8.331429 & 22.64288 & 17.92730 & 33.67429 & 17.92730 & 48.12000 & -0.01727395 & 2.4782576\\\\\n",
       "\t5 & 943.4837 & 15.28879 & 22.43714 & 18.71194 &  9.4 & 15.74286 & 82.14782 & 30 &  3.87904762 &    2 & ... &  5.534762 &  9.069048 &  9.069048 & 18.17738 & 18.17738 & 36.27619 & 18.17738 & 41.66286 &  0.05185037 & 0.3750689\\\\\n",
       "\t6 & 944.0730 & 18.96966 & 29.72571 & 23.27425 & 16.0 & 18.94286 & 78.72044 & 37 &  5.22380952 & 2757 & ... & 10.102381 & 39.481619 &  8.331429 & 22.64288 & 17.92730 & 33.67429 & 17.92730 & 48.12000 & -0.60667298 & 2.1660677\\\\\n",
       "\\end{tabular}\n"
      ],
      "text/markdown": [
       "\n",
       "A data.frame: 6 × 32\n",
       "\n",
       "| <!--/--> | wk_atm_p &lt;dbl&gt; | wk_dew_p &lt;dbl&gt; | wk_avg_max_tmp &lt;dbl&gt; | wk_avg_tm &lt;dbl&gt; | wk_min_tm &lt;dbl&gt; | wk_avg_min_tmp &lt;dbl&gt; | wk_avg_hum &lt;dbl&gt; | wk_min_hum &lt;dbl&gt; | wk_avg_precipitation &lt;dbl&gt; | num_patients &lt;dbl&gt; | ... ... | monthly_precipitation &lt;dbl&gt; | q_precipitation &lt;dbl&gt; | min_y_q_precipitation &lt;dbl&gt; | q_temp &lt;dbl&gt; | mean_t_d &lt;dbl&gt; | percipitation &lt;dbl&gt; | min_y_q_temp &lt;dbl&gt; | max_y_precipitation &lt;dbl&gt; | seasonality &lt;dbl&gt; | per_seasonality &lt;dbl&gt; |\n",
       "|---|---|---|---|---|---|---|---|---|---|---|---|---|---|---|---|---|---|---|---|---|---|\n",
       "| 1 | 946.2505 | 17.74683 | 30.04929 | 23.15242 | 14.4 | 18.00643 | 74.23175 | 34 |  0.04571429 |  614 | ... |  7.250667 | 39.481619 |  8.331429 | 22.64288 | 17.92730 | 33.67429 | 17.92730 | 48.12000 |  0.02187120 | 0.2064082 |\n",
       "| 2 | 946.4756 | 14.66143 | 25.89429 | 19.09976 |  8.2 | 14.13429 | 77.62262 | 21 |  0.06285714 |    1 | ... |  5.534762 |  9.069048 |  9.069048 | 18.17738 | 18.17738 | 36.27619 | 18.17738 | 41.66286 |  0.05185037 | 0.3750689 |\n",
       "| 3 | 943.2068 | 19.78702 | 26.15143 | 21.84917 | 16.3 | 19.73714 | 88.72024 | 49 | 12.98285714 |  375 | ... | 35.451429 | 84.497143 | 17.985524 | 22.56830 | 17.93779 | 84.11238 | 17.93779 | 42.20571 | -0.11685832 | 2.4634417 |\n",
       "| 4 | 942.4174 | 19.73619 | 31.56286 | 24.22643 | 17.8 | 19.97429 | 78.17024 | 30 |  5.77142857 | 3342 | ... | 22.128571 | 39.481619 |  8.331429 | 22.64288 | 17.92730 | 33.67429 | 17.92730 | 48.12000 | -0.01727395 | 2.4782576 |\n",
       "| 5 | 943.4837 | 15.28879 | 22.43714 | 18.71194 |  9.4 | 15.74286 | 82.14782 | 30 |  3.87904762 |    2 | ... |  5.534762 |  9.069048 |  9.069048 | 18.17738 | 18.17738 | 36.27619 | 18.17738 | 41.66286 |  0.05185037 | 0.3750689 |\n",
       "| 6 | 944.0730 | 18.96966 | 29.72571 | 23.27425 | 16.0 | 18.94286 | 78.72044 | 37 |  5.22380952 | 2757 | ... | 10.102381 | 39.481619 |  8.331429 | 22.64288 | 17.92730 | 33.67429 | 17.92730 | 48.12000 | -0.60667298 | 2.1660677 |\n",
       "\n"
      ],
      "text/plain": [
       "  wk_atm_p wk_dew_p wk_avg_max_tmp wk_avg_tm wk_min_tm wk_avg_min_tmp\n",
       "1 946.2505 17.74683 30.04929       23.15242  14.4      18.00643      \n",
       "2 946.4756 14.66143 25.89429       19.09976   8.2      14.13429      \n",
       "3 943.2068 19.78702 26.15143       21.84917  16.3      19.73714      \n",
       "4 942.4174 19.73619 31.56286       24.22643  17.8      19.97429      \n",
       "5 943.4837 15.28879 22.43714       18.71194   9.4      15.74286      \n",
       "6 944.0730 18.96966 29.72571       23.27425  16.0      18.94286      \n",
       "  wk_avg_hum wk_min_hum wk_avg_precipitation num_patients ...\n",
       "1 74.23175   34          0.04571429           614         ...\n",
       "2 77.62262   21          0.06285714             1         ...\n",
       "3 88.72024   49         12.98285714           375         ...\n",
       "4 78.17024   30          5.77142857          3342         ...\n",
       "5 82.14782   30          3.87904762             2         ...\n",
       "6 78.72044   37          5.22380952          2757         ...\n",
       "  monthly_precipitation q_precipitation min_y_q_precipitation q_temp   mean_t_d\n",
       "1  7.250667             39.481619        8.331429             22.64288 17.92730\n",
       "2  5.534762              9.069048        9.069048             18.17738 18.17738\n",
       "3 35.451429             84.497143       17.985524             22.56830 17.93779\n",
       "4 22.128571             39.481619        8.331429             22.64288 17.92730\n",
       "5  5.534762              9.069048        9.069048             18.17738 18.17738\n",
       "6 10.102381             39.481619        8.331429             22.64288 17.92730\n",
       "  percipitation min_y_q_temp max_y_precipitation seasonality per_seasonality\n",
       "1 33.67429      17.92730     48.12000             0.02187120 0.2064082      \n",
       "2 36.27619      18.17738     41.66286             0.05185037 0.3750689      \n",
       "3 84.11238      17.93779     42.20571            -0.11685832 2.4634417      \n",
       "4 33.67429      17.92730     48.12000            -0.01727395 2.4782576      \n",
       "5 36.27619      18.17738     41.66286             0.05185037 0.3750689      \n",
       "6 33.67429      17.92730     48.12000            -0.60667298 2.1660677      "
      ]
     },
     "metadata": {},
     "output_type": "display_data"
    }
   ],
   "source": [
    "train <- read_csv('C:/Users/galie/DataScience/project/train19.csv')  %>% as.data.frame\n",
    "head(train)"
   ]
  },
  {
   "cell_type": "markdown",
   "id": "fd54b0f3",
   "metadata": {},
   "source": [
    "### Dev data"
   ]
  },
  {
   "cell_type": "code",
   "execution_count": 75,
   "id": "8d61e53a",
   "metadata": {},
   "outputs": [
    {
     "name": "stderr",
     "output_type": "stream",
     "text": [
      "\n",
      "\u001b[36m--\u001b[39m \u001b[1m\u001b[1mColumn specification\u001b[1m\u001b[22m \u001b[36m------------------------------------------------------------------------------------------------\u001b[39m\n",
      "cols(\n",
      "  .default = col_double()\n",
      ")\n",
      "\u001b[36mi\u001b[39m Use \u001b[30m\u001b[47m\u001b[30m\u001b[47m`spec()`\u001b[47m\u001b[30m\u001b[49m\u001b[39m for the full column specifications.\n",
      "\n",
      "\n"
     ]
    },
    {
     "data": {
      "text/html": [
       "<table class=\"dataframe\">\n",
       "<caption>A data.frame: 6 × 32</caption>\n",
       "<thead>\n",
       "\t<tr><th></th><th scope=col>wk_atm_p</th><th scope=col>wk_dew_p</th><th scope=col>wk_avg_max_tmp</th><th scope=col>wk_avg_tm</th><th scope=col>wk_min_tm</th><th scope=col>wk_avg_min_tmp</th><th scope=col>wk_avg_hum</th><th scope=col>wk_min_hum</th><th scope=col>wk_avg_precipitation</th><th scope=col>num_patients</th><th scope=col>...</th><th scope=col>monthly_precipitation</th><th scope=col>q_precipitation</th><th scope=col>min_y_q_precipitation</th><th scope=col>q_temp</th><th scope=col>mean_t_d</th><th scope=col>percipitation</th><th scope=col>min_y_q_temp</th><th scope=col>max_y_precipitation</th><th scope=col>seasonality</th><th scope=col>per_seasonality</th></tr>\n",
       "\t<tr><th></th><th scope=col>&lt;dbl&gt;</th><th scope=col>&lt;dbl&gt;</th><th scope=col>&lt;dbl&gt;</th><th scope=col>&lt;dbl&gt;</th><th scope=col>&lt;dbl&gt;</th><th scope=col>&lt;dbl&gt;</th><th scope=col>&lt;dbl&gt;</th><th scope=col>&lt;dbl&gt;</th><th scope=col>&lt;dbl&gt;</th><th scope=col>&lt;dbl&gt;</th><th scope=col>...</th><th scope=col>&lt;dbl&gt;</th><th scope=col>&lt;dbl&gt;</th><th scope=col>&lt;dbl&gt;</th><th scope=col>&lt;dbl&gt;</th><th scope=col>&lt;dbl&gt;</th><th scope=col>&lt;dbl&gt;</th><th scope=col>&lt;dbl&gt;</th><th scope=col>&lt;dbl&gt;</th><th scope=col>&lt;dbl&gt;</th><th scope=col>&lt;dbl&gt;</th></tr>\n",
       "</thead>\n",
       "<tbody>\n",
       "\t<tr><th scope=row>1</th><td>942.7839</td><td>18.84619</td><td>31.06000</td><td>24.32833</td><td>16.8</td><td>19.75429</td><td>74.00119</td><td>25</td><td>5.24285714</td><td>  89</td><td>...</td><td>19.1085714</td><td>36.81143</td><td>24.634286</td><td>22.04498</td><td>18.53152</td><td>117.98857</td><td>18.53152</td><td>36.15714</td><td>-0.08966064</td><td>-0.9112564</td></tr>\n",
       "\t<tr><th scope=row>2</th><td>952.3449</td><td>12.02574</td><td>25.75000</td><td>18.04568</td><td> 8.0</td><td>12.65714</td><td>71.27232</td><td>22</td><td>0.01428571</td><td>   4</td><td>...</td><td> 0.8785714</td><td>15.32857</td><td> 9.069048</td><td>20.98666</td><td>18.17738</td><td> 36.27619</td><td>18.17738</td><td>41.66286</td><td> 0.38628365</td><td>-1.1052278</td></tr>\n",
       "\t<tr><th scope=row>3</th><td>945.3398</td><td>19.49063</td><td>30.33357</td><td>23.73659</td><td>15.4</td><td>19.50667</td><td>78.89524</td><td>39</td><td>2.17714286</td><td>2301</td><td>...</td><td>10.1023810</td><td>39.48162</td><td> 8.331429</td><td>22.64288</td><td>17.92730</td><td> 33.67429</td><td>17.92730</td><td>48.12000</td><td>-0.60667298</td><td> 2.1660677</td></tr>\n",
       "\t<tr><th scope=row>4</th><td>947.2357</td><td>13.51964</td><td>25.49143</td><td>18.86726</td><td> 9.8</td><td>13.96000</td><td>73.38690</td><td>30</td><td>0.18285714</td><td>  15</td><td>...</td><td>12.9542857</td><td>36.81143</td><td>24.634286</td><td>22.04498</td><td>18.53152</td><td>117.98857</td><td>18.53152</td><td>36.15714</td><td> 0.38628365</td><td>-1.1052278</td></tr>\n",
       "\t<tr><th scope=row>5</th><td>943.3421</td><td>19.02060</td><td>27.78857</td><td>22.30197</td><td>15.2</td><td>19.05143</td><td>82.96372</td><td>43</td><td>4.76000000</td><td> 526</td><td>...</td><td>12.4971429</td><td>50.40619</td><td>24.634286</td><td>21.70013</td><td>18.53152</td><td>117.98857</td><td>18.53152</td><td>36.15714</td><td> 0.02187120</td><td> 0.2064082</td></tr>\n",
       "\t<tr><th scope=row>6</th><td>946.9232</td><td>13.11190</td><td>24.02000</td><td>17.45310</td><td> 5.5</td><td>13.13429</td><td>78.20714</td><td>16</td><td>0.96000000</td><td>   5</td><td>...</td><td> 2.8228571</td><td>15.06857</td><td>15.068571</td><td>18.63865</td><td>18.63865</td><td> 62.59429</td><td>18.63865</td><td>35.22952</td><td> 0.05185037</td><td> 0.3750689</td></tr>\n",
       "</tbody>\n",
       "</table>\n"
      ],
      "text/latex": [
       "A data.frame: 6 × 32\n",
       "\\begin{tabular}{r|lllllllllllllllllllll}\n",
       "  & wk\\_atm\\_p & wk\\_dew\\_p & wk\\_avg\\_max\\_tmp & wk\\_avg\\_tm & wk\\_min\\_tm & wk\\_avg\\_min\\_tmp & wk\\_avg\\_hum & wk\\_min\\_hum & wk\\_avg\\_precipitation & num\\_patients & ... & monthly\\_precipitation & q\\_precipitation & min\\_y\\_q\\_precipitation & q\\_temp & mean\\_t\\_d & percipitation & min\\_y\\_q\\_temp & max\\_y\\_precipitation & seasonality & per\\_seasonality\\\\\n",
       "  & <dbl> & <dbl> & <dbl> & <dbl> & <dbl> & <dbl> & <dbl> & <dbl> & <dbl> & <dbl> & ... & <dbl> & <dbl> & <dbl> & <dbl> & <dbl> & <dbl> & <dbl> & <dbl> & <dbl> & <dbl>\\\\\n",
       "\\hline\n",
       "\t1 & 942.7839 & 18.84619 & 31.06000 & 24.32833 & 16.8 & 19.75429 & 74.00119 & 25 & 5.24285714 &   89 & ... & 19.1085714 & 36.81143 & 24.634286 & 22.04498 & 18.53152 & 117.98857 & 18.53152 & 36.15714 & -0.08966064 & -0.9112564\\\\\n",
       "\t2 & 952.3449 & 12.02574 & 25.75000 & 18.04568 &  8.0 & 12.65714 & 71.27232 & 22 & 0.01428571 &    4 & ... &  0.8785714 & 15.32857 &  9.069048 & 20.98666 & 18.17738 &  36.27619 & 18.17738 & 41.66286 &  0.38628365 & -1.1052278\\\\\n",
       "\t3 & 945.3398 & 19.49063 & 30.33357 & 23.73659 & 15.4 & 19.50667 & 78.89524 & 39 & 2.17714286 & 2301 & ... & 10.1023810 & 39.48162 &  8.331429 & 22.64288 & 17.92730 &  33.67429 & 17.92730 & 48.12000 & -0.60667298 &  2.1660677\\\\\n",
       "\t4 & 947.2357 & 13.51964 & 25.49143 & 18.86726 &  9.8 & 13.96000 & 73.38690 & 30 & 0.18285714 &   15 & ... & 12.9542857 & 36.81143 & 24.634286 & 22.04498 & 18.53152 & 117.98857 & 18.53152 & 36.15714 &  0.38628365 & -1.1052278\\\\\n",
       "\t5 & 943.3421 & 19.02060 & 27.78857 & 22.30197 & 15.2 & 19.05143 & 82.96372 & 43 & 4.76000000 &  526 & ... & 12.4971429 & 50.40619 & 24.634286 & 21.70013 & 18.53152 & 117.98857 & 18.53152 & 36.15714 &  0.02187120 &  0.2064082\\\\\n",
       "\t6 & 946.9232 & 13.11190 & 24.02000 & 17.45310 &  5.5 & 13.13429 & 78.20714 & 16 & 0.96000000 &    5 & ... &  2.8228571 & 15.06857 & 15.068571 & 18.63865 & 18.63865 &  62.59429 & 18.63865 & 35.22952 &  0.05185037 &  0.3750689\\\\\n",
       "\\end{tabular}\n"
      ],
      "text/markdown": [
       "\n",
       "A data.frame: 6 × 32\n",
       "\n",
       "| <!--/--> | wk_atm_p &lt;dbl&gt; | wk_dew_p &lt;dbl&gt; | wk_avg_max_tmp &lt;dbl&gt; | wk_avg_tm &lt;dbl&gt; | wk_min_tm &lt;dbl&gt; | wk_avg_min_tmp &lt;dbl&gt; | wk_avg_hum &lt;dbl&gt; | wk_min_hum &lt;dbl&gt; | wk_avg_precipitation &lt;dbl&gt; | num_patients &lt;dbl&gt; | ... ... | monthly_precipitation &lt;dbl&gt; | q_precipitation &lt;dbl&gt; | min_y_q_precipitation &lt;dbl&gt; | q_temp &lt;dbl&gt; | mean_t_d &lt;dbl&gt; | percipitation &lt;dbl&gt; | min_y_q_temp &lt;dbl&gt; | max_y_precipitation &lt;dbl&gt; | seasonality &lt;dbl&gt; | per_seasonality &lt;dbl&gt; |\n",
       "|---|---|---|---|---|---|---|---|---|---|---|---|---|---|---|---|---|---|---|---|---|---|\n",
       "| 1 | 942.7839 | 18.84619 | 31.06000 | 24.32833 | 16.8 | 19.75429 | 74.00119 | 25 | 5.24285714 |   89 | ... | 19.1085714 | 36.81143 | 24.634286 | 22.04498 | 18.53152 | 117.98857 | 18.53152 | 36.15714 | -0.08966064 | -0.9112564 |\n",
       "| 2 | 952.3449 | 12.02574 | 25.75000 | 18.04568 |  8.0 | 12.65714 | 71.27232 | 22 | 0.01428571 |    4 | ... |  0.8785714 | 15.32857 |  9.069048 | 20.98666 | 18.17738 |  36.27619 | 18.17738 | 41.66286 |  0.38628365 | -1.1052278 |\n",
       "| 3 | 945.3398 | 19.49063 | 30.33357 | 23.73659 | 15.4 | 19.50667 | 78.89524 | 39 | 2.17714286 | 2301 | ... | 10.1023810 | 39.48162 |  8.331429 | 22.64288 | 17.92730 |  33.67429 | 17.92730 | 48.12000 | -0.60667298 |  2.1660677 |\n",
       "| 4 | 947.2357 | 13.51964 | 25.49143 | 18.86726 |  9.8 | 13.96000 | 73.38690 | 30 | 0.18285714 |   15 | ... | 12.9542857 | 36.81143 | 24.634286 | 22.04498 | 18.53152 | 117.98857 | 18.53152 | 36.15714 |  0.38628365 | -1.1052278 |\n",
       "| 5 | 943.3421 | 19.02060 | 27.78857 | 22.30197 | 15.2 | 19.05143 | 82.96372 | 43 | 4.76000000 |  526 | ... | 12.4971429 | 50.40619 | 24.634286 | 21.70013 | 18.53152 | 117.98857 | 18.53152 | 36.15714 |  0.02187120 |  0.2064082 |\n",
       "| 6 | 946.9232 | 13.11190 | 24.02000 | 17.45310 |  5.5 | 13.13429 | 78.20714 | 16 | 0.96000000 |    5 | ... |  2.8228571 | 15.06857 | 15.068571 | 18.63865 | 18.63865 |  62.59429 | 18.63865 | 35.22952 |  0.05185037 |  0.3750689 |\n",
       "\n"
      ],
      "text/plain": [
       "  wk_atm_p wk_dew_p wk_avg_max_tmp wk_avg_tm wk_min_tm wk_avg_min_tmp\n",
       "1 942.7839 18.84619 31.06000       24.32833  16.8      19.75429      \n",
       "2 952.3449 12.02574 25.75000       18.04568   8.0      12.65714      \n",
       "3 945.3398 19.49063 30.33357       23.73659  15.4      19.50667      \n",
       "4 947.2357 13.51964 25.49143       18.86726   9.8      13.96000      \n",
       "5 943.3421 19.02060 27.78857       22.30197  15.2      19.05143      \n",
       "6 946.9232 13.11190 24.02000       17.45310   5.5      13.13429      \n",
       "  wk_avg_hum wk_min_hum wk_avg_precipitation num_patients ...\n",
       "1 74.00119   25         5.24285714             89         ...\n",
       "2 71.27232   22         0.01428571              4         ...\n",
       "3 78.89524   39         2.17714286           2301         ...\n",
       "4 73.38690   30         0.18285714             15         ...\n",
       "5 82.96372   43         4.76000000            526         ...\n",
       "6 78.20714   16         0.96000000              5         ...\n",
       "  monthly_precipitation q_precipitation min_y_q_precipitation q_temp   mean_t_d\n",
       "1 19.1085714            36.81143        24.634286             22.04498 18.53152\n",
       "2  0.8785714            15.32857         9.069048             20.98666 18.17738\n",
       "3 10.1023810            39.48162         8.331429             22.64288 17.92730\n",
       "4 12.9542857            36.81143        24.634286             22.04498 18.53152\n",
       "5 12.4971429            50.40619        24.634286             21.70013 18.53152\n",
       "6  2.8228571            15.06857        15.068571             18.63865 18.63865\n",
       "  percipitation min_y_q_temp max_y_precipitation seasonality per_seasonality\n",
       "1 117.98857     18.53152     36.15714            -0.08966064 -0.9112564     \n",
       "2  36.27619     18.17738     41.66286             0.38628365 -1.1052278     \n",
       "3  33.67429     17.92730     48.12000            -0.60667298  2.1660677     \n",
       "4 117.98857     18.53152     36.15714             0.38628365 -1.1052278     \n",
       "5 117.98857     18.53152     36.15714             0.02187120  0.2064082     \n",
       "6  62.59429     18.63865     35.22952             0.05185037  0.3750689     "
      ]
     },
     "metadata": {},
     "output_type": "display_data"
    }
   ],
   "source": [
    "dev <- read_csv('C:/Users/galie/DataScience/project/dev19.csv')  %>% as.data.frame\n",
    "head(dev)"
   ]
  },
  {
   "cell_type": "markdown",
   "id": "c400b625",
   "metadata": {},
   "source": [
    "### Supervised models"
   ]
  },
  {
   "cell_type": "code",
   "execution_count": 9,
   "id": "d326ab84",
   "metadata": {},
   "outputs": [],
   "source": [
    "library(tree)\n",
    "library(ranger)\n",
    "library(xgboost)\n",
    "#library(class)\n",
    "library(e1071)\n",
    "#library(FNN)"
   ]
  },
  {
   "cell_type": "code",
   "execution_count": 10,
   "id": "bfe2ec15",
   "metadata": {},
   "outputs": [],
   "source": [
    "models_list <- NULL"
   ]
  },
  {
   "cell_type": "markdown",
   "id": "0837c5b7",
   "metadata": {},
   "source": [
    "### Linear model"
   ]
  },
  {
   "cell_type": "code",
   "execution_count": 18,
   "id": "e5a7ea5e",
   "metadata": {},
   "outputs": [
    {
     "name": "stderr",
     "output_type": "stream",
     "text": [
      "Warning message in predict.lm(mod1, newdata = train):\n",
      "\"prediction from a rank-deficient fit may be misleading\"\n"
     ]
    }
   ],
   "source": [
    "mod1 <- lm(log_num_patients ~., data=train)\n",
    "pred1 <- predict(mod1, newdata=train)"
   ]
  },
  {
   "cell_type": "code",
   "execution_count": 14,
   "id": "a6ccfcc7",
   "metadata": {},
   "outputs": [
    {
     "data": {
      "text/plain": [
       "   Min. 1st Qu.  Median    Mean 3rd Qu.    Max. \n",
       "  1.000   2.406   3.595   4.097   5.736   9.509 "
      ]
     },
     "metadata": {},
     "output_type": "display_data"
    }
   ],
   "source": [
    "summary(pred1)"
   ]
  },
  {
   "cell_type": "code",
   "execution_count": 16,
   "id": "53435df0",
   "metadata": {},
   "outputs": [],
   "source": [
    "outcome <- train$log_num_patients"
   ]
  },
  {
   "cell_type": "code",
   "execution_count": 20,
   "id": "592f6809",
   "metadata": {},
   "outputs": [
    {
     "name": "stderr",
     "output_type": "stream",
     "text": [
      "Warning message in predict.lm(mod1, dev):\n",
      "\"prediction from a rank-deficient fit may be misleading\"\n"
     ]
    }
   ],
   "source": [
    "prediction <- predict(mod1, dev)\n",
    "model_output <- cbind(dev, prediction)"
   ]
  },
  {
   "cell_type": "code",
   "execution_count": 21,
   "id": "2397351c",
   "metadata": {},
   "outputs": [
    {
     "data": {
      "text/html": [
       "<table class=\"dataframe\">\n",
       "<caption>A matrix: 1 × 5 of type dbl</caption>\n",
       "<thead>\n",
       "\t<tr><th scope=col>MSE</th><th scope=col>RMSE</th><th scope=col>MAE</th><th scope=col>MSLE</th><th scope=col>RMSLE</th></tr>\n",
       "</thead>\n",
       "<tbody>\n",
       "\t<tr><td>0.2568746</td><td>0.506828</td><td>0.4062308</td><td>0.01775691</td><td>0.133255</td></tr>\n",
       "</tbody>\n",
       "</table>\n"
      ],
      "text/latex": [
       "A matrix: 1 × 5 of type dbl\n",
       "\\begin{tabular}{lllll}\n",
       " MSE & RMSE & MAE & MSLE & RMSLE\\\\\n",
       "\\hline\n",
       "\t 0.2568746 & 0.506828 & 0.4062308 & 0.01775691 & 0.133255\\\\\n",
       "\\end{tabular}\n"
      ],
      "text/markdown": [
       "\n",
       "A matrix: 1 × 5 of type dbl\n",
       "\n",
       "| MSE | RMSE | MAE | MSLE | RMSLE |\n",
       "|---|---|---|---|---|\n",
       "| 0.2568746 | 0.506828 | 0.4062308 | 0.01775691 | 0.133255 |\n",
       "\n"
      ],
      "text/plain": [
       "     MSE       RMSE     MAE       MSLE       RMSLE   \n",
       "[1,] 0.2568746 0.506828 0.4062308 0.01775691 0.133255"
      ]
     },
     "metadata": {},
     "output_type": "display_data"
    }
   ],
   "source": [
    "regressionMetrics(train$log_num_patients, pred1)"
   ]
  },
  {
   "cell_type": "code",
   "execution_count": 22,
   "id": "67322adf",
   "metadata": {},
   "outputs": [
    {
     "data": {
      "image/png": "[encoded data removed]",
      "text/plain": [
       "plot without title"
      ]
     },
     "metadata": {
      "image/png": {
       "height": 420,
       "width": 420
      }
     },
     "output_type": "display_data"
    }
   ],
   "source": [
    "plot(model_output$log_num_patients,model_output$prediction)"
   ]
  },
  {
   "cell_type": "code",
   "execution_count": 24,
   "id": "2fc0e3f9",
   "metadata": {},
   "outputs": [
    {
     "data": {
      "text/html": [
       "<table class=\"dataframe\">\n",
       "<caption>A data.frame: 1 × 6</caption>\n",
       "<thead>\n",
       "\t<tr><th scope=col>model</th><th scope=col>MSE</th><th scope=col>RMSE</th><th scope=col>MAE</th><th scope=col>MSLE</th><th scope=col>RMSLE</th></tr>\n",
       "\t<tr><th scope=col>&lt;chr&gt;</th><th scope=col>&lt;dbl&gt;</th><th scope=col>&lt;dbl&gt;</th><th scope=col>&lt;dbl&gt;</th><th scope=col>&lt;dbl&gt;</th><th scope=col>&lt;dbl&gt;</th></tr>\n",
       "</thead>\n",
       "<tbody>\n",
       "\t<tr><td>Linear Regression</td><td>0.2568746</td><td>0.506828</td><td>0.4062308</td><td>0.01775691</td><td>0.133255</td></tr>\n",
       "</tbody>\n",
       "</table>\n"
      ],
      "text/latex": [
       "A data.frame: 1 × 6\n",
       "\\begin{tabular}{llllll}\n",
       " model & MSE & RMSE & MAE & MSLE & RMSLE\\\\\n",
       " <chr> & <dbl> & <dbl> & <dbl> & <dbl> & <dbl>\\\\\n",
       "\\hline\n",
       "\t Linear Regression & 0.2568746 & 0.506828 & 0.4062308 & 0.01775691 & 0.133255\\\\\n",
       "\\end{tabular}\n"
      ],
      "text/markdown": [
       "\n",
       "A data.frame: 1 × 6\n",
       "\n",
       "| model &lt;chr&gt; | MSE &lt;dbl&gt; | RMSE &lt;dbl&gt; | MAE &lt;dbl&gt; | MSLE &lt;dbl&gt; | RMSLE &lt;dbl&gt; |\n",
       "|---|---|---|---|---|---|\n",
       "| Linear Regression | 0.2568746 | 0.506828 | 0.4062308 | 0.01775691 | 0.133255 |\n",
       "\n"
      ],
      "text/plain": [
       "  model             MSE       RMSE     MAE       MSLE       RMSLE   \n",
       "1 Linear Regression 0.2568746 0.506828 0.4062308 0.01775691 0.133255"
      ]
     },
     "metadata": {},
     "output_type": "display_data"
    }
   ],
   "source": [
    "models_list = rbind(data.frame(model= \"Linear Regression\", regressionMetrics(train$log_num_patients, pred1)))\n",
    "models_list"
   ]
  },
  {
   "cell_type": "markdown",
   "id": "0a0f9a3f",
   "metadata": {},
   "source": [
    "### Decision Tree"
   ]
  },
  {
   "cell_type": "code",
   "execution_count": 25,
   "id": "3a36c5ee",
   "metadata": {},
   "outputs": [],
   "source": [
    "mod2 <- tree(log_num_patients ~., data=train)\n",
    "pred2 <- predict(mod2, newdata = train)"
   ]
  },
  {
   "cell_type": "code",
   "execution_count": 27,
   "id": "a13269df",
   "metadata": {},
   "outputs": [
    {
     "data": {
      "text/html": [
       "<table class=\"dataframe\">\n",
       "<caption>A data.frame: 2 × 6</caption>\n",
       "<thead>\n",
       "\t<tr><th scope=col>model</th><th scope=col>MSE</th><th scope=col>RMSE</th><th scope=col>MAE</th><th scope=col>MSLE</th><th scope=col>RMSLE</th></tr>\n",
       "\t<tr><th scope=col>&lt;chr&gt;</th><th scope=col>&lt;dbl&gt;</th><th scope=col>&lt;dbl&gt;</th><th scope=col>&lt;dbl&gt;</th><th scope=col>&lt;dbl&gt;</th><th scope=col>&lt;dbl&gt;</th></tr>\n",
       "</thead>\n",
       "<tbody>\n",
       "\t<tr><td>Linear Regression</td><td>0.2568746</td><td>0.5068280</td><td>0.4062308</td><td>0.017756907</td><td>0.13325504</td></tr>\n",
       "\t<tr><td>Decision Tree    </td><td>0.0752965</td><td>0.2744021</td><td>0.2249258</td><td>0.007406801</td><td>0.08606277</td></tr>\n",
       "</tbody>\n",
       "</table>\n"
      ],
      "text/latex": [
       "A data.frame: 2 × 6\n",
       "\\begin{tabular}{llllll}\n",
       " model & MSE & RMSE & MAE & MSLE & RMSLE\\\\\n",
       " <chr> & <dbl> & <dbl> & <dbl> & <dbl> & <dbl>\\\\\n",
       "\\hline\n",
       "\t Linear Regression & 0.2568746 & 0.5068280 & 0.4062308 & 0.017756907 & 0.13325504\\\\\n",
       "\t Decision Tree     & 0.0752965 & 0.2744021 & 0.2249258 & 0.007406801 & 0.08606277\\\\\n",
       "\\end{tabular}\n"
      ],
      "text/markdown": [
       "\n",
       "A data.frame: 2 × 6\n",
       "\n",
       "| model &lt;chr&gt; | MSE &lt;dbl&gt; | RMSE &lt;dbl&gt; | MAE &lt;dbl&gt; | MSLE &lt;dbl&gt; | RMSLE &lt;dbl&gt; |\n",
       "|---|---|---|---|---|---|\n",
       "| Linear Regression | 0.2568746 | 0.5068280 | 0.4062308 | 0.017756907 | 0.13325504 |\n",
       "| Decision Tree     | 0.0752965 | 0.2744021 | 0.2249258 | 0.007406801 | 0.08606277 |\n",
       "\n"
      ],
      "text/plain": [
       "  model             MSE       RMSE      MAE       MSLE        RMSLE     \n",
       "1 Linear Regression 0.2568746 0.5068280 0.4062308 0.017756907 0.13325504\n",
       "2 Decision Tree     0.0752965 0.2744021 0.2249258 0.007406801 0.08606277"
      ]
     },
     "metadata": {},
     "output_type": "display_data"
    }
   ],
   "source": [
    "models_list = rbind(models_list,data.frame(model= \"Decision Tree\", regressionMetrics(train$log_num_patients, pred2)))\n",
    "models_list"
   ]
  },
  {
   "cell_type": "code",
   "execution_count": 29,
   "id": "5ff12e22",
   "metadata": {},
   "outputs": [
    {
     "name": "stderr",
     "output_type": "stream",
     "text": [
      "Warning message:\n",
      "\"package 'partykit' was built under R version 4.0.5\"\n",
      "Loading required package: grid\n",
      "\n",
      "Loading required package: libcoin\n",
      "\n",
      "Warning message:\n",
      "\"package 'libcoin' was built under R version 4.0.5\"\n",
      "Loading required package: mvtnorm\n",
      "\n"
     ]
    }
   ],
   "source": [
    "library(partykit)\n",
    "mod2a <- ctree(log_num_patients ~., data=train)\n",
    "pred2a <- predict(mod2a, newdata = train)"
   ]
  },
  {
   "cell_type": "code",
   "execution_count": 32,
   "id": "68d29dce",
   "metadata": {},
   "outputs": [
    {
     "data": {
      "text/html": [
       "<table class=\"dataframe\">\n",
       "<caption>A data.frame: 3 × 6</caption>\n",
       "<thead>\n",
       "\t<tr><th scope=col>model</th><th scope=col>MSE</th><th scope=col>RMSE</th><th scope=col>MAE</th><th scope=col>MSLE</th><th scope=col>RMSLE</th></tr>\n",
       "\t<tr><th scope=col>&lt;chr&gt;</th><th scope=col>&lt;dbl&gt;</th><th scope=col>&lt;dbl&gt;</th><th scope=col>&lt;dbl&gt;</th><th scope=col>&lt;dbl&gt;</th><th scope=col>&lt;dbl&gt;</th></tr>\n",
       "</thead>\n",
       "<tbody>\n",
       "\t<tr><td>Linear Regression        </td><td>0.256874639</td><td>0.50682802</td><td>0.40623082</td><td>0.0177569067</td><td>0.13325504</td></tr>\n",
       "\t<tr><td>Decision Tree            </td><td>0.075296499</td><td>0.27440208</td><td>0.22492576</td><td>0.0074068005</td><td>0.08606277</td></tr>\n",
       "\t<tr><td>Conditional Decision Tree</td><td>0.006439474</td><td>0.08024633</td><td>0.05719345</td><td>0.0007057612</td><td>0.02656617</td></tr>\n",
       "</tbody>\n",
       "</table>\n"
      ],
      "text/latex": [
       "A data.frame: 3 × 6\n",
       "\\begin{tabular}{llllll}\n",
       " model & MSE & RMSE & MAE & MSLE & RMSLE\\\\\n",
       " <chr> & <dbl> & <dbl> & <dbl> & <dbl> & <dbl>\\\\\n",
       "\\hline\n",
       "\t Linear Regression         & 0.256874639 & 0.50682802 & 0.40623082 & 0.0177569067 & 0.13325504\\\\\n",
       "\t Decision Tree             & 0.075296499 & 0.27440208 & 0.22492576 & 0.0074068005 & 0.08606277\\\\\n",
       "\t Conditional Decision Tree & 0.006439474 & 0.08024633 & 0.05719345 & 0.0007057612 & 0.02656617\\\\\n",
       "\\end{tabular}\n"
      ],
      "text/markdown": [
       "\n",
       "A data.frame: 3 × 6\n",
       "\n",
       "| model &lt;chr&gt; | MSE &lt;dbl&gt; | RMSE &lt;dbl&gt; | MAE &lt;dbl&gt; | MSLE &lt;dbl&gt; | RMSLE &lt;dbl&gt; |\n",
       "|---|---|---|---|---|---|\n",
       "| Linear Regression         | 0.256874639 | 0.50682802 | 0.40623082 | 0.0177569067 | 0.13325504 |\n",
       "| Decision Tree             | 0.075296499 | 0.27440208 | 0.22492576 | 0.0074068005 | 0.08606277 |\n",
       "| Conditional Decision Tree | 0.006439474 | 0.08024633 | 0.05719345 | 0.0007057612 | 0.02656617 |\n",
       "\n"
      ],
      "text/plain": [
       "  model                     MSE         RMSE       MAE        MSLE        \n",
       "1 Linear Regression         0.256874639 0.50682802 0.40623082 0.0177569067\n",
       "2 Decision Tree             0.075296499 0.27440208 0.22492576 0.0074068005\n",
       "3 Conditional Decision Tree 0.006439474 0.08024633 0.05719345 0.0007057612\n",
       "  RMSLE     \n",
       "1 0.13325504\n",
       "2 0.08606277\n",
       "3 0.02656617"
      ]
     },
     "metadata": {},
     "output_type": "display_data"
    }
   ],
   "source": [
    "models_list = rbind(models_list,data.frame(model= \"Conditional Decision Tree\", regressionMetrics(train$log_num_patients, pred2a)))\n",
    "models_list "
   ]
  },
  {
   "cell_type": "markdown",
   "id": "d890dde3",
   "metadata": {},
   "source": [
    "### Random Forest"
   ]
  },
  {
   "cell_type": "code",
   "execution_count": 35,
   "id": "0c568770",
   "metadata": {},
   "outputs": [
    {
     "data": {
      "text/html": [
       "<table class=\"dataframe\">\n",
       "<caption>A data.frame: 4 × 6</caption>\n",
       "<thead>\n",
       "\t<tr><th scope=col>model</th><th scope=col>MSE</th><th scope=col>RMSE</th><th scope=col>MAE</th><th scope=col>MSLE</th><th scope=col>RMSLE</th></tr>\n",
       "\t<tr><th scope=col>&lt;chr&gt;</th><th scope=col>&lt;dbl&gt;</th><th scope=col>&lt;dbl&gt;</th><th scope=col>&lt;dbl&gt;</th><th scope=col>&lt;dbl&gt;</th><th scope=col>&lt;dbl&gt;</th></tr>\n",
       "</thead>\n",
       "<tbody>\n",
       "\t<tr><td>Linear Regression        </td><td>0.256874639</td><td>0.50682802</td><td>0.40623082</td><td>0.0177569067</td><td>0.13325504</td></tr>\n",
       "\t<tr><td>Decision Tree            </td><td>0.075296499</td><td>0.27440208</td><td>0.22492576</td><td>0.0074068005</td><td>0.08606277</td></tr>\n",
       "\t<tr><td>Conditional Decision Tree</td><td>0.006439474</td><td>0.08024633</td><td>0.05719345</td><td>0.0007057612</td><td>0.02656617</td></tr>\n",
       "\t<tr><td>Random Forest            </td><td>0.016131487</td><td>0.12700979</td><td>0.08523833</td><td>0.0017205434</td><td>0.04147943</td></tr>\n",
       "</tbody>\n",
       "</table>\n"
      ],
      "text/latex": [
       "A data.frame: 4 × 6\n",
       "\\begin{tabular}{llllll}\n",
       " model & MSE & RMSE & MAE & MSLE & RMSLE\\\\\n",
       " <chr> & <dbl> & <dbl> & <dbl> & <dbl> & <dbl>\\\\\n",
       "\\hline\n",
       "\t Linear Regression         & 0.256874639 & 0.50682802 & 0.40623082 & 0.0177569067 & 0.13325504\\\\\n",
       "\t Decision Tree             & 0.075296499 & 0.27440208 & 0.22492576 & 0.0074068005 & 0.08606277\\\\\n",
       "\t Conditional Decision Tree & 0.006439474 & 0.08024633 & 0.05719345 & 0.0007057612 & 0.02656617\\\\\n",
       "\t Random Forest             & 0.016131487 & 0.12700979 & 0.08523833 & 0.0017205434 & 0.04147943\\\\\n",
       "\\end{tabular}\n"
      ],
      "text/markdown": [
       "\n",
       "A data.frame: 4 × 6\n",
       "\n",
       "| model &lt;chr&gt; | MSE &lt;dbl&gt; | RMSE &lt;dbl&gt; | MAE &lt;dbl&gt; | MSLE &lt;dbl&gt; | RMSLE &lt;dbl&gt; |\n",
       "|---|---|---|---|---|---|\n",
       "| Linear Regression         | 0.256874639 | 0.50682802 | 0.40623082 | 0.0177569067 | 0.13325504 |\n",
       "| Decision Tree             | 0.075296499 | 0.27440208 | 0.22492576 | 0.0074068005 | 0.08606277 |\n",
       "| Conditional Decision Tree | 0.006439474 | 0.08024633 | 0.05719345 | 0.0007057612 | 0.02656617 |\n",
       "| Random Forest             | 0.016131487 | 0.12700979 | 0.08523833 | 0.0017205434 | 0.04147943 |\n",
       "\n"
      ],
      "text/plain": [
       "  model                     MSE         RMSE       MAE        MSLE        \n",
       "1 Linear Regression         0.256874639 0.50682802 0.40623082 0.0177569067\n",
       "2 Decision Tree             0.075296499 0.27440208 0.22492576 0.0074068005\n",
       "3 Conditional Decision Tree 0.006439474 0.08024633 0.05719345 0.0007057612\n",
       "4 Random Forest             0.016131487 0.12700979 0.08523833 0.0017205434\n",
       "  RMSLE     \n",
       "1 0.13325504\n",
       "2 0.08606277\n",
       "3 0.02656617\n",
       "4 0.04147943"
      ]
     },
     "metadata": {},
     "output_type": "display_data"
    },
    {
     "data": {
      "image/png": "[encoded data removed]",
      "text/plain": [
       "plot without title"
      ]
     },
     "metadata": {
      "image/png": {
       "height": 420,
       "width": 420
      }
     },
     "output_type": "display_data"
    }
   ],
   "source": [
    "mod3 <- ranger(log_num_patients ~., data=train)\n",
    "pred3 <- predict(mod3, data=train)\n",
    "\n",
    "models_list = rbind(models_list, data.frame(model= \"Random Forest\", regressionMetrics(train$log_num_patients, pred3$predictions)))\n",
    "models_list\n",
    "\n",
    "plot(train$log_num_patients ~ pred3$predictions)"
   ]
  },
  {
   "cell_type": "markdown",
   "id": "75b5c140",
   "metadata": {},
   "source": [
    "### Gradient Boosting Machine (GBM)"
   ]
  },
  {
   "cell_type": "code",
   "execution_count": null,
   "id": "80ce19b9",
   "metadata": {},
   "outputs": [],
   "source": [
    "# This requires the transformation of the data into a matrix"
   ]
  },
  {
   "cell_type": "code",
   "execution_count": 37,
   "id": "5bc02a9b",
   "metadata": {},
   "outputs": [],
   "source": [
    "nm <- names(train)\n",
    "nn <- setdiff(nm,'log_num_patients')\n",
    "X <- as.matrix(train[,nn])\n",
    "y <- as.numeric(train$log_num_patients)"
   ]
  },
  {
   "cell_type": "code",
   "execution_count": 38,
   "id": "f21916a1",
   "metadata": {},
   "outputs": [],
   "source": [
    "data <- xgb.DMatrix(X, label = y)"
   ]
  },
  {
   "cell_type": "code",
   "execution_count": 39,
   "id": "be2044fd",
   "metadata": {},
   "outputs": [
    {
     "name": "stdout",
     "output_type": "stream",
     "text": [
      "[1]\ttrain-rmse:2.946448 \n",
      "[11]\ttrain-rmse:0.105897 \n",
      "[21]\ttrain-rmse:0.008946 \n",
      "[31]\ttrain-rmse:0.003093 \n",
      "[41]\ttrain-rmse:0.001234 \n",
      "[51]\ttrain-rmse:0.000691 \n",
      "[61]\ttrain-rmse:0.000691 \n",
      "[71]\ttrain-rmse:0.000691 \n",
      "[81]\ttrain-rmse:0.000691 \n",
      "[91]\ttrain-rmse:0.000691 \n",
      "[100]\ttrain-rmse:0.000691 \n"
     ]
    }
   ],
   "source": [
    "set.seed(1)\n",
    "mod4 = xgboost(data,nrounds = 100,print_every_n = 10)"
   ]
  },
  {
   "cell_type": "code",
   "execution_count": 42,
   "id": "823b49d1",
   "metadata": {},
   "outputs": [],
   "source": [
    "nm1 <- names(dev)\n",
    "nn1 <- setdiff(nm,'log_num_patients')\n",
    "X1 <- as.matrix(dev[,nn])\n",
    "y1<- as.numeric(dev$log_num_patients)"
   ]
  },
  {
   "cell_type": "code",
   "execution_count": 52,
   "id": "8a428849",
   "metadata": {},
   "outputs": [],
   "source": [
    "data1 <- xgb.DMatrix(X1, label = y1)"
   ]
  },
  {
   "cell_type": "code",
   "execution_count": 59,
   "id": "0732313e",
   "metadata": {},
   "outputs": [],
   "source": [
    "pred4 = predict(mod4, newdata = data1)"
   ]
  },
  {
   "cell_type": "code",
   "execution_count": 71,
   "id": "bc2a13b7",
   "metadata": {},
   "outputs": [
    {
     "name": "stderr",
     "output_type": "stream",
     "text": [
      "Warning message in actual - predicted:\n",
      "\"longer object length is not a multiple of shorter object length\"\n",
      "Warning message in actual - predicted:\n",
      "\"longer object length is not a multiple of shorter object length\"\n",
      "Warning message in actual - predicted:\n",
      "\"longer object length is not a multiple of shorter object length\"\n",
      "Warning message in log(1 + actual) - log(1 + predicted):\n",
      "\"longer object length is not a multiple of shorter object length\"\n",
      "Warning message in log(1 + actual) - log(1 + predicted):\n",
      "\"longer object length is not a multiple of shorter object length\"\n"
     ]
    },
    {
     "data": {
      "text/html": [
       "<table class=\"dataframe\">\n",
       "<caption>A data.frame: 5 × 6</caption>\n",
       "<thead>\n",
       "\t<tr><th scope=col>model</th><th scope=col>MSE</th><th scope=col>RMSE</th><th scope=col>MAE</th><th scope=col>MSLE</th><th scope=col>RMSLE</th></tr>\n",
       "\t<tr><th scope=col>&lt;chr&gt;</th><th scope=col>&lt;dbl&gt;</th><th scope=col>&lt;dbl&gt;</th><th scope=col>&lt;dbl&gt;</th><th scope=col>&lt;dbl&gt;</th><th scope=col>&lt;dbl&gt;</th></tr>\n",
       "</thead>\n",
       "<tbody>\n",
       "\t<tr><td>Linear Regression        </td><td>0.256874639</td><td>0.50682802</td><td>0.40623082</td><td>0.0177569067</td><td>0.13325504</td></tr>\n",
       "\t<tr><td>Decision Tree            </td><td>0.075296499</td><td>0.27440208</td><td>0.22492576</td><td>0.0074068005</td><td>0.08606277</td></tr>\n",
       "\t<tr><td>Conditional Decision Tree</td><td>0.006439474</td><td>0.08024633</td><td>0.05719345</td><td>0.0007057612</td><td>0.02656617</td></tr>\n",
       "\t<tr><td>Random Forest            </td><td>0.016131487</td><td>0.12700979</td><td>0.08523833</td><td>0.0017205434</td><td>0.04147943</td></tr>\n",
       "\t<tr><td>XGBoost                  </td><td>8.884993100</td><td>2.98077055</td><td>2.46881759</td><td>0.3692565148</td><td>0.60766480</td></tr>\n",
       "</tbody>\n",
       "</table>\n"
      ],
      "text/latex": [
       "A data.frame: 5 × 6\n",
       "\\begin{tabular}{llllll}\n",
       " model & MSE & RMSE & MAE & MSLE & RMSLE\\\\\n",
       " <chr> & <dbl> & <dbl> & <dbl> & <dbl> & <dbl>\\\\\n",
       "\\hline\n",
       "\t Linear Regression         & 0.256874639 & 0.50682802 & 0.40623082 & 0.0177569067 & 0.13325504\\\\\n",
       "\t Decision Tree             & 0.075296499 & 0.27440208 & 0.22492576 & 0.0074068005 & 0.08606277\\\\\n",
       "\t Conditional Decision Tree & 0.006439474 & 0.08024633 & 0.05719345 & 0.0007057612 & 0.02656617\\\\\n",
       "\t Random Forest             & 0.016131487 & 0.12700979 & 0.08523833 & 0.0017205434 & 0.04147943\\\\\n",
       "\t XGBoost                   & 8.884993100 & 2.98077055 & 2.46881759 & 0.3692565148 & 0.60766480\\\\\n",
       "\\end{tabular}\n"
      ],
      "text/markdown": [
       "\n",
       "A data.frame: 5 × 6\n",
       "\n",
       "| model &lt;chr&gt; | MSE &lt;dbl&gt; | RMSE &lt;dbl&gt; | MAE &lt;dbl&gt; | MSLE &lt;dbl&gt; | RMSLE &lt;dbl&gt; |\n",
       "|---|---|---|---|---|---|\n",
       "| Linear Regression         | 0.256874639 | 0.50682802 | 0.40623082 | 0.0177569067 | 0.13325504 |\n",
       "| Decision Tree             | 0.075296499 | 0.27440208 | 0.22492576 | 0.0074068005 | 0.08606277 |\n",
       "| Conditional Decision Tree | 0.006439474 | 0.08024633 | 0.05719345 | 0.0007057612 | 0.02656617 |\n",
       "| Random Forest             | 0.016131487 | 0.12700979 | 0.08523833 | 0.0017205434 | 0.04147943 |\n",
       "| XGBoost                   | 8.884993100 | 2.98077055 | 2.46881759 | 0.3692565148 | 0.60766480 |\n",
       "\n"
      ],
      "text/plain": [
       "  model                     MSE         RMSE       MAE        MSLE        \n",
       "1 Linear Regression         0.256874639 0.50682802 0.40623082 0.0177569067\n",
       "2 Decision Tree             0.075296499 0.27440208 0.22492576 0.0074068005\n",
       "3 Conditional Decision Tree 0.006439474 0.08024633 0.05719345 0.0007057612\n",
       "4 Random Forest             0.016131487 0.12700979 0.08523833 0.0017205434\n",
       "5 XGBoost                   8.884993100 2.98077055 2.46881759 0.3692565148\n",
       "  RMSLE     \n",
       "1 0.13325504\n",
       "2 0.08606277\n",
       "3 0.02656617\n",
       "4 0.04147943\n",
       "5 0.60766480"
      ]
     },
     "metadata": {},
     "output_type": "display_data"
    }
   ],
   "source": [
    "\n",
    "models_list = rbind(models_list, data.frame(model= \"XGBoost\", regressionMetrics(train$log_num_patients, pred4)))\n",
    "models_list\n",
    "\n",
    "#plot(train$log_num_patients ~ pred4)\n"
   ]
  },
  {
   "cell_type": "code",
   "execution_count": 67,
   "id": "26fb6c25",
   "metadata": {},
   "outputs": [],
   "source": [
    "# models_list <- models_list[-c(6,7,8,9),]"
   ]
  },
  {
   "cell_type": "markdown",
   "id": "d61db2ed",
   "metadata": {},
   "source": [
    "### Support Vector Machine (SVM)"
   ]
  },
  {
   "cell_type": "code",
   "execution_count": 72,
   "id": "76767f63",
   "metadata": {},
   "outputs": [
    {
     "data": {
      "text/html": [
       "<table class=\"dataframe\">\n",
       "<caption>A data.frame: 6 × 6</caption>\n",
       "<thead>\n",
       "\t<tr><th scope=col>model</th><th scope=col>MSE</th><th scope=col>RMSE</th><th scope=col>MAE</th><th scope=col>MSLE</th><th scope=col>RMSLE</th></tr>\n",
       "\t<tr><th scope=col>&lt;chr&gt;</th><th scope=col>&lt;dbl&gt;</th><th scope=col>&lt;dbl&gt;</th><th scope=col>&lt;dbl&gt;</th><th scope=col>&lt;dbl&gt;</th><th scope=col>&lt;dbl&gt;</th></tr>\n",
       "</thead>\n",
       "<tbody>\n",
       "\t<tr><td>Linear Regression        </td><td>0.256874639</td><td>0.50682802</td><td>0.40623082</td><td>0.0177569067</td><td>0.13325504</td></tr>\n",
       "\t<tr><td>Decision Tree            </td><td>0.075296499</td><td>0.27440208</td><td>0.22492576</td><td>0.0074068005</td><td>0.08606277</td></tr>\n",
       "\t<tr><td>Conditional Decision Tree</td><td>0.006439474</td><td>0.08024633</td><td>0.05719345</td><td>0.0007057612</td><td>0.02656617</td></tr>\n",
       "\t<tr><td>Random Forest            </td><td>0.016131487</td><td>0.12700979</td><td>0.08523833</td><td>0.0017205434</td><td>0.04147943</td></tr>\n",
       "\t<tr><td>XGBoost                  </td><td>8.884993100</td><td>2.98077055</td><td>2.46881759</td><td>0.3692565148</td><td>0.60766480</td></tr>\n",
       "\t<tr><td>SVM                      </td><td>0.071849206</td><td>0.26804702</td><td>0.20992053</td><td>0.0064403584</td><td>0.08025184</td></tr>\n",
       "</tbody>\n",
       "</table>\n"
      ],
      "text/latex": [
       "A data.frame: 6 × 6\n",
       "\\begin{tabular}{llllll}\n",
       " model & MSE & RMSE & MAE & MSLE & RMSLE\\\\\n",
       " <chr> & <dbl> & <dbl> & <dbl> & <dbl> & <dbl>\\\\\n",
       "\\hline\n",
       "\t Linear Regression         & 0.256874639 & 0.50682802 & 0.40623082 & 0.0177569067 & 0.13325504\\\\\n",
       "\t Decision Tree             & 0.075296499 & 0.27440208 & 0.22492576 & 0.0074068005 & 0.08606277\\\\\n",
       "\t Conditional Decision Tree & 0.006439474 & 0.08024633 & 0.05719345 & 0.0007057612 & 0.02656617\\\\\n",
       "\t Random Forest             & 0.016131487 & 0.12700979 & 0.08523833 & 0.0017205434 & 0.04147943\\\\\n",
       "\t XGBoost                   & 8.884993100 & 2.98077055 & 2.46881759 & 0.3692565148 & 0.60766480\\\\\n",
       "\t SVM                       & 0.071849206 & 0.26804702 & 0.20992053 & 0.0064403584 & 0.08025184\\\\\n",
       "\\end{tabular}\n"
      ],
      "text/markdown": [
       "\n",
       "A data.frame: 6 × 6\n",
       "\n",
       "| model &lt;chr&gt; | MSE &lt;dbl&gt; | RMSE &lt;dbl&gt; | MAE &lt;dbl&gt; | MSLE &lt;dbl&gt; | RMSLE &lt;dbl&gt; |\n",
       "|---|---|---|---|---|---|\n",
       "| Linear Regression         | 0.256874639 | 0.50682802 | 0.40623082 | 0.0177569067 | 0.13325504 |\n",
       "| Decision Tree             | 0.075296499 | 0.27440208 | 0.22492576 | 0.0074068005 | 0.08606277 |\n",
       "| Conditional Decision Tree | 0.006439474 | 0.08024633 | 0.05719345 | 0.0007057612 | 0.02656617 |\n",
       "| Random Forest             | 0.016131487 | 0.12700979 | 0.08523833 | 0.0017205434 | 0.04147943 |\n",
       "| XGBoost                   | 8.884993100 | 2.98077055 | 2.46881759 | 0.3692565148 | 0.60766480 |\n",
       "| SVM                       | 0.071849206 | 0.26804702 | 0.20992053 | 0.0064403584 | 0.08025184 |\n",
       "\n"
      ],
      "text/plain": [
       "  model                     MSE         RMSE       MAE        MSLE        \n",
       "1 Linear Regression         0.256874639 0.50682802 0.40623082 0.0177569067\n",
       "2 Decision Tree             0.075296499 0.27440208 0.22492576 0.0074068005\n",
       "3 Conditional Decision Tree 0.006439474 0.08024633 0.05719345 0.0007057612\n",
       "4 Random Forest             0.016131487 0.12700979 0.08523833 0.0017205434\n",
       "5 XGBoost                   8.884993100 2.98077055 2.46881759 0.3692565148\n",
       "6 SVM                       0.071849206 0.26804702 0.20992053 0.0064403584\n",
       "  RMSLE     \n",
       "1 0.13325504\n",
       "2 0.08606277\n",
       "3 0.02656617\n",
       "4 0.04147943\n",
       "5 0.60766480\n",
       "6 0.08025184"
      ]
     },
     "metadata": {},
     "output_type": "display_data"
    },
    {
     "data": {
      "image/png": "[encoded data removed]",
      "text/plain": [
       "plot without title"
      ]
     },
     "metadata": {
      "image/png": {
       "height": 420,
       "width": 420
      }
     },
     "output_type": "display_data"
    }
   ],
   "source": [
    "mod5 <- svm(log_num_patients ~., data=train)\n",
    "pred5 <- predict(mod5, data=train)\n",
    "\n",
    "models_list = rbind(models_list, data.frame(model= \"SVM\", regressionMetrics(train$log_num_patients, pred5)))\n",
    "models_list\n",
    "\n",
    "plot(train$log_num_patients ~ pred5)"
   ]
  },
  {
   "cell_type": "markdown",
   "id": "301697ee",
   "metadata": {},
   "source": [
    "## Model Selection"
   ]
  },
  {
   "cell_type": "code",
   "execution_count": 73,
   "id": "77f7f1fd",
   "metadata": {},
   "outputs": [
    {
     "data": {
      "text/html": [
       "<table class=\"dataframe\">\n",
       "<caption>A data.frame: 6 × 6</caption>\n",
       "<thead>\n",
       "\t<tr><th scope=col>model</th><th scope=col>MSE</th><th scope=col>RMSE</th><th scope=col>MAE</th><th scope=col>MSLE</th><th scope=col>RMSLE</th></tr>\n",
       "\t<tr><th scope=col>&lt;chr&gt;</th><th scope=col>&lt;dbl&gt;</th><th scope=col>&lt;dbl&gt;</th><th scope=col>&lt;dbl&gt;</th><th scope=col>&lt;dbl&gt;</th><th scope=col>&lt;dbl&gt;</th></tr>\n",
       "</thead>\n",
       "<tbody>\n",
       "\t<tr><td>Conditional Decision Tree</td><td>0.006439474</td><td>0.08024633</td><td>0.05719345</td><td>0.0007057612</td><td>0.02656617</td></tr>\n",
       "\t<tr><td>Random Forest            </td><td>0.016131487</td><td>0.12700979</td><td>0.08523833</td><td>0.0017205434</td><td>0.04147943</td></tr>\n",
       "\t<tr><td>SVM                      </td><td>0.071849206</td><td>0.26804702</td><td>0.20992053</td><td>0.0064403584</td><td>0.08025184</td></tr>\n",
       "\t<tr><td>Decision Tree            </td><td>0.075296499</td><td>0.27440208</td><td>0.22492576</td><td>0.0074068005</td><td>0.08606277</td></tr>\n",
       "\t<tr><td>Linear Regression        </td><td>0.256874639</td><td>0.50682802</td><td>0.40623082</td><td>0.0177569067</td><td>0.13325504</td></tr>\n",
       "\t<tr><td>XGBoost                  </td><td>8.884993100</td><td>2.98077055</td><td>2.46881759</td><td>0.3692565148</td><td>0.60766480</td></tr>\n",
       "</tbody>\n",
       "</table>\n"
      ],
      "text/latex": [
       "A data.frame: 6 × 6\n",
       "\\begin{tabular}{llllll}\n",
       " model & MSE & RMSE & MAE & MSLE & RMSLE\\\\\n",
       " <chr> & <dbl> & <dbl> & <dbl> & <dbl> & <dbl>\\\\\n",
       "\\hline\n",
       "\t Conditional Decision Tree & 0.006439474 & 0.08024633 & 0.05719345 & 0.0007057612 & 0.02656617\\\\\n",
       "\t Random Forest             & 0.016131487 & 0.12700979 & 0.08523833 & 0.0017205434 & 0.04147943\\\\\n",
       "\t SVM                       & 0.071849206 & 0.26804702 & 0.20992053 & 0.0064403584 & 0.08025184\\\\\n",
       "\t Decision Tree             & 0.075296499 & 0.27440208 & 0.22492576 & 0.0074068005 & 0.08606277\\\\\n",
       "\t Linear Regression         & 0.256874639 & 0.50682802 & 0.40623082 & 0.0177569067 & 0.13325504\\\\\n",
       "\t XGBoost                   & 8.884993100 & 2.98077055 & 2.46881759 & 0.3692565148 & 0.60766480\\\\\n",
       "\\end{tabular}\n"
      ],
      "text/markdown": [
       "\n",
       "A data.frame: 6 × 6\n",
       "\n",
       "| model &lt;chr&gt; | MSE &lt;dbl&gt; | RMSE &lt;dbl&gt; | MAE &lt;dbl&gt; | MSLE &lt;dbl&gt; | RMSLE &lt;dbl&gt; |\n",
       "|---|---|---|---|---|---|\n",
       "| Conditional Decision Tree | 0.006439474 | 0.08024633 | 0.05719345 | 0.0007057612 | 0.02656617 |\n",
       "| Random Forest             | 0.016131487 | 0.12700979 | 0.08523833 | 0.0017205434 | 0.04147943 |\n",
       "| SVM                       | 0.071849206 | 0.26804702 | 0.20992053 | 0.0064403584 | 0.08025184 |\n",
       "| Decision Tree             | 0.075296499 | 0.27440208 | 0.22492576 | 0.0074068005 | 0.08606277 |\n",
       "| Linear Regression         | 0.256874639 | 0.50682802 | 0.40623082 | 0.0177569067 | 0.13325504 |\n",
       "| XGBoost                   | 8.884993100 | 2.98077055 | 2.46881759 | 0.3692565148 | 0.60766480 |\n",
       "\n"
      ],
      "text/plain": [
       "  model                     MSE         RMSE       MAE        MSLE        \n",
       "1 Conditional Decision Tree 0.006439474 0.08024633 0.05719345 0.0007057612\n",
       "2 Random Forest             0.016131487 0.12700979 0.08523833 0.0017205434\n",
       "3 SVM                       0.071849206 0.26804702 0.20992053 0.0064403584\n",
       "4 Decision Tree             0.075296499 0.27440208 0.22492576 0.0074068005\n",
       "5 Linear Regression         0.256874639 0.50682802 0.40623082 0.0177569067\n",
       "6 XGBoost                   8.884993100 2.98077055 2.46881759 0.3692565148\n",
       "  RMSLE     \n",
       "1 0.02656617\n",
       "2 0.04147943\n",
       "3 0.08025184\n",
       "4 0.08606277\n",
       "5 0.13325504\n",
       "6 0.60766480"
      ]
     },
     "metadata": {},
     "output_type": "display_data"
    }
   ],
   "source": [
    "models_list %>% arrange(MAE)"
   ]
  },
  {
   "cell_type": "code",
   "execution_count": 74,
   "id": "70ce8bc9",
   "metadata": {},
   "outputs": [
    {
     "data": {
      "text/html": [
       "<table class=\"dataframe\">\n",
       "<caption>A data.frame: 6 × 6</caption>\n",
       "<thead>\n",
       "\t<tr><th scope=col>model</th><th scope=col>MSE</th><th scope=col>RMSE</th><th scope=col>MAE</th><th scope=col>MSLE</th><th scope=col>RMSLE</th></tr>\n",
       "\t<tr><th scope=col>&lt;chr&gt;</th><th scope=col>&lt;dbl&gt;</th><th scope=col>&lt;dbl&gt;</th><th scope=col>&lt;dbl&gt;</th><th scope=col>&lt;dbl&gt;</th><th scope=col>&lt;dbl&gt;</th></tr>\n",
       "</thead>\n",
       "<tbody>\n",
       "\t<tr><td>Conditional Decision Tree</td><td>0.006439474</td><td>0.08024633</td><td>0.05719345</td><td>0.0007057612</td><td>0.02656617</td></tr>\n",
       "\t<tr><td>Random Forest            </td><td>0.016131487</td><td>0.12700979</td><td>0.08523833</td><td>0.0017205434</td><td>0.04147943</td></tr>\n",
       "\t<tr><td>SVM                      </td><td>0.071849206</td><td>0.26804702</td><td>0.20992053</td><td>0.0064403584</td><td>0.08025184</td></tr>\n",
       "\t<tr><td>Decision Tree            </td><td>0.075296499</td><td>0.27440208</td><td>0.22492576</td><td>0.0074068005</td><td>0.08606277</td></tr>\n",
       "\t<tr><td>Linear Regression        </td><td>0.256874639</td><td>0.50682802</td><td>0.40623082</td><td>0.0177569067</td><td>0.13325504</td></tr>\n",
       "\t<tr><td>XGBoost                  </td><td>8.884993100</td><td>2.98077055</td><td>2.46881759</td><td>0.3692565148</td><td>0.60766480</td></tr>\n",
       "</tbody>\n",
       "</table>\n"
      ],
      "text/latex": [
       "A data.frame: 6 × 6\n",
       "\\begin{tabular}{llllll}\n",
       " model & MSE & RMSE & MAE & MSLE & RMSLE\\\\\n",
       " <chr> & <dbl> & <dbl> & <dbl> & <dbl> & <dbl>\\\\\n",
       "\\hline\n",
       "\t Conditional Decision Tree & 0.006439474 & 0.08024633 & 0.05719345 & 0.0007057612 & 0.02656617\\\\\n",
       "\t Random Forest             & 0.016131487 & 0.12700979 & 0.08523833 & 0.0017205434 & 0.04147943\\\\\n",
       "\t SVM                       & 0.071849206 & 0.26804702 & 0.20992053 & 0.0064403584 & 0.08025184\\\\\n",
       "\t Decision Tree             & 0.075296499 & 0.27440208 & 0.22492576 & 0.0074068005 & 0.08606277\\\\\n",
       "\t Linear Regression         & 0.256874639 & 0.50682802 & 0.40623082 & 0.0177569067 & 0.13325504\\\\\n",
       "\t XGBoost                   & 8.884993100 & 2.98077055 & 2.46881759 & 0.3692565148 & 0.60766480\\\\\n",
       "\\end{tabular}\n"
      ],
      "text/markdown": [
       "\n",
       "A data.frame: 6 × 6\n",
       "\n",
       "| model &lt;chr&gt; | MSE &lt;dbl&gt; | RMSE &lt;dbl&gt; | MAE &lt;dbl&gt; | MSLE &lt;dbl&gt; | RMSLE &lt;dbl&gt; |\n",
       "|---|---|---|---|---|---|\n",
       "| Conditional Decision Tree | 0.006439474 | 0.08024633 | 0.05719345 | 0.0007057612 | 0.02656617 |\n",
       "| Random Forest             | 0.016131487 | 0.12700979 | 0.08523833 | 0.0017205434 | 0.04147943 |\n",
       "| SVM                       | 0.071849206 | 0.26804702 | 0.20992053 | 0.0064403584 | 0.08025184 |\n",
       "| Decision Tree             | 0.075296499 | 0.27440208 | 0.22492576 | 0.0074068005 | 0.08606277 |\n",
       "| Linear Regression         | 0.256874639 | 0.50682802 | 0.40623082 | 0.0177569067 | 0.13325504 |\n",
       "| XGBoost                   | 8.884993100 | 2.98077055 | 2.46881759 | 0.3692565148 | 0.60766480 |\n",
       "\n"
      ],
      "text/plain": [
       "  model                     MSE         RMSE       MAE        MSLE        \n",
       "1 Conditional Decision Tree 0.006439474 0.08024633 0.05719345 0.0007057612\n",
       "2 Random Forest             0.016131487 0.12700979 0.08523833 0.0017205434\n",
       "3 SVM                       0.071849206 0.26804702 0.20992053 0.0064403584\n",
       "4 Decision Tree             0.075296499 0.27440208 0.22492576 0.0074068005\n",
       "5 Linear Regression         0.256874639 0.50682802 0.40623082 0.0177569067\n",
       "6 XGBoost                   8.884993100 2.98077055 2.46881759 0.3692565148\n",
       "  RMSLE     \n",
       "1 0.02656617\n",
       "2 0.04147943\n",
       "3 0.08025184\n",
       "4 0.08606277\n",
       "5 0.13325504\n",
       "6 0.60766480"
      ]
     },
     "metadata": {},
     "output_type": "display_data"
    }
   ],
   "source": [
    "models_list %>% arrange(RMSE)"
   ]
  },
  {
   "cell_type": "markdown",
   "id": "459d5ba9",
   "metadata": {},
   "source": [
    "### Conclusions\n",
    "\n",
    "all models are not great. it looks like the XGBoost is the best, yet there might be some overfitting involved. \n",
    "Since I don't have outliers, I can rely on the RMSE. Linear regression is also a good option. "
   ]
  },
  {
   "cell_type": "markdown",
   "id": "30e08aad",
   "metadata": {},
   "source": [
    "### The test data"
   ]
  },
  {
   "cell_type": "code",
   "execution_count": 76,
   "id": "d2901199",
   "metadata": {},
   "outputs": [
    {
     "name": "stderr",
     "output_type": "stream",
     "text": [
      "\n",
      "\u001b[36m--\u001b[39m \u001b[1m\u001b[1mColumn specification\u001b[1m\u001b[22m \u001b[36m------------------------------------------------------------------------------------------------\u001b[39m\n",
      "cols(\n",
      "  .default = col_double()\n",
      ")\n",
      "\u001b[36mi\u001b[39m Use \u001b[30m\u001b[47m\u001b[30m\u001b[47m`spec()`\u001b[47m\u001b[30m\u001b[49m\u001b[39m for the full column specifications.\n",
      "\n",
      "\n"
     ]
    },
    {
     "data": {
      "text/html": [
       "<table class=\"dataframe\">\n",
       "<caption>A data.frame: 6 × 32</caption>\n",
       "<thead>\n",
       "\t<tr><th></th><th scope=col>wk_atm_p</th><th scope=col>wk_dew_p</th><th scope=col>wk_avg_max_tmp</th><th scope=col>wk_avg_tm</th><th scope=col>wk_min_tm</th><th scope=col>wk_avg_min_tmp</th><th scope=col>wk_avg_hum</th><th scope=col>wk_min_hum</th><th scope=col>wk_avg_precipitation</th><th scope=col>num_patients</th><th scope=col>...</th><th scope=col>monthly_precipitation</th><th scope=col>q_precipitation</th><th scope=col>min_y_q_precipitation</th><th scope=col>q_temp</th><th scope=col>mean_t_d</th><th scope=col>percipitation</th><th scope=col>min_y_q_temp</th><th scope=col>max_y_precipitation</th><th scope=col>seasonality</th><th scope=col>per_seasonality</th></tr>\n",
       "\t<tr><th></th><th scope=col>&lt;dbl&gt;</th><th scope=col>&lt;dbl&gt;</th><th scope=col>&lt;dbl&gt;</th><th scope=col>&lt;dbl&gt;</th><th scope=col>&lt;dbl&gt;</th><th scope=col>&lt;dbl&gt;</th><th scope=col>&lt;dbl&gt;</th><th scope=col>&lt;dbl&gt;</th><th scope=col>&lt;dbl&gt;</th><th scope=col>&lt;dbl&gt;</th><th scope=col>...</th><th scope=col>&lt;dbl&gt;</th><th scope=col>&lt;dbl&gt;</th><th scope=col>&lt;dbl&gt;</th><th scope=col>&lt;dbl&gt;</th><th scope=col>&lt;dbl&gt;</th><th scope=col>&lt;dbl&gt;</th><th scope=col>&lt;dbl&gt;</th><th scope=col>&lt;dbl&gt;</th><th scope=col>&lt;dbl&gt;</th><th scope=col>&lt;dbl&gt;</th></tr>\n",
       "</thead>\n",
       "<tbody>\n",
       "\t<tr><th scope=row>1</th><td>948.7310</td><td>13.33714</td><td>24.80286</td><td>18.25333</td><td> 9.2</td><td>13.66571</td><td>75.72381</td><td>23</td><td> 0.62285714</td><td> 3</td><td>...</td><td> 5.681905</td><td>29.659048</td><td>17.985524</td><td>19.37982</td><td>17.93779</td><td>84.11238</td><td>17.93779</td><td>42.20571</td><td> 0.38628365</td><td>-1.1052278</td></tr>\n",
       "\t<tr><th scope=row>2</th><td>941.2775</td><td>18.56536</td><td>24.88571</td><td>20.88679</td><td>16.0</td><td>18.63143</td><td>87.45357</td><td>11</td><td>14.38285714</td><td>12</td><td>...</td><td>36.222857</td><td>84.497143</td><td>17.985524</td><td>22.56830</td><td>17.93779</td><td>84.11238</td><td>17.93779</td><td>42.20571</td><td> 0.13521934</td><td>-1.0591955</td></tr>\n",
       "\t<tr><th scope=row>3</th><td>946.1263</td><td>13.15131</td><td>24.50000</td><td>17.88595</td><td> 9.1</td><td>13.42857</td><td>76.16786</td><td>28</td><td> 0.52571429</td><td> 2</td><td>...</td><td> 5.681905</td><td>29.659048</td><td>17.985524</td><td>19.37982</td><td>17.93779</td><td>84.11238</td><td>17.93779</td><td>42.20571</td><td> 0.38628365</td><td>-1.1052278</td></tr>\n",
       "\t<tr><th scope=row>4</th><td>943.6505</td><td>13.64893</td><td>28.63143</td><td>21.09833</td><td>10.9</td><td>14.80286</td><td>65.54881</td><td>25</td><td> 0.15000000</td><td> 8</td><td>...</td><td>39.540238</td><td>82.824524</td><td> 9.015714</td><td>22.95152</td><td>17.97791</td><td>38.99429</td><td>17.97791</td><td>39.54024</td><td> 0.13521934</td><td>-1.0591955</td></tr>\n",
       "\t<tr><th scope=row>5</th><td>946.4507</td><td>14.42524</td><td>28.68286</td><td>21.78274</td><td> 9.1</td><td>16.95429</td><td>65.62500</td><td>28</td><td> 1.77714286</td><td> 6</td><td>...</td><td> 1.882857</td><td>14.735714</td><td> 9.015714</td><td>20.38999</td><td>17.97791</td><td>38.99429</td><td>17.97791</td><td>39.54024</td><td>-0.07314289</td><td>-2.1214202</td></tr>\n",
       "\t<tr><th scope=row>6</th><td>946.1485</td><td>12.86833</td><td>25.26571</td><td>17.81738</td><td> 6.6</td><td>12.12000</td><td>75.37500</td><td>35</td><td> 0.08571429</td><td>39</td><td>...</td><td> 1.752857</td><td> 9.015714</td><td> 9.015714</td><td>17.97791</td><td>17.97791</td><td>38.99429</td><td>17.97791</td><td>39.54024</td><td> 0.05185037</td><td> 0.3750689</td></tr>\n",
       "</tbody>\n",
       "</table>\n"
      ],
      "text/latex": [
       "A data.frame: 6 × 32\n",
       "\\begin{tabular}{r|lllllllllllllllllllll}\n",
       "  & wk\\_atm\\_p & wk\\_dew\\_p & wk\\_avg\\_max\\_tmp & wk\\_avg\\_tm & wk\\_min\\_tm & wk\\_avg\\_min\\_tmp & wk\\_avg\\_hum & wk\\_min\\_hum & wk\\_avg\\_precipitation & num\\_patients & ... & monthly\\_precipitation & q\\_precipitation & min\\_y\\_q\\_precipitation & q\\_temp & mean\\_t\\_d & percipitation & min\\_y\\_q\\_temp & max\\_y\\_precipitation & seasonality & per\\_seasonality\\\\\n",
       "  & <dbl> & <dbl> & <dbl> & <dbl> & <dbl> & <dbl> & <dbl> & <dbl> & <dbl> & <dbl> & ... & <dbl> & <dbl> & <dbl> & <dbl> & <dbl> & <dbl> & <dbl> & <dbl> & <dbl> & <dbl>\\\\\n",
       "\\hline\n",
       "\t1 & 948.7310 & 13.33714 & 24.80286 & 18.25333 &  9.2 & 13.66571 & 75.72381 & 23 &  0.62285714 &  3 & ... &  5.681905 & 29.659048 & 17.985524 & 19.37982 & 17.93779 & 84.11238 & 17.93779 & 42.20571 &  0.38628365 & -1.1052278\\\\\n",
       "\t2 & 941.2775 & 18.56536 & 24.88571 & 20.88679 & 16.0 & 18.63143 & 87.45357 & 11 & 14.38285714 & 12 & ... & 36.222857 & 84.497143 & 17.985524 & 22.56830 & 17.93779 & 84.11238 & 17.93779 & 42.20571 &  0.13521934 & -1.0591955\\\\\n",
       "\t3 & 946.1263 & 13.15131 & 24.50000 & 17.88595 &  9.1 & 13.42857 & 76.16786 & 28 &  0.52571429 &  2 & ... &  5.681905 & 29.659048 & 17.985524 & 19.37982 & 17.93779 & 84.11238 & 17.93779 & 42.20571 &  0.38628365 & -1.1052278\\\\\n",
       "\t4 & 943.6505 & 13.64893 & 28.63143 & 21.09833 & 10.9 & 14.80286 & 65.54881 & 25 &  0.15000000 &  8 & ... & 39.540238 & 82.824524 &  9.015714 & 22.95152 & 17.97791 & 38.99429 & 17.97791 & 39.54024 &  0.13521934 & -1.0591955\\\\\n",
       "\t5 & 946.4507 & 14.42524 & 28.68286 & 21.78274 &  9.1 & 16.95429 & 65.62500 & 28 &  1.77714286 &  6 & ... &  1.882857 & 14.735714 &  9.015714 & 20.38999 & 17.97791 & 38.99429 & 17.97791 & 39.54024 & -0.07314289 & -2.1214202\\\\\n",
       "\t6 & 946.1485 & 12.86833 & 25.26571 & 17.81738 &  6.6 & 12.12000 & 75.37500 & 35 &  0.08571429 & 39 & ... &  1.752857 &  9.015714 &  9.015714 & 17.97791 & 17.97791 & 38.99429 & 17.97791 & 39.54024 &  0.05185037 &  0.3750689\\\\\n",
       "\\end{tabular}\n"
      ],
      "text/markdown": [
       "\n",
       "A data.frame: 6 × 32\n",
       "\n",
       "| <!--/--> | wk_atm_p &lt;dbl&gt; | wk_dew_p &lt;dbl&gt; | wk_avg_max_tmp &lt;dbl&gt; | wk_avg_tm &lt;dbl&gt; | wk_min_tm &lt;dbl&gt; | wk_avg_min_tmp &lt;dbl&gt; | wk_avg_hum &lt;dbl&gt; | wk_min_hum &lt;dbl&gt; | wk_avg_precipitation &lt;dbl&gt; | num_patients &lt;dbl&gt; | ... ... | monthly_precipitation &lt;dbl&gt; | q_precipitation &lt;dbl&gt; | min_y_q_precipitation &lt;dbl&gt; | q_temp &lt;dbl&gt; | mean_t_d &lt;dbl&gt; | percipitation &lt;dbl&gt; | min_y_q_temp &lt;dbl&gt; | max_y_precipitation &lt;dbl&gt; | seasonality &lt;dbl&gt; | per_seasonality &lt;dbl&gt; |\n",
       "|---|---|---|---|---|---|---|---|---|---|---|---|---|---|---|---|---|---|---|---|---|---|\n",
       "| 1 | 948.7310 | 13.33714 | 24.80286 | 18.25333 |  9.2 | 13.66571 | 75.72381 | 23 |  0.62285714 |  3 | ... |  5.681905 | 29.659048 | 17.985524 | 19.37982 | 17.93779 | 84.11238 | 17.93779 | 42.20571 |  0.38628365 | -1.1052278 |\n",
       "| 2 | 941.2775 | 18.56536 | 24.88571 | 20.88679 | 16.0 | 18.63143 | 87.45357 | 11 | 14.38285714 | 12 | ... | 36.222857 | 84.497143 | 17.985524 | 22.56830 | 17.93779 | 84.11238 | 17.93779 | 42.20571 |  0.13521934 | -1.0591955 |\n",
       "| 3 | 946.1263 | 13.15131 | 24.50000 | 17.88595 |  9.1 | 13.42857 | 76.16786 | 28 |  0.52571429 |  2 | ... |  5.681905 | 29.659048 | 17.985524 | 19.37982 | 17.93779 | 84.11238 | 17.93779 | 42.20571 |  0.38628365 | -1.1052278 |\n",
       "| 4 | 943.6505 | 13.64893 | 28.63143 | 21.09833 | 10.9 | 14.80286 | 65.54881 | 25 |  0.15000000 |  8 | ... | 39.540238 | 82.824524 |  9.015714 | 22.95152 | 17.97791 | 38.99429 | 17.97791 | 39.54024 |  0.13521934 | -1.0591955 |\n",
       "| 5 | 946.4507 | 14.42524 | 28.68286 | 21.78274 |  9.1 | 16.95429 | 65.62500 | 28 |  1.77714286 |  6 | ... |  1.882857 | 14.735714 |  9.015714 | 20.38999 | 17.97791 | 38.99429 | 17.97791 | 39.54024 | -0.07314289 | -2.1214202 |\n",
       "| 6 | 946.1485 | 12.86833 | 25.26571 | 17.81738 |  6.6 | 12.12000 | 75.37500 | 35 |  0.08571429 | 39 | ... |  1.752857 |  9.015714 |  9.015714 | 17.97791 | 17.97791 | 38.99429 | 17.97791 | 39.54024 |  0.05185037 |  0.3750689 |\n",
       "\n"
      ],
      "text/plain": [
       "  wk_atm_p wk_dew_p wk_avg_max_tmp wk_avg_tm wk_min_tm wk_avg_min_tmp\n",
       "1 948.7310 13.33714 24.80286       18.25333   9.2      13.66571      \n",
       "2 941.2775 18.56536 24.88571       20.88679  16.0      18.63143      \n",
       "3 946.1263 13.15131 24.50000       17.88595   9.1      13.42857      \n",
       "4 943.6505 13.64893 28.63143       21.09833  10.9      14.80286      \n",
       "5 946.4507 14.42524 28.68286       21.78274   9.1      16.95429      \n",
       "6 946.1485 12.86833 25.26571       17.81738   6.6      12.12000      \n",
       "  wk_avg_hum wk_min_hum wk_avg_precipitation num_patients ...\n",
       "1 75.72381   23          0.62285714           3           ...\n",
       "2 87.45357   11         14.38285714          12           ...\n",
       "3 76.16786   28          0.52571429           2           ...\n",
       "4 65.54881   25          0.15000000           8           ...\n",
       "5 65.62500   28          1.77714286           6           ...\n",
       "6 75.37500   35          0.08571429          39           ...\n",
       "  monthly_precipitation q_precipitation min_y_q_precipitation q_temp   mean_t_d\n",
       "1  5.681905             29.659048       17.985524             19.37982 17.93779\n",
       "2 36.222857             84.497143       17.985524             22.56830 17.93779\n",
       "3  5.681905             29.659048       17.985524             19.37982 17.93779\n",
       "4 39.540238             82.824524        9.015714             22.95152 17.97791\n",
       "5  1.882857             14.735714        9.015714             20.38999 17.97791\n",
       "6  1.752857              9.015714        9.015714             17.97791 17.97791\n",
       "  percipitation min_y_q_temp max_y_precipitation seasonality per_seasonality\n",
       "1 84.11238      17.93779     42.20571             0.38628365 -1.1052278     \n",
       "2 84.11238      17.93779     42.20571             0.13521934 -1.0591955     \n",
       "3 84.11238      17.93779     42.20571             0.38628365 -1.1052278     \n",
       "4 38.99429      17.97791     39.54024             0.13521934 -1.0591955     \n",
       "5 38.99429      17.97791     39.54024            -0.07314289 -2.1214202     \n",
       "6 38.99429      17.97791     39.54024             0.05185037  0.3750689     "
      ]
     },
     "metadata": {},
     "output_type": "display_data"
    }
   ],
   "source": [
    "test <- read_csv('C:/Users/galie/DataScience/project/test19.csv')  %>% as.data.frame\n",
    "head(test)"
   ]
  },
  {
   "cell_type": "markdown",
   "id": "59f415c5",
   "metadata": {},
   "source": [
    "### Testing the linear model on the data"
   ]
  },
  {
   "cell_type": "code",
   "execution_count": 77,
   "id": "16a98249",
   "metadata": {},
   "outputs": [
    {
     "name": "stderr",
     "output_type": "stream",
     "text": [
      "Warning message in predict.lm(mod1, test):\n",
      "\"prediction from a rank-deficient fit may be misleading\"\n"
     ]
    }
   ],
   "source": [
    "prediction <- predict(mod1, test)\n",
    "model_output <- cbind(test, prediction)"
   ]
  },
  {
   "cell_type": "code",
   "execution_count": 79,
   "id": "25f10b3b",
   "metadata": {},
   "outputs": [
    {
     "data": {
      "image/png": "[encoded data removed]",
      "text/plain": [
       "plot without title"
      ]
     },
     "metadata": {
      "image/png": {
       "height": 420,
       "width": 420
      }
     },
     "output_type": "display_data"
    }
   ],
   "source": [
    "plot(test$log_num_patients,model_output$prediction)"
   ]
  },
  {
   "cell_type": "markdown",
   "id": "45986db1",
   "metadata": {},
   "source": [
    "### The End."
   ]
  },
  {
   "cell_type": "code",
   "execution_count": null,
   "id": "37a37127",
   "metadata": {},
   "outputs": [],
   "source": [
    "# see conclusions and discussion in the main document."
   ]
  }
 ],
 "metadata": {
  "kernelspec": {
   "display_name": "R",
   "language": "R",
   "name": "ir"
  },
  "language_info": {
   "codemirror_mode": "r",
   "file_extension": ".r",
   "mimetype": "text/x-r-source",
   "name": "R",
   "pygments_lexer": "r",
   "version": "4.0.4"
  }
 },
 "nbformat": 4,
 "nbformat_minor": 5
}
