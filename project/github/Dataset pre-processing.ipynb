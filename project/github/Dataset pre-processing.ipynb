{
 "cells": [
  {
   "cell_type": "markdown",
   "metadata": {},
   "source": [
    "# Preparing the data for modeling"
   ]
  },
  {
   "cell_type": "markdown",
   "metadata": {},
   "source": [
    "## Subsetting the data\n",
    " \n",
    "When our flat-file is ready for modeling we have to procede to generate the partitions that we will use for modeling. No matter which method we will use for training our data, we have to generate first a test dataset. This test dataset has to be set on hold aside and only used at the end of the whole process of training and selecting the best model.\n",
    "\n",
    "\n",
    "## Test dataset"
   ]
  },
  {
   "cell_type": "code",
   "execution_count": 1,
   "metadata": {},
   "outputs": [
    {
     "data": {
      "text/html": [
       "<table class=\"dataframe\">\n",
       "<caption>A data.frame: 6 × 33</caption>\n",
       "<thead>\n",
       "\t<tr><th></th><th scope=col>cum_week1</th><th scope=col>wk_atm_p</th><th scope=col>wk_dew_p</th><th scope=col>wk_avg_max_tmp</th><th scope=col>wk_avg_tm</th><th scope=col>wk_min_tm</th><th scope=col>wk_avg_min_tmp</th><th scope=col>wk_avg_hum</th><th scope=col>wk_min_hum</th><th scope=col>wk_avg_precipitation</th><th scope=col>...</th><th scope=col>monthly_precipitation</th><th scope=col>q_precipitation</th><th scope=col>min_y_q_precipitation</th><th scope=col>q_temp</th><th scope=col>mean_t_d</th><th scope=col>percipitation</th><th scope=col>min_y_q_temp</th><th scope=col>max_y_precipitation</th><th scope=col>seasonality</th><th scope=col>per_seasonality</th></tr>\n",
       "\t<tr><th></th><th scope=col>&lt;int&gt;</th><th scope=col>&lt;dbl&gt;</th><th scope=col>&lt;dbl&gt;</th><th scope=col>&lt;dbl&gt;</th><th scope=col>&lt;dbl&gt;</th><th scope=col>&lt;dbl&gt;</th><th scope=col>&lt;dbl&gt;</th><th scope=col>&lt;dbl&gt;</th><th scope=col>&lt;int&gt;</th><th scope=col>&lt;dbl&gt;</th><th scope=col>...</th><th scope=col>&lt;dbl&gt;</th><th scope=col>&lt;dbl&gt;</th><th scope=col>&lt;dbl&gt;</th><th scope=col>&lt;dbl&gt;</th><th scope=col>&lt;dbl&gt;</th><th scope=col>&lt;dbl&gt;</th><th scope=col>&lt;dbl&gt;</th><th scope=col>&lt;dbl&gt;</th><th scope=col>&lt;dbl&gt;</th><th scope=col>&lt;dbl&gt;</th></tr>\n",
       "</thead>\n",
       "<tbody>\n",
       "\t<tr><th scope=row>1</th><td> 1</td><td>943.7298</td><td>18.03250</td><td>30.78000</td><td>24.19155</td><td>15.8</td><td>19.00000</td><td>71.23571</td><td>25</td><td> 3.22285714</td><td>...</td><td>12.822857</td><td>84.49714</td><td>17.98552</td><td>22.56830</td><td>17.93779</td><td>84.11238</td><td>17.93779</td><td>42.20571</td><td> 0.16489076</td><td>-0.2488066</td></tr>\n",
       "\t<tr><th scope=row>2</th><td> 2</td><td>941.4388</td><td>18.37952</td><td>28.67143</td><td>22.99917</td><td>15.8</td><td>19.44286</td><td>77.61310</td><td>29</td><td> 9.60000000</td><td>...</td><td>12.822857</td><td>84.49714</td><td>17.98552</td><td>22.56830</td><td>17.93779</td><td>84.11238</td><td>17.93779</td><td>42.20571</td><td> 0.16489076</td><td>-0.2488066</td></tr>\n",
       "\t<tr><th scope=row>3</th><td> 9</td><td>943.1124</td><td>18.79512</td><td>27.91429</td><td>22.44643</td><td>16.7</td><td>19.18857</td><td>81.58214</td><td>33</td><td>12.01714286</td><td>...</td><td>42.205714</td><td>74.85238</td><td>17.98552</td><td>21.43708</td><td>17.93779</td><td>84.11238</td><td>17.93779</td><td>42.20571</td><td>-0.01727395</td><td> 2.4782576</td></tr>\n",
       "\t<tr><th scope=row>4</th><td>34</td><td>948.7310</td><td>13.33714</td><td>24.80286</td><td>18.25333</td><td> 9.2</td><td>13.66571</td><td>75.72381</td><td>23</td><td> 0.62285714</td><td>...</td><td> 5.681905</td><td>29.65905</td><td>17.98552</td><td>19.37982</td><td>17.93779</td><td>84.11238</td><td>17.93779</td><td>42.20571</td><td> 0.38628365</td><td>-1.1052278</td></tr>\n",
       "\t<tr><th scope=row>5</th><td> 7</td><td>942.2117</td><td>18.41726</td><td>30.44286</td><td>23.95131</td><td>15.5</td><td>18.72000</td><td>73.48571</td><td>37</td><td> 0.02857143</td><td>...</td><td>42.205714</td><td>74.85238</td><td>17.98552</td><td>21.43708</td><td>17.93779</td><td>84.11238</td><td>17.93779</td><td>42.20571</td><td>-0.01727395</td><td> 2.4782576</td></tr>\n",
       "\t<tr><th scope=row>6</th><td> 8</td><td>942.8707</td><td>17.91762</td><td>30.70286</td><td>23.93357</td><td>15.1</td><td>18.53429</td><td>71.73810</td><td>31</td><td> 0.03428571</td><td>...</td><td>42.205714</td><td>74.85238</td><td>17.98552</td><td>21.43708</td><td>17.93779</td><td>84.11238</td><td>17.93779</td><td>42.20571</td><td>-0.01727395</td><td> 2.4782576</td></tr>\n",
       "</tbody>\n",
       "</table>\n"
      ],
      "text/latex": [
       "A data.frame: 6 × 33\n",
       "\\begin{tabular}{r|lllllllllllllllllllll}\n",
       "  & cum\\_week1 & wk\\_atm\\_p & wk\\_dew\\_p & wk\\_avg\\_max\\_tmp & wk\\_avg\\_tm & wk\\_min\\_tm & wk\\_avg\\_min\\_tmp & wk\\_avg\\_hum & wk\\_min\\_hum & wk\\_avg\\_precipitation & ... & monthly\\_precipitation & q\\_precipitation & min\\_y\\_q\\_precipitation & q\\_temp & mean\\_t\\_d & percipitation & min\\_y\\_q\\_temp & max\\_y\\_precipitation & seasonality & per\\_seasonality\\\\\n",
       "  & <int> & <dbl> & <dbl> & <dbl> & <dbl> & <dbl> & <dbl> & <dbl> & <int> & <dbl> & ... & <dbl> & <dbl> & <dbl> & <dbl> & <dbl> & <dbl> & <dbl> & <dbl> & <dbl> & <dbl>\\\\\n",
       "\\hline\n",
       "\t1 &  1 & 943.7298 & 18.03250 & 30.78000 & 24.19155 & 15.8 & 19.00000 & 71.23571 & 25 &  3.22285714 & ... & 12.822857 & 84.49714 & 17.98552 & 22.56830 & 17.93779 & 84.11238 & 17.93779 & 42.20571 &  0.16489076 & -0.2488066\\\\\n",
       "\t2 &  2 & 941.4388 & 18.37952 & 28.67143 & 22.99917 & 15.8 & 19.44286 & 77.61310 & 29 &  9.60000000 & ... & 12.822857 & 84.49714 & 17.98552 & 22.56830 & 17.93779 & 84.11238 & 17.93779 & 42.20571 &  0.16489076 & -0.2488066\\\\\n",
       "\t3 &  9 & 943.1124 & 18.79512 & 27.91429 & 22.44643 & 16.7 & 19.18857 & 81.58214 & 33 & 12.01714286 & ... & 42.205714 & 74.85238 & 17.98552 & 21.43708 & 17.93779 & 84.11238 & 17.93779 & 42.20571 & -0.01727395 &  2.4782576\\\\\n",
       "\t4 & 34 & 948.7310 & 13.33714 & 24.80286 & 18.25333 &  9.2 & 13.66571 & 75.72381 & 23 &  0.62285714 & ... &  5.681905 & 29.65905 & 17.98552 & 19.37982 & 17.93779 & 84.11238 & 17.93779 & 42.20571 &  0.38628365 & -1.1052278\\\\\n",
       "\t5 &  7 & 942.2117 & 18.41726 & 30.44286 & 23.95131 & 15.5 & 18.72000 & 73.48571 & 37 &  0.02857143 & ... & 42.205714 & 74.85238 & 17.98552 & 21.43708 & 17.93779 & 84.11238 & 17.93779 & 42.20571 & -0.01727395 &  2.4782576\\\\\n",
       "\t6 &  8 & 942.8707 & 17.91762 & 30.70286 & 23.93357 & 15.1 & 18.53429 & 71.73810 & 31 &  0.03428571 & ... & 42.205714 & 74.85238 & 17.98552 & 21.43708 & 17.93779 & 84.11238 & 17.93779 & 42.20571 & -0.01727395 &  2.4782576\\\\\n",
       "\\end{tabular}\n"
      ],
      "text/markdown": [
       "\n",
       "A data.frame: 6 × 33\n",
       "\n",
       "| <!--/--> | cum_week1 &lt;int&gt; | wk_atm_p &lt;dbl&gt; | wk_dew_p &lt;dbl&gt; | wk_avg_max_tmp &lt;dbl&gt; | wk_avg_tm &lt;dbl&gt; | wk_min_tm &lt;dbl&gt; | wk_avg_min_tmp &lt;dbl&gt; | wk_avg_hum &lt;dbl&gt; | wk_min_hum &lt;int&gt; | wk_avg_precipitation &lt;dbl&gt; | ... ... | monthly_precipitation &lt;dbl&gt; | q_precipitation &lt;dbl&gt; | min_y_q_precipitation &lt;dbl&gt; | q_temp &lt;dbl&gt; | mean_t_d &lt;dbl&gt; | percipitation &lt;dbl&gt; | min_y_q_temp &lt;dbl&gt; | max_y_precipitation &lt;dbl&gt; | seasonality &lt;dbl&gt; | per_seasonality &lt;dbl&gt; |\n",
       "|---|---|---|---|---|---|---|---|---|---|---|---|---|---|---|---|---|---|---|---|---|---|\n",
       "| 1 |  1 | 943.7298 | 18.03250 | 30.78000 | 24.19155 | 15.8 | 19.00000 | 71.23571 | 25 |  3.22285714 | ... | 12.822857 | 84.49714 | 17.98552 | 22.56830 | 17.93779 | 84.11238 | 17.93779 | 42.20571 |  0.16489076 | -0.2488066 |\n",
       "| 2 |  2 | 941.4388 | 18.37952 | 28.67143 | 22.99917 | 15.8 | 19.44286 | 77.61310 | 29 |  9.60000000 | ... | 12.822857 | 84.49714 | 17.98552 | 22.56830 | 17.93779 | 84.11238 | 17.93779 | 42.20571 |  0.16489076 | -0.2488066 |\n",
       "| 3 |  9 | 943.1124 | 18.79512 | 27.91429 | 22.44643 | 16.7 | 19.18857 | 81.58214 | 33 | 12.01714286 | ... | 42.205714 | 74.85238 | 17.98552 | 21.43708 | 17.93779 | 84.11238 | 17.93779 | 42.20571 | -0.01727395 |  2.4782576 |\n",
       "| 4 | 34 | 948.7310 | 13.33714 | 24.80286 | 18.25333 |  9.2 | 13.66571 | 75.72381 | 23 |  0.62285714 | ... |  5.681905 | 29.65905 | 17.98552 | 19.37982 | 17.93779 | 84.11238 | 17.93779 | 42.20571 |  0.38628365 | -1.1052278 |\n",
       "| 5 |  7 | 942.2117 | 18.41726 | 30.44286 | 23.95131 | 15.5 | 18.72000 | 73.48571 | 37 |  0.02857143 | ... | 42.205714 | 74.85238 | 17.98552 | 21.43708 | 17.93779 | 84.11238 | 17.93779 | 42.20571 | -0.01727395 |  2.4782576 |\n",
       "| 6 |  8 | 942.8707 | 17.91762 | 30.70286 | 23.93357 | 15.1 | 18.53429 | 71.73810 | 31 |  0.03428571 | ... | 42.205714 | 74.85238 | 17.98552 | 21.43708 | 17.93779 | 84.11238 | 17.93779 | 42.20571 | -0.01727395 |  2.4782576 |\n",
       "\n"
      ],
      "text/plain": [
       "  cum_week1 wk_atm_p wk_dew_p wk_avg_max_tmp wk_avg_tm wk_min_tm wk_avg_min_tmp\n",
       "1  1        943.7298 18.03250 30.78000       24.19155  15.8      19.00000      \n",
       "2  2        941.4388 18.37952 28.67143       22.99917  15.8      19.44286      \n",
       "3  9        943.1124 18.79512 27.91429       22.44643  16.7      19.18857      \n",
       "4 34        948.7310 13.33714 24.80286       18.25333   9.2      13.66571      \n",
       "5  7        942.2117 18.41726 30.44286       23.95131  15.5      18.72000      \n",
       "6  8        942.8707 17.91762 30.70286       23.93357  15.1      18.53429      \n",
       "  wk_avg_hum wk_min_hum wk_avg_precipitation ... monthly_precipitation\n",
       "1 71.23571   25          3.22285714          ... 12.822857            \n",
       "2 77.61310   29          9.60000000          ... 12.822857            \n",
       "3 81.58214   33         12.01714286          ... 42.205714            \n",
       "4 75.72381   23          0.62285714          ...  5.681905            \n",
       "5 73.48571   37          0.02857143          ... 42.205714            \n",
       "6 71.73810   31          0.03428571          ... 42.205714            \n",
       "  q_precipitation min_y_q_precipitation q_temp   mean_t_d percipitation\n",
       "1 84.49714        17.98552              22.56830 17.93779 84.11238     \n",
       "2 84.49714        17.98552              22.56830 17.93779 84.11238     \n",
       "3 74.85238        17.98552              21.43708 17.93779 84.11238     \n",
       "4 29.65905        17.98552              19.37982 17.93779 84.11238     \n",
       "5 74.85238        17.98552              21.43708 17.93779 84.11238     \n",
       "6 74.85238        17.98552              21.43708 17.93779 84.11238     \n",
       "  min_y_q_temp max_y_precipitation seasonality per_seasonality\n",
       "1 17.93779     42.20571             0.16489076 -0.2488066     \n",
       "2 17.93779     42.20571             0.16489076 -0.2488066     \n",
       "3 17.93779     42.20571            -0.01727395  2.4782576     \n",
       "4 17.93779     42.20571             0.38628365 -1.1052278     \n",
       "5 17.93779     42.20571            -0.01727395  2.4782576     \n",
       "6 17.93779     42.20571            -0.01727395  2.4782576     "
      ]
     },
     "metadata": {},
     "output_type": "display_data"
    }
   ],
   "source": [
    "data <- read.csv('C:/Users/galie/DataScience/project/final_final_data.csv') \n",
    "head (data)"
   ]
  },
  {
   "cell_type": "code",
   "execution_count": 2,
   "metadata": {},
   "outputs": [
    {
     "data": {
      "text/html": [
       "<style>\n",
       ".list-inline {list-style: none; margin:0; padding: 0}\n",
       ".list-inline>li {display: inline-block}\n",
       ".list-inline>li:not(:last-child)::after {content: \"\\00b7\"; padding: 0 .5ex}\n",
       "</style>\n",
       "<ol class=list-inline><li>310</li><li>33</li></ol>\n"
      ],
      "text/latex": [
       "\\begin{enumerate*}\n",
       "\\item 310\n",
       "\\item 33\n",
       "\\end{enumerate*}\n"
      ],
      "text/markdown": [
       "1. 310\n",
       "2. 33\n",
       "\n",
       "\n"
      ],
      "text/plain": [
       "[1] 310  33"
      ]
     },
     "metadata": {},
     "output_type": "display_data"
    }
   ],
   "source": [
    "dim(data)\n",
    "# it's a small data set.. "
   ]
  },
  {
   "cell_type": "code",
   "execution_count": 3,
   "metadata": {},
   "outputs": [
    {
     "data": {
      "text/plain": [
       "   cum_week1         wk_atm_p        wk_dew_p      wk_avg_max_tmp \n",
       " Min.   :  1.00   Min.   :931.2   Min.   : 9.826   Min.   :21.14  \n",
       " 1st Qu.: 78.25   1st Qu.:942.6   1st Qu.:14.206   1st Qu.:25.15  \n",
       " Median :155.50   Median :944.5   Median :16.537   Median :27.29  \n",
       " Mean   :155.50   Mean   :945.0   Mean   :16.230   Mean   :27.41  \n",
       " 3rd Qu.:232.75   3rd Qu.:947.7   3rd Qu.:18.345   3rd Qu.:29.54  \n",
       " Max.   :310.00   Max.   :955.8   Max.   :20.966   Max.   :34.28  \n",
       "   wk_avg_tm       wk_min_tm     wk_avg_min_tmp     wk_avg_hum   \n",
       " Min.   :14.31   Min.   : 4.30   Min.   : 8.989   Min.   :61.00  \n",
       " 1st Qu.:18.73   1st Qu.: 9.30   1st Qu.:14.374   1st Qu.:73.29  \n",
       " Median :21.32   Median :12.90   Median :17.271   Median :77.22  \n",
       " Mean   :21.00   Mean   :12.49   Mean   :16.706   Mean   :76.68  \n",
       " 3rd Qu.:23.17   3rd Qu.:15.50   3rd Qu.:19.005   3rd Qu.:80.95  \n",
       " Max.   :25.65   Max.   :18.80   Max.   :21.269   Max.   :89.04  \n",
       "   wk_min_hum    wk_avg_precipitation  num_patients     log_num_patients\n",
       " Min.   :11.00   Min.   : 0.0000      Min.   :   1.00   Min.   :0.6931  \n",
       " 1st Qu.:26.00   1st Qu.: 0.2471      1st Qu.:   6.00   1st Qu.:1.9459  \n",
       " Median :31.00   Median : 1.7607      Median :  14.50   Median :2.7403  \n",
       " Mean   :31.52   Mean   : 3.4756      Mean   : 211.93   Mean   :3.2109  \n",
       " 3rd Qu.:38.00   3rd Qu.: 4.9486      3rd Qu.:  42.75   3rd Qu.:3.7784  \n",
       " Max.   :51.00   Max.   :24.7143      Max.   :3868.00   Max.   :8.2608  \n",
       " log_wk_avg_precipitation  dry_week_yn     alot_of_patients_yn  ann_mean_tmp  \n",
       " Min.   :0.0000           Min.   :0.0000   Min.   :0.000       Min.   :20.22  \n",
       " 1st Qu.:0.2209           1st Qu.:0.0000   1st Qu.:0.000       1st Qu.:20.82  \n",
       " Median :1.0155           Median :0.0000   Median :0.000       Median :21.15  \n",
       " Mean   :1.0927           Mean   :0.3387   Mean   :0.229       Mean   :21.00  \n",
       " 3rd Qu.:1.7832           3rd Qu.:1.0000   3rd Qu.:0.000       3rd Qu.:21.26  \n",
       " Max.   :3.2470           Max.   :1.0000   Max.   :1.000       Max.   :21.36  \n",
       " mean_diu_range     max_y_temp      min_y_temp      annual_range   \n",
       " Min.   : 7.351   Min.   :24.24   Min.   : 8.989   Min.   : 8.566  \n",
       " 1st Qu.: 9.758   1st Qu.:27.03   1st Qu.:12.751   1st Qu.:12.326  \n",
       " Median :10.566   Median :29.33   Median :15.000   Median :13.829  \n",
       " Mean   :10.706   Mean   :29.30   Mean   :15.409   Mean   :13.887  \n",
       " 3rd Qu.:11.606   3rd Qu.:31.19   3rd Qu.:18.214   3rd Qu.:15.181  \n",
       " Max.   :14.055   Max.   :34.28   Max.   :19.666   Max.   :19.157  \n",
       " Isothermality     mean_temp     ann_precipitation monthly_precipitation\n",
       " Min.   :57.76   Min.   :16.54   Min.   :144.7     Min.   : 0.3486      \n",
       " 1st Qu.:73.37   1st Qu.:18.68   1st Qu.:148.1     1st Qu.: 3.7493      \n",
       " Median :78.35   Median :21.45   Median :182.4     Median :12.6600      \n",
       " Mean   :77.68   Mean   :21.00   Mean   :179.2     Mean   :14.8882      \n",
       " 3rd Qu.:83.10   3rd Qu.:23.12   3rd Qu.:202.9     3rd Qu.:19.8429      \n",
       " Max.   :92.47   Max.   :24.16   Max.   :207.0     Max.   :48.1200      \n",
       " q_precipitation   min_y_q_precipitation     q_temp         mean_t_d    \n",
       " Min.   :  8.331   Min.   : 8.331        Min.   :17.93   Min.   :17.93  \n",
       " 1st Qu.: 15.993   1st Qu.: 9.016        1st Qu.:18.82   1st Qu.:17.94  \n",
       " Median : 36.811   Median : 9.069        Median :21.44   Median :18.18  \n",
       " Mean   : 44.300   Mean   :13.972        Mean   :21.00   Mean   :18.20  \n",
       " 3rd Qu.: 70.566   3rd Qu.:17.986        3rd Qu.:22.57   3rd Qu.:18.53  \n",
       " Max.   :113.191   Max.   :24.634        Max.   :23.70   Max.   :18.64  \n",
       " percipitation     min_y_q_temp   max_y_precipitation  seasonality       \n",
       " Min.   : 33.67   Min.   :17.93   Min.   :35.23       Min.   :-0.606673  \n",
       " 1st Qu.: 36.28   1st Qu.:17.94   1st Qu.:36.16       1st Qu.:-0.073143  \n",
       " Median : 38.99   Median :18.18   Median :40.60       Median :-0.006277  \n",
       " Mean   : 62.05   Mean   :18.20   Mean   :40.50       Mean   : 0.001607  \n",
       " 3rd Qu.: 84.11   3rd Qu.:18.53   3rd Qu.:42.21       3rd Qu.: 0.146133  \n",
       " Max.   :117.99   Max.   :18.64   Max.   :48.12       Max.   : 0.386284  \n",
       " per_seasonality    \n",
       " Min.   :-2.121420  \n",
       " 1st Qu.:-1.105228  \n",
       " Median :-0.467535  \n",
       " Mean   : 0.003349  \n",
       " 3rd Qu.: 1.718318  \n",
       " Max.   : 2.478258  "
      ]
     },
     "metadata": {},
     "output_type": "display_data"
    }
   ],
   "source": [
    "summary(data)"
   ]
  },
  {
   "cell_type": "code",
   "execution_count": 4,
   "metadata": {},
   "outputs": [
    {
     "data": {
      "text/html": [
       "<style>\n",
       ".list-inline {list-style: none; margin:0; padding: 0}\n",
       ".list-inline>li {display: inline-block}\n",
       ".list-inline>li:not(:last-child)::after {content: \"\\00b7\"; padding: 0 .5ex}\n",
       "</style>\n",
       "<ol class=list-inline><li>'wk_atm_p'</li><li>'wk_dew_p'</li><li>'wk_avg_max_tmp'</li><li>'wk_avg_tm'</li><li>'wk_min_tm'</li><li>'wk_avg_min_tmp'</li><li>'wk_avg_hum'</li><li>'wk_min_hum'</li><li>'wk_avg_precipitation'</li><li>'num_patients'</li><li>'log_num_patients'</li><li>'log_wk_avg_precipitation'</li><li>'dry_week_yn'</li><li>'alot_of_patients_yn'</li><li>'ann_mean_tmp'</li><li>'mean_diu_range'</li><li>'max_y_temp'</li><li>'min_y_temp'</li><li>'annual_range'</li><li>'Isothermality'</li><li>'mean_temp'</li><li>'ann_precipitation'</li><li>'monthly_precipitation'</li><li>'q_precipitation'</li><li>'min_y_q_precipitation'</li><li>'q_temp'</li><li>'mean_t_d'</li><li>'percipitation'</li><li>'min_y_q_temp'</li><li>'max_y_precipitation'</li><li>'seasonality'</li><li>'per_seasonality'</li></ol>\n"
      ],
      "text/latex": [
       "\\begin{enumerate*}\n",
       "\\item 'wk\\_atm\\_p'\n",
       "\\item 'wk\\_dew\\_p'\n",
       "\\item 'wk\\_avg\\_max\\_tmp'\n",
       "\\item 'wk\\_avg\\_tm'\n",
       "\\item 'wk\\_min\\_tm'\n",
       "\\item 'wk\\_avg\\_min\\_tmp'\n",
       "\\item 'wk\\_avg\\_hum'\n",
       "\\item 'wk\\_min\\_hum'\n",
       "\\item 'wk\\_avg\\_precipitation'\n",
       "\\item 'num\\_patients'\n",
       "\\item 'log\\_num\\_patients'\n",
       "\\item 'log\\_wk\\_avg\\_precipitation'\n",
       "\\item 'dry\\_week\\_yn'\n",
       "\\item 'alot\\_of\\_patients\\_yn'\n",
       "\\item 'ann\\_mean\\_tmp'\n",
       "\\item 'mean\\_diu\\_range'\n",
       "\\item 'max\\_y\\_temp'\n",
       "\\item 'min\\_y\\_temp'\n",
       "\\item 'annual\\_range'\n",
       "\\item 'Isothermality'\n",
       "\\item 'mean\\_temp'\n",
       "\\item 'ann\\_precipitation'\n",
       "\\item 'monthly\\_precipitation'\n",
       "\\item 'q\\_precipitation'\n",
       "\\item 'min\\_y\\_q\\_precipitation'\n",
       "\\item 'q\\_temp'\n",
       "\\item 'mean\\_t\\_d'\n",
       "\\item 'percipitation'\n",
       "\\item 'min\\_y\\_q\\_temp'\n",
       "\\item 'max\\_y\\_precipitation'\n",
       "\\item 'seasonality'\n",
       "\\item 'per\\_seasonality'\n",
       "\\end{enumerate*}\n"
      ],
      "text/markdown": [
       "1. 'wk_atm_p'\n",
       "2. 'wk_dew_p'\n",
       "3. 'wk_avg_max_tmp'\n",
       "4. 'wk_avg_tm'\n",
       "5. 'wk_min_tm'\n",
       "6. 'wk_avg_min_tmp'\n",
       "7. 'wk_avg_hum'\n",
       "8. 'wk_min_hum'\n",
       "9. 'wk_avg_precipitation'\n",
       "10. 'num_patients'\n",
       "11. 'log_num_patients'\n",
       "12. 'log_wk_avg_precipitation'\n",
       "13. 'dry_week_yn'\n",
       "14. 'alot_of_patients_yn'\n",
       "15. 'ann_mean_tmp'\n",
       "16. 'mean_diu_range'\n",
       "17. 'max_y_temp'\n",
       "18. 'min_y_temp'\n",
       "19. 'annual_range'\n",
       "20. 'Isothermality'\n",
       "21. 'mean_temp'\n",
       "22. 'ann_precipitation'\n",
       "23. 'monthly_precipitation'\n",
       "24. 'q_precipitation'\n",
       "25. 'min_y_q_precipitation'\n",
       "26. 'q_temp'\n",
       "27. 'mean_t_d'\n",
       "28. 'percipitation'\n",
       "29. 'min_y_q_temp'\n",
       "30. 'max_y_precipitation'\n",
       "31. 'seasonality'\n",
       "32. 'per_seasonality'\n",
       "\n",
       "\n"
      ],
      "text/plain": [
       " [1] \"wk_atm_p\"                 \"wk_dew_p\"                \n",
       " [3] \"wk_avg_max_tmp\"           \"wk_avg_tm\"               \n",
       " [5] \"wk_min_tm\"                \"wk_avg_min_tmp\"          \n",
       " [7] \"wk_avg_hum\"               \"wk_min_hum\"              \n",
       " [9] \"wk_avg_precipitation\"     \"num_patients\"            \n",
       "[11] \"log_num_patients\"         \"log_wk_avg_precipitation\"\n",
       "[13] \"dry_week_yn\"              \"alot_of_patients_yn\"     \n",
       "[15] \"ann_mean_tmp\"             \"mean_diu_range\"          \n",
       "[17] \"max_y_temp\"               \"min_y_temp\"              \n",
       "[19] \"annual_range\"             \"Isothermality\"           \n",
       "[21] \"mean_temp\"                \"ann_precipitation\"       \n",
       "[23] \"monthly_precipitation\"    \"q_precipitation\"         \n",
       "[25] \"min_y_q_precipitation\"    \"q_temp\"                  \n",
       "[27] \"mean_t_d\"                 \"percipitation\"           \n",
       "[29] \"min_y_q_temp\"             \"max_y_precipitation\"     \n",
       "[31] \"seasonality\"              \"per_seasonality\"         "
      ]
     },
     "metadata": {},
     "output_type": "display_data"
    }
   ],
   "source": [
    "vn <- setdiff(names(data),c(\"cum_week1\"))\n",
    "vn"
   ]
  },
  {
   "cell_type": "code",
   "execution_count": 9,
   "metadata": {},
   "outputs": [
    {
     "name": "stderr",
     "output_type": "stream",
     "text": [
      "Downloading GitHub repo karpatit/mechkar@HEAD\n",
      "\n"
     ]
    },
    {
     "name": "stdout",
     "output_type": "stream",
     "text": [
      "utf8       (1.2.1   -> 1.2.2 ) [CRAN]\n",
      "rlang      (0.4.10  -> 0.4.11) [CRAN]\n",
      "fansi      (0.4.2   -> 0.5.0 ) [CRAN]\n",
      "ellipsis   (0.3.1   -> 0.3.2 ) [CRAN]\n",
      "colorspace (2.0-0   -> 2.0-2 ) [CRAN]\n",
      "Rcpp       (1.0.6   -> 1.0.7 ) [CRAN]\n",
      "tibble     (3.1.0   -> 3.1.4 ) [CRAN]\n",
      "stringi    (1.5.3   -> 1.7.4 ) [CRAN]\n",
      "xfun       (0.22    -> 0.26  ) [CRAN]\n",
      "htmltools  (0.5.1.1 -> 0.5.2 ) [CRAN]\n",
      "zip        (2.1.1   -> 2.2.0 ) [CRAN]\n",
      "readr      (1.4.0   -> 2.0.1 ) [CRAN]\n",
      "openxlsx   (4.2.3   -> 4.2.4 ) [CRAN]\n",
      "curl       (4.3     -> 4.3.2 ) [CRAN]\n",
      "haven      (2.3.1   -> 2.4.3 ) [CRAN]\n",
      "dplyr      (1.0.5   -> 1.0.7 ) [CRAN]\n"
     ]
    },
    {
     "name": "stderr",
     "output_type": "stream",
     "text": [
      "Installing 16 packages: utf8, rlang, fansi, ellipsis, colorspace, Rcpp, tibble, stringi, xfun, htmltools, zip, readr, openxlsx, curl, haven, dplyr\n",
      "\n",
      "Installing packages into 'C:/Users/galie/Documents/R/win-library/4.0'\n",
      "(as 'lib' is unspecified)\n",
      "\n"
     ]
    },
    {
     "name": "stdout",
     "output_type": "stream",
     "text": [
      "package 'utf8' successfully unpacked and MD5 sums checked\n"
     ]
    },
    {
     "name": "stderr",
     "output_type": "stream",
     "text": [
      "Warning message:\n",
      "\"cannot remove prior installation of package 'utf8'\"\n",
      "Warning message in file.copy(savedcopy, lib, recursive = TRUE):\n",
      "\"problem copying C:\\Users\\galie\\Documents\\R\\win-library\\4.0\\00LOCK\\utf8\\libs\\x64\\utf8.dll to C:\\Users\\galie\\Documents\\R\\win-library\\4.0\\utf8\\libs\\x64\\utf8.dll: Permission denied\"\n",
      "Warning message:\n",
      "\"restored 'utf8'\"\n"
     ]
    },
    {
     "name": "stdout",
     "output_type": "stream",
     "text": [
      "package 'rlang' successfully unpacked and MD5 sums checked\n"
     ]
    },
    {
     "name": "stderr",
     "output_type": "stream",
     "text": [
      "Warning message:\n",
      "\"cannot remove prior installation of package 'rlang'\"\n",
      "Warning message in file.copy(savedcopy, lib, recursive = TRUE):\n",
      "\"problem copying C:\\Users\\galie\\Documents\\R\\win-library\\4.0\\00LOCK\\rlang\\libs\\x64\\rlang.dll to C:\\Users\\galie\\Documents\\R\\win-library\\4.0\\rlang\\libs\\x64\\rlang.dll: Permission denied\"\n",
      "Warning message:\n",
      "\"restored 'rlang'\"\n"
     ]
    },
    {
     "name": "stdout",
     "output_type": "stream",
     "text": [
      "package 'fansi' successfully unpacked and MD5 sums checked\n"
     ]
    },
    {
     "name": "stderr",
     "output_type": "stream",
     "text": [
      "Warning message:\n",
      "\"cannot remove prior installation of package 'fansi'\"\n",
      "Warning message in file.copy(savedcopy, lib, recursive = TRUE):\n",
      "\"problem copying C:\\Users\\galie\\Documents\\R\\win-library\\4.0\\00LOCK\\fansi\\libs\\x64\\fansi.dll to C:\\Users\\galie\\Documents\\R\\win-library\\4.0\\fansi\\libs\\x64\\fansi.dll: Permission denied\"\n",
      "Warning message:\n",
      "\"restored 'fansi'\"\n"
     ]
    },
    {
     "name": "stdout",
     "output_type": "stream",
     "text": [
      "package 'ellipsis' successfully unpacked and MD5 sums checked\n"
     ]
    },
    {
     "name": "stderr",
     "output_type": "stream",
     "text": [
      "Warning message:\n",
      "\"cannot remove prior installation of package 'ellipsis'\"\n",
      "Warning message in file.copy(savedcopy, lib, recursive = TRUE):\n",
      "\"problem copying C:\\Users\\galie\\Documents\\R\\win-library\\4.0\\00LOCK\\ellipsis\\libs\\x64\\ellipsis.dll to C:\\Users\\galie\\Documents\\R\\win-library\\4.0\\ellipsis\\libs\\x64\\ellipsis.dll: Permission denied\"\n",
      "Warning message:\n",
      "\"restored 'ellipsis'\"\n"
     ]
    },
    {
     "name": "stdout",
     "output_type": "stream",
     "text": [
      "package 'colorspace' successfully unpacked and MD5 sums checked\n"
     ]
    },
    {
     "name": "stderr",
     "output_type": "stream",
     "text": [
      "Warning message:\n",
      "\"cannot remove prior installation of package 'colorspace'\"\n",
      "Warning message in file.copy(savedcopy, lib, recursive = TRUE):\n",
      "\"problem copying C:\\Users\\galie\\Documents\\R\\win-library\\4.0\\00LOCK\\colorspace\\libs\\x64\\colorspace.dll to C:\\Users\\galie\\Documents\\R\\win-library\\4.0\\colorspace\\libs\\x64\\colorspace.dll: Permission denied\"\n",
      "Warning message:\n",
      "\"restored 'colorspace'\"\n"
     ]
    },
    {
     "name": "stdout",
     "output_type": "stream",
     "text": [
      "package 'Rcpp' successfully unpacked and MD5 sums checked\n"
     ]
    },
    {
     "name": "stderr",
     "output_type": "stream",
     "text": [
      "Warning message:\n",
      "\"cannot remove prior installation of package 'Rcpp'\"\n",
      "Warning message in file.copy(savedcopy, lib, recursive = TRUE):\n",
      "\"problem copying C:\\Users\\galie\\Documents\\R\\win-library\\4.0\\00LOCK\\Rcpp\\libs\\x64\\Rcpp.dll to C:\\Users\\galie\\Documents\\R\\win-library\\4.0\\Rcpp\\libs\\x64\\Rcpp.dll: Permission denied\"\n",
      "Warning message:\n",
      "\"restored 'Rcpp'\"\n"
     ]
    },
    {
     "name": "stdout",
     "output_type": "stream",
     "text": [
      "package 'tibble' successfully unpacked and MD5 sums checked\n"
     ]
    },
    {
     "name": "stderr",
     "output_type": "stream",
     "text": [
      "Warning message:\n",
      "\"cannot remove prior installation of package 'tibble'\"\n",
      "Warning message in file.copy(savedcopy, lib, recursive = TRUE):\n",
      "\"problem copying C:\\Users\\galie\\Documents\\R\\win-library\\4.0\\00LOCK\\tibble\\libs\\x64\\tibble.dll to C:\\Users\\galie\\Documents\\R\\win-library\\4.0\\tibble\\libs\\x64\\tibble.dll: Permission denied\"\n",
      "Warning message:\n",
      "\"restored 'tibble'\"\n"
     ]
    },
    {
     "name": "stdout",
     "output_type": "stream",
     "text": [
      "package 'stringi' successfully unpacked and MD5 sums checked\n"
     ]
    },
    {
     "name": "stderr",
     "output_type": "stream",
     "text": [
      "Warning message:\n",
      "\"cannot remove prior installation of package 'stringi'\"\n",
      "Warning message in file.copy(savedcopy, lib, recursive = TRUE):\n",
      "\"problem copying C:\\Users\\galie\\Documents\\R\\win-library\\4.0\\00LOCK\\stringi\\libs\\icudt61l.dat to C:\\Users\\galie\\Documents\\R\\win-library\\4.0\\stringi\\libs\\icudt61l.dat: Invalid argument\"\n",
      "Warning message in file.copy(savedcopy, lib, recursive = TRUE):\n",
      "\"problem copying C:\\Users\\galie\\Documents\\R\\win-library\\4.0\\00LOCK\\stringi\\libs\\x64\\stringi.dll to C:\\Users\\galie\\Documents\\R\\win-library\\4.0\\stringi\\libs\\x64\\stringi.dll: Permission denied\"\n",
      "Warning message:\n",
      "\"restored 'stringi'\"\n"
     ]
    },
    {
     "name": "stdout",
     "output_type": "stream",
     "text": [
      "package 'xfun' successfully unpacked and MD5 sums checked\n"
     ]
    },
    {
     "name": "stderr",
     "output_type": "stream",
     "text": [
      "Warning message:\n",
      "\"cannot remove prior installation of package 'xfun'\"\n",
      "Warning message in file.copy(savedcopy, lib, recursive = TRUE):\n",
      "\"problem copying C:\\Users\\galie\\Documents\\R\\win-library\\4.0\\00LOCK\\xfun\\libs\\x64\\xfun.dll to C:\\Users\\galie\\Documents\\R\\win-library\\4.0\\xfun\\libs\\x64\\xfun.dll: Permission denied\"\n",
      "Warning message:\n",
      "\"restored 'xfun'\"\n"
     ]
    },
    {
     "name": "stdout",
     "output_type": "stream",
     "text": [
      "package 'htmltools' successfully unpacked and MD5 sums checked\n"
     ]
    },
    {
     "name": "stderr",
     "output_type": "stream",
     "text": [
      "Warning message:\n",
      "\"cannot remove prior installation of package 'htmltools'\"\n",
      "Warning message in file.copy(savedcopy, lib, recursive = TRUE):\n",
      "\"problem copying C:\\Users\\galie\\Documents\\R\\win-library\\4.0\\00LOCK\\htmltools\\libs\\x64\\htmltools.dll to C:\\Users\\galie\\Documents\\R\\win-library\\4.0\\htmltools\\libs\\x64\\htmltools.dll: Permission denied\"\n",
      "Warning message:\n",
      "\"restored 'htmltools'\"\n"
     ]
    },
    {
     "name": "stdout",
     "output_type": "stream",
     "text": [
      "package 'zip' successfully unpacked and MD5 sums checked\n"
     ]
    },
    {
     "name": "stderr",
     "output_type": "stream",
     "text": [
      "Warning message:\n",
      "\"cannot remove prior installation of package 'zip'\"\n",
      "Warning message in file.copy(savedcopy, lib, recursive = TRUE):\n",
      "\"problem copying C:\\Users\\galie\\Documents\\R\\win-library\\4.0\\00LOCK\\zip\\libs\\x64\\zip.dll to C:\\Users\\galie\\Documents\\R\\win-library\\4.0\\zip\\libs\\x64\\zip.dll: Permission denied\"\n",
      "Warning message:\n",
      "\"restored 'zip'\"\n"
     ]
    },
    {
     "name": "stdout",
     "output_type": "stream",
     "text": [
      "package 'readr' successfully unpacked and MD5 sums checked\n"
     ]
    },
    {
     "name": "stderr",
     "output_type": "stream",
     "text": [
      "Warning message:\n",
      "\"cannot remove prior installation of package 'readr'\"\n",
      "Warning message in file.copy(savedcopy, lib, recursive = TRUE):\n",
      "\"problem copying C:\\Users\\galie\\Documents\\R\\win-library\\4.0\\00LOCK\\readr\\libs\\x64\\readr.dll to C:\\Users\\galie\\Documents\\R\\win-library\\4.0\\readr\\libs\\x64\\readr.dll: Permission denied\"\n",
      "Warning message:\n",
      "\"restored 'readr'\"\n"
     ]
    },
    {
     "name": "stdout",
     "output_type": "stream",
     "text": [
      "package 'openxlsx' successfully unpacked and MD5 sums checked\n"
     ]
    },
    {
     "name": "stderr",
     "output_type": "stream",
     "text": [
      "Warning message:\n",
      "\"cannot remove prior installation of package 'openxlsx'\"\n",
      "Warning message in file.copy(savedcopy, lib, recursive = TRUE):\n",
      "\"problem copying C:\\Users\\galie\\Documents\\R\\win-library\\4.0\\00LOCK\\openxlsx\\libs\\x64\\openxlsx.dll to C:\\Users\\galie\\Documents\\R\\win-library\\4.0\\openxlsx\\libs\\x64\\openxlsx.dll: Permission denied\"\n",
      "Warning message:\n",
      "\"restored 'openxlsx'\"\n"
     ]
    },
    {
     "name": "stdout",
     "output_type": "stream",
     "text": [
      "package 'curl' successfully unpacked and MD5 sums checked\n"
     ]
    },
    {
     "name": "stderr",
     "output_type": "stream",
     "text": [
      "Warning message:\n",
      "\"cannot remove prior installation of package 'curl'\"\n",
      "Warning message in file.copy(savedcopy, lib, recursive = TRUE):\n",
      "\"problem copying C:\\Users\\galie\\Documents\\R\\win-library\\4.0\\00LOCK\\curl\\libs\\x64\\curl.dll to C:\\Users\\galie\\Documents\\R\\win-library\\4.0\\curl\\libs\\x64\\curl.dll: Permission denied\"\n",
      "Warning message:\n",
      "\"restored 'curl'\"\n"
     ]
    },
    {
     "name": "stdout",
     "output_type": "stream",
     "text": [
      "package 'haven' successfully unpacked and MD5 sums checked\n"
     ]
    },
    {
     "name": "stderr",
     "output_type": "stream",
     "text": [
      "Warning message:\n",
      "\"cannot remove prior installation of package 'haven'\"\n",
      "Warning message in file.copy(savedcopy, lib, recursive = TRUE):\n",
      "\"problem copying C:\\Users\\galie\\Documents\\R\\win-library\\4.0\\00LOCK\\haven\\libs\\x64\\haven.dll to C:\\Users\\galie\\Documents\\R\\win-library\\4.0\\haven\\libs\\x64\\haven.dll: Permission denied\"\n",
      "Warning message:\n",
      "\"restored 'haven'\"\n"
     ]
    },
    {
     "name": "stdout",
     "output_type": "stream",
     "text": [
      "package 'dplyr' successfully unpacked and MD5 sums checked\n"
     ]
    },
    {
     "name": "stderr",
     "output_type": "stream",
     "text": [
      "Warning message:\n",
      "\"cannot remove prior installation of package 'dplyr'\"\n",
      "Warning message in file.copy(savedcopy, lib, recursive = TRUE):\n",
      "\"problem copying C:\\Users\\galie\\Documents\\R\\win-library\\4.0\\00LOCK\\dplyr\\libs\\x64\\dplyr.dll to C:\\Users\\galie\\Documents\\R\\win-library\\4.0\\dplyr\\libs\\x64\\dplyr.dll: Permission denied\"\n",
      "Warning message:\n",
      "\"restored 'dplyr'\"\n"
     ]
    },
    {
     "name": "stdout",
     "output_type": "stream",
     "text": [
      "\n",
      "The downloaded binary packages are in\n",
      "\tC:\\Users\\galie\\AppData\\Local\\Temp\\RtmpeKpAwb\\downloaded_packages\n",
      "\u001b[32mv\u001b[39m  \u001b[90mchecking for file 'C:\\Users\\galie\\AppData\\Local\\Temp\\RtmpeKpAwb\\remotes4a6870d55e00\\karpatit-mechkar-da2c054/DESCRIPTION'\u001b[39m\u001b[36m\u001b[36m (360ms)\u001b[36m\u001b[39m\n",
      "\u001b[90m-\u001b[39m\u001b[90m  \u001b[39m\u001b[90mpreparing 'mechkar':\u001b[39m\u001b[36m\u001b[39m\n",
      "\u001b[32mv\u001b[39m  \u001b[90mchecking DESCRIPTION meta-information\u001b[39m\u001b[36m\u001b[39m\n",
      "\u001b[90m-\u001b[39m\u001b[90m  \u001b[39m\u001b[90mchecking for LF line-endings in source and make files and shell scripts\u001b[39m\u001b[36m\u001b[39m\n",
      "\u001b[90m-\u001b[39m\u001b[90m  \u001b[39m\u001b[90mchecking for empty or unneeded directories\u001b[39m\u001b[36m\u001b[39m\n",
      "\u001b[90m-\u001b[39m\u001b[90m  \u001b[39m\u001b[90mbuilding 'mechkar_1.14.10.tar.gz'\u001b[39m\u001b[36m\u001b[39m\n",
      "   \n",
      "\r"
     ]
    },
    {
     "name": "stderr",
     "output_type": "stream",
     "text": [
      "Installing package into 'C:/Users/galie/Documents/R/win-library/4.0'\n",
      "(as 'lib' is unspecified)\n",
      "\n",
      "Warning message in i.p(...):\n",
      "\"installation of package 'C:/Users/galie/AppData/Local/Temp/RtmpeKpAwb/file4a68117b806/mechkar_1.14.10.tar.gz' had non-zero exit status\"\n",
      "Loading required package: mechkar\n",
      "\n",
      "Warning message in library(package, lib.loc = lib.loc, character.only = TRUE, logical.return = TRUE, :\n",
      "\"there is no package called 'mechkar'\"\n"
     ]
    }
   ],
   "source": [
    "library(devtools)\n",
    "install_github(\"karpatit/mechkar\")\n",
    "require(mechkar)"
   ]
  },
  {
   "cell_type": "markdown",
   "metadata": {},
   "source": [
    "### Since it's not working, I copied the whole code from github.. "
   ]
  },
  {
   "cell_type": "code",
   "execution_count": 23,
   "metadata": {},
   "outputs": [],
   "source": [
    "############################################################################\n",
    "#####   Package mechkar                                                 ####\n",
    "#####   Author: Tomas Karpati M.D.                                      ####\n",
    "#####   Creation date: 2017-05-01                                       ####\n",
    "############################################################################\n",
    "\n",
    "############################################################################\n",
    "#####   DATA VISUALIZATION                                              ####\n",
    "#####   Author: Tomas Karpati M.D.                                      ####\n",
    "#####   Creation date: 2014-03-12                                       ####\n",
    "#####   Last Modified: 2020-11-03                                       ####\n",
    "############################################################################\n",
    "\n",
    "###########  Functions   ##############################################\n",
    "\n",
    "###################################################\n",
    "\n",
    "exploreData <- function(data=data, y=NULL, rn=NULL, factorSize=10, dir=tempdir(), debug=FALSE, ...) {\n",
    "\n",
    "  whatVarType <- function(var) {\n",
    "    suppressWarnings(if (var==\"integer\" | var==\"numeric\") {\n",
    "      return(1)\n",
    "    } else if (var==\"factor\" | var==\"character\") {\n",
    "      return(2)\n",
    "    } else if (var==\"Date\" | \"POSIXct\" %in% var[[1]]) {\n",
    "      return(3)\n",
    "    } else {\n",
    "      return(0)\n",
    "    })\n",
    "  }\n",
    "\n",
    "  drawHistogram <- function(imgname=imgname, x=x) {\n",
    "    d=stats::density(x, kernel = \"gaussian\",na.rm=TRUE)\n",
    "    breakstar=(max(x,na.rm=TRUE) -min(x,na.rm=TRUE))/d$bw\n",
    "    h=graphics::hist(x, breaks=breakstar)\n",
    "    graphics::plot(h,main=\"\",xlab=imgname)\n",
    "    yfit<-seq(min(x,na.rm=TRUE),max(x,na.rm=TRUE),length=40)\n",
    "    ffit<-stats::dnorm(yfit,mean=mean(x,na.rm=TRUE),sd=stats::sd(x,na.rm=TRUE))\n",
    "    ffit <- ffit*diff(h$mids[1:2])*length(x)\n",
    "    lines(yfit, ffit, col=\"blue\", lwd=2)\n",
    "  }\n",
    "\n",
    "  drawFakeGraph <- function(imgname=imgname) {\n",
    "    graphics::plot.window(xlim = c(0,0),ylim = c(0,0))\n",
    "  }\n",
    "\n",
    "  drawBars <- function(imgname=imgname, x=x) {\n",
    "    graphics::plot(x)\n",
    "  }\n",
    "\n",
    "  drawGraphOne <- function(imgname=imgname, numVar=x, vartype=1) {\n",
    "    if(vartype==1) {\n",
    "      drawHistogram(imgname,numVar)\n",
    "    } else if(vartype==2) {\n",
    "      drawBars(imgname,numVar)\n",
    "    } else {\n",
    "      drawFakeGraph(imgname)\n",
    "    }\n",
    "  }\n",
    "\n",
    "  getContinuousStats <- function(x) {\n",
    "    N <- length(x)\n",
    "    n <- length(x[which(is.na(x)==FALSE)])\n",
    "    pct <- formatC(n/N * 100)\n",
    "    nmiss <- length(x[which(is.na(x)==TRUE)])\n",
    "    npct <- formatC(nmiss/N *100)\n",
    "    ma <- mean(x, na.rm=TRUE)\n",
    "    s <- stats::sd(x, na.rm=TRUE)\n",
    "    me <- formatC(stats::median(x, na.rm=TRUE))\n",
    "    q1 <- formatC(stats::quantile(x,1/4, na.rm=TRUE))\n",
    "    q3 <- formatC(stats::quantile(x,3/4, na.rm=TRUE))\n",
    "    mn <- formatC(min(x, na.rm=TRUE))\n",
    "    mx <- formatC(max(x, na.rm=TRUE))\n",
    "    html <- paste(\"<div class='Cell' style='align: top;'> <u>Data type</u>: Continuous <p> <u>Data length</u>: \",n ,\"/\", N, \" (\", pct, \"%) <br> <u>Missing</u>: \",\n",
    "                  nmiss, \" (\", npct, \"%)<p> <u>Mean</u>: \", formatC(ma), \"\\t <u>StdDev</u>: \", formatC(s), \"<br><u>Median</u>: \",me,\n",
    "                  \"\\t <u>IQR</u>: \", q1, \"-\", q3, \"<br><u>Min</u>: \", mn, \"\\t <u>Max</u>: \", mx, \"</div>\")\n",
    "    return(html)\n",
    "  }\n",
    "\n",
    "  getCategortyStats <- function(x) {\n",
    "    N <- length(x)\n",
    "    n <- length(x[which(is.na(x)==FALSE)])\n",
    "    pct <- formatC(n/N * 100)\n",
    "    nmiss <- length(x[which(is.na(x)==TRUE)])\n",
    "    npct <- formatC(nmiss/N *100)\n",
    "    l <- levels(x)\n",
    "    s <- summary(x)\n",
    "    htm <- \"<ul>\"\n",
    "    if (length(l) < 5) {\n",
    "      for (lv in l) {\n",
    "        htm <- paste(htm, \"<li><u>\", lv, \"</u>: \", s[[lv]], \"</li>\")\n",
    "      }\n",
    "      htm <- paste(htm,\"</ul>\")\n",
    "    }\n",
    "    html <- paste(\"<div class='Cell'> <u>Data type</u>: Categorical Data <p> <u>Data length</u>: \",n, \"/\", N, \" (\", pct, \"%) <br> <u>Missing</u>: \",\n",
    "                  nmiss, \" (\", npct, \"%) <p> <u>Number of levels</u>: \", length(l), \"<br>\", htm, \"</div>\")\n",
    "    return(html)\n",
    "  }\n",
    "\n",
    "  getDatesStats <- function(x) {\n",
    "    N <- length(x)\n",
    "    n <- length(x[which(is.na(x)==FALSE)])\n",
    "    pct <- formatC(n/N * 100)\n",
    "    nmiss <- length(x[which(is.na(x)==TRUE)])\n",
    "    npct <- formatC(nmiss/N *100)\n",
    "    s <- summary(x)\n",
    "    html <- paste(\"<div class='Cell'> <u>Data type</u>: Date <p> <u>Data length</u>: \",n, \"/\", N, \" (\", pct, \"%) <br> <u>Missing</u>: \",\n",
    "                  nmiss, \" (\", npct, \"%) <p> <u>Min date</u>: \", min(x, na.rm=TRUE), \"<br><u>Max date</u>:\",max(x, na.rm=TRUE) , \"</div>\")\n",
    "    return(html)\n",
    "  }\n",
    "\n",
    "  getStats <- function(numVar=x, vartype=1) {\n",
    "    if(vartype==1) {\n",
    "      html <- getContinuousStats(numVar)\n",
    "    } else if(vartype==2) {\n",
    "      html <- getCategortyStats(numVar)\n",
    "    } else if (vartype==3) {\n",
    "      html <- getDatesStats(numVar)\n",
    "    } else {\n",
    "      html <- \"<div class='Cell'></div>\"\n",
    "    }\n",
    "    return(html)\n",
    "  }\n",
    "\n",
    "  getOutliers <- function(x) {\n",
    "    bp <- graphics::boxplot(x,plot=FALSE)\n",
    "    return(bp$out)\n",
    "  }\n",
    "\n",
    "  getOutlierGraph <- function(x) {\n",
    "    #  mod <- tryCatch({\n",
    "    outl <- getOutliers(x)\n",
    "    df <- data.frame(x=x, cl=1)\n",
    "    if(length(outl)>0) {\n",
    "      df$cl[which(df$x %in% outl)] <- 2\n",
    "    }\n",
    "    #pl <- stats::scatter.smooth(df$x,col=df$cl)\n",
    "    pl <- tryCatch({\n",
    "      stats::scatter.smooth(df$x,col=df$cl,xlab=\"index\")\n",
    "    }, warning = function(w) {\n",
    "      suppressWarnings(w)\n",
    "      #n <- \"warning!\"\n",
    "    }, error = function(e) {\n",
    "      n <- \"error!\"\n",
    "    }, finally = {\n",
    "      graphics::plot(df$x ~ row.names(df),col=df$cl,xlab=\"index\")\n",
    "    })\n",
    "    ma <- mean(x, na.rm=TRUE)\n",
    "    s <- stats::sd(x, na.rm=TRUE)\n",
    "    graphics::abline(h=ma-(2*s), col=\"red\", lty=2)\n",
    "    graphics::abline(h=ma+(2*s), col=\"red\", lty=2)\n",
    "    #  }, error = function(e) {\n",
    "    #    pl <- drawFakeGraph(\"none\")\n",
    "    #  })\n",
    "    return(pl)\n",
    "  }\n",
    "\n",
    "  #' @importFrom rlang .data\n",
    "  getScatterGraph <- function(df=data,x,y,dtype=1) {\n",
    "    if(dtype==1) {\n",
    "      pl <- ggplot2::ggplot(df) + ggplot2::geom_smooth(ggplot2::aes(x=.data[[x]], y=.data[[y]]), method=\"loess\") + ggplot2::xlab(x) + ggplot2::ylab(y)\n",
    "    } else {\n",
    "      pl <- ggplot2::ggplot(df) + ggplot2::geom_boxplot(ggplot2::aes(y=.data[[x]], color=.data[[y]])) + ggplot2::xlab(x) + ggplot2::ylab(y) + ggplot2::labs(color=y)\n",
    "    }\n",
    "    return(pl)\n",
    "  }\n",
    "\n",
    "  getOutliersHtml <- function(imgname=imgname, x=x, srcdir=srcdir) {\n",
    "    bp <- getOutliers(x)\n",
    "    if (length(unique(bp)) > 10) {\n",
    "      xtrm <- paste(\"There are \", length(unique(bp)), \" outlier values\")\n",
    "    } else if (length(unique(bp)) == 0) {\n",
    "      xtrm <- \"No outlier values found\"\n",
    "    } else {\n",
    "      xtrm <- paste(formatC(unique(bp)), collapse=', ' )\n",
    "    }\n",
    "    #imgsrc = paste(paste0(srcdir,\"/fig/\"),imgname, \"_2.png\",sep=\"\")\n",
    "    imgsrc = paste(paste0(\"fig/\"),imgname, \"_2.png\",sep=\"\")\n",
    "    html <- paste0(\"<div class='Cell'><img class='origimg' src='\",imgsrc,\"' height='150' width='250'><br> <u>Outlier values</u>: <br> \", xtrm, \"</div>\")\n",
    "    return(html)\n",
    "  }\n",
    "  ################## Prepare for the report ###################\n",
    "  #report <- paste(mydir,\"/report\",sep=\"\")\n",
    "\n",
    "  ################## Check for values for rn ##################\n",
    "  if(!is.null(rn)) {\n",
    "    if(length(rn)!=ncol(data)) {\n",
    "      message(\"the value of the 'rn' argument was avoided because it does not have the same number of columns of the dataframe\")\n",
    "      rn <- NULL\n",
    "    }\n",
    "    xname <- rn\n",
    "    names(xname) <- names(data)\n",
    "  } else {\n",
    "    xname <- NULL\n",
    "  }\n",
    "\n",
    "  report <- dir\n",
    "  if (!file.exists(report)) {\n",
    "    dir.create(report)\n",
    "  }\n",
    "  fig <- paste(report,\"/fig\",sep=\"\")\n",
    "  if (!file.exists(fig)) {\n",
    "    dir.create(fig)\n",
    "  }\n",
    "  srcdir <- report\n",
    "\n",
    "  # determine which columns are integer\n",
    "  int_col <- which(sapply(data, is.integer))\n",
    "  int_col <- c(int_col,(which(sapply(data, is.numeric))))\n",
    "  mi <- vector()\n",
    "  # find only those integers with less than 10 unique values and convert to factor\n",
    "  for (li in int_col) {\n",
    "    if (length(unique(data[,li])) < factorSize) {\n",
    "      mi <- c(mi,li)\n",
    "      if (is.factor(data[,li]) == FALSE) {\n",
    "        data[,li] <- factor(data[,li])\n",
    "      }\n",
    "    }\n",
    "  }\n",
    "\n",
    "  str_col <- which(sapply(data, is.character))\n",
    "  mi <- vector()\n",
    "  # find only those integers with less than 10 unique values and convert to factor\n",
    "  for (li in str_col) {\n",
    "    mi <- c(mi,li)\n",
    "    data[,li] <- factor(data[,li])\n",
    "  }\n",
    "\n",
    "  # create the html report page\n",
    "  myhtml <- paste(report,\"/report.html\",sep=\"\")\n",
    "  cat(\"<!DOCTYPE html>\n",
    "      <html>\n",
    "      <head>\n",
    "      <title>Data Visualization</title>\n",
    "      <meta http-equiv='Content-Type' content='text/html; charset=UTF-8' />\n",
    "      <link rel='stylesheet' href='http://code.jquery.com/mobile/1.4.5/jquery.mobile-1.4.5.min.css'>\n",
    "      <script src='http://code.jquery.com/jquery-1.10.2.js'></script>\n",
    "      <script>\n",
    "      $(document).ready(function(){\n",
    "      $('.onetoone').hide();\n",
    "      });\n",
    "      $(function() {\n",
    "      $('.origimg').click(function(e) {\n",
    "      $('#popup_img').attr('src',$(this).attr('src'));\n",
    "      $('#myContainer').hide();\n",
    "      var pos = $(document).scrollTop();\n",
    "      $('#myContainer').css({'top':pos+20,'left':250, 'position':'absolute', 'border':'1px solid black', 'padding':'0px'});\n",
    "      $('#myContainer').show();\n",
    "      });\n",
    "      $('#myContainer').click(function(e) {\n",
    "      $('#myContainer').hide();\n",
    "      });\n",
    "      $('#myform2').submit(function(e) {\n",
    "      e.preventDefault();\n",
    "      });\n",
    "      $('#onetoone').on('click',function() {\n",
    "      console.log('onetone button - 1');\n",
    "      $('#onetoone').hide();\n",
    "      $('#aslist').show();\n",
    "      // To show only individual rows:\n",
    "      $('.Row').hide();\n",
    "      $('.onetoone').show();\n",
    "      // then we iterate\n",
    "      var i = $('.Row').length;\n",
    "      // Then we iterate\n",
    "      var nxt = $('#idx').val();\n",
    "      if (nxt < i & nxt >0) {\n",
    "      $('.Row').hide();\n",
    "      $('.Row').eq(0).show();\n",
    "      $('.Row').eq(nxt).show();\n",
    "      } else {\n",
    "      $('#idx').val(1)\n",
    "      }\n",
    "      console.log('onetone button - 2');\n",
    "      });\n",
    "      $('#aslist').on('click',function() {\n",
    "      console.log('aslist button - 1');\n",
    "      $('#onetoone').show();\n",
    "      $('#aslist').hide();\n",
    "      $('.onetoone').hide();\n",
    "      $('.Row').show();\n",
    "      console.log('aslist button - 2');\n",
    "      });\n",
    "      $('#less').on('click',function(){\n",
    "      console.log('less button - 1');\n",
    "      var i = $('.Row').length;\n",
    "      var nxt = parseInt($('#idx').val(),10) - 1;\n",
    "      if (nxt < i & nxt >0) {\n",
    "      $('#idx').val(nxt)\n",
    "      $('.Row').hide();\n",
    "      $('.Row').eq(0).show();\n",
    "      $('.Row').eq(nxt).show();\n",
    "      } else {\n",
    "      $('#idx').val(1)\n",
    "      }\n",
    "      console.log('less button - 2');\n",
    "      });\n",
    "      $('#more').on('click',function(){\n",
    "      console.log('more button - 1');\n",
    "      var i = $('.Row').length;\n",
    "      var nxt = parseInt($('#idx').val(),10) + 1;\n",
    "      if (nxt < i & nxt >0) {\n",
    "      $('#idx').val(nxt)\n",
    "      $('.Row').hide();\n",
    "      $('.Row').eq(0).show();\n",
    "      $('.Row').eq(nxt).show();\n",
    "      } else {\n",
    "      $('#idx').val(i)\n",
    "      }\n",
    "      console.log('more button - 2');\n",
    "      });\n",
    "      $('#idx').on('change', function(){\n",
    "      console.log('idx changed - 1');\n",
    "      var i = $('.Row').length;\n",
    "      var nxt = $('#idx').val();\n",
    "      if (nxt < i & nxt >0) {\n",
    "      $('#idx').val(nxt)\n",
    "      $('.Row').hide();\n",
    "      $('.Row').eq(0).show();\n",
    "      $('.Row').eq(nxt).show();\n",
    "      } else {\n",
    "      $('#idx').val(i)\n",
    "      }\n",
    "      console.log('idx changed - 2');\n",
    "      });\n",
    "      });\n",
    "      </script>\n",
    "      <style type='text/css'>\n",
    "      .Table\n",
    "      {\n",
    "      display: table;\n",
    "      }\n",
    "      .Title\n",
    "      {\n",
    "      display: table-caption;\n",
    "      text-align: center;\n",
    "      font-weight: bold;\n",
    "      font-size: larger;\n",
    "      background-color:#4C6F50;\n",
    "      color: #fff;\n",
    "      }\n",
    "      .Row\n",
    "      {\n",
    "      display: table-row;\n",
    "      }\n",
    "      .Row:nth-child(even) {\n",
    "        background-color: #56882433;\n",
    "      }\n",
    "      .Cell\n",
    "      {\n",
    "      display: table-cell;\n",
    "      border: solid;\n",
    "      border-width: thin;\n",
    "      padding-left: 5px;\n",
    "      padding-right: 5px;\n",
    "      vertical-align: top;\n",
    "      font-family: Arial, Helvetica, sans-serif;\n",
    "      font-size: 14px;\n",
    "      }\n",
    "      </style>\n",
    "      </head>\n",
    "      <body>\n",
    "      <div id='pageone' data-role='main' class='ui-content'>\n",
    "      \", file = myhtml, sep='\\n',append=FALSE)\n",
    "\n",
    "  html <- paste(\"<p><p><h1> Data Visualization & Exploration </h1>\n",
    "                <form>\n",
    "                <input type='button' id='onetoone' value='Show as Cards'>\n",
    "                <input type='button' id='aslist' class='onetoone' value='Show as List'>\n",
    "                </form>\n",
    "                <p>\n",
    "                \")\n",
    "  cat(html, file = myhtml, sep='\\n', append=TRUE)\n",
    "  # begin table\n",
    "  alt1 <- ifelse(is.null(y)== TRUE, \"\", \"<div class='Cell Title'> Dependent <br> Variable <br> Distribution </div>\")\n",
    "  html <- paste(\"<p><p>\n",
    "                <div class='Table'>\n",
    "                <div class='Row'>\n",
    "                <div class='Cell Title'> Variable </div>\n",
    "                <div class='Cell Title'> Distribution </div>\n",
    "                <div class='Cell Title'> Descriptive <br> Statistics</div>\n",
    "                <div class='Cell Title'> Outliers </div>\"\n",
    "                , alt1,\n",
    "                \"</div>\")\n",
    "  cat(html, file = myhtml, sep='\\n', append=TRUE)\n",
    "\n",
    "  #### determinate the type of each variable...\n",
    "  data_types <- sapply(sapply(data, class), whatVarType)\n",
    "  ln <- length(data)\n",
    "  ii <- 0\n",
    "  pb <- utils::txtProgressBar(min=0,max=ln,style=3)\n",
    "  for(x in names(data)) {\n",
    "\n",
    "    ## check if the value has at least more than one unique value...\n",
    "    if(length(unique(data[[x]])) < 2) {\n",
    "      message(paste(\"The variable\",x,\"has less than two unique values, so will not be included\"))\n",
    "    } else {\n",
    "\n",
    "      if(debug==TRUE) {\n",
    "        message(x)\n",
    "      } else {\n",
    "        pb <- utils::txtProgressBar(min=0,max=ln,style=3)\n",
    "      }\n",
    "\n",
    "      html <- paste(\"<div class='Row'><div class='Cell'><b>\",x,\"</b><p>\",xname[x],\"</p></div>\")\n",
    "\n",
    "      cat(html, file = myhtml, sep='\\n', append=TRUE)\n",
    "      #### initialize the first graph\n",
    "      imgname = paste(fig,\"/\",x, \"_1.png\",sep=\"\")\n",
    "      #imgsrc = paste(paste0(srcdir,\"/fig/\"),x, \"_1.png\",sep=\"\")\n",
    "      imgsrc = paste(\"fig/\",x, \"_1.png\",sep=\"\")\n",
    "      ### send the data with the type to generate the correct graph..\n",
    "      grDevices::png(imgname)\n",
    "      drawGraphOne(x, data[[x]], data_types[x])\n",
    "      grDevices::dev.off()\n",
    "      html <- paste0(\"<div class='Cell'><img class='origimg'  src='\",imgsrc,\"' height='150' width='150'><br></div>\")\n",
    "      cat(html, file = myhtml, sep='\\n', append=TRUE)\n",
    "\n",
    "      # second, show the statistics\n",
    "      html <- getStats(data[[x]],data_types[x])\n",
    "      cat(html, file = myhtml, sep='\\n', append=TRUE)\n",
    "\n",
    "      # third, determine the outliers\n",
    "      imgname = paste(fig,\"/\",x, \"_2.png\",sep=\"\")\n",
    "      if(data_types[x]==1) {\n",
    "        grDevices::png(imgname)\n",
    "        getOutlierGraph(data[[x]])\n",
    "        grDevices::dev.off()\n",
    "        html <- getOutliersHtml(x,data[[x]],srcdir)\n",
    "      } else {\n",
    "        html <- \"<div class='Cell'></div>\"\n",
    "      }\n",
    "      cat(html, file = myhtml, sep='\\n', append=TRUE)\n",
    "\n",
    "      # fourth, if y is assigned, make a corresponding plot\n",
    "      if(is.null(y)==FALSE) {\n",
    "        imgname = paste(fig,\"/\",x, \"_3.png\",sep=\"\")\n",
    "        #imgsrc = paste(paste0(srcdir,\"/fig/\"),x, \"_3.png\",sep=\"\")\n",
    "        imgsrc = paste(\"fig/\",x, \"_3.png\",sep=\"\")\n",
    "        grDevices::png(imgname)\n",
    "        ### scatter.smooth(data[[x]] ~ data[[y]])\n",
    "        #suppressWarnings(getScatterGraph(data,x,y,data_types[y]))\n",
    "        plot(getScatterGraph(data,x,y,data_types[y]))\n",
    "        grDevices::dev.off()\n",
    "        html <- paste0(\"<div class='Cell'><img class='origimg' src='\",imgsrc,\"' height='150' width='150'><br></div>\")\n",
    "        cat(html, file = myhtml, sep='\\n', append=TRUE)\n",
    "      }\n",
    "      html <- paste(\"</div>\")\n",
    "      cat(html, file = myhtml, sep='\\n', append=TRUE)\n",
    "\n",
    "      if(debug==FALSE) {\n",
    "        utils::setTxtProgressBar(pb,ii)\n",
    "        ii <- ii + 1\n",
    "      }\n",
    "    }\n",
    "  }\n",
    "  utils::setTxtProgressBar(pb,ln)\n",
    "  html <- paste(\"</div>\")\n",
    "  cat(html, file = myhtml, sep='\\n', append=TRUE)\n",
    "  # end table\n",
    "  html <- paste(\"</div>\n",
    "                <div data-role='popup' id='myContainer' style='display: none;'>\n",
    "                <img id='popup_img' src='' />\n",
    "                </div>\n",
    "                </div>\n",
    "                </div>\n",
    "                </div>\n",
    "                <p>\n",
    "                <div class='onetoone'>\n",
    "                <form id='myform2'>\n",
    "                <span> <input type='button' id='less' value=' << '> </span>\n",
    "                <span> <input id='idx' name='idx' value='1'></input></span>\n",
    "                <span> <input type='button' id='more' value=' >> '> </span>\n",
    "                </form>\n",
    "                </div>\n",
    "                <p>\n",
    "                </body></html>\n",
    "                \")\n",
    "  cat(html, file = myhtml, sep='\\n', append=TRUE)\n",
    "  ## call the default browser or the one which is open (if any)\n",
    "  browseURL(myhtml)\n",
    "}\n",
    "\n",
    "###################### END exploreData ###############\n",
    "\n",
    "\n",
    "############################################################################\n",
    "#####   TABLE 1                                                         ####\n",
    "#####   Author: Tomas Karpati M.D.                                      ####\n",
    "#####   Creation date: 2016-03-09                                       ####\n",
    "#####   Last Modified: 2020-11-03                                       ####\n",
    "############################################################################\n",
    "\n",
    "####################  FUNCTIONS  ###########################################\n",
    "#### Usage:\n",
    "####   x: character vector with the name of the variables\n",
    "####   y: the name of the strata variable (optional)\n",
    "####   rn: character vector with the text we want to replace the variable names\n",
    "####   data: the dataset to be used\n",
    "####   miss: include missing statistics: [0=none, 1=only for categorical variables, 2=for all variables]\n",
    "####   excel: export the table to excel [0=no, 1=yes]\n",
    "####   excel_file: the name of the excel file we want to save the table (optional)\n",
    "####\n",
    "###################\n",
    "\n",
    "Table1 <- function(x=NULL, y=NULL, rn=NULL, data=NULL, miss=3, catmiss=TRUE, formatted=TRUE, categorize=FALSE,\n",
    "                    factorVars=NULL, maxcat=10, delzero=TRUE, decimals=1, messages=TRUE, excel=0, excel_file=NULL,\n",
    "                    debug=FALSE) {\n",
    "  ### define sub-functions\n",
    "  Del <- NULL\n",
    "  Pop <- NULL\n",
    "  n <- NULL\n",
    "  g1 <- function(var)c(Mean=mean(var,na.rm=TRUE), SD=stats::sd(var,na.rm=TRUE))\n",
    "  g2 <- function(var)c(Median=stats::median(var,na.rm=TRUE), IQR=stats::quantile(var,c(0.25,0.75),na.rm=TRUE))\n",
    "  msg <- NULL\n",
    "  \n",
    "  ### function for transforming variables to factors\n",
    "  setFactors <- function(data=data, factorVars=factorVars, catmiss=catmiss, maxcat=maxcat) {\n",
    "    if(is.null(factorVars)==TRUE) {\n",
    "      aa <- sapply(sapply(data, unique), length)\n",
    "      factorVars <- names(which(aa <= maxcat))\n",
    "    }\n",
    "    for (v in factorVars) {\n",
    "      ct <- ifelse( ((is.null(factorVars)==FALSE & (v %in% factorVars)) | (is.null(factorVars)==TRUE & length(unique(data[[v]])) <= maxcat)),1,0)\n",
    "      if (ct == 1) {\n",
    "        data[[v]] <- factor(data[[v]])\n",
    "        if(catmiss == TRUE & sum(is.na(data[[v]])==TRUE) > 0) {\n",
    "          data[[v]] <- factor(data[[v]],levels=c(levels(data[[v]]),\"Missing\"))\n",
    "          data[[v]][which(is.na(data[[v]])==TRUE)] <- \"Missing\"\n",
    "        }\n",
    "      }\n",
    "    }\n",
    "    return(data)\n",
    "  }\n",
    "  ### proceed to convert varibles to factors\n",
    "  if (categorize == TRUE | is.null(factorVars)==FALSE ) {\n",
    "    data <- setFactors(data, factorVars, catmiss, maxcat)\n",
    "  }\n",
    "  \n",
    "  getSimpleTable  <- function(x=x, rn=rn, data=data, miss=miss, catmiss=catmiss,formatted=formatted,\n",
    "                              categorize=categorize,maxcat=maxcat, delzero=delzero) {\n",
    "    if (is.null(x)==TRUE) { x <- names(data)}\n",
    "    if (is.null(rn)==TRUE) { rn <- x}\n",
    "    ln <- length(x)\n",
    "    pb <- utils::txtProgressBar(min=0,max=ln,style=3)\n",
    "    msg <- NULL\n",
    "    ### define the column names\n",
    "    tableaaaa <- cbind(Del=\"Del\",V1=\"Variables\",V2=\"Categories\",n=\"n\",\"Population\")\n",
    "    tablebbbb <- cbind(Del=\"Del\",V1=\"Variables\",V2=\"Categories\",n=\"n\",val1=\"val1\",val2=\"val2\",val3=\"val3\")\n",
    "    tbl1 <- cbind(0,\"Individuals\",\"n\",n=1, nrow(data))\n",
    "    tbl2 <- cbind(0,\"Individuals\",\"n\",n=1, nrow(data),NA,NA)\n",
    "    tableaaaa <- rbind(tableaaaa,tbl1)\n",
    "    tablebbbb <- rbind(tablebbbb,tbl2)\n",
    "    q <- 1\n",
    "    n <- 1\n",
    "    ii <- 1\n",
    "    for (v in x)\n",
    "    {\n",
    "      if (v %in% names(data)) {\n",
    "        ### define if the actual variable has to be treated as numeric or factor\n",
    "        ct <- ifelse(is.numeric(data[[v]])==TRUE & categorize==TRUE &\n",
    "                       ((is.null(factorVars)==FALSE & (v %in% factorVars)) |\n",
    "                          (is.null(factorVars)==TRUE & length(unique(data[[v]])) <= maxcat)),1,0)\n",
    "        ### treat as numeric\n",
    "        if (length(unique(data[v]))==0) {\n",
    "          if (messages==TRUE) {\n",
    "            msg <- c(msg, paste(\"The variable\",v,\"has no data; avoided\"))\n",
    "          }\n",
    "        } else if (inherits(data[[v]], \"Date\")==TRUE) {\n",
    "          if (messages==TRUE) {\n",
    "            msg <- c(msg, paste(\"The variable\",v,\"is a date. Dates are not allowed in Table1; avoided\"))\n",
    "          }\n",
    "        } else if (is.numeric(data[[v]])==TRUE & ct==0) {\n",
    "          ## report mean and standard deviation\n",
    "          t_n <- g1(data[[v]])\n",
    "          tp <- paste(format(round(t_n[1],decimals),nsmall=1,big.mark=\",\"),\" (\", format(round(t_n[2],decimals),nsmall=1,big.mark=\",\"),\")\",sep=\"\")\n",
    "          tbl1 <- cbind(0,rn[q],\"Mean (SD)\",n=1, tp)\n",
    "          tbl2 <- cbind(0,rn[q],\"Mean (SD)\",n=1,t_n[1],t_n[2],NA)\n",
    "          tableaaaa <- rbind(tableaaaa,tbl1)\n",
    "          tablebbbb <- rbind(tablebbbb,tbl2)\n",
    "          ## report median and Interquartile ranges (25%,75%)\n",
    "          t_n <- g2(data[[v]])\n",
    "          tp <- paste(format(round(t_n[1],decimals),nsmall=1,big.mark=\",\"),\" (\", format(round(t_n[2],decimals),nsmall=1,big.mark=\",\"),\"-\", format(round(t_n[3],decimals),nsmall=1,big.mark=\",\"), \")\",sep=\"\")\n",
    "          tbl1 <- cbind(0,rn[q],\"Median (IQR)\",n=2, format(tp,big.mark=\",\"))\n",
    "          tbl2 <- cbind(0,rn[q],\"Median (IQR)\",n=2,t_n[1],t_n[2],t_n[3])\n",
    "          tableaaaa <- rbind(tableaaaa,tbl1)\n",
    "          tablebbbb <- rbind(tablebbbb,tbl2)\n",
    "          ## report number and percent of missing\n",
    "          if (miss >= 1) {\n",
    "            datams <- subset(data,is.na(data[[v]])==TRUE)\n",
    "            if (nrow(datams)>0) {\n",
    "              data$cnt <- 1\n",
    "              datams$cnt <- 1\n",
    "              t_n <- table(data$cnt)\n",
    "              t_m <- sum(datams$cnt)\n",
    "              tp <- paste(format(t_m,big.mark=\",\"),\" (\",format(round((t_m/t_n)*100,decimals),nsmall=1,big.mark=\",\"),\"%)\",sep=\"\")\n",
    "              tbl1 <- cbind(0,rn[q],\"Missing (%)\",n=3, tp)\n",
    "              tbl2 <- cbind(0,rn[q],\"Missing (%)\",n=3, t_m, (t_m/t_n)*100, NA)\n",
    "            } else {\n",
    "              tbl1 <- cbind(1,rn[q],\"Missing (%)\",n=3, \" -- \")\n",
    "              tbl2 <- cbind(1,rn[q],\"Missing (%)\",n=3, NA, NA, NA)\n",
    "            }\n",
    "            tableaaaa <- rbind(tableaaaa,tbl1)\n",
    "            tablebbbb <- rbind(tablebbbb,tbl2)\n",
    "          }\n",
    "        } else {\n",
    "          t_n <- table(data[[v]])\n",
    "          ttotal <- sum(t_n)\n",
    "          nm <- row.names(t_n)\n",
    "          for (f in 1:length(nm)) {\n",
    "            del1 <- ifelse(length(nm)==2 & (nm[f]==\"No\" | nm[f]==\"no\" | nm[f]==0 | nm[f]==\"0\" | nm[f]==\"None\" | nm[f]==\"none\"),1,0)\n",
    "            tp <- t_n[f] / ttotal * 100\n",
    "            pct <- paste(format(round(t_n[f],decimals),nsmall=0,big.mark=\",\"),\" (\", format(round(tp,decimals),nsmall=1,big.mark=\",\"), \"%)\",sep=\"\")\n",
    "            tbl1 <- cbind(del1,rn[q],nm[f],n=f, pct)             ########### delete rows 0/1 !!!!!!!!!\n",
    "            tbl2 <- cbind(del1,rn[q],nm[f],n=f, t_n[f], tp, NA)  ########### delete rows 0/1 !!!!!!!!!\n",
    "            tableaaaa <- rbind(tableaaaa,tbl1)\n",
    "            tablebbbb <- rbind(tablebbbb,tbl2)\n",
    "          }\n",
    "          if (miss >= 2 & catmiss==FALSE ) {\n",
    "            datams <- subset(data,is.na(data[[v]])==TRUE)\n",
    "            if (nrow(datams)>0) {\n",
    "              data$cnt <- 1\n",
    "              datams$cnt <- 1\n",
    "              t_n <- table(data$cnt)\n",
    "              t_m <- sum(datams$cnt)\n",
    "              tp <- paste(format(t_m,big.mark=\",\"),\" (\",format(round((t_m/t_n)*100,decimals),nsmall=1,big.mark=\",\"),\"%)\",sep=\"\")\n",
    "              tbl1 <- cbind(0,rn[q],\"Missing (%)\",n=f, tp)\n",
    "              tbl2 <- cbind(0,rn[q],\"Missing (%)\",n=f, t_m, (t_m/t_n)*100, NA)\n",
    "            } else {\n",
    "              tbl1 <- cbind(1,rn[q],\"Missing (%)\",n=f, \" -- \")\n",
    "              tbl2 <- cbind(1,rn[q],\"Missing (%)\",n=f, NA, NA, NA)\n",
    "            }\n",
    "            tableaaaa <- rbind(tableaaaa,tbl1)\n",
    "            tablebbbb <- rbind(tablebbbb,tbl2)\n",
    "          }\n",
    "        }\n",
    "      } else {\n",
    "        if (messages==TRUE) {\n",
    "          msg <- c(msg, paste(\"The variable\",v,\"doesn't exists in the dataset; avoiding\"))\n",
    "        }\n",
    "      }\n",
    "      q <- q + 1\n",
    "      if(debug==FALSE) {\n",
    "        utils::setTxtProgressBar(pb,ii)\n",
    "        ii <- ii + 1\n",
    "      } else {\n",
    "        message(v)\n",
    "      }\n",
    "    }\n",
    "    if(formatted==TRUE) {\n",
    "      return(tableaaaa)\n",
    "    } else {\n",
    "      return(tablebbbb)\n",
    "    }\n",
    "    close(pb)\n",
    "  }\n",
    "  \n",
    "  pvals <- function(x=x,y=y,rn=rn,data=data,categorize=categorize,maxcat=maxcat) {\n",
    "    ptab <- NULL\n",
    "    if (is.null(y)==FALSE) {\n",
    "      if (y %in% names(data)) {\n",
    "        if (is.null(x)==TRUE) { x <- names(data)}\n",
    "        if (is.null(rn)==TRUE | length(rn)<2) {rn <- x}\n",
    "        q <- 1\n",
    "        ptab <- cbind(V=\"Variables\",pval=\"pval\", n=\"n\")\n",
    "        \n",
    "        ln <- length(x)\n",
    "        ii <- 0\n",
    "        pb <- utils::txtProgressBar(min=0,max=ln-1,style=3)\n",
    "        \n",
    "        for (v in x) {\n",
    "          if (v %in% names(data)) {\n",
    "            ct <- ifelse(is.numeric(data[[v]])==TRUE & categorize==TRUE & length(unique(data[[v]])) <= maxcat,1,0)\n",
    "            if (is.numeric(data[[y]])==TRUE & categorize==TRUE & length(unique(data[[y]])) <= maxcat) {\n",
    "              data[[y]] <- as.factor(data[[y]])\n",
    "            } else if (is.numeric(data[[y]])==TRUE) {\n",
    "              if (messages==TRUE) {\n",
    "                msg <- c(msg, paste(\"The variable\",y,\"is not a factor. Please convert to factor or change the 'categorize' flag to TRUE.\"))\n",
    "              }\n",
    "              pval <- \"Please rerun!!!\"\n",
    "            }\n",
    "            if (is.numeric(data[[v]])==TRUE & length(unique(data[[v]])) > 1 & ct == 0) {\n",
    "              ### first check for homoscedasticity\n",
    "              tryCatch({\n",
    "                if (stats::bartlett.test(data[[v]], data[[y]])[3] >= 0.05) {\n",
    "                  pval <- suppressMessages(round(as.numeric(suppressMessages(car::Anova(stats::lm(data[[v]] ~ data[[y]])))[1, 4]), 3))\n",
    "                } else {\n",
    "                  pval <- suppressMessages(round(as.numeric(suppressMessages(car::Anova(stats::lm(data[[v]] ~ data[[y]]), white.adjust = TRUE))[1, 3]), 3))\n",
    "                }\n",
    "              }, warning = function(w) {\n",
    "                suppressWarnings(w)\n",
    "                #ww <- \"suppress warnings\"\n",
    "              }, error = function(e) {\n",
    "                pval <- \"---\"\n",
    "              })\n",
    "            } else if (length(unique(data[[v]]))==1) {\n",
    "              pval <- NA\n",
    "            } else {\n",
    "              if(length(unique(data[[v]])) < 15) {\n",
    "                if (min(table(data[[v]],data[[y]])) > 5) {\n",
    "                  pval <- round(as.numeric(stats::chisq.test(data[[v]],data[[y]])$p.val),3)\n",
    "                } else {\n",
    "                  if(min(table(data[[v]],data[[y]]))==0) {\n",
    "                    #in cases where there are cells with zero, we use Fisher's exact test\n",
    "                    tryCatch(\n",
    "                      pval <- round(as.numeric(stats::fisher.test(data[[v]],data[[y]], workspace=1e9)$p.val),3),\n",
    "                      error = function(e) {msg <- c(msg,paste0(\"Unable to calcualte the Fisher test for variables \",v,\" and \",y))})\n",
    "                  } else {\n",
    "                    pval <- round(as.numeric(stats::kruskal.test(data[[v]],data[[y]], workspace=1e9)$p.val),3)\n",
    "                  }\n",
    "                }\n",
    "              } else {\n",
    "                pval <- NA\n",
    "              }\n",
    "            }\n",
    "            ptab <- rbind(ptab,cbind(V=rn[q],pval=pval,n=2))\n",
    "          }\n",
    "          if(debug==FALSE) {\n",
    "            utils::setTxtProgressBar(pb,ii)\n",
    "            ii <- ii + 1\n",
    "          }\n",
    "          q <- q + 1\n",
    "        }\n",
    "      }\n",
    "    }\n",
    "    return(ptab)\n",
    "  }\n",
    "  ####################### Begin analysis\n",
    "  ##### check for x's witch have one unique values, get them out.\n",
    "  vv <- NULL\n",
    "  j <- 0\n",
    "  jj <- NULL\n",
    "  for(v in x) {\n",
    "    if(length(unique(data[[v]])) < 2) {\n",
    "      vv <- c(vv,v)\n",
    "      j <- j + 1\n",
    "      jj <- c(jj,j)\n",
    "    }\n",
    "  }\n",
    "  \n",
    "  if (length(vv)>0) {\n",
    "    warning(paste(\"The following variables have unique values and will not be included in the analysis:\",vv))\n",
    "    x <- setdiff(x, vv)\n",
    "    if(is.null(rn)==FALSE & length(jj)>0) {\n",
    "      rn <- rn[-jj]\n",
    "    }\n",
    "  }\n",
    "  \n",
    "  ##### if y is null then make a simple table\n",
    "  tabaaa1 <- getSimpleTable(x=x, rn=rn, data=data, miss=miss, catmiss=catmiss,formatted=formatted,categorize=categorize,maxcat=maxcat, delzero=delzero)\n",
    "  tabaaa1 <- as.data.frame(tabaaa1)\n",
    "  ############################  CHANGE TO 5 !!!!!!!!!!!!!!\n",
    "  if(length(tabaaa1) > 5) {\n",
    "    names(tabaaa1) <- c(\"Del\",\"V1\",\"V2\",\"n\",\"Pop\",\"pop2\",\"pop3\")\n",
    "  } else {\n",
    "    names(tabaaa1) <- c(\"Del\",\"V1\",\"V2\",\"n\",\"Pop\")\n",
    "  }\n",
    "  ##### if y has two levels, then make a compound comparison\n",
    "  if (is.null(y)==FALSE){\n",
    "    if (y %in% names(data)) {\n",
    "      if (is.factor(data[[y]])==FALSE) {\n",
    "        if (length(levels(factor(data[[y]]))) > 8) {\n",
    "          if (messages==TRUE) {\n",
    "            message(\"The dependent variable has more than 8 levels, table too large!\")\n",
    "          }\n",
    "        } else if(min(table(data[[y]]))==0) {\n",
    "          message(\"The dependent variable has one or more levels with no individuals assigned!\")\n",
    "        } else {\n",
    "          data[[y]] <- factor(data[[y]])\n",
    "        }\n",
    "      }\n",
    "      if (length(levels(data[[y]])) >= 2) {\n",
    "        for (lv in levels(data[[y]])) {\n",
    "          dtsub <- subset(data, data[[y]]==lv)\n",
    "          tab <- getSimpleTable(x=x, rn=rn, data=dtsub, miss=miss, catmiss=catmiss, formatted=formatted,categorize=categorize,maxcat=maxcat, delzero=delzero)\n",
    "          tab <- data.frame(tab)\n",
    "          ############################  \n",
    "          if(length(tab) > 5) {\n",
    "            names(tab) <- c(\"Del\",\"V1\",\"V2\",\"n\",paste0(lv,\"_1\"),paste0(lv,\"_2\"),paste0(lv,\"_3\"))\n",
    "          } else {\n",
    "            names(tab) <- c(\"Del\",\"V1\",\"V2\",\"n\",lv)\n",
    "          }\n",
    "          ############################  \n",
    "          tab[1,5] <- lv\n",
    "          tabaaa1 <- base::merge(tabaaa1, tab, all.x=TRUE)\n",
    "        }\n",
    "        # what to do with dichotomous variables? We remove the \"Zero\" label\n",
    "        # clean unnecesary rows\n",
    "        if (delzero == TRUE) {\n",
    "          tabaaa1 <- tabaaa1[tabaaa1$Del==0,]\n",
    "        }\n",
    "        ### calculate the p-value\n",
    "        ptab <- data.frame(pvals(x=x,y=y,rn=rn,data=data,categorize=categorize,maxcat=maxcat))\n",
    "        names(ptab) <- c(\"V1\",\"pval\",\"n\")\n",
    "        tabaaa1 <- base::merge(tabaaa1, ptab,all.x=TRUE)\n",
    "        tabaaa1 <- tabaaa1[tabaaa1$Pop != \" -- \",]\n",
    "      }\n",
    "    }\n",
    "  }\n",
    "  \n",
    "  tabaaa1$n <- NULL\n",
    "  tabaaa1$Del <- NULL\n",
    "  ### format the table for printing\n",
    "  n <- ncol(tabaaa1)\n",
    "  names(tabaaa1)[1] <- \"Variables\"\n",
    "  names(tabaaa1)[2] <- \"\"\n",
    "  names(tabaaa1)[3] <- \"Population\"\n",
    "  names(tabaaa1)[n] <- \"p-value\"\n",
    "  tabaaa1[,n] <- as.character(tabaaa1[,n])\n",
    "  tabaaa1[,n] <- ifelse(is.na(tabaaa1[,n]),\"\",tabaaa1[,n])\n",
    "  tabaaa1[,n] <- ifelse(tabaaa1[,n]=='0',\"<0.001\",tabaaa1[,n])\n",
    "  \n",
    "  ##### check for export to excel\n",
    "  if (excel==1) {\n",
    "    writexl::write_xlsx(tabaaa1,excel_file)\n",
    "    return(tabaaa1)\n",
    "  } else {\n",
    "    return(tabaaa1)\n",
    "  }\n",
    "}\n",
    "\n",
    "########################## END Table1 ###############\n",
    "\n",
    "\n",
    "############################################################################\n",
    "#####   TEST & TRAIN DATASET GENERATION                                 ####\n",
    "#####   Author: Tomas Karpati M.D.                                      ####\n",
    "#####   Creation date: 2016-08-17                                       ####\n",
    "#####   Last Modified: 2020-11-03                                       ####\n",
    "############################################################################\n",
    "\n",
    "train_test <- function(data=NULL,train_name=NULL,test_name=NULL,prop=NULL,seed=123,tableone=FALSE)\n",
    "{\n",
    "  pval <- NULL\n",
    "  checkTrainTest <- function(train=NULL,test=NULL) {\n",
    "    train[[\"traintest_ind_\"]] <- 1\n",
    "    test[[\"traintest_ind_\"]] <- 2\n",
    "    df <- rbind(train, test)\n",
    "    tab <- Table1(data=df, y=\"traintest_ind_\",messages = FALSE)\n",
    "    vars <- subset(tab, pval < 0.05)$V1\n",
    "    vars <- setdiff(vars,\"traintest_ind_\")\n",
    "    if (length(vars)==0) {\n",
    "      message(\" \")\n",
    "      message(\"You got a perfectly balanced training and test datasets\")\n",
    "      message(\" \")\n",
    "    } else {\n",
    "      message(\"WARNING: The following variables are not balanced between the training and test datasets:\")\n",
    "      for (v in vars) { message(paste(\"*\",v)) }\n",
    "      message(\"You can try to change the seed value until you get a balanced partition.\")\n",
    "      message(\"Alternatively, you can ommit this warning and exclude those variables from your model\")\n",
    "      message(\" \")\n",
    "    }\n",
    "    return(tab)\n",
    "  }\n",
    "  nm <- 1\n",
    "  ttenv = as.environment(nm)\n",
    "  ## set the seed to make your partition reproductible\n",
    "  set.seed(seed)\n",
    "  smp_size <- floor(prop * nrow(data))\n",
    "  train_ind <- sample(seq_len(nrow(data)), size = smp_size)\n",
    "  assign(train_name, data[train_ind, ], envir=ttenv)\n",
    "  assign(test_name, data[-train_ind, ], envir=ttenv)\n",
    "  message(paste(\"Dataset partitioned into:\"))\n",
    "  message(paste(\" + Train dataset:\", train_name))\n",
    "  message(paste(\" + Test dataset:\", test_name))\n",
    "  if(tableone==TRUE) {\n",
    "    tab <- checkTrainTest(get(train_name),get(test_name))\n",
    "    tab <- tab[tab[,1]!=\"traintest_ind_\",]\n",
    "    names(tab)[4] <- train_name\n",
    "    names(tab)[5] <- test_name\n",
    "    return(tab)\n",
    "  }\n",
    "}\n",
    "\n",
    "\n",
    "######################### END train_test ###############\n",
    "\n",
    "\n",
    "############################################################################\n",
    "#####   TABLE 2                                                         ####\n",
    "#####   Description: calculates the Odds/Hazard ratios and their        ####\n",
    "#####     confidence intervals from a given model\n",
    "#####   Author: Tomas Karpati M.D.                                      ####\n",
    "#####   Creation date: 2016-03-09                                       ####\n",
    "#####   Last Modified: 2018-04-16                                       ####\n",
    "############################################################################\n",
    "\n",
    "Table2 <- function(mod, rv=NULL,level=0.95, decimals=3) {\n",
    "  alpha <- 1-level\n",
    "  msm <- suppressMessages(summary(mod))\n",
    "  if(rlang::has_name(msm,\"coefficients\")==TRUE) {\n",
    "    msm <- msm$coefficients\n",
    "  } else if(rlang::has_name(msm,\"coef\")==TRUE) {\n",
    "    msm <- msm$coef\n",
    "  }\n",
    "  if(\"coxph\" %in% class(mod)) {\n",
    "    exp_coef <- msm[,1]\n",
    "    dd <- suppressMessages(exp(stats::confint(mod, level=level)))\n",
    "    dd1 <- round(dd[,1],decimals)\n",
    "    dd2 <- round(dd[,2],decimals)\n",
    "    p_value <- round(msm[,ncol(msm)],decimals)\n",
    "  } else {\n",
    "    ciz <- stats::qnorm(1-(alpha/2))\n",
    "    exp_coef <- exp(msm[, 1])\n",
    "    se_exp_coef <- msm[,2] * exp_coef\n",
    "    dd1 <- round(exp_coef - ciz * se_exp_coef, decimals)\n",
    "    dd2 <- round(exp_coef + ciz * se_exp_coef, decimals)\n",
    "    exp_coef <- round(exp_coef, decimals)\n",
    "    z<- abs((exp_coef-1)/se_exp_coef)\n",
    "    p_value <- round(2*(1-stats::pnorm(z)), decimals)\n",
    "  }\n",
    "  tb <- data.frame(cbind(Estimate=exp_coef,'CI_lo'=dd1,'CI_hi'=dd2,'p value'=p_value))\n",
    "  if (is.null(rv)==FALSE) {\n",
    "    row.names(tb) <- rv\n",
    "  } else {\n",
    "    row.names(tb) <- names(mod$coefficients)\n",
    "  }\n",
    "  return(tb)\n",
    "}\n",
    "\n",
    "############################################################################\n",
    "#####   TABLE2 WITH FORESTPLOT                                          ####\n",
    "#####   Description: Generates a publication ready version of a model   ####\n",
    "#####      risk table with a forestplot graph inside it                 ####\n",
    "#####   Author: Tomas Karpati M.D.                                      ####\n",
    "#####   Creation date: 2018-05-17                                       ####\n",
    "############################################################################\n",
    "Table2.forestplot <- function(mod, nr=NULL) {\n",
    "  opar <- graphics::par(no.readonly = TRUE)\n",
    "  on.exit(graphics::par(opar))\n",
    "  tryCatch({tbA <- Table2(mod)},\n",
    "           error=function(cond) {\n",
    "             message(\"This model type is not supported !\")\n",
    "             return(NA)\n",
    "           })\n",
    "  if(exists(\"tbA\")) {\n",
    "    ## max value for x axis\n",
    "    xmax <- max(tbA[,3])\n",
    "    if(xmax < 5) {\n",
    "      #axis(1, seq(0,xmax,by=.5), cex.axis=.5)\n",
    "     rh <- 12\n",
    "    } else {\n",
    "      rh <- 18\n",
    "    }\n",
    "    colnames(tbA) <- c(\"coef\",\"ci_low\",\"ci_high\",\"p_value\")\n",
    "    j <- nrow(tbA)\n",
    "    nm <- row.names(tbA)\n",
    "    rowseq <- seq(nrow(tbA),1)\n",
    "    graphics::par(mai=c(1,0,0,0),new=FALSE)\n",
    "    graphics::plot(tbA$coef, rowseq, pch=15,\n",
    "         xlim=c(-10,rh), ylim=c(0,j+3),\n",
    "         xlab='', ylab='', yaxt='n', xaxt='n',\n",
    "         bty='n')\n",
    "    for (i in 1:j) {\n",
    "      graphics::abline(h=i-0.5,lwd=1, lty=3, col=\"gray\")\n",
    "    }\n",
    "    graphics::par(new=TRUE)\n",
    "    graphics::plot(tbA$coef, rowseq, pch=15,\n",
    "         xlim=c(-10,rh), ylim=c(0,j+3),\n",
    "         xlab='', ylab='', yaxt='n', xaxt='n',\n",
    "         bty='n')\n",
    "    graphics::axis(1, seq(0,xmax,by=.5), cex.axis=.5)\n",
    "    graphics::segments(1,-1,1,j, lty=3)\n",
    "    graphics::segments(tbA$ci_low, rowseq, tbA$ci_hi, rowseq)\n",
    "    graphics::mtext('Lower risk',1, line=2.5, at=0, cex=.5, font=2)\n",
    "    graphics::mtext('Higher risk',1.5, line=2.5, at=2, cex=.5, font=2)\n",
    "    if (is.null(nr)) {\n",
    "      nr <- data.frame(vars=names(mod$coefficients))\n",
    "      col2 <- as.character(gsub(x=nr$vars, pattern=paste(names(mod$xlevels),collapse=\"|\"),replacement=\" \"))\n",
    "      col3 <- data.frame(vars=as.character(NULL),col3=as.character(NULL))\n",
    "      for(n in names(mod$xlevels)) {\n",
    "        col3 <- rbind(col3, cbind(vars=paste(n,levels(mod$data[[n]])[2],sep=\"\"),col3=n))\n",
    "      }\n",
    "      nr$col1 <- ifelse(nr$vars %nin% setdiff(names(mod$coefficients),names(mod$data)),as.character(nr$vars),'')\n",
    "      nr$col2 <- ifelse(nr$vars %nin% col2, col2, \" \")\n",
    "      nr[1,\"col1\"] <- ifelse(nr[1,\"vars\"]==\"(Intercept)\",\"(Intercept)\",nr[1,\"vars\"])\n",
    "      nr$col1 <- ifelse(nr$vars %in% col3, col3, nr$col1)\n",
    "      nr <- merge(nr,col3, x.all=TRUE)\n",
    "      nr$col1 <- ifelse(is.na(nr$col3)==TRUE,nr$col1,as.character(nr$col3))\n",
    "      nr$col1 <- ifelse(grepl(\":\",nr$vars),nr$vars,nr$col1)\n",
    "    } else {\n",
    "      nr <- data.frame(vars=nr)\n",
    "      if (length(nm)==nrow(nr)) {\n",
    "        nr <- cbind(nm,nr)\n",
    "        colnames(nr) <- c(\"vars\",\"col1\",\"col2\")\n",
    "      } else {\n",
    "        return(\"The number of variables in the table of names (nr) you give is not equal to the number of variables in the model.\n",
    "               Please check the names you entered in the table.\")\n",
    "      }\n",
    "    }\n",
    "    ### this part writes the variable titles\n",
    "    graphics::text(-10,j+2, \"Variables\", cex=.75, font=2, pos=4)\n",
    "    graphics::abline(h=j+1, col=\"gray\", lwd=1.5, lty=1)\n",
    "    graphics::text(-10,rowseq, nr[,2], cex=.75, pos=4, font=3)\n",
    "    ### and this writes the categories for nominal variables\n",
    "    graphics::text(-6,rowseq, nr[,3], cex=.75, pos=4)\n",
    "    graphics::text(-3,j+2, \"Odds Ratio (95% CI)\", cex=.75, font=2, pos=4)\n",
    "    t3 <- ifelse(!is.na(tbA$coef),\n",
    "                 with(tbA, paste(format(coef,nsmall = 3,digits = 3),' (',format(ci_low,nsmall = 3,digits = 3),'-',format(ci_high,nsmall = 3,digits = 3),')',sep='')), '')\n",
    "    graphics::text(xmax,rowseq, t3, cex=.75, pos=4, bg=\"lightgreen\")\n",
    "    graphics::text(xmax+5,j+2, \"P Value\", cex=.75, font=2, pos=4)\n",
    "    t4 <- ifelse(!tbA$p_value==0, paste0(\" \",format(tbA$p_value,nsmall = 3,digits = 3)), '<0.001')\n",
    "    graphics::text(xmax+5,rowseq, t4, cex=.75, pos=4)\n",
    "    graphics::box(which = \"outer\",col=\"darkgray\",lwd=3)\n",
    "  }\n",
    "  graphics::par(mai=c(1,1,1,1),new=FALSE)\n",
    "}\n",
    "\n",
    "############################################################################\n",
    "#####   CALCULATE CONFIDENCE INTERVALS FOR MEANS                        ####\n",
    "#####   Author: Tomas Karpati M.D.                                      ####\n",
    "#####   Creation date: 2016-08-24                                       ####\n",
    "############################################################################\n",
    "MeanCI <- function(x,round=3) {\n",
    "  m <- mean(x,na.rm=TRUE)\n",
    "  s <- stats::sd(x,na.rm=TRUE)\n",
    "  ci <- 1.96 * (s/sqrt(length(x)))\n",
    "  CImin <- m - ci\n",
    "  CImax <- m + ci\n",
    "  return(c(mean=round(m,round),CImin=round(CImin,round),CImax=round(CImax,round)))\n",
    "}\n",
    "\n",
    "############################################################################\n",
    "#####   CALCULATE CONFIDENCE INTERVALS FOR PROPORTIONS                  ####\n",
    "#####   Author: Tomas Karpati M.D.                                      ####\n",
    "#####   Creation date: 2016-08-24                                       ####\n",
    "############################################################################\n",
    "PropCI <- function(x,round=3,multi=100,ref=2) {\n",
    "  recode <- function(x,ref) {\n",
    "    y <- x\n",
    "    if (ref==2) {\n",
    "      y[which(x==min(x))] <- 0\n",
    "      y[which(x==max(x))] <- 1\n",
    "    } else {\n",
    "      y[which(x==max(x))] <- 0\n",
    "      y[which(x==min(x))] <- 1\n",
    "    }\n",
    "    return(y)\n",
    "  }\n",
    "  if (is.factor(x)==TRUE && length(levels(x))==2) {\n",
    "    p <- levels(x)[ref]\n",
    "    y <- recode(as.numeric(x),ref)\n",
    "  } else if (is.numeric(x)==TRUE && length(levels(factor(x)))==2) {\n",
    "    p <- ifelse(ref==2,max(x),min(x))\n",
    "    y <- recode(x,ref)\n",
    "  } else if (length(levels(factor(x)))==2) {\n",
    "    p <- levels(factor(x))[ref]\n",
    "    y <- recode(as.numeric(factor(x)),ref)\n",
    "  } else {\n",
    "    return(\"The variable must be dichotomic\")\n",
    "  }\n",
    "  freq <- (mean(y,na.rm=TRUE))\n",
    "  CI <- 1.96 * sqrt((freq * (1-freq))/length(y))\n",
    "  CImin <- (freq - CI)*multi\n",
    "  CImax <- (freq + CI)*multi\n",
    "  return(c(var=p,freq=round(freq*multi,round),CImin=round(CImin,round),CImax=round(CImax,round)))\n",
    "}\n",
    "\n",
    "############################################################################\n",
    "#####   GENERATE A TABLE WITH VALIDITY TESTS                            ####\n",
    "#####   Author: Tomas Karpati M.D.                                      ####\n",
    "#####   Creation date: 2016-08-17                                       ####\n",
    "############################################################################\n",
    "\n",
    "################# Validity Test #########################################\n",
    "#\n",
    "#                    Observed\n",
    "#                              +                  -\n",
    "#          -----------------------------------------\n",
    "# Predicted   +    TP                FP        |     PPV\n",
    "#                                            a                   b         |  e (e1-e2)\n",
    "#                                                                             |\n",
    "#                                                             |\n",
    "#                         -    FN       TN        |     NPV\n",
    "#                                c        d         |  f (f1-f2)\n",
    "#                      ----------------------------------------\n",
    "#\n",
    "#                        Sensitivity Specificity  |  Prevalence\n",
    "#                          g (g1-g2)  h (h1-h2)   |  i (i1-i2)\n",
    "#\n",
    "#\n",
    "#       Chi-square\n",
    "#       Corrected Chi-square\n",
    "#       Error: (FP+FN)/(TP+FP+FN+TN)\n",
    "#       Accuracy: (TP+TN)/(TP+FP+FN+TN)\n",
    "#       Precision: TP/(TP+FP)\n",
    "#       Recall: TP/(TP+FN)\n",
    "#\n",
    "#       Harmonic mean of precision and recall (F1-Score):\n",
    "#        f1-Score: 2 * (Precision * Recall)/(Precision + Recall)\n",
    "#\n",
    "#####################################################################\n",
    "\n",
    "ValidityTest <- function (a, b, c, d, multi = 100, caption = \"Validity of the Model/Screening\")\n",
    "{\n",
    "\n",
    "  proportionCI <- function(p, n, multi = 100, prob = 0.95, dec = 2) {\n",
    "    alpha <- ifelse(prob != 0.95,0.01,0.05)\n",
    "    ci <- Hmisc::binconf(p,n,alpha=alpha,method=\"wilson\")\n",
    "    pci = paste(round(ci[1] * multi, dec), \" (\",\n",
    "                round(ci[2] * multi, dec), \"-\",\n",
    "                round(ci[3] * multi, dec), \")\",\n",
    "                sep = \"\")\n",
    "    return(pci)\n",
    "  }\n",
    "\n",
    "  lr.ci <- function( a,b,c,d, sig.level=0.95 ) {\n",
    "    ### Positive and negative likelihood ratios with their 95% CI...\n",
    "    alpha <- 1 - sig.level\n",
    "    spec <- d/(b+d)\n",
    "    sens <- a/(a+c)\n",
    "    lr.pos <- sens/(1 - spec)\n",
    "    if ( a != 0 & b != 0 ) {\n",
    "      sigma2 <- (1/a) - (1/(a+c)) + (1/b) - (1/(b+d))\n",
    "      lower.pos <- lr.pos * exp(-stats::qnorm(1-(alpha/2))*sqrt(sigma2))\n",
    "      upper.pos <- lr.pos * exp(stats::qnorm(1-(alpha/2))*sqrt(sigma2))\n",
    "    } else if ( a == 0 & b == 0 ) {\n",
    "      lower.pos <- 0\n",
    "      upper.pos <- Inf\n",
    "    } else if ( a == 0 & b != 0 ) {\n",
    "      a.temp <- (1/2)\n",
    "      spec.temp <- d/(b+d)\n",
    "      sens.temp <- a.temp/(a+c)\n",
    "      lr.pos.temp <- sens.temp/(1 - spec.temp)\n",
    "      lower.pos <- 0\n",
    "      sigma2 <- (1/a.temp) - (1/(a.temp+c)) + (1/b) - (1/(b+d))\n",
    "      upper.pos <- lr.pos.temp * exp(stats::qnorm(1-(alpha/2))*sqrt(sigma2))\n",
    "    } else if ( a != 0 & b == 0 ) {\n",
    "      b.temp <- (1/2)\n",
    "      spec.temp <- d/(b.temp+d)\n",
    "      sens.temp <- a/(a+c)\n",
    "      lr.pos.temp <- sens.temp/(1 - spec.temp)\n",
    "      sigma2 <- (1/a) - (1/(a+c)) + (1/b.temp) - (1/(b.temp+d))\n",
    "      lower.pos <- lr.pos.temp * exp(-stats::qnorm(1-(alpha/2))*sqrt(sigma2))\n",
    "      upper.pos <- Inf\n",
    "    } else if ( (a == (a+c)) & (b == (b+d)) ) {\n",
    "      a.temp <- a - (1/2)\n",
    "      b.temp <- b - (1/2)\n",
    "      spec.temp <- d/(b.temp+d)\n",
    "      sens.temp <- a.temp/(a+c)\n",
    "      lr.pos.temp <- sens.temp/(1 - spec.temp)\n",
    "      sigma2 <- (1/a.temp) - (1/(a.temp+c)) + (1/b.temp) - (1/(b.temp+d))\n",
    "      lower.pos <- lr.pos.temp * exp(-stats::qnorm(1-(alpha/2))*sqrt(sigma2))\n",
    "      upper.pos <- lr.pos.temp * exp(stats::qnorm(1-(alpha/2))*sqrt(sigma2))\n",
    "    }\n",
    "    lr.neg <- (1 - sens)/spec\n",
    "    if ( c != 0 & d != 0 ) {\n",
    "      sigma2 <- (1/c) - (1/(a+c)) + (1/d) - (1/(b+d))\n",
    "      lower.neg <- lr.neg * exp(-stats::qnorm(1-(alpha/2))*sqrt(sigma2))\n",
    "      upper.neg <- lr.neg * exp(stats::qnorm(1-(alpha/2))*sqrt(sigma2))\n",
    "    } else if ( c == 0 & d == 0 ) {\n",
    "      lower.neg<- 0\n",
    "      upper.neg <- Inf\n",
    "    } else if ( c == 0 & d != 0 ) {\n",
    "      c.temp <- (1/2)\n",
    "      spec.temp <- d/(b+d)\n",
    "      sens.temp <- a/(a+c.temp)\n",
    "      lr.neg.temp <- (1 - sens.temp)/spec.temp\n",
    "      lower.neg <- 0\n",
    "      sigma2 <- (1/c.temp) - (1/(a+c)) + (1/d) - (1/(b+d))\n",
    "      upper.neg <- lr.neg.temp * exp(stats::qnorm(1-(alpha/2))*sqrt(sigma2))\n",
    "    } else if ( c != 0 & d == 0 ) {\n",
    "      d.temp <- (1/2)\n",
    "      spec.temp <- d.temp/(b+d)\n",
    "      sens.temp <- a/(a+c)\n",
    "      lr.neg.temp <- (1 - sens.temp)/spec.temp\n",
    "      sigma2 <- (1/c) - (1/(a+c)) + (1/d.temp) - (1/(b+d))\n",
    "      lower.neg <- lr.neg.temp * exp(-stats::qnorm(1-(alpha/2))*sqrt(sigma2))\n",
    "      upper.neg <- Inf\n",
    "    } else if ( (c == (a+c)) & (d == (b+d)) ) {\n",
    "      c.temp <- c - (1/2)\n",
    "      d.temp <- d - (1/2)\n",
    "      spec.temp <- d.temp/(b+d)\n",
    "      sens.temp <- a/(a+c.temp)\n",
    "      lr.neg.temp <- (1 - sens.temp)/spec.temp\n",
    "      sigma2 <- (1/c.temp) - (1/(a+c)) + (1/d.temp) - (1/(b+d))\n",
    "      lower.neg <- lr.neg.temp * exp(-stats::qnorm(1-(alpha/2))*sqrt(sigma2))\n",
    "      upper.neg <- lr.neg.temp * exp(stats::qnorm(1-(alpha/2))*sqrt(sigma2))\n",
    "    }\n",
    "    list(\n",
    "      lr.pos=lr.pos, lower.pos=lower.pos, upper.pos=upper.pos,\n",
    "      lr.neg=lr.neg, lower.neg=lower.neg, upper.neg=upper.neg\n",
    "    )\n",
    "  }\n",
    "\n",
    "  ppv <- proportionCI(a, a + b, multi)\n",
    "  npv <- proportionCI(d, c + d, multi)\n",
    "  sensit <- proportionCI(a, c + a, multi)\n",
    "  specif <- proportionCI(d, b + d, multi)\n",
    "  prev <- proportionCI(a + c, (a + b + c + d), multi)\n",
    "  er <- proportionCI(b + c, (a + b + c + d), multi)\n",
    "  acc <- proportionCI(a + d, (a + b + c + d), multi)\n",
    "  prec <- proportionCI(a, (a + b), multi)\n",
    "  recall <- proportionCI(a, (a + c), multi)\n",
    "  f1 <- proportionCI(2 * ((a/(a + b)) * (a/(a + c))), ((a/(a + b)) + (a/(a + c))), multi)\n",
    "  #Odds ratios\n",
    "  odds <- ((a/c)/(b/d))\n",
    "  oddsci <- 1.96 * sqrt((1/a)+(1/b)+(1/c)+(1/d))\n",
    "  oddsratio <- paste(round(odds,2), \" (\", round(exp(log(odds)-oddsci),2), \"-\",round(exp(log(odds)+oddsci),2),\")\",sep=\"\")\n",
    "  #False positive rate = type I error= 1 - specificity\n",
    "  fpr <- proportionCI(b, (d + b), multi)\n",
    "  #False negative rate = type II error= 1 - sensitivity\n",
    "  fnr <- proportionCI(c, (a + c), multi)\n",
    "  #Likelihood ratio positive = sensitivity / (1 - specificity)\n",
    "  # (a/(c+a) / b/(d+b))\n",
    "  lr <- lr.ci(a,b,c,d,sig.level=0.95)\n",
    "  plr1 <- paste(round(lr$lr.pos,2), \" (\", round(lr$lower.pos,2),\"-\",round(lr$upper.pos,2),\")\",sep=\"\")\n",
    "  #Likelihood ratio negative = (1 - sensitivity) / specificity\n",
    "  # (c/(a+c) / d/(b+d))\n",
    "  #nlr <- round((c*(b+d))/(d*(a+c)),2)\n",
    "  #nlr <- ((c*(b+d))/(d*(a+c)))\n",
    "  nlr1 <-  paste(round(lr$lr.neg,2), \" (\", round(lr$lower.neg,2),\"-\",round(lr$upper.neg,2),\")\",sep=\"\")\n",
    "  x <- matrix(c(a, b, c, d), byrow = TRUE, 2, 2)\n",
    "  csq <- tryCatch({\n",
    "    warning(stats::chisq.test(x))\n",
    "  }, warning = function(w) {\n",
    "    message(\"Using simulated p-value! - \", conditionMessage(w))\n",
    "    stats::chisq.test(x, simulate.p.value = TRUE)\n",
    "  })\n",
    "  xsq <- round(csq$statistic, 2)\n",
    "  pval <- round(csq$p.value, 2)\n",
    "  vars <- cbind(\"\", \"Observed\", \"\", \"\")\n",
    "  vars <- rbind(vars, cbind(\"\", \"+\", \"-\", \"\"))\n",
    "  vars <- rbind(vars, cbind(\"Expected\", \"(TP)\", \"(FP)\", \"PPV\"))\n",
    "  vars <- rbind(vars, cbind(\"+\", a, b, ppv))\n",
    "  vars <- rbind(vars, cbind(\"\", \"(FN)\", \"(TN)\", \"NPV\"))\n",
    "  vars <- rbind(vars, cbind(\"-\", c, d, npv))\n",
    "  vars <- rbind(vars, cbind(\"\", \"Sensitivity\", \"Specificity\",\n",
    "                            \"Prevalence\"))\n",
    "  vars <- rbind(vars, cbind(\"\", sensit, specif, prev))\n",
    "  vars <- rbind(vars, cbind(\"\", \"\", \"\", \"\"))\n",
    "  vars <- rbind(vars, cbind(\"Chi-square (p-value)\", paste(xsq,\n",
    "                                                          \" (\", pval, \")\", sep = \"\"), \"\", \"\"))\n",
    "  vars <- rbind(vars, cbind(\"Error\", er, \"\", \"\"))\n",
    "  vars <- rbind(vars, cbind(\"Accuracy\", acc, \"\",\n",
    "                            \"\"))\n",
    "  vars <- rbind(vars, cbind(\"Precision\", prec, \"(Same as PPV)\",\n",
    "                            \"\"))\n",
    "  vars <- rbind(vars, cbind(\"Recall\", recall, \"(Same as Sensitivity)\", \"\"))\n",
    "  vars <- rbind(vars, cbind(\"F1-Score\", f1, \"(Harmonic mean of\",\n",
    "                            \"precision and recall)\"))\n",
    "  vars <- rbind(vars, cbind(\"Odds ratios\", oddsratio, \"\", \"\"))\n",
    "  vars <- rbind(vars, cbind(\"False positive rate\", fpr, \"(type I error)\", \"\"))\n",
    "  vars <- rbind(vars, cbind(\"False negative rate\", fnr, \"(type II error)\", \"\"))\n",
    "  vars <- rbind(vars, cbind(\"Positive Likelihood ratio\", plr1, \"\", \"\"))\n",
    "  vars <- rbind(vars, cbind(\"Negative Likelihood ratio\", nlr1, \"\", \"\"))\n",
    "  return(vars)\n",
    "}\n",
    "\n",
    "############################################################################\n",
    "#####   Model Validity                                                  ####\n",
    "#####   Author: Tomas Karpati M.D.                                      ####\n",
    "#####   Creation date: 2016-12-01                                       ####\n",
    "############################################################################\n",
    "\n",
    "modelValidity <- function (data, model, class, train=FALSE, calib.graph=FALSE)\n",
    "{\n",
    "  if (\"glm\" %in% class(model) | \"earth\" %in% class(model)) {\n",
    "    data$pred <- stats::predict(model, newdata = data, type = \"response\")\n",
    "  }\n",
    "  else {\n",
    "    data$pred <- stats::predict(model, newdata = data, type = \"prob\")[,2]\n",
    "  }\n",
    "  data <- subset(data, is.na(data[[\"pred\"]])==FALSE)\n",
    "  roc1 <- pROC::roc(data[, class], as.numeric(data[[\"pred\"]]))\n",
    "  ### GiViTI calibration test\n",
    "  if(train==FALSE) {\n",
    "    src=\"external\"\n",
    "  } else {\n",
    "    src=\"internal\"\n",
    "  }\n",
    "  if(is.factor(data[,class])==TRUE) {data[,class] <- as.numeric(data[,class])-1}\n",
    "  cb <- givitiR::givitiCalibrationBelt(o=data[,class],e=data[[\"pred\"]],devel=src)\n",
    "  if(calib.graph==TRUE) {\n",
    "    graphics::plot(cb, main = \"Model calibration\", xlab = \"Model predicted probability\", ylab = \"Observed outcome\")\n",
    "  }\n",
    "  cb <- round(cb$p.value,3)\n",
    "  ### Hoslem Lemeshow test\n",
    "  hl <- ResourceSelection::hoslem.test(model$y, stats::fitted(model), g = 10)$p.value\n",
    "  cm <- table(actual = data[, class], fitted = ifelse(data[[\"pred\"]] >= 0.5, 1, 0))\n",
    "  mmce <- 1 - (sum(diag(cm))/sum(cm))\n",
    "  #d <- sjstats::cod(model)$cod\n",
    "  vr <- MASS::stdres(model)\n",
    "  if (is.factor(data[, class])==TRUE) {data[,class] <- as.numeric(data[, class])-1}\n",
    "  acc <- ROSE::accuracy.meas(data[,class],data[[\"pred\"]])\n",
    "  srme <-sqrt((sum((data[, class] - data[[\"pred\"]])^2,na.rm=TRUE))/nrow(data))\n",
    "  vld <- cbind(auc = roc1$auc, cimin = pROC::ci(roc1)[1], cimax = pROC::ci(roc1)[3],\n",
    "               SRME = srme,\n",
    "               precision = acc$precision, recall = acc$recall, fscore = acc$F,\n",
    "               NPV =  InformationValue::npv(data[, class], data[[\"pred\"]]), mmce = mmce, Hosmer_Lemeshow = hl,GiViTI_calibration=cb)\n",
    "  vld <- round(vld, 3)\n",
    "  return(vld)\n",
    "}\n",
    "\n",
    "############################################################################\n",
    "#####   Model Cutoffs                                                   ####\n",
    "#####   Author: Tomas Karpati M.D.                                      ####\n",
    "#####   Creation date: 2017-07-09                                       ####\n",
    "############################################################################\n",
    "getModelCutoffs <- function(pred, obs, div=10) {\n",
    "  #pred <- dc <- NULL\n",
    "  modValidity <- function(a,b,c,d,cutoff) {\n",
    "    ppv <- (a/(a+b))*100\n",
    "    npv <- (d/(c + d))*100\n",
    "    sensit <- (a/(c + a))*100\n",
    "    specif <- (d/(b + d))*100\n",
    "    prev <- ((a + c)/(a + b + c + d))*100\n",
    "    er <- ((b + c)/(a + b + c + d))*100\n",
    "    acc <- ((a + d)/(a + b + c + d))*100\n",
    "    prec <- (a/(a + b))*100\n",
    "    recall <- (a/(a + c))*100\n",
    "    lift <- ppv/prev\n",
    "    f1 <- ((2 * ((a/(a + b)) * (a/(a + c))))/((a/(a + b)) + (a/(a + c))))*100\n",
    "    return(cbind(cutoff=cutoff,TP=a,FP=b,FN=c,TN=d,sensitivity=sensit,specificity=specif,PPV=ppv,NPV=npv,accuracy=acc,error=er,prevalence=prev,lift=lift,precision=prec,recall=recall,F1_score=f1))\n",
    "  }\n",
    "  getQuintiles <- function(x,div=div) {\n",
    "    cut(x, breaks=c(stats::quantile(x, probs = seq(0, 1, by = 1/div),na.rm = TRUE)),\n",
    "        include.lowest=TRUE)\n",
    "  }\n",
    "  dc <- getQuintiles(pred,div=div)\n",
    "  fl <- unique(levels(dc))\n",
    "  res <- NULL\n",
    "  for (i in 1:length(fl)) {\n",
    "    # get the selected cutoff\n",
    "    idx <- dc %nin% fl[i]\n",
    "    pred1 <- rep(0,length(pred))\n",
    "    pred1[idx] <- 1\n",
    "    ####\n",
    "    mn <- min(pred[dc==fl[i]])\n",
    "    #tab1 <- table(obs,pred=ifelse(data[[\"pred\"]] > mn,1,0))\n",
    "    tab1 <- table(pred1,obs)\n",
    "    res <- rbind(res, round(modValidity(tab1[4],tab1[3],tab1[2],tab1[1],mn),3))\n",
    "  }\n",
    "  return(res)\n",
    "}\n",
    "\n",
    "############################################################################\n",
    "#####   AGE ADJUSTED RATES                                              ####\n",
    "#####   Author: Tomas Karpati M.D.                                      ####\n",
    "#####   Creation date: 2017-05-07                                       ####\n",
    "#####   Last Modified: 2020-11-03                                       ####\n",
    "############################################################################\n",
    "\n",
    "\n",
    "age_adjusted <- function(dataset,outcome,age,agemin=0,agemax=130,source=\"who\",alpha=0.05) {\n",
    "  weight <- n <- outcm1 <- wght <- pop <- adj <- res <- NULL\n",
    "  weighted_pct <- function(dataset,outcome,age,source,agemin,agemax) {\n",
    "    ###### generate tables\n",
    "    age_group <- c(\"0-4\",\"5-9\",\"10-14\",\"15-19\",\"20-24\",\"25-29\",\"30-34\",\n",
    "                   \"35-39\",\"40-44\",\"45-49\",\"50-54\",\"55-59\",\"60-64\",\n",
    "                   \"65-69\",\"70-74\",\"75-79\",\"80-84\",\"85-89\",\"90-94\",\n",
    "                   \"95-99\",\"100+\")\n",
    "    \n",
    "    age_min <- seq(0,100,5)\n",
    "    age_max <- c(seq(4,99,5),130)\n",
    "    who <- c(8860,8690,8600,8470,8220,7930,7610,7150,6590,6040,5370,\n",
    "             4550,3720,2960,2210,1520,910,440,150,40,5)\n",
    "    euro <- c(5000,5500,5500,5500,6000,6000,6500,7000,7000,7000,\n",
    "              7000,6500,6000,5500,5000,4000,2500,1500,800,180,20)\n",
    "    us <- c(20201362,20348657,20677194,22040343,21585999,21101849,\n",
    "            19962099,20179642,20890964,22708591,22298125,19664805,\n",
    "            16817924,12435263,9278166,7317795,5743327,3620459,\n",
    "            1448366,371244,53364)    \n",
    "    age.adjust <- data.frame(age_group, age_min, age_max, who, euro, us)\n",
    "    vn <- c('age_group', 'age_min', 'age_max', source)\n",
    "    weighting <- age.adjust[age.adjust$age_min>=agemin & age.adjust$age_max<=agemax,vn]\n",
    "    ages <- data.frame(age=seq(0,120,1))\n",
    "    \n",
    "    ages$age_min <- ifelse((ages$age/10)-floor(ages$age/10) < 0.5, floor(ages$age/10)*10, (floor(ages$age/10)*10)+5)\n",
    "    ages$age_max <- ifelse((ages$age/10)-floor(ages$age/10) < 0.5, (floor(ages$age/10)*10)+4, (floor(ages$age/10)*10)+9)\n",
    "    ages$age_min <- replace(ages$age_min, ages$age_min > 100,100)\n",
    "    ages$age_max <- replace(ages$age_max, ages$age_max > 100, 130)\n",
    "    \n",
    "    ##### take the correct weighting\n",
    "    tot <- sum(weighting[,source])\n",
    "    weighting$weight <- weighting[[source]]/tot\n",
    "    #weighting <- weighting[ages, on=c(\"age_min\",\"age_max\"), nomatch=0]\n",
    "    weighting <- merge(weighting, ages, by=c(\"age_min\",\"age_max\"))\n",
    "    dataset[,\"outcome\"] <- ifelse(dataset[,outcome]==1,1,0)\n",
    "    \n",
    "    ### correct for age names to be able to do the joint\n",
    "    dataset[,\"age\"] <- dataset[,age]\n",
    "    dataset <- data.frame(dataset)\n",
    "    unw <- (table(dataset[,\"outcome\"])/nrow(dataset))[2]\n",
    "    \n",
    "    #d1 <- dataset[weighting, on=\"age\", nomatch=0]\n",
    "    d1 <- merge(dataset, weighting, by=\"age\")\n",
    "    \n",
    "    #### we have yet calculated the weight.. use it!!!!\n",
    "    d1 <- d1[,c(\"age_group\",\"weight\",\"outcome\")]\n",
    "    d2 <-data.frame(outcm1 = (stats::aggregate(d1$outcome, by=list(d1$age_group),FUN=function(x) sum(x)))$x)\n",
    "    d2$wght <- (stats::aggregate(d1$weight, by=list(d1$age_group),FUN=function(x) max(x)))$x\n",
    "    d2$pop <- (stats::aggregate(d1$outcome, by=list(d1$age_group),FUN=function(x) length(x)))$x\n",
    "    d2$adj <- (d2$wght * d2$outcm1)/d2$pop\n",
    "    wgt <- sum(d2$adj)\n",
    "    return(cbind(unw,wgt))\n",
    "  }\n",
    "  t1 <- nrow(dataset)\n",
    "  evnt1 <- table(dataset[,outcome])[2]\n",
    "  res1 <- round(weighted_pct(dataset=dataset,outcome=outcome,age=age,source,agemin,agemax),5)\n",
    "  res1 <- round(res1,4)\n",
    "  unw1 <- round(Hmisc::binconf((t1*res1[1]),t1,alpha=alpha),4)\n",
    "  wgt1 <- round(Hmisc::binconf((t1*res1[2]),t1,alpha=alpha),4)\n",
    "  g1 <- list(Outcome=outcome,Population=t1,Events=evnt1,\n",
    "             crude=list(rate=res1[1]*100.0,\n",
    "                        CImin=unw1[2]*100.0,\n",
    "                        CImax=unw1[3]*100.0),\n",
    "             weighted=list(rate=res1[2]*100.0,\n",
    "                           CImin=wgt1[2]*100.0,\n",
    "                           CImax=wgt1[3]*100.0)\n",
    "  )\n",
    "  return(g1)\n",
    "}\n",
    "\n",
    "\n",
    "############################################################################\n",
    "#####   GET THE MISSINGNESS OF A DATASET                                ####\n",
    "#####   Author: Tomas Karpati M.D.                                      ####\n",
    "#####   Creation date: 2017-05-07                                       ####\n",
    "#####   Last Modified: 2020-11-03                                       ####\n",
    "############################################################################\n",
    "### search for the number & % of missinf\n",
    "### then count the number of rows with complete data\n",
    "\n",
    "getMissingness <- function(data, getRows=FALSE) {\n",
    "  desc <- na_count <- na_cnt <- rn <- pred <- dc <- NULL\n",
    "  l <- nrow(data)\n",
    "  vn <- names(data)\n",
    "  ### copy the dataset and replace the NAs by 1 else 0\n",
    "  nadf <- data.frame(data)\n",
    "  cnt <- NULL\n",
    "  miss <- function(x) return(sum(is.na(x) ))\n",
    "  for(n in vn) {\n",
    "    nadf[[n]] <- ifelse(is.na(nadf[[n]])==TRUE,1,0)\n",
    "    cnt <- rbind(cnt, data.frame(n,sum(nadf[[n]])))\n",
    "  }\n",
    "  names(cnt) <- c(\"var\",\"na_count\")\n",
    "  cnt$rate <- round((cnt$na_count / nrow(nadf))*100,1)\n",
    "  ### now sum by column\n",
    "  nadf$na_cnt <- 0\n",
    "  nadf$na_cnt <- rowSums(nadf)\n",
    "  ### order descending the count of missings and leave only those with missings\n",
    "  cnt <- cnt[cnt$na_count>0,]\n",
    "  #cnt <- cnt[order(-rank(cnt$na_count))]\n",
    "  cnt <- cnt[order(-(cnt$na_count)),]\n",
    "  #totmiss <- nrow(nadf[nadf$na_cnt==0])\n",
    "  totmiss <- nrow(nadf[nadf$na_cnt==0,])\n",
    "  \n",
    "  idx <- NULL\n",
    "  msg <- (paste(\"This dataset has \", as.character(totmiss), \" (\",as.character(round(totmiss/nrow(data)*100,1)),\"%)\" ,\" complete rows. Original data has \",nrow(data),\" rows.\",sep=\"\"))\n",
    "  ### check id needs to return the row indexes\n",
    "  if(getRows==TRUE & totmiss != 0) {\n",
    "    nadf$rn <- base::seq_len(nrow(data))\n",
    "    idx <- nadf[nadf$na_cnt==0, \"rn\"]\n",
    "  }\n",
    "  message(msg)\n",
    "  #return(list(missingness=cnt, message=msg, rows=idx$rn))\n",
    "  return(list(missingness=cnt, message=msg, rows=idx))\n",
    "}"
   ]
  },
  {
   "cell_type": "code",
   "execution_count": 12,
   "metadata": {},
   "outputs": [],
   "source": [
    "############### TRAIN_TEST #######################\n",
    "train_test <- function(data=NULL,train_name=NULL,test_name=NULL,prop=NULL,seed=123,tableone=FALSE)\n",
    "{\n",
    "  checkTrainTest <- function(train=NULL,test=NULL) {\n",
    "     train[[\"traintest_ind_\"]] <- 1\n",
    "     test[[\"traintest_ind_\"]] <- 2\n",
    "     data <- rbind(train, test)\n",
    "     tab <- Table1(data=data, y=\"traintest_ind_\",x=names(train),messages = F)\n",
    "     vars <- subset(tab, pval < 0.05)$V1\n",
    "     if (length(vars)==1) {\n",
    "        message(\"You got a perfectly balanced training and test datasets\")\n",
    "        message(\" \")\n",
    "     } else {\n",
    "        message(\"WARNING: The following variables are not balanced between the training and test datasets:\")\n",
    "       for (v in vars) { message(paste(\"*\",v)) }\n",
    "          message(\"You can try to change the seed value until you get a balanced partition.\")\n",
    "          message(\"Alternatively, you can ommit this warning and exclude those variables from your model\")\n",
    "          message(\" \")\n",
    "       }\n",
    "       return(tab)\n",
    "  }\n",
    "  ## set the seed to make your partition reproductible\n",
    "  set.seed(seed)\n",
    "  smp_size <- floor(prop * nrow(data))\n",
    "  train_ind <- sample(seq_len(nrow(data)), size = smp_size)\n",
    "  assign(train_name, data[train_ind, ], envir=globalenv())\n",
    "  assign(test_name, data[-train_ind, ], envir=globalenv())\n",
    "  tab = checkTrainTest(get(train_name),get(test_name))\n",
    "  message(paste(\"Dataset partitioned into:\"))\n",
    "  message(paste(\" + Train dataset:\", train_name))\n",
    "  message(paste(\" + Test dataset:\", test_name))\n",
    "  if(tableone==TRUE) {\n",
    "     return(tab)\n",
    "  } \n",
    "}"
   ]
  },
  {
   "cell_type": "markdown",
   "metadata": {},
   "source": [
    "## Test dataset"
   ]
  },
  {
   "cell_type": "code",
   "execution_count": 24,
   "metadata": {},
   "outputs": [
    {
     "name": "stderr",
     "output_type": "stream",
     "text": [
      "Dataset partitioned into:\n",
      "\n",
      " + Train dataset: temp\n",
      "\n",
      " + Test dataset: test\n",
      "\n"
     ]
    },
    {
     "name": "stdout",
     "output_type": "stream",
     "text": [
      "  |                                                                      |   0%"
     ]
    },
    {
     "ename": "ERROR",
     "evalue": "Error in cbind(V = rn[q], pval = pval, n = 2): object 'pval' not found\n",
     "output_type": "error",
     "traceback": [
      "Error in cbind(V = rn[q], pval = pval, n = 2): object 'pval' not found\nTraceback:\n",
      "1. train_test(data = data[, vn], train_name = \"temp\", test_name = \"test\", \n .     prop = 0.8, seed = 123, tableone = T)",
      "2. checkTrainTest(get(train_name), get(test_name))   # at line 867 of file <text>",
      "3. Table1(data = df, y = \"traintest_ind_\", messages = FALSE)   # at line 839 of file <text>",
      "4. data.frame(pvals(x = x, y = y, rn = rn, data = data, categorize = categorize, \n .     maxcat = maxcat))   # at line 793 of file <text>",
      "5. pvals(x = x, y = y, rn = rn, data = data, categorize = categorize, \n .     maxcat = maxcat)   # at line 793 of file <text>",
      "6. rbind(ptab, cbind(V = rn[q], pval = pval, n = 2))   # at line 716 of file <text>",
      "7. cbind(V = rn[q], pval = pval, n = 2)   # at line 716 of file <text>"
     ]
    }
   ],
   "source": [
    "tab1 <- train_test(data = data[,vn], train_name = \"temp\", test_name = \"test\",prop = 0.8, seed = 123, tableone=T)"
   ]
  },
  {
   "cell_type": "code",
   "execution_count": 25,
   "metadata": {},
   "outputs": [
    {
     "data": {
      "text/html": [
       "<style>\n",
       ".list-inline {list-style: none; margin:0; padding: 0}\n",
       ".list-inline>li {display: inline-block}\n",
       ".list-inline>li:not(:last-child)::after {content: \"\\00b7\"; padding: 0 .5ex}\n",
       "</style>\n",
       "<ol class=list-inline><li>248</li><li>32</li></ol>\n"
      ],
      "text/latex": [
       "\\begin{enumerate*}\n",
       "\\item 248\n",
       "\\item 32\n",
       "\\end{enumerate*}\n"
      ],
      "text/markdown": [
       "1. 248\n",
       "2. 32\n",
       "\n",
       "\n"
      ],
      "text/plain": [
       "[1] 248  32"
      ]
     },
     "metadata": {},
     "output_type": "display_data"
    },
    {
     "data": {
      "text/html": [
       "<style>\n",
       ".list-inline {list-style: none; margin:0; padding: 0}\n",
       ".list-inline>li {display: inline-block}\n",
       ".list-inline>li:not(:last-child)::after {content: \"\\00b7\"; padding: 0 .5ex}\n",
       "</style>\n",
       "<ol class=list-inline><li>62</li><li>32</li></ol>\n"
      ],
      "text/latex": [
       "\\begin{enumerate*}\n",
       "\\item 62\n",
       "\\item 32\n",
       "\\end{enumerate*}\n"
      ],
      "text/markdown": [
       "1. 62\n",
       "2. 32\n",
       "\n",
       "\n"
      ],
      "text/plain": [
       "[1] 62 32"
      ]
     },
     "metadata": {},
     "output_type": "display_data"
    }
   ],
   "source": [
    "dim(temp)\n",
    "dim(test)"
   ]
  },
  {
   "cell_type": "code",
   "execution_count": 33,
   "metadata": {},
   "outputs": [],
   "source": [
    "############### TRAIN_TEST #######################\n",
    "train_test <- function(data=NULL,train_name=NULL,test_name=NULL,prop=NULL,seed=123,tableone=FALSE)\n",
    "{\n",
    "  checkTrainTest <- function(train=NULL,test=NULL) {\n",
    "     train[[\"traintest_ind_\"]] <- 1\n",
    "     test[[\"traintest_ind_\"]] <- 2\n",
    "     data <- rbind(train, test)\n",
    "     tab <- Table1(data=data, y=\"traintest_ind_\",x=names(train),messages = F)\n",
    "     vars <- subset(tab, pval < 0.05)$V1\n",
    "     if (length(vars)==1) {\n",
    "        message(\"You got a perfectly balanced training and test datasets\")\n",
    "        message(\" \")\n",
    "     } else {\n",
    "        message(\"WARNING: The following variables are not balanced between the training and test datasets:\")\n",
    "       for (v in vars) { message(paste(\"*\",v)) }\n",
    "          message(\"You can try to change the seed value until you get a balanced partition.\")\n",
    "          message(\"Alternatively, you can ommit this warning and exclude those variables from your model\")\n",
    "          message(\" \")\n",
    "       }\n",
    "       return(tab)\n",
    "  }\n",
    "  ## set the seed to make your partition reproductible\n",
    "  set.seed(seed)\n",
    "  smp_size <- floor(prop * nrow(data))\n",
    "  train_ind <- sample(seq_len(nrow(data)), size = smp_size)\n",
    "  assign(train_name, data[train_ind, ], envir=globalenv())\n",
    "  assign(test_name, data[-train_ind, ], envir=globalenv())\n",
    "  tab = checkTrainTest(get(train_name),get(test_name))\n",
    "  message(paste(\"Dataset partitioned into:\"))\n",
    "  message(paste(\" + Train dataset:\", train_name))\n",
    "  message(paste(\" + Test dataset:\", test_name))\n",
    "  if(tableone==TRUE) {\n",
    "     return(tab)\n",
    "  } \n",
    "}"
   ]
  },
  {
   "cell_type": "markdown",
   "metadata": {},
   "source": [
    "## Train and Dev"
   ]
  },
  {
   "cell_type": "code",
   "execution_count": 27,
   "metadata": {},
   "outputs": [
    {
     "name": "stderr",
     "output_type": "stream",
     "text": [
      "Dataset partitioned into:\n",
      "\n",
      " + Train dataset: train\n",
      "\n",
      " + Test dataset: dev\n",
      "\n"
     ]
    },
    {
     "name": "stdout",
     "output_type": "stream",
     "text": [
      "  |                                                                      |   0%"
     ]
    },
    {
     "ename": "ERROR",
     "evalue": "Error in cbind(V = rn[q], pval = pval, n = 2): object 'pval' not found\n",
     "output_type": "error",
     "traceback": [
      "Error in cbind(V = rn[q], pval = pval, n = 2): object 'pval' not found\nTraceback:\n",
      "1. train_test(data = temp[, vn], train_name = \"train\", test_name = \"dev\", \n .     prop = 0.8, seed = 123, tableone = T)",
      "2. checkTrainTest(get(train_name), get(test_name))   # at line 867 of file <text>",
      "3. Table1(data = df, y = \"traintest_ind_\", messages = FALSE)   # at line 839 of file <text>",
      "4. data.frame(pvals(x = x, y = y, rn = rn, data = data, categorize = categorize, \n .     maxcat = maxcat))   # at line 793 of file <text>",
      "5. pvals(x = x, y = y, rn = rn, data = data, categorize = categorize, \n .     maxcat = maxcat)   # at line 793 of file <text>",
      "6. rbind(ptab, cbind(V = rn[q], pval = pval, n = 2))   # at line 716 of file <text>",
      "7. cbind(V = rn[q], pval = pval, n = 2)   # at line 716 of file <text>"
     ]
    }
   ],
   "source": [
    "tab2 <- train_test(data = temp[,vn], train_name = \"train\", test_name = \"dev\",prop = 0.8, seed = 123, tableone=T)"
   ]
  },
  {
   "cell_type": "code",
   "execution_count": 28,
   "metadata": {},
   "outputs": [
    {
     "data": {
      "text/html": [
       "<style>\n",
       ".list-inline {list-style: none; margin:0; padding: 0}\n",
       ".list-inline>li {display: inline-block}\n",
       ".list-inline>li:not(:last-child)::after {content: \"\\00b7\"; padding: 0 .5ex}\n",
       "</style>\n",
       "<ol class=list-inline><li>198</li><li>32</li></ol>\n"
      ],
      "text/latex": [
       "\\begin{enumerate*}\n",
       "\\item 198\n",
       "\\item 32\n",
       "\\end{enumerate*}\n"
      ],
      "text/markdown": [
       "1. 198\n",
       "2. 32\n",
       "\n",
       "\n"
      ],
      "text/plain": [
       "[1] 198  32"
      ]
     },
     "metadata": {},
     "output_type": "display_data"
    },
    {
     "data": {
      "text/html": [
       "<style>\n",
       ".list-inline {list-style: none; margin:0; padding: 0}\n",
       ".list-inline>li {display: inline-block}\n",
       ".list-inline>li:not(:last-child)::after {content: \"\\00b7\"; padding: 0 .5ex}\n",
       "</style>\n",
       "<ol class=list-inline><li>50</li><li>32</li></ol>\n"
      ],
      "text/latex": [
       "\\begin{enumerate*}\n",
       "\\item 50\n",
       "\\item 32\n",
       "\\end{enumerate*}\n"
      ],
      "text/markdown": [
       "1. 50\n",
       "2. 32\n",
       "\n",
       "\n"
      ],
      "text/plain": [
       "[1] 50 32"
      ]
     },
     "metadata": {},
     "output_type": "display_data"
    }
   ],
   "source": [
    "dim(train)\n",
    "dim(dev)"
   ]
  },
  {
   "cell_type": "code",
   "execution_count": 113,
   "metadata": {},
   "outputs": [
    {
     "data": {
      "text/html": [
       "<table>\n",
       "<caption>A tibble: 1 × 6</caption>\n",
       "<thead>\n",
       "\t<tr><th scope=col>V1</th><th scope=col>V2</th><th scope=col>Pop</th><th scope=col>1</th><th scope=col>2</th><th scope=col>pval</th></tr>\n",
       "\t<tr><th scope=col>&lt;chr&gt;</th><th scope=col>&lt;chr&gt;</th><th scope=col>&lt;chr&gt;</th><th scope=col>&lt;chr&gt;</th><th scope=col>&lt;chr&gt;</th><th scope=col>&lt;chr&gt;</th></tr>\n",
       "</thead>\n",
       "<tbody>\n",
       "\t<tr><td>traintest_ind_</td><td>Median (IQR)</td><td>1.0 (1.0-1.0)</td><td>NA</td><td>NA</td><td>0</td></tr>\n",
       "</tbody>\n",
       "</table>\n"
      ],
      "text/latex": [
       "A tibble: 1 × 6\n",
       "\\begin{tabular}{llllll}\n",
       " V1 & V2 & Pop & 1 & 2 & pval\\\\\n",
       " <chr> & <chr> & <chr> & <chr> & <chr> & <chr>\\\\\n",
       "\\hline\n",
       "\t traintest\\_ind\\_ & Median (IQR) & 1.0 (1.0-1.0) & NA & NA & 0\\\\\n",
       "\\end{tabular}\n"
      ],
      "text/markdown": [
       "\n",
       "A tibble: 1 × 6\n",
       "\n",
       "| V1 &lt;chr&gt; | V2 &lt;chr&gt; | Pop &lt;chr&gt; | 1 &lt;chr&gt; | 2 &lt;chr&gt; | pval &lt;chr&gt; |\n",
       "|---|---|---|---|---|---|\n",
       "| traintest_ind_ | Median (IQR) | 1.0 (1.0-1.0) | NA | NA | 0 |\n",
       "\n"
      ],
      "text/plain": [
       "  V1             V2           Pop           1  2  pval\n",
       "1 traintest_ind_ Median (IQR) 1.0 (1.0-1.0) NA NA 0   "
      ]
     },
     "metadata": {},
     "output_type": "display_data"
    }
   ],
   "source": [
    "tab2 %>% filter(pval < 0.05)"
   ]
  },
  {
   "cell_type": "code",
   "execution_count": 32,
   "metadata": {},
   "outputs": [],
   "source": [
    "### save memeory, remove the datasets that will not be used more...\n",
    "rm(temp,data)"
   ]
  },
  {
   "cell_type": "markdown",
   "metadata": {},
   "source": [
    "### Check the distribution of the outcome on the three subsets"
   ]
  },
  {
   "cell_type": "code",
   "execution_count": 31,
   "metadata": {},
   "outputs": [
    {
     "data": {
      "image/png": "[encoded data removed]",
      "text/plain": [
       "plot without title"
      ]
     },
     "metadata": {
      "image/png": {
       "height": 480,
       "width": 600
      }
     },
     "output_type": "display_data"
    }
   ],
   "source": [
    "require(ggplot2)\n",
    "\n",
    "options(repr.plot.width = 10, repr.plot.height = 8)\n",
    "\n",
    "ggplot() +\n",
    "    geom_density(aes(x=train$log_num_patients),color=\"red\",alpha=0.3) +\n",
    "    geom_density(aes(x=dev$log_num_patients),color=\"blue\",alpha=0.3) +\n",
    "    geom_density(aes(x=test$log_num_patients),color=\"green\",alpha=0.3)\n",
    "\n",
    "# seems to be working in spite of the struggle above. "
   ]
  },
  {
   "cell_type": "markdown",
   "metadata": {},
   "source": [
    "# Train-Dev"
   ]
  },
  {
   "cell_type": "code",
   "execution_count": 37,
   "metadata": {},
   "outputs": [
    {
     "name": "stderr",
     "output_type": "stream",
     "text": [
      "Warning message:\n",
      "\"package 'ranger' was built under R version 4.0.5\"\n"
     ]
    }
   ],
   "source": [
    "library(ranger)\n",
    "\n",
    "mod1 <- ranger(log_num_patients ~., data=train)\n"
   ]
  },
  {
   "cell_type": "code",
   "execution_count": 38,
   "metadata": {},
   "outputs": [
    {
     "data": {
      "text/plain": [
       "Ranger result\n",
       "\n",
       "Call:\n",
       " ranger(log_num_patients ~ ., data = train) \n",
       "\n",
       "Type:                             Regression \n",
       "Number of trees:                  500 \n",
       "Sample size:                      198 \n",
       "Number of independent variables:  31 \n",
       "Mtry:                             5 \n",
       "Target node size:                 5 \n",
       "Variable importance mode:         none \n",
       "Splitrule:                        variance \n",
       "OOB prediction error (MSE):       0.1556614 \n",
       "R squared (OOB):                  0.9556034 "
      ]
     },
     "metadata": {},
     "output_type": "display_data"
    }
   ],
   "source": [
    "mod1"
   ]
  },
  {
   "cell_type": "code",
   "execution_count": 39,
   "metadata": {},
   "outputs": [],
   "source": [
    "pred1 <- predict(mod1, data=test)"
   ]
  },
  {
   "cell_type": "code",
   "execution_count": 40,
   "metadata": {},
   "outputs": [
    {
     "data": {
      "image/png": "[encoded data removed]",
      "text/plain": [
       "plot without title"
      ]
     },
     "metadata": {
      "image/png": {
       "height": 480,
       "width": 600
      }
     },
     "output_type": "display_data"
    }
   ],
   "source": [
    "plot(pred1$predictions ~ test$log_num_patients)\n",
    "\n",
    "# not bad .."
   ]
  },
  {
   "cell_type": "markdown",
   "metadata": {},
   "source": [
    "# Dataset Inbalance"
   ]
  },
  {
   "cell_type": "code",
   "execution_count": 41,
   "metadata": {},
   "outputs": [
    {
     "name": "stderr",
     "output_type": "stream",
     "text": [
      "Loading required package: imbalance\n",
      "\n",
      "Warning message in library(package, lib.loc = lib.loc, character.only = TRUE, logical.return = TRUE, :\n",
      "\"there is no package called 'imbalance'\"\n",
      "Installing package into 'C:/Users/galie/Documents/R/win-library/4.0'\n",
      "(as 'lib' is unspecified)\n",
      "\n",
      "also installing the dependencies 'libcoin', 'inum', 'partykit', 'Cubist', 'bnlearn', 'KernelKnn', 'smotefamily', 'FNN', 'C50'\n",
      "\n",
      "\n"
     ]
    },
    {
     "name": "stdout",
     "output_type": "stream",
     "text": [
      "package 'libcoin' successfully unpacked and MD5 sums checked\n",
      "package 'inum' successfully unpacked and MD5 sums checked\n",
      "package 'partykit' successfully unpacked and MD5 sums checked\n",
      "package 'Cubist' successfully unpacked and MD5 sums checked\n",
      "package 'bnlearn' successfully unpacked and MD5 sums checked\n",
      "package 'KernelKnn' successfully unpacked and MD5 sums checked\n",
      "package 'smotefamily' successfully unpacked and MD5 sums checked\n",
      "package 'FNN' successfully unpacked and MD5 sums checked\n",
      "package 'C50' successfully unpacked and MD5 sums checked\n",
      "package 'imbalance' successfully unpacked and MD5 sums checked\n",
      "\n",
      "The downloaded binary packages are in\n",
      "\tC:\\Users\\galie\\AppData\\Local\\Temp\\RtmpeKpAwb\\downloaded_packages\n"
     ]
    },
    {
     "name": "stderr",
     "output_type": "stream",
     "text": [
      "Loading required package: imbalance\n",
      "\n",
      "Warning message:\n",
      "\"package 'imbalance' was built under R version 4.0.5\"\n",
      "Loading required package: ROSE\n",
      "\n",
      "Warning message:\n",
      "\"package 'ROSE' was built under R version 4.0.5\"\n",
      "Loaded ROSE 0.0-4\n",
      "\n",
      "\n"
     ]
    }
   ],
   "source": [
    "if(!require(imbalance)){install.packages(\"imbalance\");require(imbalance)}\n",
    "### ROSE = Random Over-Sampling Examples\n",
    "if(!require(ROSE)){install.packages(\"ROSE\");require(ROSE)}\n"
   ]
  },
  {
   "cell_type": "code",
   "execution_count": 42,
   "metadata": {},
   "outputs": [
    {
     "data": {
      "text/plain": [
       "\n",
       "  0   1 \n",
       "239  71 "
      ]
     },
     "metadata": {},
     "output_type": "display_data"
    },
    {
     "data": {
      "text/plain": [
       "\n",
       "       0        1 \n",
       "77.09677 22.90323 "
      ]
     },
     "metadata": {},
     "output_type": "display_data"
    }
   ],
   "source": [
    "table(data$alot_of_patients_yn)\n",
    "table(data$alot_of_patients_yn)/nrow(data)*100"
   ]
  },
  {
   "cell_type": "code",
   "execution_count": 43,
   "metadata": {},
   "outputs": [
    {
     "data": {
      "text/html": [
       "<table class=\"dataframe\">\n",
       "<caption>A matrix: 1 × 3 of type int</caption>\n",
       "<thead>\n",
       "\t<tr><th scope=col>numPositive</th><th scope=col>numNegative</th><th scope=col>nInstances</th></tr>\n",
       "</thead>\n",
       "<tbody>\n",
       "\t<tr><td>71</td><td>239</td><td>168</td></tr>\n",
       "</tbody>\n",
       "</table>\n"
      ],
      "text/latex": [
       "A matrix: 1 × 3 of type int\n",
       "\\begin{tabular}{lll}\n",
       " numPositive & numNegative & nInstances\\\\\n",
       "\\hline\n",
       "\t 71 & 239 & 168\\\\\n",
       "\\end{tabular}\n"
      ],
      "text/markdown": [
       "\n",
       "A matrix: 1 × 3 of type int\n",
       "\n",
       "| numPositive | numNegative | nInstances |\n",
       "|---|---|---|\n",
       "| 71 | 239 | 168 |\n",
       "\n"
      ],
      "text/plain": [
       "     numPositive numNegative nInstances\n",
       "[1,] 71          239         168       "
      ]
     },
     "metadata": {},
     "output_type": "display_data"
    }
   ],
   "source": [
    "numPositive <- length(which(data$alot_of_patients_yn == \"1\"))\n",
    "numNegative <- length(which(data$alot_of_patients_yn == \"0\"))\n",
    "nInstances <- numNegative - numPositive\n",
    "cbind(numPositive=numPositive,numNegative=numNegative,nInstances=nInstances)"
   ]
  },
  {
   "cell_type": "markdown",
   "metadata": {},
   "source": [
    "## Since the number of rows is so low, maybe it's good to go with Over Sampling\n",
    " \n",
    "Over sampling takes the number of rows of the mayority class and repeat the rows of the minority class up to the same number of the mayority class. The repeated rows are selected randomly."
   ]
  },
  {
   "cell_type": "code",
   "execution_count": 52,
   "metadata": {},
   "outputs": [
    {
     "data": {
      "text/plain": [
       "\n",
       "  0   1 \n",
       "239 239 "
      ]
     },
     "metadata": {},
     "output_type": "display_data"
    }
   ],
   "source": [
    "#over sampling\n",
    "data_balanced_over <- ovun.sample(alot_of_patients_yn ~ ., data = data, method = \"over\",N = numNegative*2, seed = 1)$data\n",
    "table(data_balanced_over$alot_of_patients_yn)"
   ]
  },
  {
   "cell_type": "code",
   "execution_count": 55,
   "metadata": {},
   "outputs": [
    {
     "name": "stdout",
     "output_type": "stream",
     "text": [
      "  |                                                                      |   0%"
     ]
    },
    {
     "ename": "ERROR",
     "evalue": "Error in cbind(V = rn[q], pval = pval, n = 2): object 'pval' not found\n",
     "output_type": "error",
     "traceback": [
      "Error in cbind(V = rn[q], pval = pval, n = 2): object 'pval' not found\nTraceback:\n",
      "1. train_test(data = data_balanced_over[, vn], train_name = \"temp\", \n .     test_name = \"test\", prop = 0.8, seed = 123, tableone = T)",
      "2. checkTrainTest(get(train_name), get(test_name))   # at line 28 of file <text>",
      "3. Table1(data = data, y = \"traintest_ind_\", x = names(train), messages = F)   # at line 8 of file <text>",
      "4. data.frame(pvals(x = x, y = y, rn = rn, data = data, categorize = categorize, \n .     maxcat = maxcat))   # at line 793 of file <text>",
      "5. pvals(x = x, y = y, rn = rn, data = data, categorize = categorize, \n .     maxcat = maxcat)   # at line 793 of file <text>",
      "6. rbind(ptab, cbind(V = rn[q], pval = pval, n = 2))   # at line 716 of file <text>",
      "7. cbind(V = rn[q], pval = pval, n = 2)   # at line 716 of file <text>"
     ]
    }
   ],
   "source": [
    "tab1 <- train_test(data = data_balanced_over[,vn], train_name = \"temp\", test_name = \"test\",prop = 0.8, seed = 123, tableone=T)"
   ]
  },
  {
   "cell_type": "code",
   "execution_count": 56,
   "metadata": {},
   "outputs": [
    {
     "data": {
      "text/html": [
       "<style>\n",
       ".list-inline {list-style: none; margin:0; padding: 0}\n",
       ".list-inline>li {display: inline-block}\n",
       ".list-inline>li:not(:last-child)::after {content: \"\\00b7\"; padding: 0 .5ex}\n",
       "</style>\n",
       "<ol class=list-inline><li>382</li><li>32</li></ol>\n"
      ],
      "text/latex": [
       "\\begin{enumerate*}\n",
       "\\item 382\n",
       "\\item 32\n",
       "\\end{enumerate*}\n"
      ],
      "text/markdown": [
       "1. 382\n",
       "2. 32\n",
       "\n",
       "\n"
      ],
      "text/plain": [
       "[1] 382  32"
      ]
     },
     "metadata": {},
     "output_type": "display_data"
    },
    {
     "data": {
      "text/html": [
       "<style>\n",
       ".list-inline {list-style: none; margin:0; padding: 0}\n",
       ".list-inline>li {display: inline-block}\n",
       ".list-inline>li:not(:last-child)::after {content: \"\\00b7\"; padding: 0 .5ex}\n",
       "</style>\n",
       "<ol class=list-inline><li>96</li><li>32</li></ol>\n"
      ],
      "text/latex": [
       "\\begin{enumerate*}\n",
       "\\item 96\n",
       "\\item 32\n",
       "\\end{enumerate*}\n"
      ],
      "text/markdown": [
       "1. 96\n",
       "2. 32\n",
       "\n",
       "\n"
      ],
      "text/plain": [
       "[1] 96 32"
      ]
     },
     "metadata": {},
     "output_type": "display_data"
    }
   ],
   "source": [
    "dim(temp)\n",
    "dim(test)"
   ]
  },
  {
   "cell_type": "code",
   "execution_count": 57,
   "metadata": {},
   "outputs": [
    {
     "name": "stdout",
     "output_type": "stream",
     "text": [
      "  |                                                                      |   0%"
     ]
    },
    {
     "ename": "ERROR",
     "evalue": "Error in cbind(V = rn[q], pval = pval, n = 2): object 'pval' not found\n",
     "output_type": "error",
     "traceback": [
      "Error in cbind(V = rn[q], pval = pval, n = 2): object 'pval' not found\nTraceback:\n",
      "1. train_test(data = temp[, vn], train_name = \"train\", test_name = \"dev\", \n .     prop = 0.8, seed = 123, tableone = T)",
      "2. checkTrainTest(get(train_name), get(test_name))   # at line 28 of file <text>",
      "3. Table1(data = data, y = \"traintest_ind_\", x = names(train), messages = F)   # at line 8 of file <text>",
      "4. data.frame(pvals(x = x, y = y, rn = rn, data = data, categorize = categorize, \n .     maxcat = maxcat))   # at line 793 of file <text>",
      "5. pvals(x = x, y = y, rn = rn, data = data, categorize = categorize, \n .     maxcat = maxcat)   # at line 793 of file <text>",
      "6. rbind(ptab, cbind(V = rn[q], pval = pval, n = 2))   # at line 716 of file <text>",
      "7. cbind(V = rn[q], pval = pval, n = 2)   # at line 716 of file <text>"
     ]
    }
   ],
   "source": [
    "tab2 <- train_test(data = temp[,vn], train_name = \"train\", test_name = \"dev\",prop = 0.8, seed = 123, tableone=T)"
   ]
  },
  {
   "cell_type": "code",
   "execution_count": 58,
   "metadata": {},
   "outputs": [
    {
     "data": {
      "text/html": [
       "<style>\n",
       ".list-inline {list-style: none; margin:0; padding: 0}\n",
       ".list-inline>li {display: inline-block}\n",
       ".list-inline>li:not(:last-child)::after {content: \"\\00b7\"; padding: 0 .5ex}\n",
       "</style>\n",
       "<ol class=list-inline><li>305</li><li>32</li></ol>\n"
      ],
      "text/latex": [
       "\\begin{enumerate*}\n",
       "\\item 305\n",
       "\\item 32\n",
       "\\end{enumerate*}\n"
      ],
      "text/markdown": [
       "1. 305\n",
       "2. 32\n",
       "\n",
       "\n"
      ],
      "text/plain": [
       "[1] 305  32"
      ]
     },
     "metadata": {},
     "output_type": "display_data"
    },
    {
     "data": {
      "text/html": [
       "<style>\n",
       ".list-inline {list-style: none; margin:0; padding: 0}\n",
       ".list-inline>li {display: inline-block}\n",
       ".list-inline>li:not(:last-child)::after {content: \"\\00b7\"; padding: 0 .5ex}\n",
       "</style>\n",
       "<ol class=list-inline><li>77</li><li>32</li></ol>\n"
      ],
      "text/latex": [
       "\\begin{enumerate*}\n",
       "\\item 77\n",
       "\\item 32\n",
       "\\end{enumerate*}\n"
      ],
      "text/markdown": [
       "1. 77\n",
       "2. 32\n",
       "\n",
       "\n"
      ],
      "text/plain": [
       "[1] 77 32"
      ]
     },
     "metadata": {},
     "output_type": "display_data"
    }
   ],
   "source": [
    "dim(train)\n",
    "dim(dev)"
   ]
  },
  {
   "cell_type": "code",
   "execution_count": 59,
   "metadata": {},
   "outputs": [
    {
     "data": {
      "image/png": "[encoded data removed]",
      "text/plain": [
       "plot without title"
      ]
     },
     "metadata": {
      "image/png": {
       "height": 480,
       "width": 600
      }
     },
     "output_type": "display_data"
    }
   ],
   "source": [
    "ggplot() +\n",
    "    geom_density(aes(x=train$log_num_patients),color=\"red\",alpha=0.3) +\n",
    "    geom_density(aes(x=dev$log_num_patients),color=\"blue\",alpha=0.3) +\n",
    "    geom_density(aes(x=test$log_num_patients),color=\"green\",alpha=0.3)\n",
    "\n",
    "# seems to be working in spite of the struggle above. "
   ]
  },
  {
   "cell_type": "code",
   "execution_count": 60,
   "metadata": {},
   "outputs": [],
   "source": [
    "# test this again..\n",
    "mod1 <- ranger(log_num_patients ~., data=train)"
   ]
  },
  {
   "cell_type": "code",
   "execution_count": 61,
   "metadata": {},
   "outputs": [],
   "source": [
    "pred1 <- predict(mod1, data=test)"
   ]
  },
  {
   "cell_type": "code",
   "execution_count": 62,
   "metadata": {},
   "outputs": [
    {
     "data": {
      "image/png": "[encoded data removed]",
      "text/plain": [
       "plot without title"
      ]
     },
     "metadata": {
      "image/png": {
       "height": 480,
       "width": 600
      }
     },
     "output_type": "display_data"
    }
   ],
   "source": [
    "plot(pred1$predictions ~ test$log_num_patients)"
   ]
  },
  {
   "cell_type": "markdown",
   "metadata": {},
   "source": [
    "### I Think it's better distributed with more dots at the higher patient number area. "
   ]
  },
  {
   "cell_type": "code",
   "execution_count": 63,
   "metadata": {},
   "outputs": [],
   "source": [
    "# I have the 3 sets for the next round:\n",
    "write.csv(train, \"train19.csv\", row.names = F) \n",
    "write.csv(dev, \"dev19.csv\", row.names = F) \n",
    "write.csv(test, \"test19.csv\", row.names = F) "
   ]
  },
  {
   "cell_type": "code",
   "execution_count": null,
   "metadata": {},
   "outputs": [],
   "source": []
  }
 ],
 "metadata": {
  "kernelspec": {
   "display_name": "R",
   "language": "R",
   "name": "ir"
  },
  "language_info": {
   "codemirror_mode": "r",
   "file_extension": ".r",
   "mimetype": "text/x-r-source",
   "name": "R",
   "pygments_lexer": "r",
   "version": "4.0.4"
  }
 },
 "nbformat": 4,
 "nbformat_minor": 2
}
